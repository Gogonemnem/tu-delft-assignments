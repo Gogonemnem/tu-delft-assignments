{
 "cells": [
  {
   "cell_type": "markdown",
   "metadata": {
    "deletable": false,
    "editable": false,
    "nbgrader": {
     "cell_type": "markdown",
     "checksum": "a17053c95570e10e8ea9037af8ae3a07",
     "grade": false,
     "grade_id": "cell-99a7a08528f93bf6",
     "locked": true,
     "schema_version": 3,
     "solution": false,
     "task": false
    }
   },
   "source": [
    "# Assignment 4\n",
    "This assignment consists of 9 exercises (2 of which are bonus) divided over three notebooks. Each exercise will come with some tests that are used to verify whether your code is correct. If you pass these tests then you are rewarded *full points*; if your code fails then you will get *no points*. Make sure to **read the rules** before you start the assignment.\n",
    "\n",
    "## Rules\n",
    "For this assignment the following rules apply:\n",
    "\n",
    "**General**\n",
    " * The assignment should be completed with the same **groups of three** as the previous assignment\n",
    " * Any kind of intergroup discussion will be considered fraud and both the parties will be punished.\n",
    " * All code must be written intra group. All external help, with the exception of Python/library documentation and the lecture slides, will be considered fraud.\n",
    " * Do not use libraries that implement the assignment for you.\n",
    "\n",
    "**Grading**\n",
    " * If a test cell runs without error (warnings are allowed) then you receive full points.\n",
    " * If a test cell throws an error for any reason then you receive 0 points.\n",
    "  * If a cell takes more than five minutes to complete then this is considered an error.\n",
    " * If your code fails a test for *any reason* then you receive 0 points for that exercise.\n",
    " * Your grade is computed as $\\frac{\\text{points}}{\\text{max_points}} * 9 + 1$ and will be rounded to the closest 0.5 point.\n",
    " * Bonus points (if applicable) can be used to compensate lost points. You cannot get a grade higher than a 10.\n",
    " * Submit your code to Brightspace as a zip file containing only the notebook (`*.ipynb`) files.\n",
    " * **Do not rename the notebook files**\n",
    "\n",
    "**Late Submissions**\n",
    " * Late submissions must be submitted *as soon as possible* to the \"Assignment 4 - Late Submissions\" assignment on Brightspace.\n",
    " * The following penalty will be applied: $\\text{adjusted grade} = \\text{grade} - 1 - \\lceil \\frac{\\text{minutes late}}{10} \\rceil$\n",
    "\n",
    "<br />\n",
    " \n",
    "**Before you submit**, make sure that you are not accidentaly using any global variables. Restart the kernel (wiping all global variables) and run the code from top to bottom by clicking \"Kernel\" => \"Restart & Run all\" in the menu bar at the top."
   ]
  },
  {
   "cell_type": "code",
   "execution_count": null,
   "metadata": {
    "deletable": false,
    "editable": false,
    "nbgrader": {
     "cell_type": "code",
     "checksum": "ad6a53bd371cfedd3b6aa063b1331994",
     "grade": false,
     "grade_id": "cell-d6a86c570672f3c1",
     "locked": true,
     "schema_version": 3,
     "solution": false
    }
   },
   "outputs": [],
   "source": [
    "%matplotlib widget\n",
    "import matplotlib.pyplot as plt\n",
    "import numpy as np\n",
    "import cv2\n",
    "import scipy.signal\n",
    "import scipy.ndimage\n",
    "import os\n",
    "import sys\n",
    "sys.path.append(\"../../\")\n",
    "import helpers"
   ]
  },
  {
   "cell_type": "markdown",
   "metadata": {
    "deletable": false,
    "editable": false,
    "nbgrader": {
     "cell_type": "markdown",
     "checksum": "4e2ad71e26777f40bab5ed34d628295f",
     "grade": false,
     "grade_id": "cell-bb2f00d465815346",
     "locked": true,
     "schema_version": 3,
     "solution": false
    }
   },
   "source": [
    "# Corner Detection\n",
    "In image processing and 3D reconstruction, we often encounter the need to recognize and/or compare images. An important tool for implementing these operations are image features. An image feature is a small (couple of pixels) recogniziable region in the image. By finding image features we detect those parts of the image that are more likely to be unique (=potentially recognizeable). In this notebook we will cover one of such image features: Moravec corners."
   ]
  },
  {
   "cell_type": "code",
   "execution_count": null,
   "metadata": {
    "deletable": false,
    "editable": false,
    "nbgrader": {
     "cell_type": "code",
     "checksum": "ce820ed30ae4aff2a1ca4bff1aa1d729",
     "grade": false,
     "grade_id": "cell-5a17c68a40791e66",
     "locked": true,
     "schema_version": 3,
     "solution": false
    }
   },
   "outputs": [],
   "source": [
    "import matplotlib.patches as patches\n",
    "\n",
    "def load_globals():\n",
    "    global cybertruck_image, flat_cutout, edge_cutout, corner_cutout\n",
    "    cybertruck_image = helpers.imread_normalized_float_grayscale(os.path.join(helpers.dataset_folder, \"week4\", \"corners\", \"cybertruck.jpg\"))\n",
    "\n",
    "    flat_cutout = cybertruck_image[990:1010, 1840:1860]\n",
    "    edge_cutout = cybertruck_image[870:890, 1100:1120]\n",
    "    corner_cutout = cybertruck_image[836:856, 90:110]\n",
    "    \n",
    "load_globals()\n",
    "\n",
    "#helpers.show_images({ \"Checkerboard\": checkerboard_image, \"Noisy checkerboard\": noisy_checkerboard_image }, nrows=1, ncols=2)\n",
    "#helpers.show_image(cybertruck_image, title=\"Test image\")\n",
    "\n",
    "fig, ax = plt.subplots()\n",
    "ax.imshow(cybertruck_image, cmap=\"gray\")\n",
    "ax.add_patch(patches.Rectangle((1840, 990), 20, 20, linewidth = 1, edgecolor='r'))\n",
    "ax.add_patch(patches.Rectangle((1100, 870), 20, 20, linewidth = 1, edgecolor='g'))\n",
    "ax.add_patch(patches.Rectangle((90, 836), 20, 20, linewidth = 1, edgecolor='b'))\n",
    "fig.text(0.65, 0.4, \"Flat\", size=\"large\", color=\"r\")\n",
    "fig.text(0.4, 0.45, \"Edge\", size=\"large\", color=\"g\")\n",
    "fig.text(0.17, 0.47, \"Corner\", size=\"large\", color=\"b\")\n",
    "#fig.imshow()\n",
    "\n",
    "helpers.show_images({ \"Corner\": corner_cutout, \"Edge\": edge_cutout, \"Flat\": flat_cutout }, nrows=1, ncols=3)"
   ]
  },
  {
   "cell_type": "markdown",
   "metadata": {
    "deletable": false,
    "editable": false,
    "nbgrader": {
     "cell_type": "markdown",
     "checksum": "241d47414713722763ef076f5f0e6d43",
     "grade": false,
     "grade_id": "cell-172fcf80d17a0880",
     "locked": true,
     "schema_version": 3,
     "solution": false
    }
   },
   "source": [
    "## Detecting corners\n",
    "Moravec found that we can determine whether there is a corner in the window by analyzing a small region around the pixel (e.g., 9x9) that is referred to as a cutout window. He pointed out that if we would slightly shift the window in any direction and calculate the squared differences (SSD) between the original cutout and the shifted cutout, a strong change in values reflects the presence of an edge or corner. The reason is that a window containing only a uniformly colored region would not be affected by a shift and would still look the same. Consequently, the SSD will remain similar. In the case of an edge, shifting orthogonally to the edge will result in a large difference, while shifting along the edge would not. Finally a corner is rigid: the SSD will be high in whatever direction we shift the cutout window.\n",
    "\n",
    "![moravec_shift](https://i.stack.imgur.com/k1CCY.png)\n",
    "\n",
    "Mathematically, we can describe this calculation for a shift $\\begin{pmatrix}u \\\\ v\\end{pmatrix}$ as:\n",
    "\n",
    "$$\n",
    "E(u, v) = \\sum_{x, y \\in W} w(x, y)\\ [I(x+u, y+v) - I(x, y)]^2\n",
    "$$\n",
    "\n",
    "Here, $I(x, y)$ is the intensity of a pixel ($x, y$) and $w(x, y)$ is a function that assigns a weight (often higher weights are used in the center of the cutout window). In the simplest case, all weights could be equal to one. We will use a Gaussian kernel (compare week 1).\n",
    "\n",
    "### Exercise 1 (3 points)\n",
    "Implement a function that computes $E(u, v)$ for the region around a location $(x,y)$. The weights are provided as a 2D array with the weight for $(x, y)$ in its center. Assume the weights are symmetric (so it does not matter in which direction you apply them). You do *not* have to handle the case where ($x, y$) are near the border of the images causing out-of-bounds accesses. Run the cell below to create a 3D visualization of the $E(u, v)$ function for different parts of the image; "
   ]
  },
  {
   "cell_type": "code",
   "execution_count": null,
   "metadata": {
    "deletable": false,
    "nbgrader": {
     "cell_type": "code",
     "checksum": "23f9188914516db3662f509c8f31c30c",
     "grade": false,
     "grade_id": "exercise1_code",
     "locked": false,
     "schema_version": 3,
     "solution": true
    }
   },
   "outputs": [],
   "source": [
    "def E(gray_image, u, v, x, y, weights):\n",
    "    # YOUR CODE HERE\n",
    "    raise NotImplementedError()"
   ]
  },
  {
   "cell_type": "code",
   "execution_count": null,
   "metadata": {
    "deletable": false,
    "editable": false,
    "nbgrader": {
     "cell_type": "code",
     "checksum": "14b2ea246880f24653f11fa118a4b4da",
     "grade": false,
     "grade_id": "exercise1_visualize",
     "locked": true,
     "schema_version": 3,
     "solution": false
    }
   },
   "outputs": [],
   "source": [
    "import plotly as py\n",
    "import plotly.graph_objs as go\n",
    "from plotly.subplots import make_subplots\n",
    "\n",
    "def evaluate_E(gray_image, x, y, weights, uv_range):\n",
    "    out = np.zeros((2*uv_range+1, 2*uv_range+1))\n",
    "    for xi, u in enumerate(range(-uv_range, uv_range+1)):\n",
    "        for yi, v in enumerate(range(-uv_range, uv_range+1)):\n",
    "            out[yi, xi] = E(gray_image, u, v, x, y, weights)\n",
    "    return out\n",
    "\n",
    "def plot_E(gray_image, x, y):\n",
    "    weights = scipy.signal.gaussian(9, 1.5).reshape(9,1)\n",
    "    weights = weights @ weights.T\n",
    "    z = evaluate_E(gray_image, x, y, weights, 5)\n",
    "    \n",
    "    uv_range = 5\n",
    "    u, v = np.meshgrid(np.arange(-uv_range, uv_range+1), np.arange(-uv_range, uv_range+1))\n",
    "    return go.Surface(x=u, y=v, z=z, showscale=False)\n",
    "\n",
    "# 3D plots with plotly\n",
    "fig = make_subplots(rows=1, cols=3,\n",
    "                    subplot_titles=(\"Corner\", \"Edge\", \"Flat\"),\n",
    "                    specs=[[{\"type\": \"surface\"}, {\"type\": \"surface\"}, {\"type\": \"surface\"}]])\n",
    "fig.add_trace(\n",
    "    plot_E(cybertruck_image, 100, 846),\n",
    "    row=1, col=1\n",
    ")\n",
    "fig.add_trace(\n",
    "    plot_E(cybertruck_image, 1110, 880),\n",
    "    row=1, col=2\n",
    ")\n",
    "fig.add_trace(\n",
    "    plot_E(cybertruck_image, 1850, 1000),\n",
    "    row=1, col=3\n",
    ")\n",
    "scene = dict(zaxis=dict(range=[0,0.2]), xaxis_title=\"u\", yaxis_title=\"v\")\n",
    "fig.update_layout(scene1=scene, scene2=scene, scene3=scene)\n",
    "fig.show()\n",
    "\n",
    "# 2D plots (matplotlib)\n",
    "helpers.show_images({\n",
    "    \"Corner\": cybertruck_image[836:856, 90:110],\n",
    "    \"Edge\": cybertruck_image[870:890, 1100:1120],\n",
    "    \"Flat\": cybertruck_image[990:1010, 1840:1860]\n",
    "}, nrows=1, ncols=3)"
   ]
  },
  {
   "cell_type": "markdown",
   "metadata": {
    "deletable": false,
    "editable": false,
    "nbgrader": {
     "cell_type": "markdown",
     "checksum": "a16d76a6d59c38cafec68f0ecfbac173",
     "grade": false,
     "grade_id": "cell-a69d185e74fc444f",
     "locked": true,
     "schema_version": 3,
     "solution": false,
     "task": false
    }
   },
   "source": [
    "### Testing your solution of exercise 1\n",
    "The three different image patches should result in three distinct 3D shapes. A corner should have a single minimum at the origin and have a high response everywhere else, an edge should result in a valley, and a flat image patch will result in a plane."
   ]
  },
  {
   "cell_type": "code",
   "execution_count": null,
   "metadata": {
    "deletable": false,
    "editable": false,
    "nbgrader": {
     "cell_type": "code",
     "checksum": "c3d519c5c84046c9df4dbea0288de9a5",
     "grade": true,
     "grade_id": "exercise1",
     "locked": true,
     "points": 3,
     "schema_version": 3,
     "solution": false
    }
   },
   "outputs": [],
   "source": []
  },
  {
   "cell_type": "markdown",
   "metadata": {
    "deletable": false,
    "editable": false,
    "nbgrader": {
     "cell_type": "markdown",
     "checksum": "6730fce144bdfe6299e3146cec7a6a0b",
     "grade": false,
     "grade_id": "cell-8b601292e69595c8",
     "locked": true,
     "schema_version": 3,
     "solution": false,
     "task": false
    }
   },
   "source": [
    "## Moravec Corner Detection\n",
    "As expected, the flat surface has almost no response to any shift direction. Shifting along an edge has almost no response but shifting orthogonal to it triggers a large response. Finally, in the case of a corner $E(u, v)$ is high for any direction that we try to move the window in.\n",
    "\n",
    "There are various ways of measuring \"cornerness\" from this metric $E(u, v)$. To determine whether a pixel is a corner we need to know if shifting in any direction will dramatically increase the SSD ($E(u, v)$). One of the oldest and simplest algorithms is Moravec's Corner Detector. It tests small shifts of one pixel in all directions (horizontal, vertical and diagonal). If the lowest $E(u, v)$ value for any of these shifts is above a threshold then a pixel is considered a corner.\n",
    "\n",
    "### Exercise 2 (3 points)\n",
    "Implement a function that applies Moravec corner detection to each pixel of an image. You do not have to compute the values for the pixels that are within 5 pixels of the border to prevent out-of-bounds accesses. Check whether the lowest $E(u, v)$ for all shifts (except for (0, 0) of course) is above the threshold. Return $1$ for corner pixels and $0$ for all other pixels."
   ]
  },
  {
   "cell_type": "code",
   "execution_count": null,
   "metadata": {
    "deletable": false,
    "nbgrader": {
     "cell_type": "code",
     "checksum": "8b90b5ab1fbf62b2a72668b78f4af399",
     "grade": false,
     "grade_id": "exercise2_code",
     "locked": false,
     "schema_version": 3,
     "solution": true,
     "task": false
    }
   },
   "outputs": [],
   "source": [
    "def compute_moravec_corners_image(gray_image, E_weights, threshold):\n",
    "    # YOUR CODE HERE\n",
    "    raise NotImplementedError()\n",
    "    return result\n",
    "\n",
    "chessboard_image_color = helpers.imread_normalized_float(os.path.join(helpers.dataset_folder, \"week4\", \"corners\", \"chessboard.jpg\"))\n",
    "chessboard_image = helpers.rgb2gray(chessboard_image_color)\n",
    "\n",
    "weights = scipy.signal.gaussian(9, 1.5).reshape(9,1)\n",
    "weights = weights @ weights.T\n",
    "\n",
    "%time corners = compute_moravec_corners_image(chessboard_image, weights, 0.3)\n",
    "\n",
    "helpers.show_images({\n",
    "    \"Input\": chessboard_image_color,\n",
    "    \"Corners (your solution)\": corners\n",
    "}, nrows=1, ncols=2)"
   ]
  },
  {
   "cell_type": "markdown",
   "metadata": {
    "deletable": false,
    "editable": false,
    "nbgrader": {
     "cell_type": "markdown",
     "checksum": "7810753662fdbf706f7e1dbc6459e463",
     "grade": false,
     "grade_id": "cell-f7877832657da329",
     "locked": true,
     "schema_version": 3,
     "solution": false,
     "task": false
    }
   },
   "source": [
    "### Tests of exercise 2\n",
    "Your solution should show a black and white image where the corners of the checkers are white (and the rest is black)."
   ]
  },
  {
   "cell_type": "code",
   "execution_count": null,
   "metadata": {
    "deletable": false,
    "editable": false,
    "nbgrader": {
     "cell_type": "code",
     "checksum": "0d22489b7d76cccd46ca03eaf08f1980",
     "grade": true,
     "grade_id": "exercise2",
     "locked": true,
     "points": 3,
     "schema_version": 3,
     "solution": false,
     "task": false
    }
   },
   "outputs": [],
   "source": []
  },
  {
   "cell_type": "markdown",
   "metadata": {
    "deletable": false,
    "editable": false,
    "nbgrader": {
     "cell_type": "markdown",
     "checksum": "4b4f18c3b091efc687e8c8e950244ba9",
     "grade": false,
     "grade_id": "cell-205944099fa5cf7b",
     "locked": true,
     "schema_version": 3,
     "solution": false
    }
   },
   "source": [
    "## Harris Corner Detection (NOT GRADED)\n",
    "**The exercises below do not count for points and are completely optional. Only do these exercises if you have finished the graded ones.**\n",
    "\n",
    "With the Moravec corners we looked at what happens when we shift the window by one pixel. However this may not contain enough information to accurately determine whether the window contains a corner. Furthermore, it might classify edges as corners when they are not horizontal, vertical or diagonal.\n",
    "\n",
    "Harris Corner Detection uses a more advanced method to determine whether the shape of $E(u, v)$ describes a corner. In the end we want to reduce the shape of this function to just a single variable which indicates the \"cornerness\".\n",
    "\n",
    "The first step of Harris corners is to create an approximation of the $E(u, v)$ function. We approximate $I(x+u, y+v)$ by $I(x,y) +uI_x + vI_y$ (the first order Taylor Expansion), where $I_x$ and $I_y$ are the partial derivatives of $I(x, y)$ (the image gradients). With this approximation the formula can be rewritten as:\n",
    "\n",
    "$$\n",
    "\\begin{align*}\n",
    "E(u, v) &= \\sum_{x, y} w(x, y)\\ \\Bigg[I(x+u, y+u) - I(x, y)\\Bigg]^2 \\\\\n",
    "E(u, v) &\\approx \\sum_{x, y} w(x, y)\\ \\Bigg[I(x, y) + uI_x + vI_y - I(x, y)\\Bigg]^2 \\\\\n",
    "E(u, v) &\\approx \\sum_{x, y} w(x, y)\\ \\Bigg[uI_x + vI_y\\Bigg]^2 \\\\\n",
    "E(u, v) &\\approx \\sum_{x, y} w(x, y)\\ \\Bigg[\\begin{pmatrix}u & v\\end{pmatrix} \\begin{pmatrix}I_x \\\\ I_y\\end{pmatrix} \\Bigg]^2 \\\\\n",
    "E(u, v) &\\approx \\sum_{x, y} w(x, y)\\ \\begin{pmatrix}u & v\\end{pmatrix} \\begin{pmatrix}I_x \\\\ I_y\\end{pmatrix} \\begin{pmatrix}I_x & I_y\\end{pmatrix} \\begin{pmatrix}u \\\\ v\\end{pmatrix} \\\\\n",
    "E(u, v) &\\approx \\begin{pmatrix}u & v\\end{pmatrix} \\Bigg[\\sum_{x, y} w(x, y)\\ \\begin{pmatrix}I_x \\\\ I_y\\end{pmatrix} \\begin{pmatrix}I_x & I_y\\end{pmatrix} \\Bigg] \\begin{pmatrix}u \\\\ v\\end{pmatrix} \\\\\n",
    "\\\\\n",
    "E(u,v) &\\approx \\begin{pmatrix}u & v\\end{pmatrix} M \\begin{pmatrix}u \\\\ v\\end{pmatrix} \\text{, where } M=\\sum_{x,y}w(x, y) \\begin{pmatrix} I_xI_x & I_xI_y \\\\ I_xI_y & I_yI_y \\end{pmatrix}\n",
    "\\\\\n",
    "E(u,v) &\\approx \\begin{pmatrix}u & v\\end{pmatrix} M \\begin{pmatrix}u \\\\ v\\end{pmatrix} \\text{, where } M=\\sum_{x,y} \\begin{pmatrix} w(x, y)\\ I_x I_x & w(x, y)\\ I_xI_y \\\\ w(x, y)\\ I_xI_y & w(x, y)\\ I_y I_y \\end{pmatrix}\n",
    "\\end{align*}\n",
    "$$\n"
   ]
  },
  {
   "cell_type": "markdown",
   "metadata": {
    "deletable": false,
    "editable": false,
    "nbgrader": {
     "cell_type": "markdown",
     "checksum": "78ad55decbbc75c5564265e4c9147a4b",
     "grade": false,
     "grade_id": "cell-e44ca82e12f1cbc4",
     "locked": true,
     "schema_version": 3,
     "solution": false
    }
   },
   "source": [
    "### Exercise 3 (OPTIONAL)\n",
    "Implement a function that linearly approximates $E(u, v)$ as outlined below (which is referred to as the first-order Taylor expansion for $u$ and $v$ in the range of (`-uv_range`, `+uv_range`)). Compute $I_x$ and $I_y$ by convolving the input image with the Sobel derivative kernels that we covered in week 1. You may use `scipy.signal.convolve2D(image, kernel, mode=\"same\")` to apply a convolution. The cutout should have the following dimensions: (`window_size` x `window_size`) and the weights are uniform (they should sum up to 1).\n",
    "\n",
    "Recall that we used the following kernels to compute the sobel derivatives:\n",
    "$$\n",
    "\\begin{pmatrix}\n",
    "1 & 0 & -1 \\\\\n",
    "2 & 0 & -2 \\\\\n",
    "1 & 0 & -1 \\\\\n",
    "\\end{pmatrix}\n",
    "\\text{ and }\n",
    "\\begin{pmatrix}\n",
    "+1 & +2 & +1 \\\\\n",
    "0 & 0 & 0 \\\\\n",
    "-1 & -2 & -1 \\\\\n",
    "\\end{pmatrix}\n",
    "$$\n",
    "\n",
    "Your implementation should consist of the following steps:\n",
    "* Compute the horizontal and vertical derivatives $I_x$ and $I_y$ (by convolution with Sobel kernels)\n",
    "* Cut out the window of interest from $I_x$ and $I_y$\n",
    "* Compute the three terms in $M$: $I_x^2$, $I_y^2$ and $I_xI_y$\n",
    "* Apply the (uniform) weights\n",
    "* Compute $E(u, v)$ in the range (-uv_range, +uv_range) for the given pixel"
   ]
  },
  {
   "cell_type": "code",
   "execution_count": null,
   "metadata": {
    "deletable": false,
    "nbgrader": {
     "cell_type": "code",
     "checksum": "f0dbf3aae1a9d480696fa73b2339f1f8",
     "grade": false,
     "grade_id": "exercise3_code",
     "locked": false,
     "schema_version": 3,
     "solution": true
    }
   },
   "outputs": [],
   "source": [
    "def evaluate_E_taylor(gray_image, x, y, window_size, uv_range):\n",
    "    half_window_size = window_size // 2\n",
    "    \n",
    "    out = np.zeros((2*uv_range+1, 2*uv_range+1))\n",
    "    # YOUR CODE HERE\n",
    "    raise NotImplementedError()\n",
    "    return out\n",
    "    \n",
    "def plot_E_taylor(E):\n",
    "    uv_range = E.shape[0] // 2\n",
    "    x, y = np.meshgrid(np.arange(-uv_range, uv_range+1), np.arange(-uv_range, uv_range+1))\n",
    "    return go.Surface(x=x, y=y, z=E, showscale=False)\n",
    "\n",
    "\n",
    "print(\"YOUR SOLUTION\")\n",
    "\n",
    "E1 = evaluate_E_taylor(cybertruck_image, 100, 846, 9, 10)\n",
    "E2 = evaluate_E_taylor(cybertruck_image, 1110, 880, 9, 10)\n",
    "E3 = evaluate_E_taylor(cybertruck_image, 1850, 1000, 9, 10)\n",
    "\n",
    "# 3D plots with plotly\n",
    "fig = make_subplots(rows=1, cols=3,\n",
    "                    subplot_titles=(\"Corner\", \"Edge\", \"Flat\"),\n",
    "                    specs=[[{\"type\": \"surface\"}, {\"type\": \"surface\"}, {\"type\": \"surface\"}]])\n",
    "fig.add_trace(\n",
    "    plot_E_taylor(E1),\n",
    "    row=1, col=1\n",
    ")\n",
    "fig.add_trace(\n",
    "    plot_E_taylor(E2),\n",
    "    row=1, col=2\n",
    ")\n",
    "fig.add_trace(\n",
    "    plot_E_taylor(E3),\n",
    "    row=1, col=3\n",
    ")\n",
    "scene = dict(zaxis=dict(range=[0,2]), xaxis_title=\"u\", yaxis_title=\"v\")\n",
    "fig.update_layout(scene1=scene, scene2=scene, scene3=scene)\n",
    "fig.show()\n",
    "\n",
    "\n",
    "\n",
    "print(\"REFERENCE\")\n",
    "E1_reference = np.load(os.path.join(helpers.dataset_folder, \"week4\", \"corners\", \"harris_taylor_test1.npy\"))\n",
    "E2_reference = np.load(os.path.join(helpers.dataset_folder, \"week4\", \"corners\", \"harris_taylor_test2.npy\"))\n",
    "E3_reference = np.load(os.path.join(helpers.dataset_folder, \"week4\", \"corners\", \"harris_taylor_test3.npy\"))\n",
    "\n",
    "# 3D plots with plotly\n",
    "fig = make_subplots(rows=1, cols=3,\n",
    "                    subplot_titles=(\"Corner\", \"Edge\", \"Flat\"),\n",
    "                    specs=[[{\"type\": \"surface\"}, {\"type\": \"surface\"}, {\"type\": \"surface\"}]])\n",
    "fig.add_trace(\n",
    "    plot_E_taylor(E1_reference),\n",
    "    row=1, col=1\n",
    ")\n",
    "fig.add_trace(\n",
    "    plot_E_taylor(E2_reference),\n",
    "    row=1, col=2\n",
    ")\n",
    "fig.add_trace(\n",
    "    plot_E_taylor(E3_reference),\n",
    "    row=1, col=3\n",
    ")\n",
    "scene = dict(zaxis=dict(range=[0,2]), xaxis_title=\"u\", yaxis_title=\"v\")\n",
    "fig.update_layout(scene1=scene, scene2=scene, scene3=scene)\n",
    "fig.show()"
   ]
  },
  {
   "cell_type": "markdown",
   "metadata": {
    "deletable": false,
    "editable": false,
    "nbgrader": {
     "cell_type": "markdown",
     "checksum": "0758ae49f505ff69370fa4ccb55967ca",
     "grade": false,
     "grade_id": "cell-1594d4f8e3e04d5a",
     "locked": true,
     "schema_version": 3,
     "solution": false,
     "task": false
    }
   },
   "source": [
    "### Tests of exercise 3\n",
    "Tests whether the response function matches the reference."
   ]
  },
  {
   "cell_type": "code",
   "execution_count": null,
   "metadata": {
    "deletable": false,
    "editable": false,
    "nbgrader": {
     "cell_type": "code",
     "checksum": "4ccb2753343269c998bbf88527127bcc",
     "grade": true,
     "grade_id": "exercise3",
     "locked": true,
     "points": 0,
     "schema_version": 3,
     "solution": false
    }
   },
   "outputs": [],
   "source": [
    "load_globals()\n",
    "\n",
    "E1 = evaluate_E_taylor(cybertruck_image, 100, 846, 9, 10)\n",
    "E1_reference = np.load(os.path.join(helpers.dataset_folder, \"week4\", \"corners\", \"harris_taylor_test1.npy\"))\n",
    "assert(helpers.SSD_per_pixel(E1, E1_reference) < 0.0001)\n",
    "\n",
    "E2 = evaluate_E_taylor(cybertruck_image, 1110, 880, 9, 10)\n",
    "E2_reference = np.load(os.path.join(helpers.dataset_folder, \"week4\", \"corners\", \"harris_taylor_test2.npy\"))\n",
    "assert(helpers.SSD_per_pixel(E2, E2_reference) < 0.0001)\n",
    "\n",
    "E3 = evaluate_E_taylor(cybertruck_image, 1850, 1000, 9, 10)\n",
    "E3_reference = np.load(os.path.join(helpers.dataset_folder, \"week4\", \"corners\", \"harris_taylor_test3.npy\"))\n",
    "assert(helpers.SSD_per_pixel(E3, E3_reference) < 0.0001)"
   ]
  },
  {
   "cell_type": "markdown",
   "metadata": {
    "deletable": false,
    "editable": false,
    "nbgrader": {
     "cell_type": "markdown",
     "checksum": "a00476c114e2d58612ae80e4a0b26290",
     "grade": false,
     "grade_id": "cell-643bf31e797c6e40",
     "locked": true,
     "schema_version": 3,
     "solution": false
    }
   },
   "source": [
    "The equation $E(u,v)=\\begin{pmatrix}u & v\\end{pmatrix} M \\begin{pmatrix}u \\\\ v\\end{pmatrix}$ also describes an ellipse. We can confirm that this is the case by looking at the 3D graphs above: they all have an ellipsical shape (when viewed from above). In general the equation of an ellipse can be formulated as:\n",
    "\n",
    "$$\n",
    "Q(x,y) = Ax^2 + Bxy + Cy^2 + F = 0 \\\\\n",
    "Q(x,y) = \\begin{pmatrix}x & y\\end{pmatrix} \\begin{pmatrix}A & B/2 \\\\ B/2 & C\\end{pmatrix} \\begin{pmatrix}x \\\\ y\\end{pmatrix} = -F \\\\\n",
    "Q(x,y) = \\begin{pmatrix}x & y\\end{pmatrix} M \\begin{pmatrix}x \\\\ y\\end{pmatrix} = -F\n",
    "$$\n",
    "\n",
    "$M$ is a matrix which describes the shape of an ellipse. This is similar to the covariance matrix that we considered in the PCA assignment. Like in last week's assignment we can compute the axis spanning the ellipse by computing the eigen vectors and eigen values. The width of the ellipse along the eigenvectors (axes) has the following correspondance to the eigenvalue: $\\frac{1}{\\sqrt{\\lambda}}$ (where $\\lambda$ is the eigen value). Thus if the width of the ellipse along the eigenvector is small then the corresponding eigenvalue will be large, and vice versa.\n",
    "\n",
    "![eigenvalue](https://docs.opencv.org/3.4.3/harris_region.jpg)\n",
    "\n",
    "A corner is described by a small and roughly circular ellipse where $\\lambda_1 \\sim \\lambda_2$ (the eigenvalues are similar) and both are large. Flat regions have a very large ellipse where both eigenvalues are very small. Finally an edge is characterized by a long ellipse where one eigenvalue is much larger than the other one.\n",
    "\n",
    "The goal now is to find a function that measures the \"cornerness\" based on the two eigenvalues $\\lambda_1$ and $\\lambda_2$. Harris found the following function to work well:\n",
    "$$\n",
    "\\begin{align}\n",
    "R &= \\lambda_1\\lambda_2 - k(\\lambda_1 + \\lambda_2)^2 \\\\\n",
    "R &= determinant(M) - k [trace(M)]^2 \\\\\n",
    "R &= ((I_x I_x) (I_y I_y) - (I_x I_y) (I_x I_y)) - k (I_x I_x + I_y I_y)^2\n",
    "\\end{align}\n",
    "$$\n",
    "\n",
    "The constant $k$ was empirically determined to be $k \\in [0.04, 0.06]$"
   ]
  },
  {
   "cell_type": "code",
   "execution_count": null,
   "metadata": {
    "deletable": false,
    "editable": false,
    "nbgrader": {
     "cell_type": "code",
     "checksum": "168c0a5ae7fea887133c97606c310fc9",
     "grade": false,
     "grade_id": "cell-55cc8f41f96bbe08",
     "locked": true,
     "schema_version": 3,
     "solution": false
    }
   },
   "outputs": [],
   "source": [
    "import matplotlib.cm as cm\n",
    "\n",
    "def R(lambda1, lambda2):\n",
    "    return lambda1*lambda2 - 0.05*(lambda1 + lambda2)**2\n",
    "\n",
    "l1 = l2 = np.linspace(0, 50)\n",
    "L1, L2 = np.meshgrid(l1, l2)\n",
    "Z = R(L1, L2)\n",
    "\n",
    "fig, ax = plt.subplots(figsize=helpers.default_fig_size)\n",
    "ax.imshow(Z, cmap=cm.coolwarm)\n",
    "ax.invert_yaxis() # imshow by default reverse y-axis\n",
    "ax.set_title(\"R($\\lambda_1$, $\\lambda_2$)\")\n",
    "ax.set_xlabel(\"$\\lambda_1$\")\n",
    "ax.set_ylabel(\"$\\lambda_2$\")\n",
    "plt.tight_layout()\n",
    "plt.show()"
   ]
  },
  {
   "cell_type": "markdown",
   "metadata": {
    "deletable": false,
    "editable": false,
    "nbgrader": {
     "cell_type": "markdown",
     "checksum": "e46e85715de3cb6dc0226c02995099ca",
     "grade": false,
     "grade_id": "cell-e8d2f700ae43d41e",
     "locked": true,
     "schema_version": 3,
     "solution": false
    }
   },
   "source": [
    "### Exercise 4 (OPTIONAL)\n",
    "Implement a function that computes the corner response $R$ for each pixel (thus returning a new image with the same shape as the input). Your implementation should consist of the following steps:\n",
    "* Compute the horizontal and vertical derivatives $I_x$ and $I_y$ (with Sobel kernels)\n",
    "* Compute the three terms in $M$: $I_x^2$, $I_y^2$ and $I_xI_y$\n",
    "* Apply the weight function to those terms (using a convolution)\n",
    "* Compute $R$ for each pixel"
   ]
  },
  {
   "cell_type": "code",
   "execution_count": null,
   "metadata": {
    "deletable": false,
    "nbgrader": {
     "cell_type": "code",
     "checksum": "98d25fea17a3497548bd9b7148df7c93",
     "grade": false,
     "grade_id": "exercise4_code",
     "locked": false,
     "schema_version": 3,
     "solution": true
    }
   },
   "outputs": [],
   "source": [
    "def compute_harris_response(gray_image, weights, k):\n",
    "    # YOUR CODE HERE\n",
    "    raise NotImplementedError()\n",
    "\n",
    "chessboard_image_color = helpers.imread_normalized_float(os.path.join(helpers.dataset_folder, \"week4\", \"corners\", \"chessboard.jpg\"))\n",
    "chessboard_image = helpers.rgb2gray(chessboard_image_color)\n",
    "\n",
    "weights = scipy.signal.gaussian(9, 0.5).reshape(9,1)\n",
    "weights = weights @ weights.T\n",
    "\n",
    "R = compute_harris_response(chessboard_image, weights, 0.01)\n",
    "R_reference = np.load(os.path.join(helpers.dataset_folder, \"week4\", \"corners\", \"chessboard_harris.npy\"))\n",
    "\n",
    "helpers.show_images({\n",
    "    \"Input\": chessboard_image_color,\n",
    "    \"Corners (your solution)\": np.clip(R, 0.0, 1.0), # Clamp values between 0.0 and 1.0\n",
    "    \"Corners (reference)\": np.clip(R_reference, 0.0, 1.0)\n",
    "}, nrows=1, ncols=3)"
   ]
  },
  {
   "cell_type": "markdown",
   "metadata": {
    "deletable": false,
    "editable": false,
    "nbgrader": {
     "cell_type": "markdown",
     "checksum": "24e3cb428ce6d1f676e29512483be857",
     "grade": false,
     "grade_id": "cell-52ddfbb307aaa745",
     "locked": true,
     "schema_version": 3,
     "solution": false,
     "task": false
    }
   },
   "source": [
    "### Tests of exercise 4\n",
    "Tests whether the response function matches the reference."
   ]
  },
  {
   "cell_type": "code",
   "execution_count": null,
   "metadata": {
    "deletable": false,
    "editable": false,
    "nbgrader": {
     "cell_type": "code",
     "checksum": "4b4adc9b5a36f64eb788428d33a31fff",
     "grade": true,
     "grade_id": "exercise4",
     "locked": true,
     "points": 0,
     "schema_version": 3,
     "solution": false
    }
   },
   "outputs": [],
   "source": [
    "load_globals()\n",
    "\n",
    "weights = scipy.signal.gaussian(9, 0.5).reshape(9,1)\n",
    "weights = weights @ weights.T\n",
    "\n",
    "R = compute_harris_response(chessboard_image, weights, 0.01)\n",
    "R_reference = np.load(os.path.join(helpers.dataset_folder, \"week4\", \"corners\", \"chessboard_harris.npy\"))\n",
    "assert(helpers.SSD_per_pixel(R, R_reference) < 0.0001)"
   ]
  }
 ],
 "metadata": {
  "kernelspec": {
   "display_name": "Python 3 (ipykernel)",
   "language": "python",
   "name": "python3"
  },
  "language_info": {
   "codemirror_mode": {
    "name": "ipython",
    "version": 3
   },
   "file_extension": ".py",
   "mimetype": "text/x-python",
   "name": "python",
   "nbconvert_exporter": "python",
   "pygments_lexer": "ipython3",
   "version": "3.9.7"
  }
 },
 "nbformat": 4,
 "nbformat_minor": 4
}
