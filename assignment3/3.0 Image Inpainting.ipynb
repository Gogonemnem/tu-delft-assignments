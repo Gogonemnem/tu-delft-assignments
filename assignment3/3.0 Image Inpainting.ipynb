{
 "cells": [
  {
   "cell_type": "markdown",
   "metadata": {
    "deletable": false,
    "editable": false,
    "nbgrader": {
     "cell_type": "markdown",
     "checksum": "e8e497e50aab185f8732130064a7e7ef",
     "grade": false,
     "grade_id": "cell-af4962d5e46b5f51",
     "locked": true,
     "schema_version": 3,
     "solution": false,
     "task": false
    }
   },
   "source": [
    "# Assignment 3\n",
    "This assignment consists of 10 exercises divided over two notebooks. Each exercise will come with some tests that are used to verify whether your code is correct. If you pass these tests then you are rewarded *full points*; if your code fails then you will get *no points*. Make sure to **read the rules** before you start the assignment.\n",
    "\n",
    "## Rules\n",
    "For this assignment the following rules apply:\n",
    "\n",
    "**General**\n",
    " * The assignment should be completed with the same **groups of three** as the previous assignment\n",
    " * Any kind of intergroup discussion will be considered fraud and both the parties will be punished.\n",
    " * All code must be written intra group. All external help, with the exception of Python/library documentation and the lecture slides, will be considered fraud.\n",
    " * Do not use libraries that implement the assignment for you.\n",
    "\n",
    "**Grading**\n",
    " * If a test cell runs without error (warnings are allowed) then you receive full points.\n",
    " * If a test cell throws an error for any reason then you receive 0 points.\n",
    "  * If a cell takes more than five minutes to complete then this is considered an error.\n",
    " * If your code fails a test for *any reason* then you receive 0 points for that exercise.\n",
    " * Your grade is computed as $\\frac{\\text{points}}{\\text{max_points}} * 9 + 1$ and will be rounded to the closest 0.5 point.\n",
    " * Submit your code to Brightspace as a zip file containing only the notebook (`*.ipynb`) files.\n",
    " * **Do not rename the notebook files**\n",
    " \n",
    "**Late Submissions**\n",
    " * Late submissions must be submitted *as soon as possible* to the \"Assignment 3 - Late Submissions\" assignment on Brightspace.\n",
    " * The following penalty will be applied: $\\text{adjusted grade} = \\text{grade} - 1 - \\lceil \\frac{\\text{minutes late}}{10} \\rceil$\n",
    "\n",
    "<br />\n",
    " \n",
    "**Before you submit**, make sure that you are not accidentaly using any global variables. Restart the kernel (wiping all global variables) and run the code from top to bottom by clicking \"Kernel\" => \"Restart & Run all\" in the menu bar at the top."
   ]
  },
  {
   "cell_type": "code",
   "execution_count": null,
   "metadata": {
    "deletable": false,
    "editable": false,
    "nbgrader": {
     "cell_type": "code",
     "checksum": "f783456837023e22cfbf7b729668c9da",
     "grade": false,
     "grade_id": "cell-91ecdd51e335450e",
     "locked": true,
     "schema_version": 3,
     "solution": false
    }
   },
   "outputs": [],
   "source": [
    "%matplotlib widget\n",
    "import matplotlib.pyplot as plt\n",
    "import numpy as np\n",
    "import cv2\n",
    "import scipy\n",
    "import scipy.linalg\n",
    "import os\n",
    "# helpers.py is one level up in the directory structure so we need to tell Python were to find it\n",
    "import sys\n",
    "sys.path.append(\"../../\")\n",
    "import helpers\n",
    "local_data_folder = os.path.join(helpers.dataset_folder, \"week3\", \"inpainting\")"
   ]
  },
  {
   "cell_type": "markdown",
   "metadata": {
    "deletable": false,
    "editable": false,
    "nbgrader": {
     "cell_type": "markdown",
     "checksum": "bfdd088b4fb560c4fd1b5a4e4c56ae2a",
     "grade": false,
     "grade_id": "cell-8315cc1f829f08c5",
     "locked": true,
     "schema_version": 3,
     "solution": false
    }
   },
   "source": [
    "# Pull-Push algorithm\n",
    "\n",
    "The Pull-Push algorithm is a simple inpainting technique that fills missing part of an image by propagating mean (average) values from neighboring valid regions. The algorithm proceeds in two phases. First, an image pyramid is build by aggregating valid information from the image (pull). Second, the information from the top of the pyramid is propagated down and interpolated into the previously empty bins (push). This results in each image pixel receiving the information from an image area proportional to the size of the hole as larger holes will generally be filled in higher levels of the pull-push pyramid representing mean of a larger portion of the image. While the technique cannot resolve any higher-order statistical properties (gradients, curvatures,...), it provides a visually continuous transition between the original image content and the smooth inpainted regions."
   ]
  },
  {
   "cell_type": "markdown",
   "metadata": {
    "deletable": false,
    "editable": false,
    "nbgrader": {
     "cell_type": "markdown",
     "checksum": "373e7cbc3d28f2c4087c2e8c635a9eda",
     "grade": false,
     "grade_id": "cell-8cf1d83c8ef069f6",
     "locked": true,
     "schema_version": 3,
     "solution": false
    }
   },
   "source": [
    "## Exercise 1 (3 points)\n",
    "\n",
    "First, we will implement a step of the pull phase which generates a new image of half the original size.\n",
    "\n",
    "Implement a function that aggregates information from an image $\\mathbf{I^i} \\in \\mathcal{R}^{H \\times W\\times 3}$ into a new image $\\mathbf{I^{i+1}} \\in \\mathcal{R}^{H/2 \\times W/2 \\times 3}$. Each pixel of $\\mathbf{I^{i+1}}$ contains a mean value of valid pixels in a corresponding $2\\times2$ region of $\\mathbf{I^i}$. A pixel is valid if the weight $M^i \\in \\{0,1\\}^{H \\times W\\times 3}$ = 1 at a given location. \n",
    "You can assume that $W = H$ and $W = 2^{k}$ for $k\\in\\mathcal{N}$ (that is $\\mathbf{I^i}$ is a square image with sides divisible by two).\n",
    "\n",
    "As a second output return new pixel weights\n",
    "$$\n",
    "M^{i+1} \\in \\{0,1\\}^{H/2 \\times W/2} =\n",
    "\\begin{cases}\n",
    "    1,             & \\text{if } \\text{at least one of the $2\\times2$ inputs is valid} \\\\\n",
    "    0,             & \\text{otherwise.}\n",
    "\\end{cases}\n",
    "$$\n",
    "\n",
    "Set $\\mathbf{I}^{i+1} = \\mathbf{0}$ where $M^{i+1} = 0$."
   ]
  },
  {
   "cell_type": "code",
   "execution_count": null,
   "metadata": {
    "deletable": false,
    "nbgrader": {
     "cell_type": "code",
     "checksum": "3ff9ce7cf168a7c0145777e453b1eed5",
     "grade": false,
     "grade_id": "exercise1_code",
     "locked": false,
     "schema_version": 3,
     "solution": true
    }
   },
   "outputs": [],
   "source": [
    "def pull_next_level(image, weights):\n",
    "    # YOUR CODE HERE\n",
    "    raise NotImplementedError()\n",
    "    # return (im_next,  weights_next)\n",
    "    \n",
    "image = helpers.imread_normalized_float(os.path.join(local_data_folder, \"pyramid\", \"im_02.png\"))\n",
    "weights = helpers.imread_normalized_float_grayscale(os.path.join(local_data_folder, \"pyramid\", \"w_02.png\"))\n",
    "image[weights == 0] = 0\n",
    "\n",
    "im_next, weights_next = pull_next_level(image, weights)\n",
    "\n",
    "helpers.show_images({\n",
    "    \"Input image\": image, \n",
    "    \"Output image (your solution)\": im_next,\n",
    "    \"Input weights\": weights, \n",
    "    \"Output weights (your solution)\": weights_next\n",
    "}, nrows=2, ncols=2)        "
   ]
  },
  {
   "cell_type": "markdown",
   "metadata": {
    "deletable": false,
    "editable": false,
    "nbgrader": {
     "cell_type": "markdown",
     "checksum": "b765fc681c684ee3a1d1402fb374f8ca",
     "grade": false,
     "grade_id": "cell-5bb05722d14f5915",
     "locked": true,
     "schema_version": 3,
     "solution": false,
     "task": false
    }
   },
   "source": [
    "### Testing your solution of exercise 1\n",
    "Verify by hand whether you think your solution to exercise 1 is correct. For example: use your mouse to hover over the input image and write down some pixel values in a small region. Work out the expected output by hand and compare it with what your function produces."
   ]
  },
  {
   "cell_type": "code",
   "execution_count": null,
   "metadata": {
    "deletable": false,
    "editable": false,
    "nbgrader": {
     "cell_type": "code",
     "checksum": "1c433f5e2be9578e2b9676dbc5ce2779",
     "grade": true,
     "grade_id": "exercise1a",
     "locked": true,
     "points": 2,
     "schema_version": 3,
     "solution": false
    }
   },
   "outputs": [],
   "source": []
  },
  {
   "cell_type": "code",
   "execution_count": null,
   "metadata": {
    "deletable": false,
    "editable": false,
    "nbgrader": {
     "cell_type": "code",
     "checksum": "5644a1dad9d4afeb3f21112a09d04baf",
     "grade": true,
     "grade_id": "exercise1b",
     "locked": true,
     "points": 1,
     "schema_version": 3,
     "solution": false,
     "task": false
    }
   },
   "outputs": [],
   "source": []
  },
  {
   "cell_type": "markdown",
   "metadata": {
    "deletable": false,
    "editable": false,
    "nbgrader": {
     "cell_type": "markdown",
     "checksum": "5c5c93f134e32a855df808d2666ed473",
     "grade": false,
     "grade_id": "cell-72cd0683db371ff3",
     "locked": true,
     "schema_version": 3,
     "solution": false,
     "task": false
    }
   },
   "source": [
    "## Excercise 2 (2 points)\n",
    "Repeat the pull step to build the entire image pyramid. \n",
    "Return a tuple with two lists: images and weight maps, both lists should be sorted from the largest (= the input) to the smallest.\n",
    "Note, that the last level of the pyramid will be a single pixel image $\\mathbf{I}^N \\in \\mathcal{R}^{1 \\times 1 \\times 3}$ and that $\\mathbf{M}^N = 1$. You can again assume that the input is a square image with sides divisible by two."
   ]
  },
  {
   "cell_type": "code",
   "execution_count": null,
   "metadata": {
    "deletable": false,
    "nbgrader": {
     "cell_type": "code",
     "checksum": "28a4464436f42275846ea01170a6dd86",
     "grade": false,
     "grade_id": "execrise2_code",
     "locked": false,
     "schema_version": 3,
     "solution": true,
     "task": false
    }
   },
   "outputs": [],
   "source": [
    "def build_pyramid(image, weights):\n",
    "    # YOUR CODE HERE\n",
    "    raise NotImplementedError()\n",
    "    # return pyramid_im, pyramid_w\n",
    "    \n",
    "image = helpers.imread_normalized_float(os.path.join(local_data_folder, \"parrots_256.jpg\"))\n",
    "weights = (helpers.imread_normalized_float_grayscale(os.path.join(local_data_folder, \"parrots_mask_256.png\")) > 0.5).astype(float)\n",
    "image[weights == 0] = 0\n",
    "\n",
    "pyramid_im, pyramid_w = build_pyramid(image, weights)\n",
    "\n",
    "print(\"Your solution:\")\n",
    "panels = { f\"Image #{i}\": im for i, im in enumerate(pyramid_im)}\n",
    "panels.update({ f\"Weights #{i}\": im for i, im in enumerate(pyramid_w)})\n",
    "helpers.show_images(panels, nrows=2, ncols=len(pyramid_im), col_height=1)"
   ]
  },
  {
   "cell_type": "markdown",
   "metadata": {
    "deletable": false,
    "editable": false,
    "nbgrader": {
     "cell_type": "markdown",
     "checksum": "a33af72a7e09f27be447c7233d409fab",
     "grade": false,
     "grade_id": "cell-180deea3ef1229da7",
     "locked": true,
     "schema_version": 3,
     "solution": false,
     "task": false
    }
   },
   "source": [
    "### Testing your solution of exercise 2\n",
    "Verify your solution by hand using the same method as in exercise 1. We provide a couple of basic tests to ensure that you return the values in the correct format for the grading tests."
   ]
  },
  {
   "cell_type": "code",
   "execution_count": null,
   "metadata": {
    "deletable": false,
    "editable": false,
    "nbgrader": {
     "cell_type": "code",
     "checksum": "91dc8eced9cb2311ee0a199a40b3ef4b",
     "grade": true,
     "grade_id": "exercise2a",
     "locked": true,
     "points": 1,
     "schema_version": 3,
     "solution": false,
     "task": false
    }
   },
   "outputs": [],
   "source": [
    "image = np.ones((128, 128, 3))\n",
    "weights = np.zeros((128, 128))\n",
    "weights[62:64, 64:67] = 0\n",
    "image_pyramid, weights_pyramid = build_pyramid(image, weights)\n",
    "assert(len(image_pyramid) == 8) # 128, 64, 32, 16, 8, 4, 2, 1\n",
    "assert(image_pyramid[1].shape == (64, 64, 3))\n",
    "assert(len(weights_pyramid) == 8) # 128, 64, 32, 16, 8, 4, 2, 1\n",
    "assert(weights_pyramid[1].shape == (64, 64))\n"
   ]
  },
  {
   "cell_type": "code",
   "execution_count": null,
   "metadata": {
    "deletable": false,
    "editable": false,
    "nbgrader": {
     "cell_type": "code",
     "checksum": "7e9a5351741b7fd62c579c3c6fc0affb",
     "grade": true,
     "grade_id": "exercise2b",
     "locked": true,
     "points": 1,
     "schema_version": 3,
     "solution": false,
     "task": false
    }
   },
   "outputs": [],
   "source": []
  },
  {
   "cell_type": "markdown",
   "metadata": {
    "deletable": false,
    "editable": false,
    "nbgrader": {
     "cell_type": "markdown",
     "checksum": "7c917448a06cc6125342a7f742e6a1b7",
     "grade": false,
     "grade_id": "cell-172a22cb105a3ef4",
     "locked": true,
     "schema_version": 3,
     "solution": false,
     "task": false
    }
   },
   "source": [
    "## Exercise 3 (4 points)\n",
    "The push phase of the algorithm fills the missing pixels $\\mathbf{x}$ in the (larger) lower pyramid level $\\mathbf{I}^{i}$ by bilinear interpolation of the 4 nearest pixels in (smaller) pyramid level $\\mathbf{I}^{i+1}$ above.\n",
    "\n",
    "The first step is to determine indices of the nearest \n",
    "\n",
    "Now we need to find the 4 nearest pixels $A, B, C, D$ which we interpolate to fill the pixel $\\mathbf{x}$.\n",
    "\n",
    "Below you can see how the small pixels in $\\mathbf{I^i}$ (thin blue lines) overlap with large pixels $a,b,c,d$ in $\\mathbf{I^{i+1}}$ (thick black lines):\n",
    "\n",
    "<img src=\"push_grid3.png\" alt=\"Interpolation grid\" style=\"width: 30%;\"/>\n",
    "\n",
    "While pixels are visualized as square patches, for the interpolation it is important to define their exact location. This is typically done by assigning the pixel color to the center of each pixel (see the circles). We can then compute exact position of any point within the pixel grid with subpixel accuracy.\n",
    "\n",
    "### Example\n",
    "In the image above, the point $\\mathbf{x}^{i} = [2.5, 1.5]$ lies in the center of a pixel $\\mathbf{u}^{i} = [2, 1]$ in the high-resolution image $\\mathbf{I}^{i}$. The same point projected to the low-resolution image $\\mathbf{I}^{i+1}$ will lie in the pixel $\\mathbf{u}^{i+1} = [1, 0]$ and have subpixel coordinates $\\mathbf{x}^{i+1} = [1.25, 0.75]$.\n",
    "\n",
    "The point lies within a $2 \\times 2$ neighborhood defined by the centers of pixels a, b, c, d. Subtracting the position of $a$'s center we get a normalized position of the point as $\\mathbf{x}^{i+1}_{norm} = [0.75, 0.25]$ which can then be used for bilinear interpolation.\n",
    "\n",
    "### Task\n",
    "For a given pixel $\\mathbf{u}^{i}$ of the low-resolution image $\\mathbf{I}^{i}$ (yellow pixel in the Figure) and its center  $\\mathbf{x}^{i}$, find the 4 nearest pixels in $\\mathbf{I}^{i+1}$ (see $a, b, c, d$ in the Figure). Return the integer index of the left-top pixel (see $a$) and the relative subpixel position $\\mathbf{x}^{i+1}_{norm}$ within the 4 neighboring points. \n",
    "\n",
    "Note, that knowledge of the image size or content is not required for this exercise.\n",
    "Assume that the image is infinite, i.e., both positive and negative coordinates are allowed."
   ]
  },
  {
   "cell_type": "code",
   "execution_count": null,
   "metadata": {
    "deletable": false,
    "nbgrader": {
     "cell_type": "code",
     "checksum": "5c2632af36fee333e185fb1b21e2a2f0",
     "grade": false,
     "grade_id": "exercise3_code",
     "locked": false,
     "schema_version": 3,
     "solution": true
    }
   },
   "outputs": [],
   "source": [
    "def project_point_up(px_coordinate_in_down):\n",
    "    # YOUR CODE HERE\n",
    "    raise NotImplementedError()\n",
    "    # return index_start, subpixel_position       \n",
    "\n",
    "index_start, subpixel_position = project_point_up(np.array([3, 1]))\n",
    "print(\"Input point [3, 1]\")\n",
    "print(f'The nearest left-top pixel in the smaller image is {index_start}.')\n",
    "print(f'The normalized position is {subpixel_position}.')\n",
    "print(f'The reference solution is [1, 0] and [0.25, 0.25]')"
   ]
  },
  {
   "cell_type": "markdown",
   "metadata": {
    "deletable": false,
    "editable": false,
    "nbgrader": {
     "cell_type": "markdown",
     "checksum": "1491da97632f38e4c75df82b94d4c9b9",
     "grade": false,
     "grade_id": "cell-180deea3ef1229a7",
     "locked": true,
     "schema_version": 3,
     "solution": false,
     "task": false
    }
   },
   "source": [
    "### Testing your solution of exercise 3\n",
    "Try to come up with more inputs and work them out by hand. Does your solution produce the correct result for these cases?"
   ]
  },
  {
   "cell_type": "code",
   "execution_count": null,
   "metadata": {
    "deletable": false,
    "editable": false,
    "nbgrader": {
     "cell_type": "code",
     "checksum": "dfc6ec5aa13851843a57d52982a33d12",
     "grade": true,
     "grade_id": "exercise3a",
     "locked": true,
     "points": 3,
     "schema_version": 3,
     "solution": false,
     "task": false
    }
   },
   "outputs": [],
   "source": []
  },
  {
   "cell_type": "code",
   "execution_count": null,
   "metadata": {
    "deletable": false,
    "editable": false,
    "nbgrader": {
     "cell_type": "code",
     "checksum": "e72661faae641e24722e2c47841a66f7",
     "grade": true,
     "grade_id": "exercise3b",
     "locked": true,
     "points": 1,
     "schema_version": 3,
     "solution": false,
     "task": false
    }
   },
   "outputs": [],
   "source": []
  },
  {
   "cell_type": "markdown",
   "metadata": {
    "deletable": false,
    "editable": false,
    "nbgrader": {
     "cell_type": "markdown",
     "checksum": "66dfb3f0293124dbfc8348c7815030b3",
     "grade": false,
     "grade_id": "cell-fbb20375b8ca29cb",
     "locked": true,
     "schema_version": 3,
     "solution": false
    }
   },
   "source": [
    "## Exercise 4 (2 points)\n",
    "Next, we need to combine the colors from the 4 nearest pixels using bilinear interpolation.\n",
    "\n",
    "Given the 4 nearest pixel color values $\\{\\mathbf{I}^{i}(\\mathbf{a}), \\mathbf{I}^{i}(\\mathbf{b}), \\mathbf{I}^{i}(\\mathbf{c}), \\mathbf{I}^{i}(\\mathbf{d})\\} \\in \\mathcal{R}^{4\\times3}$ and a normalized point position $\\mathbf{x} = (\\alpha, \\beta) \\in [0,1]\\times[0,1]$, compute interpolated value using bilinear interpolation.\n",
    "\n",
    "<img src=\"bilinterp.png\" alt=\"Interpolation grid\" style=\"width: 30%;\"/>\n",
    "\n",
    "Bilinear interpolation is a weighted mean of 4 corner values with weights proportional to areas of rectangle adjacent to each of the source vertices. It can also be separated into 3 one-dimensional linear interpolations by first interpolating the the between $a$ and $b$, and $d$ and $c$ using $\\alpha$ and then interpolating the intermediate results in an orthogoval dimension defined by $\\beta$."
   ]
  },
  {
   "cell_type": "code",
   "execution_count": null,
   "metadata": {
    "deletable": false,
    "nbgrader": {
     "cell_type": "code",
     "checksum": "a8843d8763355b4628c50613a25c1d22",
     "grade": false,
     "grade_id": "exercise4_code",
     "locked": false,
     "schema_version": 3,
     "solution": true
    }
   },
   "outputs": [],
   "source": [
    "def bilinear_interpolation(col_a, col_b, col_c, col_d, x):\n",
    "    # YOUR CODE HERE\n",
    "    raise NotImplementedError()\n",
    "    # return res\n",
    "    \n",
    "    \n",
    "a = np.array([1.0, 0, 0])\n",
    "b = np.array([0, 1.0, 0])\n",
    "c = np.array([0, 0, 1.0])\n",
    "d = np.array([1.0, 1.0, 1.0])\n",
    "x = np.array([0.75, 0.25])\n",
    "\n",
    "interpolated = bilinear_interpolation(a,b,c,d,x)\n",
    "\n",
    "print(f'The interpolated color at {x} was computed as {np.array2string(interpolated, precision=3)}')"
   ]
  },
  {
   "cell_type": "markdown",
   "metadata": {
    "deletable": false,
    "editable": false,
    "nbgrader": {
     "cell_type": "markdown",
     "checksum": "a4626f61261964ca6075419af2dcb05b",
     "grade": false,
     "grade_id": "cell-fc621e575014bcd0",
     "locked": true,
     "schema_version": 3,
     "solution": false,
     "task": false
    }
   },
   "source": [
    "### Testing your solution of exercise 4\n",
    "Try to come up with more inputs and work them out by hand. Does your solution produce the correct result for these cases?"
   ]
  },
  {
   "cell_type": "code",
   "execution_count": null,
   "metadata": {
    "deletable": false,
    "editable": false,
    "nbgrader": {
     "cell_type": "code",
     "checksum": "27eee50ac28511f305751834f859a625",
     "grade": true,
     "grade_id": "exercise4",
     "locked": true,
     "points": 2,
     "schema_version": 3,
     "solution": false
    }
   },
   "outputs": [],
   "source": []
  },
  {
   "cell_type": "markdown",
   "metadata": {
    "deletable": false,
    "editable": false,
    "nbgrader": {
     "cell_type": "markdown",
     "checksum": "c50d6eeb94dff5a0f1c352342107827b",
     "grade": false,
     "grade_id": "cell-5acac4435d84da61",
     "locked": true,
     "schema_version": 3,
     "solution": false,
     "task": false
    }
   },
   "source": [
    "## Exercise 5 (4 points)\n",
    "\n",
    "Now we can combine Excercise 3 and 4 together and implement an entire push phase. \n",
    "\n",
    "Implement a method that collapses the image pyramid $\\mathbf{I}^{0..N}$ in the up-down direction and fills missing pixels in each larger high-resolution image $\\mathbf{I}^{i}$ by interpolating a corresponding low-resolution image $\\mathbf{I}^{i+1}$.\n",
    "Do not modify pixels that are marked as valid in the provided weights map $M^{i}$.\n",
    "\n",
    "### Notes\n",
    "Visit every level of the pyramid from the top to the bottom.\n",
    "Test every output pixel and update values of those pixels that are not yet valid. \n",
    "For each such pixel find the 4 neighboring low-resolution pixels and relative pixel position using the code from Exercise 3.\n",
    "Use the relative position as bilinear interpolation weights.\n",
    "Take a special care for pixels that lie close to the image boundary as one of the four neighbors can lie outside of $\\mathbf{I}^{i+1}$. Clamp the coordinates of such neighbor pixel to the domain on $\\mathbf{I}^{i+1}$."
   ]
  },
  {
   "cell_type": "code",
   "execution_count": null,
   "metadata": {
    "deletable": false,
    "nbgrader": {
     "cell_type": "code",
     "checksum": "1530bd9d4b0e0f8aa6ecdc7a212bc17b",
     "grade": false,
     "grade_id": "exercise5_code",
     "locked": false,
     "schema_version": 3,
     "solution": true,
     "task": false
    }
   },
   "outputs": [],
   "source": [
    "def push_pyramid(im_pyramid, w_pyramid):\n",
    "    # Interpolate im_pyramid[i+1] to fill im_pyramid[i] where w_down == 0.\n",
    "    # Modify im_pyramid in-place (do not edit a copy).\n",
    "    # YOUR CODE HERE\n",
    "    raise NotImplementedError()\n",
    "        \n",
    "im_files = sorted(helpers.list_files_in_folder(os.path.join(local_data_folder, 'pyramid'), filter=\"im_*.png\"))\n",
    "im_pyramid = [helpers.imread_normalized_float(f) for f in im_files]\n",
    "w_files = sorted(helpers.list_files_in_folder(os.path.join(local_data_folder, 'pyramid'), filter=\"w_*.png\"))\n",
    "w_pyramid = [helpers.imread_normalized_float_grayscale(f) for f in w_files]\n",
    "\n",
    "push_pyramid(im_pyramid, w_pyramid)\n",
    "\n",
    "print(\"Your solution:\")\n",
    "panels = { f\"Image #{i}\": im for i, im in enumerate(im_pyramid)}\n",
    "panels.update({ f\"Weights #{i}\": im for i, im in enumerate(w_pyramid)})\n",
    "helpers.show_images(panels, nrows=2, ncols=len(pyramid_im), col_height=1)"
   ]
  },
  {
   "cell_type": "markdown",
   "metadata": {
    "deletable": false,
    "editable": false,
    "nbgrader": {
     "cell_type": "markdown",
     "checksum": "da97f66a75be9d4edfceefe57111d471",
     "grade": false,
     "grade_id": "cell-0e6e0695bff91943",
     "locked": true,
     "schema_version": 3,
     "solution": false,
     "task": false
    }
   },
   "source": [
    "### Testing your solution of exercise 5\n",
    "The image pyramid should now not contain any holes anymore. Verify that the interpolated values are correct by creating a simple base case (e.g. 4x4 image that you create yourself) and verifying that bilinear interpolation is working correctly."
   ]
  },
  {
   "cell_type": "code",
   "execution_count": null,
   "metadata": {
    "deletable": false,
    "editable": false,
    "nbgrader": {
     "cell_type": "code",
     "checksum": "33a49585c02e69f7c1453f5831fc1415",
     "grade": true,
     "grade_id": "exercise5a",
     "locked": true,
     "points": 2,
     "schema_version": 3,
     "solution": false,
     "task": false
    }
   },
   "outputs": [],
   "source": []
  },
  {
   "cell_type": "code",
   "execution_count": null,
   "metadata": {
    "deletable": false,
    "editable": false,
    "nbgrader": {
     "cell_type": "code",
     "checksum": "0da3a613ea6ba0b840bb4b4e8981952d",
     "grade": true,
     "grade_id": "exercise5b",
     "locked": true,
     "points": 2,
     "schema_version": 3,
     "solution": false,
     "task": false
    }
   },
   "outputs": [],
   "source": []
  },
  {
   "cell_type": "markdown",
   "metadata": {
    "deletable": false,
    "editable": false,
    "nbgrader": {
     "cell_type": "markdown",
     "checksum": "065bf64cd2bdbb55038ae76271c73c31",
     "grade": false,
     "grade_id": "cell-289e2c3a8d7a6166",
     "locked": true,
     "schema_version": 3,
     "solution": false,
     "task": false
    }
   },
   "source": [
    "## Exercise 6 (3 points)\n",
    "Now we have all the necessary components of a complete Pull-Push algorithm and we can use it for image inpainting.\n",
    "In this exercise we will remove red text caption that has been embedded into a photograph.\n",
    "\n",
    "Implement a method that accepts an image (squre shape, side is power of 2), removes any red text and inpaints the resulting holes using the Pull-Push algorithm.\n",
    "\n",
    "### Notes\n",
    "The red text is guaranteed to have a fully saturated red color (RGB value $[1, 0, 0]$). You should remove any such pixels anywhere in the image.\n"
   ]
  },
  {
   "cell_type": "code",
   "execution_count": null,
   "metadata": {
    "deletable": false,
    "nbgrader": {
     "cell_type": "code",
     "checksum": "55ef9ddb52a43558d909d483cb4cfd66",
     "grade": false,
     "grade_id": "exercise6_code",
     "locked": false,
     "schema_version": 3,
     "solution": true,
     "task": false
    }
   },
   "outputs": [],
   "source": [
    "def remove_red_text(image):\n",
    "    # YOUR CODE HERE\n",
    "    raise NotImplementedError()\n",
    "    #return clean_image\n",
    "\n",
    "image = helpers.imread_normalized_float(os.path.join(local_data_folder, \"image_with_text.png\"))\n",
    "clean_image = remove_red_text(image.copy())\n",
    "\n",
    "panels = { f\"Output #{i}\": im for i, im in enumerate(pyramid_im)}\n",
    "helpers.show_images({\n",
    "    'Input': image,\n",
    "    'Output': clean_image\n",
    "}, nrows=1, ncols=2)"
   ]
  },
  {
   "cell_type": "markdown",
   "metadata": {
    "deletable": false,
    "editable": false,
    "nbgrader": {
     "cell_type": "markdown",
     "checksum": "41da0ab107f3827689a5022f43f77e23",
     "grade": false,
     "grade_id": "cell-cc0a877ab20fb0df",
     "locked": true,
     "schema_version": 3,
     "solution": false,
     "task": false
    }
   },
   "source": [
    "### Testing your solution of exercise 6\n",
    "Your solution should have gotten rid of the red text in the image. You can try to create a couple of different images and check whether your method still works."
   ]
  },
  {
   "cell_type": "code",
   "execution_count": null,
   "metadata": {
    "deletable": false,
    "editable": false,
    "nbgrader": {
     "cell_type": "code",
     "checksum": "644a82a26ea34e7a3b58b169974ac9b0",
     "grade": true,
     "grade_id": "exercise6a",
     "locked": true,
     "points": 2,
     "schema_version": 3,
     "solution": false,
     "task": false
    }
   },
   "outputs": [],
   "source": []
  },
  {
   "cell_type": "code",
   "execution_count": null,
   "metadata": {
    "deletable": false,
    "editable": false,
    "nbgrader": {
     "cell_type": "code",
     "checksum": "028cfd88f9b269a032d6040b93318934",
     "grade": true,
     "grade_id": "exercise6b",
     "locked": true,
     "points": 1,
     "schema_version": 3,
     "solution": false,
     "task": false
    }
   },
   "outputs": [],
   "source": []
  }
 ],
 "metadata": {
  "kernelspec": {
   "display_name": "Python 3 (ipykernel)",
   "language": "python",
   "name": "python3"
  },
  "language_info": {
   "codemirror_mode": {
    "name": "ipython",
    "version": 3
   },
   "file_extension": ".py",
   "mimetype": "text/x-python",
   "name": "python",
   "nbconvert_exporter": "python",
   "pygments_lexer": "ipython3",
   "version": "3.9.7"
  }
 },
 "nbformat": 4,
 "nbformat_minor": 4
}
