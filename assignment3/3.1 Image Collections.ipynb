{
 "cells": [
  {
   "cell_type": "code",
   "execution_count": 1,
   "metadata": {
    "deletable": false,
    "editable": false,
    "nbgrader": {
     "cell_type": "code",
     "checksum": "886147079dfe1253e19e045d365c02d5",
     "grade": false,
     "grade_id": "cell-91ecdd51e335450e",
     "locked": true,
     "schema_version": 3,
     "solution": false
    }
   },
   "outputs": [],
   "source": [
    "%matplotlib widget\n",
    "import itertools\n",
    "import matplotlib.pyplot as plt\n",
    "import numpy as np\n",
    "import cv2\n",
    "import scipy\n",
    "import scipy.linalg\n",
    "import scipy.signal\n",
    "import os\n",
    "# helpers.py is one level up in the directory structure so we need to tell Python were to find it\n",
    "import sys\n",
    "sys.path.append(\"../../\")\n",
    "import helpers\n",
    "local_data_folder = os.path.join(helpers.dataset_folder, \"week3\", \"collections\")\n",
    "\n",
    "%load_ext autoreload\n",
    "%autoreload 2"
   ]
  },
  {
   "cell_type": "markdown",
   "metadata": {
    "deletable": false,
    "editable": false,
    "nbgrader": {
     "cell_type": "markdown",
     "checksum": "f078f78d2c57e3a7efe0d61a0d542858",
     "grade": false,
     "grade_id": "cell-8315cc1f829f08c5",
     "locked": true,
     "schema_version": 3,
     "solution": false
    }
   },
   "source": [
    "# Searching image collections\n",
    "\n",
    "In the previous excercises we have seen how an image can be inpainted without access to additional information. Yet, such an approach is limited in the variety of content it can produce. We can achieve much richer and more constent inpainting by copying existing image content from a similar image. For that we need a source of such images - an image collection. Furthermore, we need a fast and reliable way how to find good matches to our query image.\n",
    "\n",
    "While we could potentially compare images pixel by pixel using the Sum of Squared Distances metric, a more efficient and often more robust approach is to utilize lower-dimensional image descriptors. One of the simplest choices is *GIST*.\n",
    "\n",
    "The name *GIST* refers to the idea of extracting the gist of the image. GIST is a simple fixed-length vector of real numbers that summarizes distribution of contrast (or gradients in the image). It is built by averaging intensity of edges detected in several image regions, at several scales and several orientations.\n",
    "\n",
    "In this assignment, we will compute GIST of an image and then use it to find similar images in a preprocessed image collection.\n",
    "\n",
    "### GIST algorithm\n",
    "There are several ways how to build a GIST descriptor. In this Assignment we apply a sequence of image convolutions (see Assignment 1.1) with differently oriented and sized Gabor filters. The results of each convolution are then split into a fixed-sized grid and averaged to obtain entries for the descriptor. Finally, a low resolution version of the image is appended to the final descriptor to encode the average color distribution."
   ]
  },
  {
   "cell_type": "markdown",
   "metadata": {
    "deletable": false,
    "editable": false,
    "nbgrader": {
     "cell_type": "markdown",
     "checksum": "2e5781c84fb5baecefa841b849c17aba",
     "grade": false,
     "grade_id": "cell-8cf1d83c8ef069f6",
     "locked": true,
     "schema_version": 3,
     "solution": false
    }
   },
   "source": [
    "## Exercise 7 (2 points)\n",
    "\n",
    "The coefficients of the GIST descriptor are composed of image gradients detected at differet scales (representing range of spatial frequencies) and different orientations. \n",
    "\n",
    "We have previously used specialized filters to detect sharp edges (high frequency) with either horizontal or vertical orientation. \n",
    "Gabor filter (or Gabor patches) are a generalization of edge detection that is inspired by processing in human visual cortex.\n",
    "\n",
    "\n",
    "<img src=\"gabor.png\" alt=\"Gabor filter\" style=\"width:20%\">\n",
    "\n",
    "\n",
    "A Gabor filter $f(x,y)$ is a product of a symmetrical bi-variate Gaussian filter\n",
    "$$\n",
    "g(x,y) = e^{-\\frac{1}{2}\\frac{x^2+y^2}{\\sigma^2}}\n",
    "$$\n",
    "and a sinusoidal corrugation\n",
    "$$\n",
    "s(x,y) = \\sin\\left((x \\cos(\\alpha) - y \\sin(\\alpha)) \\cdot f\\right)\n",
    "$$\n",
    "with parameters\n",
    "- $\\sigma$ as a standard deviation controlling the width of the filter,\n",
    "- $\\alpha$ as an angle (in radians) controlling the orientation of the filter (and detected gradients)\n",
    "- $f$ as a spatial frequency controling the sensitivity of the filter to sharp or smooth gradients.\n",
    "\n",
    "Finally, the entire Gabor filter is\n",
    "$$\n",
    "f(x,y) = g(x,y) \\cdot s(x,y) \\cdot \\left( \\sum_{x,y} g(x,y) \\right)^{-1}\n",
    "$$\n",
    "where the denominator on the right normalizes the sum of the Gaussian component to one. \n",
    "\n",
    "This normalization ensures that the response of the filter stays normalized regardless of the discretization to fixed-resolution pixel grid of size $s$.\n",
    "\n",
    "\n",
    "### Task\n",
    "Implement a method that returns `size` $\\times$ `size` kernel of the Gabor filter as defined above.\n",
    "The domain of the spatial variables $x$, $y$ covers the range $[-1, 1]$, that is $(x,y)\\in[-1,1]\\times[-1,1]$.\n",
    "\n",
    "### Tips\n",
    "Try how the filter changes for different choices of $\\sigma$, $\\alpha$ and $f$."
   ]
  },
  {
   "cell_type": "code",
   "execution_count": 5,
   "metadata": {
    "deletable": false,
    "nbgrader": {
     "cell_type": "code",
     "checksum": "b7ccb05906556b6ef95f7b3cfd58d175",
     "grade": false,
     "grade_id": "exercise7_code",
     "locked": false,
     "schema_version": 3,
     "solution": true
    }
   },
   "outputs": [
    {
     "name": "stdout",
     "output_type": "stream",
     "text": [
      "[[ 0  0]\n",
      " [ 1  0]\n",
      " [ 2  0]\n",
      " ...\n",
      " [32 34]\n",
      " [33 34]\n",
      " [34 34]]\n"
     ]
    },
    {
     "data": {
      "application/vnd.jupyter.widget-view+json": {
       "model_id": "b2d888402b994601bc85468a1755de4b",
       "version_major": 2,
       "version_minor": 0
      },
      "text/html": [
       "\n",
       "            <div style=\"display: inline-block;\">\n",
       "                <div class=\"jupyter-widgets widget-label\" style=\"text-align: center;\">\n",
       "                    Figure\n",
       "                </div>\n",
       "                <img src='data:image/png;base64,iVBORw0KGgoAAAANSUhEUgAAA7YAAAEsCAYAAAD3mC+UAAAAOXRFWHRTb2Z0d2FyZQBNYXRwbG90bGliIHZlcnNpb24zLjUuMSwgaHR0cHM6Ly9tYXRwbG90bGliLm9yZy/YYfK9AAAACXBIWXMAAA9hAAAPYQGoP6dpAAAnHElEQVR4nO3daXBd9X0//o9kWxJeJISX2AgHLzgtGDdJoYYJNhA2Q5tQcIiDCRQS1mFpmg40dAhgoIVQOknahlJIAgTokBJoGbI1QHExEJIJQwLExmADLuCA932Rbfn8HuQv/RH2+er42vI9F79eMzyQPrrnfM+VfNBb597zrsuyLAsAAACoUfXVXgAAAADsDMEWAACAmibYAgAAUNMEWwAAAGqaYAsAAEBNE2wBAACoaYItAAAANU2wBQAAoKYJtgAAANQ0wRYAAICaJtgCAABQ0wRbAAAAappgCwAAQE0TbAEAAKhpgi1Qk44++ug4+OCDq72MiowaNSrOOeecai8DqJJ58+bFCSecEC0tLVFXVxcPP/xwtZdUNXfffXfU1dXFc889V+2l7LAZM2ZEXV1dtZcB/H8EW/gAmD17dpx55pnR1tYWjY2Nse+++8bnP//5mD179k5t98Ybb9xtv3D9/Oc/jxkzZsTKlSt3y/4AetIZujr/69u3b7S1tcU555wTCxcurHi7Z599drz00kvx93//93HvvffGoYceugtXDbBn6lvtBQA75z//8z9j+vTpsc8++8S5554bo0ePjgULFsR3v/vdePDBB+P73/9+nHrqqRVt+8Ybb4zTTjstTjnllF276O34+c9/Htddd12cc845sffee/f6/gCKuv7662P06NGxcePG+MUvfhF33313PP300/Hb3/42mpqadmhbGzZsiGeffTauuuqquPTSS3tpxQB7HsEWathrr70WZ511VowZMyZmzZoVQ4cO7Zp96UtfismTJ8dZZ50VL774YowZM6aKK60969atiwEDBlR7GUAJnHTSSV1XVc8777wYMmRI3HzzzfHII4/EtGnTdmhbS5YsiYjYpX/A27hxYzQ0NER9vRfivd/WrVtj06ZNO/wHCKD2OANCDbvlllti/fr1cccdd3QLtRERQ4YMidtvvz3WrVsX//AP/9D1+XPOOSdGjRq1zbbe/16hurq6WLduXXzve9/rehle5/tCO7927ty5MW3atGhubo7BgwfHl770pdi4cWPXNhYsWBB1dXVx9913b7O/urq6mDFjRtf2rrjiioiIGD16dNf+FixYsEPPx6OPPhr9+/eP6dOnx5YtWyIiYu7cuXHaaafFPvvsE01NTXHooYfGI4880u1xnS83fPLJJ+Piiy+OYcOGxX777RcR//97eefMmROf/OQno3///tHW1tbtOe3U3t4e1157bRxwwAHR2NgYI0eOjL/5m7+J9vb2HToOoNwmT54cEb//4+J79XS+mTFjRuy///4REXHFFVdEXV1dt/PxwoUL44tf/GJ86EMfisbGxhg/fnzceeed3fbxv//7v1FXVxff//7346tf/Wq0tbVF//79Y/Xq1RER8ctf/jJOPPHEaGlpif79+8dRRx0VzzzzTLdtdJ7D58+f3/UqmZaWlvjCF74Q69ev3+Z477vvvpg4cWL0798/Wltb48gjj4xHH32029f89Kc/jcmTJ8eAAQNi0KBB8Wd/9mcVvx1mxYoVMXHixNhvv/3ilVdeiYji59e6urq49NJL49///d9j/Pjx0djYGP/93//ddZ5/5pln4q//+q9j6NChMWDAgDj11FO7/tjQW8cD7B6u2EIN++EPfxijRo3q+iXr/Y488sgYNWpU/PjHP97hbd97771x3nnnxcSJE+OCCy6IiIixY8d2+5pp06bFqFGj4qabbopf/OIX8c///M+xYsWKuOeee3ZoX1OnTo1XX3017r///vjGN74RQ4YMiYjYJqyn/OhHP4rTTjstPve5z8Wdd94Zffr0idmzZ8cRRxwRbW1tceWVV8aAAQPigQceiFNOOSUeeuihbV6iffHFF8fQoUPjmmuuiXXr1nV9fsWKFXHiiSfG1KlTY9q0afHggw/GV77ylZgwYUKcdNJJEfH7qwInn3xyPP3003HBBRfEgQceGC+99FJ84xvfiFdffXWPvjkMfNB0/tGttbW163NFzjdTp06NvffeO7785S/H9OnT40//9E9j4MCBERGxaNGiOPzww7uC2dChQ+OnP/1pnHvuubF69er4q7/6q25ruOGGG6KhoSEuv/zyaG9vj4aGhnjiiSfipJNOikMOOSSuvfbaqK+vj7vuuiuOOeaYeOqpp2LixIndtjFt2rQYPXp03HTTTfH888/Hd77znRg2bFjcfPPNXV9z3XXXxYwZM+ITn/hEXH/99dHQ0BC//OUv44knnogTTjghIn7//4uzzz47pkyZEjfffHOsX78+brvttpg0aVL8+te/3u4fU/MsXbo0jj/++Fi+fHk8+eSTMXbs2B0+vz7xxBPxwAMPxKWXXhpDhgyJUaNGxW9+85uIiLjsssuitbU1rr322liwYEF885vfjEsvvTT+4z/+o+vxu/J4gN0oA2rSypUrs4jI/vzP/zz5dSeffHIWEdnq1auzLMuys88+O9t///23+bprr702e/8pYcCAAdnZZ5+d+7Unn3xyt89ffPHFWURkL7zwQpZlWfbGG29kEZHddddd22wjIrJrr7226+Nbbrkli4jsjTfeSB5Pp6OOOiobP358lmVZ9tBDD2X9+vXLzj///Kyjo6Pra4499thswoQJ2caNG7s+t3Xr1uwTn/hENm7cuK7P3XXXXVlEZJMmTcq2bNmyzX4iIrvnnnu6Ptfe3p4NHz48+8xnPtP1uXvvvTerr6/PnnrqqW6P/7d/+7csIrJnnnmm63P777//dp9XoFw6zw2PP/54tmTJkuytt97KHnzwwWzo0KFZY2Nj9tZbb3V9bdHzTed58ZZbbum2r3PPPTcbMWJEtnTp0m6fP/3007OWlpZs/fr1WZZl2cyZM7OIyMaMGdP1uc59jRs3LpsyZUq2devWrs+vX78+Gz16dHb88cd3fa7zHP7FL36x275OPfXUbPDgwV0fz5s3L6uvr89OPfXUbufWzv1lWZatWbMm23vvvbPzzz+/2/zdd9/NWlpatvn8+3U+x7/61a+yd955Jxs/fnw2ZsyYbMGCBV1fsyPn14jI6uvrs9mzZ293P8cdd1y35+fLX/5y1qdPn2zlypU7fDzb+/8mUD1eigw1as2aNRERMWjQoOTXdc47X6a2K11yySXdPr7ssssiIuInP/nJLt9Xnvvvvz8+97nPxYUXXhi3335713vMli9fHk888URMmzYt1qxZE0uXLo2lS5fGsmXLYsqUKTFv3rxt7mp6/vnnR58+fbbZx8CBA+PMM8/s+rihoSEmTpwYr7/+etfnfvCDH8SBBx4Yf/iHf9i1r6VLl8YxxxwTEREzZ87sjcMHdoPjjjsuhg4dGiNHjozTTjstBgwYEI888kjXWxYqOd+8V5Zl8dBDD8WnP/3pyLKs2zlkypQpsWrVqnj++ee7Pebss8+Ovfbaq+vj3/zmNzFv3rw444wzYtmyZV2PX7duXRx77LExa9as2Lp1a7dtXHTRRd0+njx5cixbtqzr/xcPP/xwbN26Na655ppt3r/b+daVxx57LFauXBnTp0/vtu4+ffrEYYcdVvjc9/bbb8dRRx0VmzdvjlmzZnW9ZDtix8+vRx11VBx00EHb3c8FF1zQ7W03kydPjo6Ojvi///u/XXo8wO7npchQozoDa2fAzVM0AFdi3Lhx3T4eO3Zs1NfX7/B7Yyv1xhtvxJlnnhmf/exn41/+5V+6zebPnx9ZlsXVV18dV1999XYfv3jx4mhra+v6ePTo0dv9uv3222+brsLW1tZ48cUXuz6eN29evPzyy7kvn168eHGhYwLK59Zbb42PfOQjsWrVqrjzzjtj1qxZ0djY2DWv5HzzXkuWLImVK1fGHXfcEXfccUfu49/r/eerefPmRcTvA2+eVatWdXv59Ic//OFu887ZihUrorm5OV577bWor6/PDYnv3W9nyHy/5ubm3Me+11lnnRV9+/aNl19+OYYPH77NPnbk/Jp3Lo9IH3PnviJ2/niA3U+whRrV0tISI0aM6BautufFF1+Mtra2rv8Z55XJd3R07PSa3r/t3txXRMSIESNixIgR8ZOf/CSee+65bl2QnVcmLr/88pgyZcp2H3/AAQd0+/i9Vz/ea3tXcSN+f5XlvfubMGFCfP3rX9/u144cOTL/QIBSmzhxYtf55ZRTTolJkybFGWecEa+88koMHDiwovPNe3U+/swzz8wNpn/0R3/U7eP3n686t3HLLbfExz72se1uo/P9vJ2KnNt60rnfe++9d5tAGhHRt2+xXzWnTp0a99xzT/zTP/1T3HTTTdvsY0fOr3nn8oiej3lXHQ+w+/nXCTXsU5/6VHz729+Op59+OiZNmrTN/KmnnooFCxbEhRde2PW51tbWWLly5TZf2/kyrPfKC6ad5s2b1+0v4/Pnz4+tW7d23Vij8y/h799fJfvanqampvjRj34UxxxzTJx44onx5JNPxvjx4yMiuuqN+vXrF8cdd9wOb3tHjR07Nl544YU49thjKzoWoDb06dMnbrrppvjkJz8Z3/rWt+LKK6/c6fPN0KFDY9CgQdHR0VHx+arz5n7Nzc277JzXeeOmOXPm5Iblzv0OGzZsp/Z72WWXxQEHHBDXXHNNtLS0xJVXXtltH7vr/LqrjgfY/bzHFmrYFVdcEXvttVdceOGFsWzZsm6z5cuXx0UXXRT9+/fvqtKJ+P3/tFetWtXtSu8777wT//Vf/7XN9gcMGLDdENzp1ltv7fZx58uBO+8U3NzcHEOGDIlZs2Z1+7p//dd/3e6+IrYNwT1paWmJn/3sZzFs2LA4/vjju+o3hg0bFkcffXTcfvvt8c4772zzuO3VO+yMadOmxcKFC+Pb3/72NrMNGzZ0u8syUNuOPvromDhxYnzzm9+MjRs37vT5pk+fPvGZz3wmHnroofjtb3+7w4+PiDjkkENi7Nix8Y//+I+xdu3airbxfqecckrU19fH9ddfv837czuvcE6ZMiWam5vjxhtvjM2bN+/Ufq+++uq4/PLL42//9m/jtttu6/r87jy/7srjAXYvV2yhho0bNy6+973vxec///mYMGFCnHvuuTF69OhYsGBBfPe7342lS5fG/fff362m5/TTT4+vfOUrceqpp8Zf/uVfdtUYfOQjH9nm5iSHHHJIPP744/H1r3899t133xg9enQcdthhXfM33ngjTj755DjxxBPj2Wefjfvuuy/OOOOM+OhHP9r1Needd1587Wtfi/POOy8OPfTQmDVrVrz66qvbHMshhxwSERFXXXVVnH766dGvX7/49Kc/3RV4U4YMGRKPPfZYTJo0KY477rh4+umno62tLW699daYNGlSTJgwIc4///wYM2ZMLFq0KJ599tl4++2344UXXtjh5zzPWWedFQ888EBcdNFFMXPmzDjiiCOio6Mj5s6dGw888ED87Gc/6/ZSaaC2XXHFFfHZz3427r777rjooot2+nzzta99LWbOnBmHHXZYnH/++XHQQQfF8uXL4/nnn4/HH388li9fnnx8fX19fOc734mTTjopxo8fH1/4wheira0tFi5cGDNnzozm5ub44Q9/uEPHeMABB8RVV10VN9xwQ0yePDmmTp0ajY2N8atf/Sr23XffuOmmm6K5uTluu+22OOuss+KP//iP4/TTT4+hQ4fGm2++GT/+8Y/jiCOOiG9961uF93nLLbfEqlWr4pJLLolBgwbFmWeeuVvPr7v6eIDdqHo3ZAZ2lRdffDGbPn16NmLEiKxfv37Z8OHDs+nTp2cvvfTSdr/+0UcfzQ4++OCsoaEh+4M/+IPsvvvu225twdy5c7Mjjzwy22uvvbKI6Kqo6fzaOXPmZKeddlo2aNCgrLW1Nbv00kuzDRs2dNvG+vXrs3PPPTdraWnJBg0alE2bNi1bvHjxNnU/WZZlN9xwQ9bW1pbV19f3WP3z3rqfTvPnz89GjBiRHXjggdmSJUuyLMuy1157LfuLv/iLbPjw4Vm/fv2ytra27FOf+lT24IMPdj3uvXUTRfaTZduvTdq0aVN28803Z+PHj88aGxuz1tbW7JBDDsmuu+66bNWqVV1fp+4HakPq3NDR0ZGNHTs2Gzt2bFdNWJHzTV7dT5Zl2aJFi7JLLrkkGzlyZNe5/Nhjj83uuOOOrq/prPv5wQ9+sN01//rXv86mTp2aDR48OGtsbMz233//bNq0adn//M//dH1N5zm88zz5/uN9/7n3zjvvzD7+8Y93ndeOOuqo7LHHHuv2NTNnzsymTJmStbS0ZE1NTdnYsWOzc845J3vuuedynt3u+3zvc9zR0ZFNnz4969u3b/bwww9nWVb8/BoR2SWXXFJoP53rjohs5syZO3w86n6gXOqybAfuEAAQETNmzIjrrrsulixZEkOGDKn2cgAA2MN5jy0AAAA1TbAFAACgpgm2AAAA1DTvsQUAAKCmuWILAABATRNsAQAAqGmCLQAAADWtb7UXAJDn7/7u7+KrX/1qtZcBJMyYMaPaS6AX1dXVVXsJhbltzK7n3ze1xBVboLT22muvai8BAIAaINgCpSXYAgBQhGALlJZgCwBAEYItUFqCLQAARQi2QGn179+/2ksAAKAGCLZAaTU0NFR7CQAA1ADBFiit2bNnV3sJAElZltXEf711fGVSV1dX0X/AB4NgC5SWXzgAAChCsAVKy82jAAAoQrAFSkuwBQCgCMEWKC3BFgCAIgRboLTU/QAAUIRgC5RWY2NjtZcAAEAN6FvtBQDkmTt3bpxwwgnVXgawh+uNWpvdXZWT2l/qDvQ93Z2+0u1WKrXNSp/TStdZtroj2NO5YguUVkdHR7WXAABADRBsgdJy8ygAAIoQbIHSEmwBAChCsAVKy12RAQAoQrAFSssVWwAAihBsgdJqamqq9hIAAKgB6n6A0po/f34cd9xx1V4GsIertGKm0jqY3thmys7U8qQeW1+ff/1kd1cBpagJgg8GV2yB0tq4cWO1lwAAQA0QbIHS8h5bAACKEGyB0nJXZAAAihBsgdJyxRYAgCIEW6C0BFsAAIoQbIHSEmwBAChC3Q9QWgsWLKj2EgB6RaWVPr0xS+mp0iY137p1a+4sVQWUmlW6lt54XG89p+qAoDKu2AKltWbNmmovAQCAGiDYAqXlpcgAABQh2AKlpe4HAIAiBFugtFyxBQCgCMEWKC3BFgCAIgRboLQEWwAAilD3A5TWwoULq70EoGQqrWbpLZXW3aRUWtvT0dFR0Vp2pl4mdfyp2p4+ffpU9LhKZ6l19kZNUG89p6qAIJ8rtkBpLV++vNpLAACgBgi2QGm5KzIAAEUItkBpeY8tAABFCLZAaQm2AAAUIdgCpSXYAgBQhGALlJZgCwBAEYItUFpLliyp9hIAAKgBemyB0nr33XervQSgCnqrq7Y3ukwr3V+lfaSVPi7VY5vqv+1pf6l5pZ2zffvm/3qa6r+tdFbpz0U1OpV13EI+V2yB0lL3AwBAEYItUFreYwsAQBGCLVBagi0AAEUItkBpCbYAABQh2AKlJdgCAFCEYAuU1sqVK6u9BAAAaoC6H6C03n777WovAaghPdWvVFrdkqqmqbTyJVXNkqqm2bJlS0X7q7Tup6f9pR6bknpOU8ffr1+/3FmqJqjSCqFKK4uA3c+/SKC0vBQZAIAiBFugtARbAACKEGyB0hJsAQAoQrAFSkuwBQCgCMEWKC3BFgCAIgRboLTWr19f7SUAAFAD1P0ApfX6669XewlAFaSqcCqt1+npsZXWz1T6uNRaUsefqtfZvHnzLl9LqiYoIl0HVGk1Ueo5TW0zVQVU6SxVE5T6PvVGRVRPKv2Zgg8KV2yB0vJSZAAAihBsgdISbAEAKEKwBUpLsAUAoAjBFigtwRYAgCIEW6C0+vfvX+0lAABQAwRboLQ2bdpU7SUAAFAD1P0ApfXqq6/GMcccU+1lACVStiqg3qiRSVXzpI4/VYXT3t6eO0t1hq9duzZ3FpF+3jZs2JA7S1UTpSqNKp2laotSz2lqlvoepvT0c9pbdUDwQeeKLVBaTU1N1V4CAAA1QLAFSsvNowAAKEKwBUpLsAUAoAjBFigtwRYAgCIEW6C01P0AAFCEYAuUVuoulgAA0EndD1BaL7/8ckyePLnaywAqlKpK6Q0788ewVMVKpRVDqTqY1FstGhsbc2epCqGUVL1OqpZn9erVye2uWrWqoseuW7cud5aqJkpV+qSOMaXSup9KZ6k6p4h0vZQqIMjnii1QWqlf7gAAoJNgC5SWm0cBAFCEYAuUlmALAEARgi1QWu6KDABAEYItUFqu2AIAUIRgC5RW6s6QAADQSd0PUFqzZ8+Oww8/vNrLAHazSmuCenpcpfUslVb6VFr5knq1yoABA3JnqTvJp44hVZOzdu3a3FlExIoVK3Jny5cvr2iWqglKVRNt2bIld5aqgkpVCKW2mXpOK531RBUQ5HM5BCitSvsaAQDYswi2QGl5jy0AAEUItkBpuSsyAABFCLZAabliCwBAEYItUFqCLQAARQi2QGml7jYKAACd/NYIlNacOXPiT/7kT6q9DCChN6p5emPW0zxVlZKqg0ltM1XN0tDQkDtLVfqk7hY/aNCgiraZWuemTZtyZxHpap6lS5fmzhYvXlzR41L1QuvWrcudpSqNKv2ZSlUIVVov1JNKK31UAbEncMUWKK3UL1sAANDJb41AaXmPLQAARQi2QGmp+wEAoAjBFigtV2wBAChCsAVKS7AFAKAIwRYorcbGxmovAQCAGqDuByitOXPmxMc//vFqLwNISNWI9EYVUKUVKxHpmpWeHpunvb09d5aqykmtJXVH+NQf/AYOHJg7S9ULNTc358769OmTO4uIGDJkSO5s8ODBubPW1tbcWUtLS+5s0aJFubPly5fnztasWZM7q/T7VOnP/s7UUlX6bypFFRAfFK7YAqXVG/8DBwDgg0ewBUrLXZEBAChCsAVKy82jAAAoQrAFSkuwBQCgCMEWKC3BFgCAIgRboLSampqqvQQAAGqAuh+gtF555ZX46Ec/Wu1lADWip8qeLVu25M42b95c0eNS+0xV5axduzZ3tmHDhtxZap0p/fr1y52lXh0zYMCA5HZTFUODBg2qaLupWeqmgqnZsmXLcmepKqCNGzfmzlJVQCk7U6+TaguodLsaCPigcMUWKK1Kf4EDAGDPItgCpaXuBwCAIgRboLTcPAoAgCIEW6C0BFsAAIoQbIHSEmwBAChCsAVKS7AFAKAIdT9Aab322msxYcKEai8DqFCl9SM7U4eSkqo1SVX6pOp32tvbK9pmfX3+tYVUNc3y5ctzZ6tXr86drV+/Pne2adOm3FlPlTb77LNP7qyxsTF31tramjtLPTepWapeqW/f/F95U1VIvVEFVI16nd6oCYKyccUWKK3UL5MAANBJsAVKy0uRAQAoQrAFSkuwBQCgCMEWKC3BFgCAIgRboLQEWwAAihBsgdISbAEAKELdD1Bab775Zhx88MHVXgbQC1IVI6lKl1RtSepxReZ5tm7dmjtLVb6sXbs2d5aqCUr53e9+lzt79913c2eLFy/OnS1dujR3tmLFiuR6Ro4cmTsbPHhw7ixVBZSq3xk0aFDurNLqpdT3N/VzmqoXqnQtEb1TB6TShz2BK7ZAaaU6GQEAoJNgC5SWlyIDAFCEYAuUlmALAEARgi1QWoItAABFCLZAaQm2AAAUIdgCpdW/f/9qLwEAgBqg7gcord/97ndx0EEHVXsZQEJv1Ij0VjVJqkaloaEhd5aqbkmtNVXrsmbNmtzZunXrcmepapqFCxdWNEtVCL3zzju5s4iIsWPH5s4+/OEP586GDBmSO2tqasqdpY4/Vb+T2uaAAQNyZ5s3b86ddXR05M5SP2s9/Xyntps6ftjTuWILlNayZcuqvQQAAGqAYAuUlvfYAgBQhGALlJZgCwBAEYItUFqCLQAARQi2QGm5KzIAAEUItkBpuWILAEARgi1QWkuXLq32EgAAqAF6bIHS6qk/EahdlXbVprpK6+vTf69P7TPVO5rqFU31nG7YsCF3ljqOTZs25c5Wr16dO0v15i5atCh39u677+bOejoPp+ZjxozJnY0cOTJ3luq4rfSVPKnnJvVz0bdv/q/Kqe7j1P5SP2s7o7e2C7XCFVugtLwUGQCAIgRboLQEWwAAihBsgdISbAEAKEKwBUpL3Q8AAEUItkBpuWILAEARgi1QWqtWrar2EgAAqAHqfoDSevPNN+Owww6r9jKAClVa6ZOq7al0mxHpip1UrUvqcan1bN26NXeWqoNpb2/PnaUqhNavX587W7t2be4sVSHU0x8YV6xYkTtLdZEvXrw4d9bW1pY722effXJnqbevpH6mUt+L1PcwJbW/nmqpUvNUpU9qraqA2BO4YguUlpciAwBQhGALlJZgCwBAEYItUFruigwAQBGCLVBartgCAFCEYAuUlmALAEARgi1QWqm7fwIAQCd1P0BpzZ8/Pz72sY9VexlAhVIVI5XW9qQe11ONSuqx/fr1262zSuuFKq2RSdXybNq0KXe2bNmy3FlEREdHR0XbTVUTpeqHPvShD+XOWltbc2epezaknu9KK5t6q14n9TNc6b8pVUB8ULhiC5SWlyIDAFCEYAuUlmALAEARgi1QWup+AAAoQrAFSssVWwAAihBsgdISbAEAKEKwBUpr8+bN1V4CAAA1QN0PUFqvvPJKjB8/vtrLABJ6o9Kn0vqRnvaXqnVJzVLbbWxszJ2lXnWSmqXuL5CaDRgwoKLZqlWrcmft7e25s4j0HyBT201VIVW6v1T3eXNzc+6sqakpd5aqZUpJ1QSlZkDlXLEFSiv1ywYAAHQSbIHScldkAACKEGyB0nLzKAAAihBsgdISbAEAKEKwBUpLsAUAoAjBFgAAgJqm7gcorTlz5sS4ceOqvQygQpXW9lS6zZ72V2k1UarypaGhIXeWurN76hUpqWqegQMH5s5aWlpyZ62trbmzpUuX5s5Wr16dO4uI2LRpU+6svj7/+klHR0fubN26dbmzlStX7vL9pZ7vVJ1TpRVRO/Nz2hv/piqt5YKyccUWKK3UL4wAANBJsAVKS90PAABFCLZAabl5FAAARQi2QGkJtgAAFCHYAqUl2AIAUIRgC5RW6o6TAADQSd0PUFqzZ8+O0aNHV3sZQC+otLZk69atFe8zVWuS2m5qramKmVRNUKpGJlUTlLqp3qBBg3JnqSqgwYMH585WrFiRO4uIWLt2be5s8+bNubPU96Jfv365s9T3qb29PXe2cePG3Fnqe5j63qfWmdpmb9XrVPpvqjcqhKAaXLEFSiv1SwMAAHQSbIHS8h5bAACKEGyB0hJsAQAoQrAFSkuwBQCgCMEWKC3BFgCAIgRboLQaGhqqvQQAAGqAuh+gtGbPnh0jR46s9jKA3SxVP7IzdT8dHR25s1QFS2qWqnVJzVJ3fU/VBKUel6oQStUENTc3585aW1tzZxERq1evzp1t2LAhd5aqAkpJHX+q+zz1M5X6udiyZUvuLPVzkVpL6ueip+0C+VyxBUqrp//5AwBAhGALlJj32AIAUIRgC5SWYAsAQBGCLVBagi0AAEUItkBpCbYAABQh2AKl1dTUVO0lAABQA9T9AKX18ssvx7777lvtZQAlsjNVQKnH7u5ZSqruJ1Ujk3qVS2qbqc7wnl45M3DgwNzZ+vXrc2ft7e25s1TFTuo5TT03qeNP1etU+vO2M5U9GgGgMv7lAKW1M32VAADsOQRboLS8xxYAgCIEW6C0BFsAAIoQbIHSEmwBAChCsAVKq3///tVeAgAANUCwBUpL3Q8AAEWo+wFK69VXX43hw4dXexlAL6i0CmdntllpBUtv1P2k7vrer1+/3FmqtiZVE5Oqwkn9EbGn5yy1ntR2N27cmDvbvHlz7qyjoyN3lnq+U8eRem5Sz+nOVPqkVHocsKdzxRYorU2bNlV7CQAA1ADBFigtN48CAKAIwRYoLcEWAIAiBFugtARbAACKEGyB0lL3AwBAEYItUFqu2AIAUIS6H6C0Xn/99Rg2bFi1lwH0glRtSW9UAfW03UprZCqt9Entb8uWLbmzVBVQpbU1KaltRkQ0NDTkziqt2EnV/aSem9TzXenPVOoYVAFBubhiC5TWunXrqr0EAABqgGALlJaXIgMAUIRgC5SWYAsAQBGCLVBa7ooMAEARgi1QWq7YAgBQhGALlJZgCwBAEep+gNJ66623YujQodVeBrAHqLS2p9LH9UYVUN+++b/WpappUrOdqV5KbTe11kq32RuVTZVKVe+o5YHe4YotUForV66s9hIAAKgBgi1QWl6KDABAEYItUFqCLQAARQi2QGmp+wEAoAjBFigtV2wBAChCsAVKS7AFAKAIdT9AaS1atCiGDBlS7WUAu1mqDqU3qll6UmlVTKXH0RtVQH369MmdpSp0dqaaptLvVWqfqbVWupbU8102qoIgnyu2QGktXry42ksAAKAGCLZAaXkpMgAARQi2QGm5KzIAAEUItkBpuWILAEARgi1QWoItAABFCLZAaQm2AAAUIdgCpbV8+fJqLwEAgBqgxxYorYULF8a4ceOqvQygRHqr47Y3tltp/22lnaupjtfU41LH3lNvaqW9qpUef2+sJfW8VaM3GaiMK7ZAabkrMgAARQi2QGl5jy0AAEUItkBpCbYAABQh2AKlJdgCAFCEYAuUlmALAEARgi1QWmvXrq32EgAAqAHqfoDSWrBgQXz4wx+u9jKAGtFT3cvurpHpjZqglI6OjtxZpTVBlR77zj42T2/UBAEfDK7YAqXlpcgAABQh2AKlJdgCAFCEYAuUlmALAEARgi1QWoItAABFCLZAaQm2AAAUIdgCpdXe3l7tJQAAUAPU/QClNW/evBg+fHi1lwF8QOzu2p7dvb9Kt5mqAupJ6hh7o+6nUr3xPVQvBOXiii1QWl6KDABAEYItUFqCLQAARQi2QGkJtgAAFCHYAqUl2AIAUIRgC5SWYAsAQBGCLVBaHR0d1V4CAAA1QN0PUFpz586NI444otrLAPZwtVITVKnUOntaS+qxO7PdslDpA7XDFVugtJqamqq9BAAAaoBgC5SW99gCAFCEYAuUlmALAEARgi1QWoItAABFCLZAafXv37/aSwAAoAYItgAAANQ0dT9Aac2ZMycOP/zwai8DoCK7uyaoN/S0lg/CMQIfDK7YAqXV0NBQ7SUAAFADBFugtNw8CgCAIgRboLQEWwAAihBsgdISbAEAKEKwBUpL3Q8AAEUItkBpuWILAEARdZn7rQMAAFDDXLEFAACgpgm2AAAA1DTBFgAAgJom2AIAAFDTBFsAAABqmmALAABATRNsAQAAqGmCLQAAADVNsAUAAKCmCbYAAADUNMEWAACAmibYAgAAUNMEWwAAAGqaYAsAAEBN+395yauCXMknGgAAAABJRU5ErkJggg==' width=950.0/>\n",
       "            </div>\n",
       "        "
      ],
      "text/plain": [
       "Canvas(toolbar=Toolbar(toolitems=[('Home', 'Reset original view', 'home', 'home'), ('Back', 'Back to previous …"
      ]
     },
     "metadata": {},
     "output_type": "display_data"
    }
   ],
   "source": [
    "def build_gabor_filter(size, sigma, f, alpha):\n",
    "\n",
    "    def gaussian_filter(x, y, sigma):\n",
    "        return np.exp((x ** 2 + y ** 2)/(2 * sigma))\n",
    "    \n",
    "    def sinusoidal_corrugation(x, y, alpha, f):\n",
    "        return np.sin((x*np.cos(alpha) - y*np.sin(alpha)) * f)\n",
    "\n",
    "\n",
    "    gabor_filter = np.zeros((size, size))\n",
    "    for row in range(size):\n",
    "        for col in range(size):\n",
    "            pass\n",
    "\n",
    "            \n",
    "\n",
    "    print(gabor_filter)\n",
    "    return gabor_filter\n",
    "    \n",
    "gabor_filter = build_gabor_filter(35, 1.0/3.2, 8, np.radians(60))\n",
    "    \n",
    "helpers.show_images({\n",
    "    'Output kernel': gabor_filter / gabor_filter.max() * 0.5 + 0.5,\n",
    "    'Reference kernel': helpers.imread_normalized_float_grayscale(os.path.join(local_data_folder, 'gabor1.png')),\n",
    "}, nrows=1, ncols=2)        "
   ]
  },
  {
   "cell_type": "markdown",
   "metadata": {
    "deletable": false,
    "editable": false,
    "nbgrader": {
     "cell_type": "markdown",
     "checksum": "3d12018a7bd5b63d4e43a3214a8d7fae",
     "grade": false,
     "grade_id": "cell-e2d33184b6732da9",
     "locked": true,
     "schema_version": 3,
     "solution": false,
     "task": false
    }
   },
   "source": [
    "### Testing your solution of exercise 7\n",
    "Make sure that your solution matches the references kernel."
   ]
  },
  {
   "cell_type": "code",
   "execution_count": null,
   "metadata": {
    "deletable": false,
    "editable": false,
    "nbgrader": {
     "cell_type": "code",
     "checksum": "7a11be321fcc62b8e7329caee3dd96ea",
     "grade": true,
     "grade_id": "exercise7a",
     "locked": true,
     "points": 1,
     "schema_version": 3,
     "solution": false,
     "task": false
    }
   },
   "outputs": [],
   "source": []
  },
  {
   "cell_type": "code",
   "execution_count": null,
   "metadata": {
    "deletable": false,
    "editable": false,
    "nbgrader": {
     "cell_type": "code",
     "checksum": "1e299e54221c473bfc3563d966d33a0a",
     "grade": true,
     "grade_id": "exercise7b",
     "locked": true,
     "points": 1,
     "schema_version": 3,
     "solution": false,
     "task": false
    }
   },
   "outputs": [],
   "source": []
  },
  {
   "cell_type": "markdown",
   "metadata": {
    "deletable": false,
    "editable": false,
    "nbgrader": {
     "cell_type": "markdown",
     "checksum": "7eb727f4452ece297c2b1081b21bb661",
     "grade": false,
     "grade_id": "cell-2602ee05bb637eed",
     "locked": true,
     "schema_version": 3,
     "solution": false,
     "task": false
    }
   },
   "source": [
    "## Exercise 8 (4 points)\n",
    "\n",
    "The next step is to apply the filter $f(x,y)$ to a grayscale image $I(x,y)\\in\\mathcal{R}^{H\\times W}$ using convolution. The Gabor filter response $r(x,y) = I(x,y) * f(x,y)$ has a sign that depends on the mutual orientation of the filter and the gradient. In this excercise the sign does not matter and therefore we return absolute value of the response $r_a(x,y) = |r(x,y)|$.\n",
    "\n",
    "The filter response is expected to have the same resolution as the input image. However, we need the GIST descriptor to be relatively small. Therefore, we bin the response values into a `grid_size` $\\times$ `grid_size` 2D histogram $H(i,j)$ where each bin contains mean of $r_a(x,y)$ for the pixels that are covered by that bin.\n",
    "\n",
    "### Task\n",
    "First, implement a method that for a given grayscale image returns an absolute Gabor filter response.\n",
    "Second, implement a method that bins this response into a 2D histogram as defined above.\n",
    "\n",
    "### Tips\n",
    "- You can assume that the image size is divisible by the `grid_size`.\n",
    "- You are allowed to use `scipy.signal.convolve2d(image, kernel, mode=\"same\")`\n",
    "- Exlore how the response of the filter changes for different parameters."
   ]
  },
  {
   "cell_type": "code",
   "execution_count": null,
   "metadata": {
    "deletable": false,
    "nbgrader": {
     "cell_type": "code",
     "checksum": "ef897548772418a8a3b9b0e356630477",
     "grade": false,
     "grade_id": "exercise8_code",
     "locked": false,
     "schema_version": 3,
     "solution": true,
     "task": false
    }
   },
   "outputs": [],
   "source": [
    "def get_absolute_response(image, filter_size, sigma, f, alpha):\n",
    "    # Use scipy.signal.fftconvolve for better performance.\n",
    "    # YOUR CODE HERE\n",
    "    raise NotImplementedError()\n",
    "    # return abs_response, gabor_filter\n",
    "    \n",
    "def bin_values(vals, grid_size):\n",
    "    # YOUR CODE HERE\n",
    "    raise NotImplementedError()\n",
    "    #return binned_values\n",
    "    \n",
    "image = helpers.imread_normalized_float_grayscale(os.path.join(local_data_folder, \"grad_test.png\"))\n",
    "\n",
    "response, gabor_filter = get_absolute_response(image, 32, 1.0/3.2, 8, np.radians(45))\n",
    "binned = bin_values(response, 4)\n",
    "    \n",
    "helpers.show_images({\n",
    "    'Input Image': image,\n",
    "    'Your Filter': gabor_filter / gabor_filter.max() * 0.5 + 0.5,\n",
    "    'Your Response': response / response.max(),\n",
    "    'Your Binned': plt.get_cmap('gray')(binned / binned.max())\n",
    "}, nrows=1, ncols=4)"
   ]
  },
  {
   "cell_type": "markdown",
   "metadata": {
    "deletable": false,
    "editable": false,
    "nbgrader": {
     "cell_type": "markdown",
     "checksum": "88ab7beead53180c2189373d2dfa44a8",
     "grade": false,
     "grade_id": "cell-46a068273c0b7547",
     "locked": true,
     "schema_version": 3,
     "solution": false,
     "task": false
    }
   },
   "source": [
    "### Testing your solution of exercise 8\n",
    "You can test your `bin_values(vals, grid_size)` function by creating a small and simple test image. Work out by hand what the binned image should look like and verify that your solution matches what you expect. The code below checks some basic properties such as the size of the returned image."
   ]
  },
  {
   "cell_type": "code",
   "execution_count": null,
   "metadata": {
    "deletable": false,
    "editable": false,
    "nbgrader": {
     "cell_type": "code",
     "checksum": "21c9682b184fa8c3bd578c212b6a37a8",
     "grade": true,
     "grade_id": "exercise8a",
     "locked": true,
     "points": 2,
     "schema_version": 3,
     "solution": false,
     "task": false
    }
   },
   "outputs": [],
   "source": [
    "image = helpers.imread_normalized_float_grayscale(os.path.join(local_data_folder, \"grad_test.png\"))\n",
    "response, gabor_filter = get_absolute_response(image, 32, 1.0/3.2, 8, np.radians(45))\n",
    "assert(gabor_filter.shape == (32, 32))\n",
    "assert(response.shape == image.shape)\n"
   ]
  },
  {
   "cell_type": "code",
   "execution_count": null,
   "metadata": {
    "deletable": false,
    "editable": false,
    "nbgrader": {
     "cell_type": "code",
     "checksum": "b485c938f6c5816d17ec7dea4ea5a634",
     "grade": true,
     "grade_id": "exercise8b",
     "locked": true,
     "points": 2,
     "schema_version": 3,
     "solution": false,
     "task": false
    }
   },
   "outputs": [],
   "source": []
  },
  {
   "cell_type": "markdown",
   "metadata": {
    "deletable": false,
    "editable": false,
    "nbgrader": {
     "cell_type": "markdown",
     "checksum": "5705a2352cdf1fed1a889ecb8a165b31",
     "grade": false,
     "grade_id": "cell-d6e05bc8fffb4433",
     "locked": true,
     "schema_version": 3,
     "solution": false,
     "task": false
    }
   },
   "source": [
    "## Exercise 9 (5 points)\n",
    "Finally, a *GIST* descriptor is formed by concatenation of flattened histograms $H_k$ for Gabor filters $g_k$ with different scales and orientations. Here is an example of a small filter bank with 3 different sizes $s$,= and 4 orientations $\\alpha$:\n",
    "\n",
    "<img src=\"gabors_4x3.png\" alt=\"Gabor filters\" style=\"width:60%\" />\n",
    "\n",
    "\n",
    "If we further consider a histogram size of $2\\times2$, we obtain a GIST descriptor as a 1D vector with $3\\times4\\times2\\times2 = 48$ values (for this particular choice of parameters). \n",
    "The GIST vector features one entire histogram row after another and this is repeated first for every orientation $\\alpha$ and then for every scale $s$, so that the order is:\n",
    "$$\n",
    "[s_0,\\alpha_0,y_0,x_0], [s_0,\\alpha_0,y_0,x_1],\\cdots[s_0,\\alpha_0,y_1,x_0],\\cdots[s_0,\\alpha_1,y_0,x_0],\\cdots[s_1,\\alpha_0,y_0,x_0],\\cdots[s_S,\\alpha_A,y_Y,x_X].\n",
    "$$\n",
    "\n",
    "The GIST alone only describes the distribution of gradients in the image. To make it more powerfull, we append one more histogram describing the distribution of the colors in the image similarly as shown for the collection-based inpainting in the lecture.\n",
    "This color histogram is built the same way as previously but instead of the filter response it averages the RGB value of the image. When appeneded at the end of the descriptor, it adds another `grid_size` $\\times$ `grid_size` $\\times 3$ values that correspond to a flattened 2D color histogram with an order:\n",
    "\n",
    "$$\n",
    "[y_0,x_0,R],[y_0,x_0,G],[y_0,x_0,B],\\cdots[y_0,x_1,R],[y_0,x_1,G],[y_0,x_1,B],\\cdots[y_1,x_0,R],[y_1,x_0,G],[y_0,x_1,B],\\cdots\n",
    "$$\n",
    "\n",
    "The final descriptor for this assignment is then defined as\n",
    "$\\mathbf{d} = [\\textrm{GIST} \\cdot w_{grad}, H_{RGB}]$\n",
    "where $w_{grad}$ is additional weight scalar that scales the contribution of the gradients.\n",
    "\n",
    "### Task\n",
    "Implement a method that computes a full descriptor of given RGB image including the RGB appendix. \n",
    "Cover all combinations of sizes $s$ and orientations $\\alpha$.\n",
    "\n",
    "### Tips\n",
    "- The histogram method developed in previous excercise can be easily adapted to compute the RGB histogram.\n",
    "- Visualize the individual filters and their responses in a similar grid as shown in the exercise to better understand what each filter scale and orientation does."
   ]
  },
  {
   "cell_type": "code",
   "execution_count": null,
   "metadata": {
    "deletable": false,
    "nbgrader": {
     "cell_type": "code",
     "checksum": "dc90e5e5fb55430daff84e0c2f620e57",
     "grade": false,
     "grade_id": "cell-36f1a57a16bd2ebd",
     "locked": false,
     "schema_version": 3,
     "solution": true,
     "task": false
    }
   },
   "outputs": [],
   "source": [
    "def image_rgb_to_grayscale(image):\n",
    "    return cv2.cvtColor(image, cv2.COLOR_RGB2GRAY)\n",
    "\n",
    "def build_gist_descriptor(image, filte_sizes, alphas, sigma, f, grid_size, grad_weight):\n",
    "    # Use image_rgb_to_grayscale() to convert the RGB image to grayscale.\n",
    "    # YOUR CODE HERE\n",
    "    raise NotImplementedError()\n",
    "    # return descriptor\n",
    "    \n",
    "image = helpers.imread_normalized_float(os.path.join(local_data_folder, \"spatenv/opencountry_land228.jpg\"))\n",
    "\n",
    "    \n",
    "filter_sizes = np.array([9,17,33,65])\n",
    "alphas = np.radians(np.arange(6, dtype=float)/6*180)\n",
    "sigma = 1.0 / 3.2\n",
    "f = 8\n",
    "grid_size = 4\n",
    "grad_weight = 20\n",
    "descriptor = build_gist_descriptor(image, filter_sizes, alphas, sigma, f, grid_size, grad_weight)\n",
    "\n",
    "\n",
    "# Visualize.\n",
    "dsize = grid_size**2\n",
    "s_maxs = np.array([descriptor[i*(dsize*len(alphas)):(i+1)*(dsize*len(alphas))].max() for i in range(len(filter_sizes))])\n",
    "panels = {}\n",
    "for i, (s, a) in enumerate(itertools.product(filter_sizes, alphas)):\n",
    "    d = descriptor[i*dsize:(i+1)*dsize].reshape(grid_size, grid_size)\n",
    "    panels[f's={s} a={np.degrees(a):.0f}'] = plt.get_cmap('viridis')(d / s_maxs[filter_sizes==s])\n",
    "panels['RGB'] = descriptor[-(dsize*3):].reshape(grid_size,grid_size,3)\n",
    "skeys = ['s=9 a=0','s=17 a=60', 's=33 a=90', 's=65 a=120', 'RGB']\n",
    "panels = {f'Your {k}': panels[k] for k in skeys}\n",
    "panels.update({f'Refer. {k}': helpers.imread_normalized_float(os.path.join(local_data_folder, f\"codes/{k.replace('=', '_')}.png\")) for k in skeys})\n",
    "helpers.show_images(panels, nrows=2, ncols=len(skeys), col_height=2.2)"
   ]
  },
  {
   "cell_type": "markdown",
   "metadata": {
    "deletable": false,
    "editable": false,
    "nbgrader": {
     "cell_type": "markdown",
     "checksum": "ce426c9bee74417c92a1396509a6605d",
     "grade": false,
     "grade_id": "cell-3a827c565358ac08",
     "locked": true,
     "schema_version": 3,
     "solution": false,
     "task": false
    }
   },
   "source": [
    "### Testing your solution of exercise 3\n",
    "Compare your solutions to the provided reference."
   ]
  },
  {
   "cell_type": "code",
   "execution_count": null,
   "metadata": {
    "deletable": false,
    "editable": false,
    "nbgrader": {
     "cell_type": "code",
     "checksum": "28cfc46981028a91edf2dcf98d9a7eff",
     "grade": true,
     "grade_id": "exercise9a",
     "locked": true,
     "points": 3,
     "schema_version": 3,
     "solution": false,
     "task": false
    }
   },
   "outputs": [],
   "source": []
  },
  {
   "cell_type": "code",
   "execution_count": null,
   "metadata": {
    "deletable": false,
    "editable": false,
    "nbgrader": {
     "cell_type": "code",
     "checksum": "9f541ad4f47e694592e7c0e9869c4b6b",
     "grade": true,
     "grade_id": "exercise9b",
     "locked": true,
     "points": 2,
     "schema_version": 3,
     "solution": false,
     "task": false
    }
   },
   "outputs": [],
   "source": []
  },
  {
   "cell_type": "markdown",
   "metadata": {
    "deletable": false,
    "editable": false,
    "nbgrader": {
     "cell_type": "markdown",
     "checksum": "20d8752501bb0c03a7351ed407c0e824",
     "grade": false,
     "grade_id": "dgdfgdfgdfg342",
     "locked": true,
     "schema_version": 3,
     "solution": false,
     "task": false
    }
   },
   "source": [
    "## Exercise 10 (4 points)\n",
    "\n",
    "We can now use the resulting descriptor to quickly find a set of $k$ most similar images in potentially large image collection which would take a long time to compare pixel-by-pixel. \n",
    "\n",
    "In this exercise we will find the most similar image by minimizing the L2 distance between the query image descriptor $\\mathbf{d}$ and the collection image descriptors $\\mathbf{d}_i$ such that the index of the most similar image $j$ is\n",
    "$$\n",
    "j = \\arg\\min_{i} ||\\mathbf{d} - \\mathbf{d}_i||^2_2.\n",
    "$$\n",
    "\n",
    "This is useful for exploring large image collections where a search engine can suggest other images similar to the one we are looking at. It can also be used for a coarse categorization of images (coast, mountains, road, city,...) and in the lecture we have seen that a similar image can be used for image inpainting. \n",
    "\n",
    "Note, that for an effective implementation, we must ignore the pixels that are marked as invalid in a provided inpainting mask $M$. That means that every convolution has to carefully avoid sampling the invalid pixels which results in a more complex and slow implementation This is why in this exercise we simulate similar effect by modifying the query image.\n",
    "\n",
    "### Task\n",
    "\n",
    "Implement a method that replaces marked pixels in a given RGB image $\\mathbf{I} \\in \\mathcal{R}^{H \\times W \\times 3}$ with pixels from the most similar image in a provided image collection. \n",
    "The marked pixels are encoded by zeros in the provided mask $M \\in [0,1]^{H \\times W}$.\n",
    "Find the most similar image by minimizing the L2 descriptor norm as shown above.\n",
    "To compute the query image descriptor, use a modified query image generated from the input image by replacing the invalid pixels ($M = 0$) by a uniform gray color ($[0.5, 0.5, 0.5]$).\n",
    "Return the modified query image, the most similar collection image and the inpainted image.\n",
    "\n",
    "\n",
    "### Tips\n",
    "- The descriptors for all images in the dataset are provided and do not need to be recomputed.\n",
    "- Visualize several of the most similar and also several of the least similar images. \n",
    "- Test the query with your own image. Note that the metric is only effective if the collection contains a very close match of the query image. In practice, that means that collections of milions of images are needed. In this example we only use a very small collection of pre-selected image samples.\n",
    "\n",
    "Images courtesy of [8 Scene Categories Dataset](http://people.csail.mit.edu/torralba/code/spatialenvelope/)"
   ]
  },
  {
   "cell_type": "code",
   "execution_count": null,
   "metadata": {
    "deletable": false,
    "nbgrader": {
     "cell_type": "code",
     "checksum": "dfbeaade595266bb6035a03bffc63da2",
     "grade": false,
     "grade_id": "exercise10_code",
     "locked": false,
     "schema_version": 3,
     "solution": true,
     "task": false
    }
   },
   "outputs": [],
   "source": [
    "def inpaint_image(image, mask, dataset_descriptors, dataset_files, \n",
    "                 filter_sizes, alphas, sigma, f, grid_sizes, grad_weight):\n",
    "    # Use helpers.imread_normalized_float(dataset_files[i]) to read an image i\n",
    "    # YOUR CODE HERE\n",
    "    raise NotImplementedError()\n",
    "    #return query_image, nearest_image, inpainted_image \n",
    "\n",
    "filter_sizes = np.array([9,17,33,65])\n",
    "alphas = np.radians(np.arange(6, dtype=float)/6*180)\n",
    "sigma = 1.0 / 3.2\n",
    "f = 8\n",
    "grid_size = 4\n",
    "grad_weight = 20\n",
    "\n",
    "dataset_files = sorted(helpers.list_files_in_folder(os.path.join(local_data_folder, \"spatenv\"), filter=\"*.jpg\"))\n",
    "dataset_descriptors = np.load(os.path.join(local_data_folder, 'spatenv_descs.npy'))\n",
    "image = helpers.imread_normalized_float(os.path.join(local_data_folder, \"opencountry_land493.jpg\"))\n",
    "mask = np.zeros(image.shape[:2])\n",
    "mask[:image.shape[0]//2] = 1\n",
    "\n",
    "query, nearest, inpainted = inpaint_image(image.copy(), mask, dataset_descriptors, dataset_files,\n",
    "                                        filter_sizes, alphas, sigma, f, grid_size, grad_weight)\n",
    "                                        \n",
    "helpers.show_images({\n",
    "    'Your Input': image,\n",
    "    'Your Query': query,\n",
    "    'Your Nearest': nearest,\n",
    "    'Your Result': inpainted\n",
    "}, nrows=1, ncols=4, col_height=3)"
   ]
  },
  {
   "cell_type": "markdown",
   "metadata": {
    "deletable": false,
    "editable": false,
    "nbgrader": {
     "cell_type": "markdown",
     "checksum": "39a52ab562d1b6973bd8a10d8a54671d",
     "grade": false,
     "grade_id": "cell-8075b99c15122bf3",
     "locked": true,
     "schema_version": 3,
     "solution": false,
     "task": false
    }
   },
   "source": [
    "### Testing your solution of exercise 10\n",
    "Have a look at the set of images in the data set (`datasets/week3/collections/spatenv/` folder). Is the image picked by your algorithm close to the query image (compared to the other images in the data set)? Try different query images and check if this is still the case.\n",
    "\n",
    "The code below checks some basic properties such as the size of the returned images."
   ]
  },
  {
   "cell_type": "code",
   "execution_count": null,
   "metadata": {
    "deletable": false,
    "editable": false,
    "nbgrader": {
     "cell_type": "code",
     "checksum": "a730c4f52e9fe347d29fac6ffd54a061",
     "grade": true,
     "grade_id": "exercise10",
     "locked": true,
     "points": 4,
     "schema_version": 3,
     "solution": false,
     "task": false
    }
   },
   "outputs": [],
   "source": [
    "filter_sizes = np.array([9,17,33,65])\n",
    "alphas = np.radians(np.arange(6, dtype=float)/6*180)\n",
    "sigma = 1.0 / 3.2\n",
    "f = 8\n",
    "grid_size = 4\n",
    "grad_weight = 20\n",
    "\n",
    "dataset_files = sorted(helpers.list_files_in_folder(os.path.join(local_data_folder, \"spatenv\"), filter=\"*.jpg\"))\n",
    "dataset_descriptors = np.load(os.path.join(local_data_folder, 'spatenv_descs.npy'))\n",
    "image = helpers.imread_normalized_float(os.path.join(local_data_folder, \"opencountry_land493.jpg\"))\n",
    "mask = np.zeros(image.shape[:2])\n",
    "mask[:image.shape[0]//2] = 1\n",
    "\n",
    "query, nearest, inpainted = inpaint_image(image.copy(), mask, dataset_descriptors, dataset_files,\n",
    "                                        filter_sizes, alphas, sigma, f, grid_size, grad_weight)\n",
    "assert(query.shape == image.shape)\n",
    "assert(nearest.shape == image.shape)\n",
    "assert(inpainted.shape == image.shape)\n"
   ]
  }
 ],
 "metadata": {
  "kernelspec": {
   "display_name": "Python 3 (ipykernel)",
   "language": "python",
   "name": "python3"
  },
  "language_info": {
   "codemirror_mode": {
    "name": "ipython",
    "version": 3
   },
   "file_extension": ".py",
   "mimetype": "text/x-python",
   "name": "python",
   "nbconvert_exporter": "python",
   "pygments_lexer": "ipython3",
   "version": "3.9.7"
  }
 },
 "nbformat": 4,
 "nbformat_minor": 4
}
