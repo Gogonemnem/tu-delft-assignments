{
 "cells": [
  {
   "cell_type": "code",
   "execution_count": null,
   "metadata": {
    "deletable": false,
    "editable": false,
    "nbgrader": {
     "cell_type": "code",
     "checksum": "ff82b208822e46e41252da18befd85eb",
     "grade": false,
     "grade_id": "cell-34079b882aba5316",
     "locked": true,
     "schema_version": 3,
     "solution": false,
     "task": false
    }
   },
   "outputs": [],
   "source": [
    "%matplotlib widget\n",
    "import matplotlib.pyplot as plt\n",
    "import math\n",
    "import numpy as np\n",
    "import scipy.sparse.linalg\n",
    "import cv2\n",
    "import itertools\n",
    "import random\n",
    "import os\n",
    "import numba\n",
    "import sys\n",
    "sys.path.append(\"../../\")\n",
    "import helpers\n",
    "import gfx\n",
    "\n",
    "# Disable Numba deprecation warnings (need to find long-term fix)\n",
    "import warnings\n",
    "warnings.simplefilter(\"ignore\", category=numba.NumbaDeprecationWarning)\n",
    "warnings.simplefilter(\"ignore\", category=numba.NumbaPendingDeprecationWarning)\n",
    "warnings.simplefilter(\"ignore\", category=numba.NumbaPerformanceWarning)"
   ]
  },
  {
   "cell_type": "markdown",
   "metadata": {
    "deletable": false,
    "editable": false,
    "nbgrader": {
     "cell_type": "markdown",
     "checksum": "309333d1d48ef01ee433ee0aaa0b49a2",
     "grade": false,
     "grade_id": "cell-7bfe31907b24f442",
     "locked": true,
     "schema_version": 3,
     "solution": false,
     "task": false
    }
   },
   "source": [
    "# Heterogeneous Material Matching\n",
    "Uptill now we have considered material matching of objects consisting of just a single material / color. In the real world, objects hardly ever consist of just a single material. In this notebook we will look at objects consisting of multiple materials such as the sphere below."
   ]
  },
  {
   "cell_type": "code",
   "execution_count": null,
   "metadata": {
    "deletable": false,
    "editable": false,
    "nbgrader": {
     "cell_type": "code",
     "checksum": "cb960c1a8b2cd20b884d088e0959fef6",
     "grade": false,
     "grade_id": "cell-c6dbdb708e783d29",
     "locked": true,
     "schema_version": 3,
     "solution": false,
     "task": false
    }
   },
   "outputs": [],
   "source": [
    "camera = gfx.Camera(gfx.Vec3(0, 0, -5), gfx.Vec3(0, 0, 0), gfx.Vec3(0, 1, 0), 45.0, 1.0)\n",
    "sphere = gfx.Sphere(gfx.Vec3(0, 0, 0), 1.5)\n",
    "light = gfx.DirectionalLight(gfx.Vec3(0, 0, 1), gfx.Vec3(1, 1, 1))\n",
    "brdf0 = gfx.PhongBRDF(gfx.Vec3(0.6, 0.8, 0.4), gfx.Vec3(0.2, 0.3, 0.15), 6)\n",
    "brdf1 = gfx.PhongBRDF(gfx.Vec3(0.4, 0.2, 0.7), gfx.Vec3(0.8, 0.7, 0.6), 2)\n",
    "brdfs = numba.typed.List()\n",
    "brdfs.extend([brdf0, brdf1])\n",
    "\n",
    "material_mask = helpers.imread_normalized_float_grayscale(os.path.join(helpers.dataset_folder, \"week5\", \"material_mask0.jpg\"))\n",
    "material_mask = (material_mask > 0.5).astype(np.int32)\n",
    "\n",
    "%time colors, positions, normals = gfx.render_heterogeneous(camera, sphere, light, brdfs, material_mask, 256, 256)\n",
    "helpers.show_images({\n",
    "    \"Color\": np.clip(colors, 0.0, 1.0),\n",
    "    \"Position\": (positions+2.5)/5,\n",
    "    \"Normal\": np.abs(normals)\n",
    "}, nrows=2, ncols=2)"
   ]
  },
  {
   "cell_type": "markdown",
   "metadata": {
    "deletable": false,
    "editable": false,
    "nbgrader": {
     "cell_type": "markdown",
     "checksum": "d80c42e0e0537acfdb847b8b11a9a442",
     "grade": false,
     "grade_id": "cell-f8da6158fd8ff382",
     "locked": true,
     "schema_version": 3,
     "solution": false,
     "task": false
    }
   },
   "source": [
    "##  Estimating the material map\n",
    "To model an object consisting of multiple materials we will estimate a material map. The material map assigns a material index to each screen pixel. This material map can later be used to estimate the different BRDFs separately (see notebook 5.1).\n",
    "\n",
    "As the color image above illustrates, the most dominant part of the Phong model is the diffuse term. The estimate of the $k_d$ parameter is thus a good differentiating factor between the different materials that the objects is made out of.\n",
    "\n",
    "Thus, we need to make an estimate of $k_d$ without knowing $k_s$ or $t$. Recall the Phong equation and how it is made up out of the diffuse component (left side) and the specular component (right side):\n",
    "\n",
    "$$\n",
    "k_d I (L \\cdot N) + k_s I (E \\cdot R)^t\n",
    "$$\n",
    "\n",
    "The specular component mostly relies on the $E \\cdot R$. If it is very low then the whole specular component will contribute very little to the pixel color. We can use this knowledge to estimate $k_d$ by looking only at those pixels where $E \\cdot R$ is low and estimating $k_d$ as if the specular component is zero, such that $C = k_d I (L \\cdot N)$.\n",
    "\n",
    "\n",
    "### Exercise 6 (3 points)\n",
    "Implement the function `estimate_kd_per_pixel` which estimates the $k_d$ parameter using the method above. You are given a list of images taken with different light positions such that there is always at least one image in which the specular component of a pixel is low."
   ]
  },
  {
   "cell_type": "code",
   "execution_count": null,
   "metadata": {
    "deletable": false,
    "nbgrader": {
     "cell_type": "code",
     "checksum": "a976acdc4235863397265df6ca279ef3",
     "grade": false,
     "grade_id": "exercise6_code",
     "locked": false,
     "schema_version": 3,
     "solution": true,
     "task": false
    }
   },
   "outputs": [],
   "source": [
    "random.seed(53223)\n",
    "np.random.seed(54323)\n",
    "\n",
    "# Inputs of this function are:\n",
    "# - camera     use camera.position to get the position of the camera\n",
    "# - positions  an image which stores a 3D position at each pixel\n",
    "# - normals    an image that stores the 3D normal vectors at each pixel\n",
    "# - light_with_color_images    a list with tuples (light, image)\n",
    "def estimate_kd_per_pixel(camera, positions, normals, light_with_color_images):\n",
    "    kd_estimate = np.zeros(positions.shape)\n",
    "    # YOUR CODE HERE\n",
    "    raise NotImplementedError()\n",
    "    return kd_estimate\n",
    "\n",
    "camera = gfx.Camera(gfx.Vec3(0, 0, -5), gfx.Vec3(0, 0, 0), gfx.Vec3(0, 1, 0), 45.0, 1.0)\n",
    "sphere = gfx.Sphere(gfx.Vec3(0, 0, 0), 1.5)\n",
    "\n",
    "brdf0 = gfx.PhongBRDF(gfx.Vec3(0.6, 0.8, 0.4), gfx.Vec3(0.2, 0.3, 0.15), 6)\n",
    "brdf1 = gfx.PhongBRDF(gfx.Vec3(0.4, 0.2, 0.7), gfx.Vec3(0.8, 0.7, 0.6), 2)\n",
    "brdfs = numba.typed.List()\n",
    "brdfs.extend([brdf0, brdf1])\n",
    "\n",
    "material_mask = helpers.imread_normalized_float_grayscale(os.path.join(helpers.dataset_folder, \"week5\", \"material_mask0.jpg\"))\n",
    "material_mask = (material_mask > 0.5).astype(np.int32)\n",
    "\n",
    "def take_virtual_pictures():\n",
    "    width = height = 128\n",
    "    light_with_color_images = []\n",
    "    for i in range(40):\n",
    "        light = gfx.DirectionalLight(gfx.sample_uniform_hemisphere(), gfx.Vec3(1,1,1))\n",
    "        color_image, positions, normals = gfx.render_heterogeneous(camera, sphere, light, brdfs, material_mask, width, height)\n",
    "        # positions/normals are the same for any image. Variables live outside the loop in Python\n",
    "        light_with_color_images.append((light, color_image))\n",
    "    return camera, positions, normals, light_with_color_images\n",
    "\n",
    "# Take a couple of pictures with our virtual camera\n",
    "camera, positions, normals, light_with_color_images = take_virtual_pictures()\n",
    "\n",
    "kd_estimate = estimate_kd_per_pixel(camera, positions, normals, light_with_color_images)\n",
    "\n",
    "helpers.show_image(kd_estimate, \"Diffuse estimate (your solution)\")"
   ]
  },
  {
   "cell_type": "markdown",
   "metadata": {
    "deletable": false,
    "editable": false,
    "nbgrader": {
     "cell_type": "markdown",
     "checksum": "f42b4559de11edf1a5ca2931c6fb80de",
     "grade": false,
     "grade_id": "cell-b7391f0f5c52c06c",
     "locked": true,
     "schema_version": 3,
     "solution": false,
     "task": false
    }
   },
   "source": [
    "### Tests of exercise 6\n",
    "Your code should estimate the $k_d$ value for every pixel. In practice this means that the resulting image should should assign purple/green values to each pixel. Due to the limited number of input pictures, there will be some dark regions and other artefacts. This exercise will be tested with a large margin of error (Sum of Squared Differences of $0.025$ average per pixel)."
   ]
  },
  {
   "cell_type": "code",
   "execution_count": null,
   "metadata": {
    "deletable": false,
    "editable": false,
    "nbgrader": {
     "cell_type": "code",
     "checksum": "1b62bf08b1435aa15677c5d23f3311e6",
     "grade": true,
     "grade_id": "exercise6",
     "locked": true,
     "points": 3,
     "schema_version": 3,
     "solution": false,
     "task": false
    }
   },
   "outputs": [],
   "source": [
    "random.seed(53223)\n",
    "np.random.seed(54323)\n",
    "\n",
    "camera = gfx.Camera(gfx.Vec3(0, 0, -5), gfx.Vec3(0, 0, 0), gfx.Vec3(0, 1, 0), 45.0, 1.0)\n",
    "sphere = gfx.Sphere(gfx.Vec3(0, 0, 0), 1.5)\n",
    "#light = gfx.DirectionalLight(gfx.Vec3(0,0,1), gfx.Vec3(1, 1, 1))\n",
    "\n",
    "brdf0 = gfx.PhongBRDF(gfx.Vec3(0.6, 0.8, 0.4), gfx.Vec3(0.2, 0.3, 0.15), 6)\n",
    "brdf1 = gfx.PhongBRDF(gfx.Vec3(0.4, 0.2, 0.7), gfx.Vec3(0.8, 0.7, 0.6), 2)\n",
    "brdfs = numba.typed.List()\n",
    "brdfs.extend([brdf0, brdf1])\n",
    "\n",
    "material_mask = helpers.imread_normalized_float_grayscale(os.path.join(helpers.dataset_folder, \"week5\", \"material_mask0.jpg\"))\n",
    "material_mask = (material_mask > 0.5).astype(np.int32)\n",
    "\n",
    "width = height = 128\n",
    "\n",
    "def take_virtual_pictures():\n",
    "    light_with_color_images = []\n",
    "    for i in range(40):\n",
    "        light = gfx.DirectionalLight(gfx.sample_uniform_hemisphere(), gfx.Vec3(1,1,1))\n",
    "        color_image, positions, normals = gfx.render_heterogeneous(camera, sphere, light, brdfs, material_mask, width, height)\n",
    "        # positions/normals are the same for any image. Variables live outside the loop in Python\n",
    "        light_with_color_images.append((light, color_image))\n",
    "    return camera, positions, normals, light_with_color_images\n",
    "\n",
    "# Take a couple of pictures with our virtual camera\n",
    "camera, positions, normals, light_with_color_images = take_virtual_pictures()\n",
    "kd = gfx.render_heterogeneous_kd(camera, sphere, brdfs, material_mask, width, height)\n",
    "kd_estimate = estimate_kd_per_pixel(camera, positions, normals, light_with_color_images)\n",
    "print(f\"Error: {helpers.SSD_per_pixel(kd, kd_estimate)}\")"
   ]
  },
  {
   "cell_type": "markdown",
   "metadata": {
    "deletable": false,
    "editable": false,
    "nbgrader": {
     "cell_type": "markdown",
     "checksum": "d6f22f2309b2597b3c9fd4a74af3fcf4",
     "grade": false,
     "grade_id": "cell-71b709de049a49b6",
     "locked": true,
     "schema_version": 3,
     "solution": false,
     "task": false
    }
   },
   "source": [
    "## Grouping similar pixels\n",
    "We now have a map containing the (estimated) diffuse parameter $k_d$ for each pixel. Our goal is to assign to each pixel a number to indicate to which of the two materials (purple/green) it belongs. An effective and (relatively) simple algorithm to do so is k-means. K-means is a clustering algorithm: given a collection of points, it tries to create $n$ clusters.\n",
    "\n",
    "It works as follows:\n",
    "* Initialize the cluster centers to random input points\n",
    "* Loop\n",
    " * Assign samples to the nearest cluster center\n",
    " * Compute new cluster centers as the mean of the samples belonging to each cluster\n",
    "\n",
    "The random initalization may sometimes lead to the algorithm getting stuck in a suboptimal solution. Therefor is is common to repeat the process multiple times and to take the best result. We provide a `kmeans(samples, num_clusters)` implementation so you don't need to use `cv2.kmeans`."
   ]
  },
  {
   "cell_type": "code",
   "execution_count": null,
   "metadata": {
    "deletable": false,
    "editable": false,
    "nbgrader": {
     "cell_type": "code",
     "checksum": "2f139a1c652bd3f5edee1d620e49d593",
     "grade": false,
     "grade_id": "cell-0304ca1fedb78845",
     "locked": true,
     "schema_version": 3,
     "solution": false,
     "task": false
    }
   },
   "outputs": [],
   "source": [
    "def kmeans(samples, num_clusters, max_iterations = 20, num_attempts = 50):\n",
    "    best_SSD = None\n",
    "    best_clusters = None\n",
    "    best_centers = None\n",
    "    \n",
    "    for _ in range(num_attempts):\n",
    "        # Initialize centers to random samples\n",
    "        indices = np.random.permutation(np.arange(len(samples)))[:num_clusters]\n",
    "        centers = samples[indices]\n",
    "        \n",
    "        for _ in range(max_iterations):\n",
    "            dists = np.zeros((len(samples), num_clusters))\n",
    "            for i, center in enumerate(centers):\n",
    "                dists[:, i] = np.linalg.norm(samples - centers[i], axis=1)\n",
    "\n",
    "            clusters = np.argmin(dists, axis=1)\n",
    "            for i in range(num_clusters):\n",
    "                centers[i] = np.mean(np.compress(clusters == i, samples, axis=0), axis=0)\n",
    "               \n",
    "            my_SSD = 0\n",
    "            for i in range(num_clusters):\n",
    "                vecs_to_cluster_center = np.compress(clusters == i, samples, axis=0) - centers[i]\n",
    "                dists_to_cluster_center = np.linalg.norm(vecs_to_cluster_center, axis=1)\n",
    "                my_SSD += np.sum(dists_to_cluster_center**2)\n",
    "\n",
    "            if not best_SSD or my_SSD < best_SSD:\n",
    "                best_SSD = my_SSD\n",
    "                best_clusters = clusters\n",
    "                best_centers = centers\n",
    "    \n",
    "    return best_clusters, best_centers\n",
    "\n",
    "np.random.seed(890329)\n",
    "samples1 = np.random.normal((2,3), 0.4, (100,2))\n",
    "samples2 = np.random.normal((-1,2), 0.3, (100,2))\n",
    "samples3 = np.random.normal((0,-1), 0.4, (100,2))\n",
    "samples = np.vstack([samples1, samples2, samples3])\n",
    "np.random.shuffle(samples)\n",
    "\n",
    "labels, centers = kmeans(samples, 3, 20, 10)\n",
    "\n",
    "labels_reference = np.load(os.path.join(helpers.dataset_folder, \"week5\", \"kmeans_example_labels.npy\"))\n",
    "centers_reference = np.load(os.path.join(helpers.dataset_folder, \"week5\", \"kmeans_example_centers.npy\"))\n",
    "\n",
    "def plot_axis(ax, labels, centers):\n",
    "    ax.set_title(\"K-means clustering\")\n",
    "    ax.axis(\"equal\")\n",
    "    for i in range(3):\n",
    "        ax.scatter(samples[labels==i,0], samples[labels==i,1], label=f\"Cluster {i} samples\")\n",
    "    ax.scatter(centers[:,0], centers[:,1], label=\"K-means centers\")\n",
    "    ax.legend()\n",
    "\n",
    "fig, (ax1, ax2) = plt.subplots(1, 2, figsize=(9.5, 6))\n",
    "plot_axis(ax1, labels, centers)\n",
    "plot_axis(ax2, labels, centers)\n",
    "#fig.show()"
   ]
  },
  {
   "cell_type": "markdown",
   "metadata": {
    "deletable": false,
    "editable": false,
    "nbgrader": {
     "cell_type": "markdown",
     "checksum": "453e4c101405d8caf6ef1f74c1c5c579",
     "grade": false,
     "grade_id": "cell-0b595d09fa49307a",
     "locked": true,
     "schema_version": 3,
     "solution": false,
     "task": false
    }
   },
   "source": [
    "### Exercise 7 (2 points)\n",
    "Implement a function that uses the code from the previous exercise to compute a material map. The material map is an image that assigns a number to each pixel on the screen to specify to which material it belongs to. Make sure the material index always stays in the range of 0 up to (but not including) `num_materials`. Background pixels (where $\\lVert N \\rVert =0$) should be assigned a number equal to or higher than `num_materials` to indicate no valid material could be found."
   ]
  },
  {
   "cell_type": "code",
   "execution_count": null,
   "metadata": {
    "deletable": false,
    "nbgrader": {
     "cell_type": "code",
     "checksum": "3d0bc83e39776efb51f199aa6f30cbca",
     "grade": false,
     "grade_id": "exercise7_code",
     "locked": false,
     "schema_version": 3,
     "solution": true,
     "task": false
    }
   },
   "outputs": [],
   "source": [
    "def group_pixels_by_material(diffuse_image, num_materials):\n",
    "    # YOUR CODE HERE\n",
    "    raise NotImplementedError()\n",
    "    \n",
    "camera = gfx.Camera(gfx.Vec3(0, 0, -5), gfx.Vec3(0, 0, 0), gfx.Vec3(0, 1, 0), 45.0, 1.0)\n",
    "sphere = gfx.Sphere(gfx.Vec3(0, 0, 0), 1.5)\n",
    "#light = DirectionalLight(gfx.Vec3(0,0,1), gfx.Vec3(1, 1, 1))\n",
    "\n",
    "brdf0 = gfx.PhongBRDF(gfx.Vec3(0.6, 0.8, 0.4), gfx.Vec3(0.2, 0.3, 0.15), 6)\n",
    "brdf1 = gfx.PhongBRDF(gfx.Vec3(0.4, 0.2, 0.7), gfx.Vec3(0.8, 0.7, 0.6), 2)\n",
    "brdfs = numba.typed.List()\n",
    "brdfs.extend([brdf0, brdf1])\n",
    "\n",
    "material_mask = helpers.imread_normalized_float_grayscale(os.path.join(helpers.dataset_folder, \"week5\", \"material_mask0.jpg\"))\n",
    "material_mask = (material_mask > 0.5).astype(np.int32)\n",
    "\n",
    "# Ensure we get the same results from k-means each time we execute this code cell.\n",
    "random.seed(53223)\n",
    "np.random.seed(54323)\n",
    "\n",
    "width = height = 128\n",
    "diffuse_image = gfx.render_heterogeneous_kd(camera, sphere, brdfs, material_mask, width, height)\n",
    "%time material_ids = group_pixels_by_material(diffuse_image, 2)\n",
    "\n",
    "helpers.show_images({ \"Material index estimate (your solution)\": material_ids / 2 }, nrows=1, ncols=2)"
   ]
  },
  {
   "cell_type": "markdown",
   "metadata": {
    "deletable": false,
    "editable": false,
    "nbgrader": {
     "cell_type": "markdown",
     "checksum": "590da3c531a251629f823fa43210f1fe",
     "grade": false,
     "grade_id": "cell-329c379f711adf27",
     "locked": true,
     "schema_version": 3,
     "solution": false,
     "task": false
    }
   },
   "source": [
    "### Tests of exercise 7\n",
    "Test your solution by checking whether pixels are correctly grouped."
   ]
  },
  {
   "cell_type": "code",
   "execution_count": null,
   "metadata": {
    "deletable": false,
    "editable": false,
    "nbgrader": {
     "cell_type": "code",
     "checksum": "e5ce3552fa02ca0505c7d628d3f787c3",
     "grade": true,
     "grade_id": "exercise7",
     "locked": true,
     "points": 2,
     "schema_version": 3,
     "solution": false,
     "task": false
    }
   },
   "outputs": [],
   "source": []
  }
 ],
 "metadata": {
  "kernelspec": {
   "display_name": "Python 3 (ipykernel)",
   "language": "python",
   "name": "python3"
  },
  "language_info": {
   "codemirror_mode": {
    "name": "ipython",
    "version": 3
   },
   "file_extension": ".py",
   "mimetype": "text/x-python",
   "name": "python",
   "nbconvert_exporter": "python",
   "pygments_lexer": "ipython3",
   "version": "3.9.7"
  }
 },
 "nbformat": 4,
 "nbformat_minor": 4
}
