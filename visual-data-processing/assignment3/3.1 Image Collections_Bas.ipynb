{
 "cells": [
  {
   "cell_type": "code",
   "execution_count": 1,
   "metadata": {
    "deletable": false,
    "editable": false,
    "nbgrader": {
     "cell_type": "code",
     "checksum": "886147079dfe1253e19e045d365c02d5",
     "grade": false,
     "grade_id": "cell-91ecdd51e335450e",
     "locked": true,
     "schema_version": 3,
     "solution": false
    }
   },
   "outputs": [],
   "source": [
    "%matplotlib widget\n",
    "import itertools\n",
    "import matplotlib.pyplot as plt\n",
    "import numpy as np\n",
    "import cv2\n",
    "import scipy\n",
    "import scipy.linalg\n",
    "import scipy.signal\n",
    "import os\n",
    "# helpers.py is one level up in the directory structure so we need to tell Python were to find it\n",
    "import sys\n",
    "sys.path.append(\"../../\")\n",
    "import helpers\n",
    "local_data_folder = os.path.join(helpers.dataset_folder, \"week3\", \"collections\")\n",
    "\n",
    "%load_ext autoreload\n",
    "%autoreload 2"
   ]
  },
  {
   "cell_type": "markdown",
   "metadata": {
    "deletable": false,
    "editable": false,
    "nbgrader": {
     "cell_type": "markdown",
     "checksum": "f078f78d2c57e3a7efe0d61a0d542858",
     "grade": false,
     "grade_id": "cell-8315cc1f829f08c5",
     "locked": true,
     "schema_version": 3,
     "solution": false
    }
   },
   "source": [
    "# Searching image collections\n",
    "\n",
    "In the previous excercises we have seen how an image can be inpainted without access to additional information. Yet, such an approach is limited in the variety of content it can produce. We can achieve much richer and more constent inpainting by copying existing image content from a similar image. For that we need a source of such images - an image collection. Furthermore, we need a fast and reliable way how to find good matches to our query image.\n",
    "\n",
    "While we could potentially compare images pixel by pixel using the Sum of Squared Distances metric, a more efficient and often more robust approach is to utilize lower-dimensional image descriptors. One of the simplest choices is *GIST*.\n",
    "\n",
    "The name *GIST* refers to the idea of extracting the gist of the image. GIST is a simple fixed-length vector of real numbers that summarizes distribution of contrast (or gradients in the image). It is built by averaging intensity of edges detected in several image regions, at several scales and several orientations.\n",
    "\n",
    "In this assignment, we will compute GIST of an image and then use it to find similar images in a preprocessed image collection.\n",
    "\n",
    "### GIST algorithm\n",
    "There are several ways how to build a GIST descriptor. In this Assignment we apply a sequence of image convolutions (see Assignment 1.1) with differently oriented and sized Gabor filters. The results of each convolution are then split into a fixed-sized grid and averaged to obtain entries for the descriptor. Finally, a low resolution version of the image is appended to the final descriptor to encode the average color distribution."
   ]
  },
  {
   "cell_type": "markdown",
   "metadata": {
    "deletable": false,
    "editable": false,
    "nbgrader": {
     "cell_type": "markdown",
     "checksum": "2e5781c84fb5baecefa841b849c17aba",
     "grade": false,
     "grade_id": "cell-8cf1d83c8ef069f6",
     "locked": true,
     "schema_version": 3,
     "solution": false
    }
   },
   "source": [
    "## Exercise 7 (2 points)\n",
    "\n",
    "The coefficients of the GIST descriptor are composed of image gradients detected at differet scales (representing range of spatial frequencies) and different orientations. \n",
    "\n",
    "We have previously used specialized filters to detect sharp edges (high frequency) with either horizontal or vertical orientation. \n",
    "Gabor filter (or Gabor patches) are a generalization of edge detection that is inspired by processing in human visual cortex.\n",
    "\n",
    "\n",
    "<img src=\"gabor.png\" alt=\"Gabor filter\" style=\"width:20%\">\n",
    "\n",
    "\n",
    "A Gabor filter $f(x,y)$ is a product of a symmetrical bi-variate Gaussian filter\n",
    "$$\n",
    "g(x,y) = e^{-\\frac{1}{2}\\frac{x^2+y^2}{\\sigma^2}}\n",
    "$$\n",
    "and a sinusoidal corrugation\n",
    "$$\n",
    "s(x,y) = \\sin\\left((x \\cos(\\alpha) - y \\sin(\\alpha)) \\cdot f\\right)\n",
    "$$\n",
    "with parameters\n",
    "- $\\sigma$ as a standard deviation controlling the width of the filter,\n",
    "- $\\alpha$ as an angle (in radians) controlling the orientation of the filter (and detected gradients)\n",
    "- $f$ as a spatial frequency controling the sensitivity of the filter to sharp or smooth gradients.\n",
    "\n",
    "Finally, the entire Gabor filter is\n",
    "$$\n",
    "f(x,y) = g(x,y) \\cdot s(x,y) \\cdot \\left( \\sum_{x,y} g(x,y) \\right)^{-1}\n",
    "$$\n",
    "where the denominator on the right normalizes the sum of the Gaussian component to one. \n",
    "\n",
    "This normalization ensures that the response of the filter stays normalized regardless of the discretization to fixed-resolution pixel grid of size $s$.\n",
    "\n",
    "\n",
    "### Task\n",
    "Implement a method that returns `size` $\\times$ `size` kernel of the Gabor filter as defined above.\n",
    "The domain of the spatial variables $x$, $y$ covers the range $[-1, 1]$, that is $(x,y)\\in[-1,1]\\times[-1,1]$.\n",
    "\n",
    "### Tips\n",
    "Try how the filter changes for different choices of $\\sigma$, $\\alpha$ and $f$."
   ]
  },
  {
   "cell_type": "code",
   "execution_count": 77,
   "metadata": {
    "deletable": false,
    "nbgrader": {
     "cell_type": "code",
     "checksum": "b7ccb05906556b6ef95f7b3cfd58d175",
     "grade": false,
     "grade_id": "exercise7_code",
     "locked": false,
     "schema_version": 3,
     "solution": true
    }
   },
   "outputs": [
    {
     "data": {
      "application/vnd.jupyter.widget-view+json": {
       "model_id": "871a70cbdd2c4360877d8e8c1263df29",
       "version_major": 2,
       "version_minor": 0
      },
      "text/html": [
       "\n",
       "            <div style=\"display: inline-block;\">\n",
       "                <div class=\"jupyter-widgets widget-label\" style=\"text-align: center;\">\n",
       "                    Figure\n",
       "                </div>\n",
       "                <img src='data:image/png;base64,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' width=950.0/>\n",
       "            </div>\n",
       "        "
      ],
      "text/plain": [
       "Canvas(toolbar=Toolbar(toolitems=[('Home', 'Reset original view', 'home', 'home'), ('Back', 'Back to previous …"
      ]
     },
     "metadata": {},
     "output_type": "display_data"
    }
   ],
   "source": [
    "def build_gabor_filter(size, sigma, f, alpha):\n",
    "    gabor_filter = np.zeros((size,size))\n",
    "    g_tot = 0\n",
    "    for row in range(size):\n",
    "        for col in range(size):\n",
    "            x = col/size*2-1\n",
    "            y = row/size*2-1\n",
    "            g = np.exp(-1/2*(x**2+y**2)/sigma**2)\n",
    "            s = np.sin((x*np.cos(alpha) - y*np.sin(alpha))*f)\n",
    "            g_tot += g\n",
    "            gabor_filter[row,col] = g*s\n",
    "    gabor_filter = gabor_filter/g_tot\n",
    "    return gabor_filter\n",
    "    \n",
    "gabor_filter = build_gabor_filter(35, 1.0/3.2, 8, np.radians(60))\n",
    "    \n",
    "helpers.show_images({\n",
    "    'Output kernel': gabor_filter / gabor_filter.max() * 0.5 + 0.5,\n",
    "    'Reference kernel': helpers.imread_normalized_float_grayscale(os.path.join(local_data_folder, 'gabor1.png')),\n",
    "}, nrows=1, ncols=2)        "
   ]
  },
  {
   "cell_type": "markdown",
   "metadata": {
    "deletable": false,
    "editable": false,
    "nbgrader": {
     "cell_type": "markdown",
     "checksum": "3d12018a7bd5b63d4e43a3214a8d7fae",
     "grade": false,
     "grade_id": "cell-e2d33184b6732da9",
     "locked": true,
     "schema_version": 3,
     "solution": false,
     "task": false
    }
   },
   "source": [
    "### Testing your solution of exercise 7\n",
    "Make sure that your solution matches the references kernel."
   ]
  },
  {
   "cell_type": "code",
   "execution_count": null,
   "metadata": {
    "deletable": false,
    "editable": false,
    "nbgrader": {
     "cell_type": "code",
     "checksum": "7a11be321fcc62b8e7329caee3dd96ea",
     "grade": true,
     "grade_id": "exercise7a",
     "locked": true,
     "points": 1,
     "schema_version": 3,
     "solution": false,
     "task": false
    }
   },
   "outputs": [],
   "source": []
  },
  {
   "cell_type": "code",
   "execution_count": null,
   "metadata": {
    "deletable": false,
    "editable": false,
    "nbgrader": {
     "cell_type": "code",
     "checksum": "1e299e54221c473bfc3563d966d33a0a",
     "grade": true,
     "grade_id": "exercise7b",
     "locked": true,
     "points": 1,
     "schema_version": 3,
     "solution": false,
     "task": false
    }
   },
   "outputs": [],
   "source": []
  },
  {
   "cell_type": "markdown",
   "metadata": {
    "deletable": false,
    "editable": false,
    "nbgrader": {
     "cell_type": "markdown",
     "checksum": "7eb727f4452ece297c2b1081b21bb661",
     "grade": false,
     "grade_id": "cell-2602ee05bb637eed",
     "locked": true,
     "schema_version": 3,
     "solution": false,
     "task": false
    }
   },
   "source": [
    "## Exercise 8 (4 points)\n",
    "\n",
    "The next step is to apply the filter $f(x,y)$ to a grayscale image $I(x,y)\\in\\mathcal{R}^{H\\times W}$ using convolution. The Gabor filter response $r(x,y) = I(x,y) * f(x,y)$ has a sign that depends on the mutual orientation of the filter and the gradient. In this excercise the sign does not matter and therefore we return absolute value of the response $r_a(x,y) = |r(x,y)|$.\n",
    "\n",
    "The filter response is expected to have the same resolution as the input image. However, we need the GIST descriptor to be relatively small. Therefore, we bin the response values into a `grid_size` $\\times$ `grid_size` 2D histogram $H(i,j)$ where each bin contains mean of $r_a(x,y)$ for the pixels that are covered by that bin.\n",
    "\n",
    "### Task\n",
    "First, implement a method that for a given grayscale image returns an absolute Gabor filter response.\n",
    "Second, implement a method that bins this response into a 2D histogram as defined above.\n",
    "\n",
    "### Tips\n",
    "- You can assume that the image size is divisible by the `grid_size`.\n",
    "- You are allowed to use `scipy.signal.convolve2d(image, kernel, mode=\"same\")`\n",
    "- Exlore how the response of the filter changes for different parameters."
   ]
  },
  {
   "cell_type": "code",
   "execution_count": 145,
   "metadata": {
    "deletable": false,
    "nbgrader": {
     "cell_type": "code",
     "checksum": "ef897548772418a8a3b9b0e356630477",
     "grade": false,
     "grade_id": "exercise8_code",
     "locked": false,
     "schema_version": 3,
     "solution": true,
     "task": false
    }
   },
   "outputs": [
    {
     "data": {
      "application/vnd.jupyter.widget-view+json": {
       "model_id": "45924e25edaf412eb3193b53faf53158",
       "version_major": 2,
       "version_minor": 0
      },
      "text/html": [
       "\n",
       "            <div style=\"display: inline-block;\">\n",
       "                <div class=\"jupyter-widgets widget-label\" style=\"text-align: center;\">\n",
       "                    Figure\n",
       "                </div>\n",
       "                <img src='data:image/png;base64,iVBORw0KGgoAAAANSUhEUgAAA7YAAAEsCAYAAAD3mC+UAAAAOXRFWHRTb2Z0d2FyZQBNYXRwbG90bGliIHZlcnNpb24zLjQuMywgaHR0cHM6Ly9tYXRwbG90bGliLm9yZy/MnkTPAAAACXBIWXMAAA9hAAAPYQGoP6dpAAC40klEQVR4nOydd3gc5dX2762zvag3S7bcuw0Gg40rmGpTEzo23RiSvPASCCGhQxJIeQkEm+KKAUMgVFODO902uFfZkixbXSutttf5/tD3PMyOdteSLGkl6/yuS5etmdmZM7O72r3nnHMfhSiKIgiCIAiCIAiCIAiil6JMdQAEQRAEQRAEQRAEcSKQsCUIgiAIgiAIgiB6NSRsCYIgCIIgCIIgiF4NCVuCIAiCIAiCIAiiV0PCliAIgiAIgiAIgujVkLAlCIIgCIIgCIIgejUkbAmCIAiCIAiCIIheDQlbgiAIgiAIgiAIoldDwpYgCIIgCIIgCILo1ZCwJQiCIAiCIAiCIHo1JGwJgiAIgiAIgiCIXg0JW4IgCIIgCIIgCKJXQ8KWIAiCIAiCIAiC6NWQsCUIgiAIgiAIgiB6NSRsCYIgCIIgCIIgiF4NCVuCIAiCIAiCIAiiV0PCliAIgiAIgiAIgujVkLAlCIIgCIIgCIIgejUkbAmCIAiCIAiCIIheDQnbdrB8+XIoFAps2bIl1aFw/vSnP+H9999v8/YKhQK/+tWvui4ggugFzJ49GzabDRUVFa3WORwO5ObmYvLkyYhGoymIroXp06dDoVDE/dm1axceffRRKBSKVo+ZPn06/93r9eLRRx/F+vXruzd4ok/SG99XOp0OI0aMwJNPPolgMJiyuAiiJ9Ib39MajQb9+/fHLbfcgvLy8pht2ff4srKy1ATbRuJ9vhNtg4RtL6e9wpYgCGDx4sVQq9W49dZbW6371a9+BZfLhRUrVkCpTO2fyOLiYnz77betfgYOHIhbb70V3377bdLHe71ePPbYYyRsiW6hN76v3n77bQwePBgPPfQQ3fQlCBm98T29Zs0a3H///Vi9ejWmTJkCr9fLt7vooovw7bffIjc3N4XREl2JOtUBEARBdDc5OTlYuHAhrrrqKrz00kuYP38+AOC9997DqlWrsHDhQgwaNKhLYxBFEX6/H3q9PuE2er0eZ5xxRtx1BQUFKCgo6KrwkhIKhaBQKKBW00cI8TO99X11wQUXYMSIEVixYgWee+456HS6Lo2RIHoLvfU9PXXqVOh0Otxyyy346quvcO655wIAMjMzkZmZ2aXxEqmFMrYnyI033giTyYSSkhJceOGFMJlM6NevH+69914EAgG+XVlZGRQKBZ555hk89dRTKCwshE6nw4QJE7BmzZpW++zfv3+rY8lLExQKBTweD1asWMFLMKRliG1h/fr1UCgUeOONN/C73/0Oubm5MJlMmDNnDmpqauByuXD77bcjIyMDGRkZuOmmm+B2u2P28cILL2Dq1KnIysqC0WjE6NGj8cwzzyAUCsVsJ4oi/vSnP6GoqIif+3//+99W5ZMA0NzcjN/+9rcYMGAAtFot8vPzcffdd8Pj8bTr/AgiEVdeeSWuvvpq/Pa3v0VZWRkaGhpwxx13YNasWViwYAE+/PBDnHnmmTAYDDCbzZg1a1arDGlb36vAz20AL774IoYPHw5BELBixYoOx3+8UqWysjL+Af7YY4/xvxE33ngj3+bgwYO49tprkZWVBUEQMHz4cLzwwgsx+2F/I1auXIl7770X+fn5EAQBJSUlHY6dOHnpje8rtVqNcePGIRgMoqmpiS8XRRELFy7EuHHjoNfrYbfb8Ytf/AKHDx+OefxPP/2E2bNn8/dRXl4eLrroIhw9erRVnC+99BKGDBkCQRAwYsQIvPnmm63i2bVrFy655BLY7XbodDqMGzeu1Tmx9+WqVavwhz/8AXl5ebBYLDjnnHOwf//+dsfX1nMl+h698T0NAFarFQCg0Wj4snilyNOnT8eoUaOwefNmTJkyBQaDAcXFxfjLX/4SU2LdnvccAHz55Zc4++yzYbFYYDAYMHny5Fbf9wHg448/xrhx4yAIAgYMGIC//e1v7T5X4mfodnsnEAqFcPHFF+OWW27Bvffei40bN+KJJ56A1WrFww8/HLPtv/71LxQVFeHZZ59FNBrFM888gwsuuAAbNmzAmWee2a7jfvvtt5g5cyZmzJiBhx56CABgsVg6dA4PPvggZsyYgeXLl6OsrAy//e1vcc0110CtVmPs2LFYtWoVfvrpJzz44IMwm8147rnn+GMPHTqEa6+9lovQ7du346mnnsK+ffuwdOlSvt0f/vAH/PnPf8btt9+Oyy+/HBUVFbj11lsRCoUwZMgQvp3X68W0adNw9OhRPPjggxgzZgx2796Nhx9+GDt37sSXX35JvQdEp/DCCy9gw4YNuPnmm5GZmYlgMIilS5fijTfewHXXXYdzzz0Xq1atQiAQwDPPPIPp06djzZo1OOusszp0vPfffx+bNm3Cww8/jJycHGRlZR33MeFwOOZ3pVLZprKv3NxcfPbZZzj//PNxyy238FIyJnb37NmDSZMmobCwEH//+9+Rk5ODzz//HL/5zW9QX1+PRx55JGZ/v//973HmmWfixRdfhFKpbFPsRN+kN7yv5JSWlsJms8Vkc+bPn4/ly5fjN7/5DZ5++mk4HA48/vjjmDRpErZv347s7Gx4PB7MmjULAwYMwAsvvIDs7GxUV1dj3bp1cLlcMcf48MMPsW7dOjz++OMwGo1YuHAh/5z9xS9+AQDYv38/Jk2ahKysLDz33HNIT0/Ha6+9hhtvvBE1NTW4//77Y/b54IMPYvLkyVi8eDGam5vxu9/9DnPmzMHevXuhUqnaHF9bzpXou/SG9zT7rAwGg9i1axcef/xxFBcXY9KkScd9bHV1Na677jrce++9eOSRR/Dee+/h97//PfLy8jB37tyYbY/3ngOA1157DXPnzsUll1yCFStWQKPR4KWXXsJ5552Hzz//HGeffTYAYM2aNbjkkktw5pln4s0330QkEsEzzzyDmpqa9l4ygiESbWbZsmUiAHHz5s182bx580QA4r///e+YbS+88EJx6NCh/PfS0lIRgJiXlyf6fD6+vLm5WUxLSxPPOeecmH0WFRW1Ov4jjzwiyp8yo9Eozps3r83nAEC86667+O/r1q0TAYhz5syJ2e7uu+8WAYi/+c1vYpZfeumlYlpaWsL9RyIRMRQKia+++qqoUqlEh8MhiqIoOhwOURAE8aqrrorZ/ttvvxUBiNOmTePL/vznP4tKpTLmOouiKL7zzjsiAPGTTz5p8/kSxPH45JNPRAAiAHHlypViJBIR8/LyxNGjR4uRSIRv53K5xKysLHHSpEl8WXveqwBEq9XK3xPHY9q0aTwu6c91112X8BjTpk2LeS/V1dWJAMRHHnmk1f7PO+88saCgQHQ6nTHLf/WrX4k6nY7Hyf5GTJ06tU1xE4Qo9uz31ciRI8VQKCSGQiGxqqpKfPjhh0UA4osvvsi3Y59Nf//732MeX1FRIer1evH+++8XRVEUt2zZIgIQ33///aTHBSDq9XqxurqaLwuHw+KwYcPEQYMG8WVXX321KAiCeOTIkZjHX3DBBaLBYBCbmppEUfz5fXnhhRfGbPfvf/9bBCB+++23bY6vredK9G168ns63mflkCFDxL1798Zsy77Hl5aWtnr8999/H7PtiBEjxPPOO4//3tb3nMfjEdPS0lp9r45EIuLYsWPF008/nS+bOHFiQl1AEq1jUClyJ6BQKDBnzpyYZWPGjGnlxgYAl19+eUz/jtlsxpw5c7Bx40ZEIpEujzURs2fPjvl9+PDhAFoa7eXLHQ5HTDnyTz/9hIsvvhjp6elQqVTQaDSYO3cuIpEIDhw4AAD47rvvEAgEcOWVV8bs74wzzmhVnrJ69WqMGjUK48aNQzgc5j/nnXceFAoFGeEQncoFF1yAM844A4MHD8b111+P/fv3o7KyEjfccENMZtRkMuGKK67Ad999F2NG0R5mzpwJu93e5u0HDhyIzZs3x/w88cQTHTq2FL/fjzVr1uCyyy6DwWCIeZ9deOGF8Pv9+O6772Iec8UVV5zwcYm+Q09+X+3evRsajQYajQa5ubl4/PHH8fvf/573DwItn0MKhQLXX399zPsjJycHY8eO5Z9DgwYNgt1ux+9+9zu8+OKL2LNnT8Ljnn322TGZT5VKhauuugolJSW8LHjt2rU4++yz0a9fv5jH3njjjfB6va1KPC+++OKY38eMGQMA/PtHW+Jr67kSfZue/J6WflZ+++23eOONN6DX63H22Wfj4MGDx318Tk4OTj/99Jhlib7HH+89980338DhcGDevHkx76doNIrzzz8fmzdvhsfjgcfjwebNmxPqAqJjUClyJ2AwGFqZTQiCAL/f32rbnJycuMuCwSDcbjfvCehu0tLSYn7XarVJl/v9fphMJhw5cgRTpkzB0KFD8c9//hP9+/eHTqfDDz/8gLvuugs+nw8A0NDQAABxy5nky2pqalBSUhLTFyGlvr6+A2dIEIkRBIG/ttlrNZ5rYl5eHqLRKBobG2EwGNp9nPY6MbJe9M6moaEB4XAYzz//PJ5//vm428jfZ+QiSbSXnvq+GjhwIN58802Ioojy8nI8+eST+POf/4wxY8bg6quvBtDyOSSKYsIS3OLiYgAtfXwbNmzAU089hQcffBCNjY3Izc3Fbbfdhj/+8Y8xn2OJPv+BlutTUFCAhoaGhNeIbSclPT095ndBEACAf/a2Jb62nitB9NT3tPyz8owzzsD06dORn5+Phx9+GKtWrUr6ePn7CGg5V/Y+Srat/D3HyohZe0E8HA4HFAoFotFo0r8LRPshYdvNVFdXx12m1WphMpkAtLxBpcZTjJ4o6N5//314PB68++67KCoq4su3bdsWsx37QxCvb6C6ujoma5uRkQG9Xh/TnyslIyPjxAMniASw12pVVVWrdZWVlVAqlfxOcnvfqz2lN9xut0OlUuGGG27AXXfdFXebAQMGxPzeU2Ineic96X0l/RJ82mmnYcaMGRg5ciTuvvtuzJ49GyaTCRkZGVAoFNi0aRP/4ipFumz06NFcKO/YsQPLly/H448/Dr1ejwceeIBvl+jzH/j5+qSnpye8RkDHPv+OF197zpUgGD3pPR2P3NxcZGRkYPv27Se8r/bA3qPPP/98wqkG2dnZfLpAsr8LRPuhUuRu5t13343J5LpcLnz00UeYMmUKbzrv378/amtrY0RgMBjE559/3mp/ie4odRfsj4/0g08URbzyyisx202cOBGCIOCtt96KWf7dd9+1KvWYPXs2Dh06hPT0dEyYMKHVTzxnPYLoLIYOHYr8/Hy88cYbEEWRL/d4PPjPf/7D3R+B9r1XU4H8TjLDYDBgxowZ+OmnnzBmzJi477N4d7AJoqP05PdVeno6/vKXv6CmpoZXMMyePRuiKOLYsWNx3x+jR49utR+FQoGxY8fi//7v/2Cz2fDjjz/GrF+zZk3MOUUiEbz11lsYOHAgH9119tlnY+3atVzIMl599VUYDIaEX5TbQqL4OnKuBNGT39MAcPToUdTX13e70eHkyZNhs9mwZ8+euO+nCRMmQKvVwmg04vTTT0+oC4iOQRnbbkalUmHWrFn43//9X0SjUTz99NNobm7GY489xre56qqr8PDDD+Pqq6/GfffdB7/fj+eeey5uD+7o0aOxfv16fPTRR8jNzYXZbMbQoUO77XxmzZoFrVaLa665Bvfffz/8fj8WLVqExsbGmO3S0tLwv//7v/jzn/8Mu92Oyy67DEePHsVjjz2G3NzcmP6Mu+++G//5z38wdepU3HPPPRgzZgyi0SiOHDmCL774Avfeey8mTpzYbedI9C2USiWeeeYZXHfddZg9ezbmz5+PQCCAv/71r2hqasJf/vIXvm173qupwGw2o6ioCB988AHOPvtspKWlISMjA/3798c///lPnHXWWZgyZQoWLFiA/v37w+VyoaSkBB999BHWrl2b6vCJk4ie/r6aO3cu/vGPf+Bvf/sb7rrrLkyePBm33347brrpJmzZsgVTp06F0WhEVVUVvvrqK4wePRoLFizA6tWrsXDhQlx66aUoLi6GKIp499130dTUhFmzZsUcIyMjAzNnzsRDDz3EXZH37dsXM/LnkUcewerVqzFjxgw8/PDDSEtLw+uvv46PP/4YzzzzTLvbldoSX1vPlSCk9KT3tM/n474QkUgEpaWleOaZZwC0fKfsTkwmE55//nnMmzcPDocDv/jFL5CVlYW6ujps374ddXV1WLRoEQDgiSeewPnnn49Zs2bh3nvvRSQSwdNPPw2j0QiHw9GtcZ80pMSyqpeSyBXZaDS22lbu9MZckZ9++mnxscceEwsKCkStViuOHz9e/Pzzz1s9/pNPPhHHjRsn6vV6sbi4WPzXv/4V1z1u27Zt4uTJk0WDwdDKXTgeSOCK/Pbbbx/3XKXnVVdXx5d99NFH4tixY0WdTifm5+eL9913n/jpp5+KAMR169bx7aLRqPjkk0/ycx8zZoy4evVqcezYseJll10Wcxy32y3+8Y9/FIcOHSpqtVrRarWKo0ePFu+5554YV0mC6AyYU6qU999/X5w4caKo0+lEo9Eonn322eLXX3/d6rFtfa/K33sdiUlKW1yRRVEUv/zyS3H8+PGiIAgigBgX9dLSUvHmm28W8/PzRY1GI2ZmZoqTJk0Sn3zySb5Nor8RBHE8etv76uOPPxYBiI899hhftnTpUnHixImi0WgU9Xq9OHDgQHHu3Lnili1bRFEUxX379onXXHONOHDgQFGv14tWq1U8/fTTxeXLl8eNc+HCheLAgQNFjUYjDhs2THz99ddbxbFz505xzpw5otVqFbVarTh27Fhx2bJlMdskel+y7xps+7bG15ZzJYie+p6GxA1ZqVSKeXl54gUXXCCuX78+ZttErsjx/ibInZzb+p5jbNiwQbzooovEtLQ0UaPRiPn5+eJFF13U6vEffvihOGbMGFGr1YqFhYXiX/7yl7jXhWgbClGU1A8QXUZZWRkGDBiAv/71r/jtb3+b6nB6DKWlpRg2bBgeeeQRPPjgg6kOhyAIgiA6HYVCgbvuugv/+te/Uh0KQRDESQuVIhPdxvbt27Fq1SpMmjQJFosF+/fvxzPPPAOLxYJbbrkl1eERBEEQBEEQBNFLIWFLdBtGoxFbtmzBkiVL0NTUBKvViunTp+Opp55KOGaAIAiCIAiCIAjieFApMkEQBEEQBEEQBNGroXE/BEEQBEEQBEEQRK+GhC1BEARBEARBEATRqyFhSxAEQRAEQRAEQfRqSNgSBEEQBEEQBEEQvRoStgRBEARBEARBEESv5oTG/SgUis6KgyCIJJyIefmjjz7aeYH0YXqKgTz93e25nMh7jZ5XgugeOvq3/M477+zkSHoOhYWFqQ6hS/jggw9SHUKX4XQ6Ux1Cl7Fnz54OP5YytgRBEARBEARBEESv5oQytgRBEARB9E2kWeaeUtFAEARB9F1I2BIEQRBEH0Be7nwiYpTtS/qvKIpdJnA7M3aCIAji5ISELUEQBEGc5MiFKPt/W8RoPFEpiiKUSiUUCgVfz5ZL98mO0Znn0J7YCYIgiL4DCVuCIAiCOIloixCVCkNRFBGNRmMeLxWm7N94AlapVPL9snXRaBSRSIRvI13XnnOIt71S+bM1SFcL6bbGRBAEQfQMSNgSBEF0IR35IpzMITfZ/jrqrNudjrwkDLqW4wlRhUIRI3ClolYubqX/lz6O7TMSiSAajUKpVEKlUvF1kUgECoWCr5fup62vX3n88uXx4pCL8c7OFEuvWWfunyAIgugcSNgSBEEQxEmEXIgyMSbNoqpUKqhUKgDg4jQcDscViOz/TMCyrGkkEkEoFEIkEoFarebr1Go1wuEwQqEQ36e8F/d4sccT5tFoFNFoFGq1Gmq1mu9LpVIhHA5zgdvWY3Xkmsr3S+KWIAii50DCliAIgiBOMuRCVKFQIBqNciHKyohVKhUXvUqlMma9XLQpFAqo1WpoNBr+uFAoBJ/Ph2AwGCM4pccNhUKtsq7HE7esxJntg8XIhDIAfiypMA+FQh0Wt/I+ZPk1YHExmNA+kZJrgiAIovMgYUsQBEEQJwlSgcWyp0yIMpHp9/sRCASgUqlaiVS2DRO3bJ9MwCkUCmi1WgiCALVajWg0Cq/Xi+bmZvj9fqjVagiCEHNMAK0EZyKk2WYmlNl+mDAPBAIIhUL83JjglsffHnErLzeOV8bN1rNMNxPb0lLoRCXUBEEQRNdDwpYgCIIgejlSwcgEJBNaGo0GOp0OanXLR77f74fL5YLL5YJKpeICUlq6zISoVNxKy4p1Oh0MBgPUajUCgQB0Oh3q6+vh8/mg0WggCALPbjJhyDK3icRtPBEpFcpKpRKRSAQ+nw8ul6uVkGYZXEZHxK00W8x+Z2ZYLDMsFbesDJqVQkvPj8ymCIIguhcStgRBEATRS0k0T1YqxgBAo9HAaDRCq9UiGo3CZDJBq9WisbERKpUKBoMBWq02RtCFw+EYoRYOhxEIBCAIAkRRhF6vh8lkglKphMVigSAIqKyshNfrjcmmSjO+bJ/xzkFuZMW2U6vVMBgM0Ol0UKlUCAaDMBqNaGhogNfrhUql4uvkGdO2ZInlsbASbSb2WTzBYBChUIhnutVqNe/xZWXc4XC4Q8+j/FowSBgTBEG0nT4lbC0WCwYPHoy0tDT4fD7s378fdXV1qQ6LIAiCIDqMtPRYnrkNBALQaDSIRqPQaDSwWCzQarWw2WwwGAxQqVRoamqCSqWCXq+HRqOJyZiyLKVSqYRWq0UoFILX64Ver0c4HIZOp4PFYoHdbofRaIRKpcLRo0fh8XhgNpuhUqm4mGY/kUgkJnZp/CxjywSiUqmEIAhQKBRcSKtUKqSlpcFoNKK6uho+n4+LW0EQ+LmLoohgMJg0S8yQ99Iy8coELADeT+zz+WLKvKXl0gBixG1b+onjCX1pxp3m9RIEQbSNHi1sLRYLzjzzTAwePBjRaBSbN2/G1q1bY8YHtBWbzYa5c+fizjvvxKBBg9DQ0IBXXnkFf/zjH7sg8hYMBgPOPPNMFBcXY+fOndi8eXPMBzpBEMens0fRdMUXxI7uM9HjOjrSpzeMAuro/uiLfWsSjeSRCtxwOAyPx8MztiqVClarFWq1movcI0eOoLm5GUqlEjqdLkbcMlMpJt6i0Sj8fj+am5thMBhgt9shCAKMRiPMZjN/7NGjR+H1emE0GrkAlLouy8cASQUugx2L9fWazWbodDpYrVYoFApYrVbo9XocOXIEXq+Xi2C5kI6XJZZfP+kxWYxMzDPBD7SUcTudTrhcLn7TQJrZBX7uvW3LcycVsdIbCvEyzz3tPUC9xARB9DR6rLA99dRTcc8992DixIno168fRFHE9u3bMWPGDPh8vnbvb/z48fif//kfFBcXAwAyMzPxy1/+Eu+88w62bdvWqbFPnDgRV111FQoKCjBmzBjk5+dj3759ePTRR/Hxxx936rEIgiAIQiqUpEIUaMk0ulwuqNVqmM1mpKWlwWKxwGq18mxoaWkpPB4PlEplTJktE1hqtRparZaXBbtcLtTV1cFoNMJut8Nms3FhG4lEEAwGUVVVxcUyK+2V9qLK45aOKGIZUNabW1dXx+NPT0+H3W7nWVuVSoXDhw/D7XbHZFK1Wi0vx5YLTbl4lIpL5r7MHqPRaGA2myEIAqLRKMxmM2pra+FwOODz+XhZN9sXE6FtEbfSGKQOy+wGBfCzIRgT3T2BeMIcIJFLEERq6bHC9m9/+xumTJnCP5gB4LTTTsO1116LJUuWtGtfKpUKAwcORFFREQDgs88+w6xZs1BUVIQbbrihU4XtnDlz8Kc//QlDhgyBVqvly0855RQsXLgQ9913H/7973932vEIgiCIvotcnLF/WbaR9bkyw6jKykqYzWbYbDbYbDZotVqIoohAIIDDhw/zLCsTVtJMIitXZuK2oaEBR44cgclkgsVigclkQkZGBsLhMPx+PzweDxwOR4zDsVqtTjhOiMG2Z/EDLZlSJm5NJhMXtqycOhKJoKSkBC6XC2azmQt06XzbRFlb6Q/LjgaDQW68xeb0sj5iu93OjbNqa2uhUqlgNBp5ybf0eMmEqDzDzsSwNFYmbuUl5t2N9PjxMsvS55PELUEQqUJ5/E26F4VCgVtvvRUTJ06EUqnEtm3b8NBDD+HgwYNQKpV4/PHH273PrKwsXHLJJVCpVDh06BDuu+8+hMNhaLVaZGVldVqp3aRJk/DUU09h5MiRUKlU8Pv9qKiowNGjRwEA/fr1w8MPP9zppX1y+vfvj0WLFuHo0aNoaGjAli1bcPHFF3fpMQmCIIjUkahsVavVwmKxIDs7G2lpaWhqakJ5eTnq6+sRDodhNpuRnZ2N/Px8ZGVlwefzwe/3tzJdkmYL9Xo90tPTUVBQALVajYMHD6KiogIulwsajQYZGRnIz89HXl4e9Ho9vF4vdyhWqVQxM27lJcjxhHRaWhry8/Nht9tRXV2NkpIS1NTUIBKJwGazoV+/figuLkZeXh4X1Kw3WHq8eNdMbhbFRhkJgoBwOAyn04nm5mZeKWY2m5Gbm4sBAwZgwIAByMzMhMfjgd/vhyiKMYJc2neb7Hlj/bzSMUrS2bhy5+p459KVyMvc2Q0Ptk56neXnHK/EnCAIoqvocRnbOXPm4LHHHoNOp0N1dTVeeOEFLFu2DGPHjsWgQYNgtVqh0WgQCoXatD+lUonTTjsN5513HsLhMJYuXYrDhw+jrq4OBQUFGD9+PKZMmYKNGzeeUNxarRa//OUvMXToUIiiiOeffx73338/n7W3evVqzJo1C5mZmRg7dmynlz8DLT29Q4YMwRNPPIGLLroIQMuHit1ux+OPP441a9bA4/F0+nEJgiCI1BBPGLK+UtbTyvprzWYztFot6urqcOjQIRgMBuTn58NoNCIzMxONjY1oampCc3MzF1PAzyWygUCA96/qdDrusnzo0CHs378fRqMRgiBw4ZuTk4PGxkZUV1fzflS5OJJm96S/s/gBcNOojIwM1NXV4dixY9BoNNDr9ejfvz8sFgvy8vLQ3NwMl8uF6upqXj7NRJdSqWyVtU0kzqQZ1EAggMbGRiiVSuj1ethsNtjtdphMJt5PHAqF4HQ6eZZYWnYdzyxLfq7SjDYAPmuYPV4uZlnPcHdlRuVl4gBiHLel8bEbIvFm+1ImlyCIrqZHZWx1Oh0uv/xyZGVlweVy4a9//SuWLVuGSCSCmpoabrM/c+bMNu9TEATceeed0Gg02Lt3Lz777DN4vV789a9/RTQaxbBhwzB58uSYkuf2olKpMH36dMyaNQtarRbV1dV44IEHuPgOh8N499134fP5YLVacddddyE9Pb3Dx0vEnXfeif/+97+YPXs2vF4vvv/+e+zbtw+iKKKwsBBz587t9GMSBEEQqUHe5ygVHcFgEH6/H36/n392suym3W7H0aNHUVZWBofDgWg0CqPRiLS0NKSlpQEAAoEAF2TMpTgQCMDr9cLn8yESiUCv1yM7OxsDBgyA0+nEwYMHUVVVBb/fD51Oh7S0NKSnp0On0yEYDPL9ScVtPFEeCoUQCAS4AzGrsMrIyMCgQYNQXFyMiooK7NmzB5WVlQiFQjCZTMjMzER2djYMBgN/nPR48cpp5WW1TGQKgsDFtMViQXNzMyoqKlBTUwO/38/PvaioCIWFhRAEAW63G6FQKEaoyo8rPY48O82MqkwmE78JEYlEYq6bXHx3F/Eyy0zYs55g1tscz1CL7YMgCKIr6VHCdvjw4RgxYgTUajU2btyI5557jv9B/+STT1BfXw+tVou77rqrzftUq9U466yzAABr1qzBgQMHAAArV67EoUOHoFKpcPrppyMvL6/DcRcUFGDBggUYPnw46uvr8cQTTyAQCMRs85///Ac//vgjtFotLr30Ulx22WUdPl4i7rnnHqSnp8PlcuGtt97CDTfcgF/96lcIBAKw2WyYNm1apx+TIAiCSB3xsmksY8v6apmDr1qtRlpaGoqKiqDValFSUoKjR4/C5XJBqVTCaDTCarXCZDJxYcuEFxsd5PF40NzcDLfbjXA4DL1ej9zcXOTl5aG6uhplZWVobGyEKIowGo3cVIrFBMQKTXnGWdqbytyXm5ub4ff7oVarkZmZicGDB6OgoACHDx/GgQMHUFdXx02d0tLSYLPZeJ+sNCsqF1ZMlEnLt6VCUxAEWCwW5OTkICsrC263GwcPHkRlZSV8Ph/0ej2ysrJQUFCAnJwcHjPLWjIBKj1XFgtbx4yqWGZW6jDNXKvZfFyW/Yy3z656XUkzrUy86nQ6GAwG3lfMsrNS4SsVt5SpJQiiu+hRwnb06NHctXjVqlUx5TsbNmxAU1MTlEolBg0a1OZ9Wq1WGI1GAEBNTQ3cbjcAwOPxYPny5QCA6dOn8+O2F0EQcO211+Lcc89FNBrFyy+/jJUrV7barqGhAQ888ABEUUR6ejqGDx/eoeMlgt3hVSgU+Omnn/D444+jpKQE69atg9/vB9DSG2S1Wjv1uECLg/VvfvMbDBkypNP3TfQN5AYuicZ/dMY+pdki+U+yODoao/TLs/xHOpKkrT8sgxPvpyP7k36hb+9Pd9IVr5GTgXivaenyQCDAy4v9fj80Gg3S09NRVFQEn8+HI0eOoKGhAcFgEFqtFkajkX9mhkKhGGHLZtg6nU40NjbC5XIhEonAZDIhNzcXOp0O5eXlqK6uhtfr5S7GbLxQKBTi5avJnkPpDNlAIICGhgY0NjbC6/VCpVIhIyMDAwcOhNFoxN69e3l/r1Kp5EZWgiDwLHE88S81ipK+d9h7iYlwrVYLq9WK/Px85Ofnw+12Y//+/aiqqkIgEIDBYEBmZiZycnJgtVoRCAQQCoViypvlBl/SzLBKpUI4HEYoFOKjlZi4tVgsXNwGg8GE4rYrXlPxjK1EUeSCnz2vNpsNgiDw55ZlntnYJam4JYFLEERX02OErdVqxSmnnAK73Y7a2lp8+eWXMes9Hg98Ph9EUYRWq21zhnXevHkAgObmZjgcDr48GAxi7dq1CIVCsNlsGDRoEHdfbA8mkwm33norDAYDNm3ahJUrVybsY928eTOAn79wdCZXXXUV/xKwY8cOlJeXA2j5MrJp0yYAwNChQzF58uROPe6pp56KxYsX45FHHsGNN97YqfsmCIIgjo9URDEhwgSSTqeDz+dDQ0MDnE4ngsEgdDodMjIykJmZiYqKCtTW1sLr9UKhUPBsHBMrUjHCsqAulwuNjY1obGzkn3dWqxUZGRnwer04duwYnE4notEoF2kGgyGmrFYuauXCj5UD63Q6eL1e1NbWor6+no/0YeZV4XAY5eXlaGhoQCgU4uJcr9cDQMLjsWVSccsEZiAQQCAQ4GXcarUaNpsNhYWFKCgoQF1dHUpKSlBfX49IJBJTxq1WqxEIBHjWNl52VSpsWd+x9HhAi6A2GAwxZckscyu9OSD9t6teU6z3Vzr+iGXjMzIyeLm5z+fjmWdp5rYtJloEQRCdQY8Rtv369cPpp58OpVKJTz75BE6ns9U2a9euRTgcRmZmJq655prj7jMrKwv/8z//A1EUsW3btlYGUdXV1di6dSsAYO7cubDb7e2Oe8qUKejfvz+am5vx6quvYv/+/Qm3FUWROytKP3hPFLvdjjvuuAOCIKC2tharVq2KWc/6iQcMGIALL7yw07K2SqUSzz77LMaMGQO73Y6MjIxO2S9BEATRduQihN04Za7CBoMBDocDDoeDZ1mNRiMyMjKgUChQW1uL5uZmRCIR3ucp7++UltECgNvthsPhQFNTEy8TttvtUCqVqKmpQUNDA/x+f0wMrFdXaigUDyamWdmrTqeDw+FAbW0tGhoa4PP5oFarkZ6eDqPRiMrKSr5coVBwQcxKfaXHi3dcJmxDoRAXtl6vF263G263G4FAgPcoFxYWIj09HSUlJTGZYovFApvNBr1ez69bssyqtGdVEASIogiv18sdlln2k91oYGONWGZXPge4K5COXRIEAZFIhIt2jUYDi8WCjIwMXqqt1Wq5A7ZUuLPMNIlbgiC6mh4jbHNzczFmzBgAwKeffhrX9XjRokVobGyE2WzGxRdfjAEDBiTcn1KpxN133w273Q63243PPvsM+/bti9mmuroab7/9NkKhEKZMmYIRI0a0K+a0tDTcfPPNUCqV2Lt3L3bu3Jm01CYajWLt2rUAgGHDhrWrpDoRKpUK11xzDYqLixGNRvHll1/im2++idlm8+bNeP/996FUKnH++edj5MiRJ3xchUKBa665BqNGjQIAHDx4EKtXrz7h/XYlGo0GQ4YMwZAhQ2AymVIdDkEQRKfBhBITt0xEaDQaGAwGLg6ZEFUqlTCbzTCbzWhoaIDL5eImUzqdDnq9ns+HZcKQHYf1VTY3N6OxsRFut5ubSdntdng8HtTX18Pj8fAqK51Ox8VRvJmyidyRWTwajQYNDQ2or6+H0+lEKBSCIAi8n9bhcMDr9UIURWg0Guh0OqhUqhhnXmmptlwYSrO2zHjL7XbD6XTC6XTC6/VCqVTCbrejX79+MBqNfGwSi4WVDisUijYZV7H1LN5wOAyXywW32w2v18tLmpn4lYp1qbjtKthrSpo9DgaDXLxqtVrY7Xbk5OQgLy8P2dnZUCqV3FxMerOFhC1BEN1BjxG2rHwIAA4cOBB3AHlpaSmWLFkCABg5ciTOPvvshPsbPnw4rrzySiiVSpSUlODf//53q238fj+++eYb7N27FwqFApdffnmb3ZGzs7Pxpz/9CRdddBGCwSC2b9+OQ4cOJX2MKIp46623EI1GMXz4cIwePfqE3JgBYNSoUbj22mtht9tRV1eHZ599ttU2wWAQL7/8MqLRKAYOHIj8/PwT/oDp378/7rzzTlitVtTU1OCJJ57Ahx9+eEL77EqUSiVuvfVW7N+/H/v378dDDz0Es9mc6rAIgiA6jFTYsEwkE7fAz6NXWBbW5/OhqamJGz8xweLz+dDc3IxgMBiT8WT9n3IRyLJxgUCAj9gJBAK8xzUUCnHBy1yCtVotzwLL9xdP5ErH5LDMpt/v5yOJWHbWYDBAoVDA6XTyUlgmBLVabcz1kZZpS48rz+ayLCXwc2ba6XTyzHR6ejpsNhuamppQU1PDRa/RaITJZIJarebnKe/hl5tVseMzcSu9pl6vlxtgMYHIWqak/fGdjdQxmglvvV7PhbvX64XL5eKvIZvNhuzsbOTm5iI9PR2RSISLW3kPOIlbgiC6kh4jbNvKK6+8AgC8vyYeubm5uPvuu5GXl4dQKIQ333wzoegsKSnBzp07AQCXXHJJm3pftVotfv3rX2Pu3LmIRqP45ptvsGLFCjQ1NSV9nCiK+Oqrr3DkyBFkZGTgoosuOqHy3YyMDNxyyy045ZRTEIlE8MILL2DHjh1xj3v48GFUVVUBAIYMGQKdTtfh46rValx88cXcAOvVV19tVf7c0xAEAS+88AL//f7770dhYWEKIyIIguhcpCXJwM+zRlm/rVqt5o7GrHeUOduyklsmhFmWlAkotn9pmXAkEuElu8wDg4liVsbLhC3ruWSiThozEJulFUUxxhSNHU8URbhcLjQ3N/PsrCAIUKlU3IcjGo3y/lwmTpnAl4rbeMeV3hyQilvm0dHc3MydoDMzMyGKImpqatDc3AxRFKHT6WAymWA0Gvl+2f7k4lZqVMWuBzum1M3a4/Fwh2r5jYuuMGSSZrClo3yYYVRaWhovbW9qauKmYzabDVlZWcjOzobZbOYl3fF6jQmCILqKHiFsNRoNFxnsgyMRNTU1x93XL37xC1x++eXQ6XT48ccfuftxPBoaGlBdXQ2gpc+3LX90J06ciCuuuAI6nQ579uzBfffdh2+//fa4jwOAuro6vPHGGwCACy64oMNjhkwmE+bPn4+rrroKer0en332GV566aWE2zudTnz11VcAgHPOOQc2m61DxwWA4uJiXHjhhbDZbDh69CheeOGFGAdrguguOuJgnMwVuSt+kpHIbTiZ83Gyn3A4nPCno/vsbLfkjjxnx/u73NHHnQzEu+ZMQEiFIRNXPp+PZwJZxlOtVsPtdiMYDAJouRGo1+uh1+v5fphIkwo2Znrk9Xrh9/sRDod5T610Bi3LSDIjIXnPa7zzkJYGM1EHAD6fj/ehSnuCQ6FQK2ErCALft/S6JHt9SEuumdAMhUJoamriWWGVSsUnLjQ3N8PpdCISifDZt0zYSstx2fVn8UjPj50jE5EKhYKfJzvXeI7Sne1QLj13qWs7e/3o9XrYbDZkZmZCqVSiuroajY2NCAaD0Gg0MJvNsNvtSEtLi3FyjueETRAE0RX0CGFrNpsxc+ZMAMAPP/xw3MxnMgYPHowrrrgCdrsdpaWluO2221BbW5twe/nd4+MxfPhw/O53v8PAgQMhiiL+8Y9/YOvWrW3+YPF6vdyl2G63x5RKtRWlUol58+bht7/9LbKysrB//348+uijqK+vT/iYpqYmrFmzBuFwGGeccQZuvPHGDpVBq9VqTJ48GZMmTYJCocDChQtx7Nixdu+HIAiC6DzkmUc2YoVlBFm2jxkAhcNhKJVK6PV66HQ6+P1+bm7IWoOYYZG8n1MqFMPhMHcRjkQifBwMc/ll4o5lbFnmlT1e3nua6AYPE33hcBg+n4/vW61Ww2AwIBqN8t5PFgMrp5YKaXnGVn5O8vJuZsbFxhx5PB5Eo1Ho9Xqkp6fD7/fzzKVGo4lxMZZed9ZnKs3aSp2Y5bNq2UxcdoOAPWdykdjZSMWn/PqrVCoYDAZuFhkIBFBTU8PPn1UAmM1mGI1GRCIRPnKpO8yuCIIgeoywnT59OgDgq6++ihnLEw/24ZubmxuTeczLy8NDDz2Es846C9FoFP/3f//XyjAqHuyuIgBuYBWP7Oxs/O53v8P5558PpVKJL7/8EqtWrWr33VL2IQW0mEgxK/22IggCHnzwQVitVhw8eBB33303fvrpp6RxhEIhbNmyBdu2bYNOp8ODDz7YIVHdr18/XHfddTAajTh48CBee+21dt0YIAiCIDoPac+mtHxUKp6kWTcAXGwwIcI+R1nvLRvnYjabuWiUVuVIDZmi0SjPOjLxo9PpEI1GeSkqczeWui0D8TN4UoHJ9i0V52y/UiHNRgl5vV6eNWbCln3OSct4E7kUy68pO0c2g9ftdsPj8fCxQsy4ihlyqVQqmEwmns1lgk6tVvMfZqIUb8yQfJwPc2oOBoMIBoOtHJG7CmkfMouNPb/S14xWq+VjmFiPNitb1uv1EAQh5vkjcUsQRFfTI4QtM2MAWoyjvF5vwm3D4TDef/99AC0ltcyVNy8vD3/7299w1VVXIRKJ4PPPP8fbb7/dphLZLVu2oLKyEgDwhz/8Ie42KpUKM2fOxLXXXotoNIpPPvkEN9xwAy/dag9VVVX44YcfAAB33XUXDAZDmx+rVCpxwQUXIDc3Fy6XCwsXLsQXX3zRJnG5fft2fP755wDAjbrag8lkwgMPPICZM2ciGAzipZdeSpolJgiCILoeJmqlPZvxBC/L4jKBpFarYTabkZmZCbVaDYfDwefSsn5Rk8kEjUYTI7ik2WEmPtk65sJsNBr52BomlFmZLotJ2hrA9suQxp5M2LKMLetNDQaDvGyWjdWT9romE7dA/J5fZqLFxvGwY7BxN6xvWaFQcNFns9lixv6wUmy5Q7Bc3ErLkqVZXWnJcleZRsmvA3NgZqKblUOzmwkWiwXRaBT19fV8pjFzcmZGV9LXR1f0BBMEQUjpEcLWbrdDoVDwD9tkhEIhLF26FNFoFMXFxRg3bhyGDRuGv//977jmmmsQCATw+eef47777jtuPy5jw4YNKCsrg0KhwJQpU+JuM378ePzmN7+BRqPBjh078Ic//CFpiXMyjhw5gvXr1wMATjvttDZnTi0WC84//3zcc889fD/ff/99mzOm7AOGfbAMGTKkXXFPmTIFN910E0KhED7//HO899578Pv97doHQRAEcWLE60+V96RKRSj7PxO2rGdToVDAZDIhKysLeXl58Pv9qKurg9frhUKhgF6v51lbADHZQnlWmJUc63Q63mvZ3NzMRwsxIWSxWGAwGLhIitfzKj8vaa9nNBpFMBhsVU5tsVj4craMlcSy/TB3ZXlZsPS6MqRZW1ZK7ff7uZkTc4DOzMyE1+tFY2MjQqEQ9Ho90tLSkJGRAavVCr/fzzPZ0j5jqZiPV+YtjUd6DbrDDVl6fPb8sqwxy/azzKwoimhububinpWIA+D9xXJRS+KWIIiuIuXCVqVS4aKLLgIAlJeXH1eMiqKIkpIS7N+/HwBw2223YeHChfjlL3+JQCCA//73v3j44Yexd+/eNsfAxhKwMpuxY8fGrD/jjDPwj3/8A2eccQacTifeeuut4472SYbf70d9fT3/oD7ttNOO+xiNRoPrr78eixcvxuTJkxEKhbB582bs3r27XceuqKjgpd5PP/00z5QfD4PBgN///vfQaDQoKSnBP//5T5SWlrbr2ARBEETHkfaIyl1m5SWt0qwfExYsW8kMn8LhMARBQEZGBoqKimAymVBZWYm6ujpeWqvT6XjmU142zLKgLNMItGR67XY7srKyeJkuK921Wq1IS0uDxWLhmWNp/6scecYZaBFLzHGXCVuDwQCbzcYNl0RRhMFggNVqhd1uh16v5yZWLJPIemeTlcVKS2fZeCOPxwOv14toNAqDwYCsrCyYzWbU1tbC4/FArVYjLS0NOTk5yMrKgiiKvPWI9dpKs7bJjO0SCW3p751NPHErf22xmxIsTul1CQQCrYyuKFNLEER3kXJha7fbccMNNwAAduzY0SbBWFNTg2XLlgFo6YmdMWMGAGDNmjV48MEHsX379nb/Ef3hhx/g9XphNBpx77338uWnnnoq/va3v+Gss86Cx+PBqlWr8MYbbyQtl24LpaWlqKioAAA8+eSTx91+5MiRuOGGG5CTkwOHw4G///3vePrpp9Hc3Nyu43766af4+OOPEQwGMX36dFx77bVtetwvf/lLnH766QgEAli/fj2+//57+qAiCILoZpgAkpfVAogpG2XCQyosmFANBoNwOp1wu92IRCIwGo3Iy8vDoEGDoFQqUV5ejvr6ei5upf2q0jJa6TxbVhqs0Whgs9mQl5eH3NxcHDt2DE1NTVwI2mw2pKWlwWQyccHUFnErLScOh8O87Jg5O6elpUGn06G5uRmhUAiCICAtLQ2ZmZlIS0vjPapMpLIfqYCUZ06lgox5YbAxRsFgMOamQG1tLerq6hAOh2EymZCTk4P8/Hykp6fD5/PxtiW5kZT0eT2es3dnuyC3FWm/s1zcsvJwls2VClu5CCeBSxBEV5NyYXvzzTdjwIABcLvd+P777/ms1WT4/X6UlJTEjAXy+XxYsGABdu3a1aE/nAsXLkRVVRVUKhUmT56MqVOnwmg04r777sPEiRMRCoXw9ttv45FHHukUF+D169fju+++A9AiWpPdNdZoNDj33HN5JvmJJ57An//8Z561bg+VlZV49tlnUVtbC61WixtvvPG4I4dmz56Nhx56CFqtFlVVVfj3v//N+7AIoqtJ9oUv2U9HRvNIv/C250cqMuQ/yY6XKHb5F0HpT7KRPsl+pF9I5T8d3We8Eklp2WG8n654HXTkcb0VqcuutLSVCQzp3Fe1Wh3zelIoWmbUKpVKNDY2ctMfURRhtVpRWFiI/v37w+v1oqKigo9yYaW40mOx9xjro2RzZEVRhNFoRE5ODgYMGACdToeKigo4nU6+zmazwWq1QqPRxLQgyQVmvNcOyxAzZ2SpQ3FeXh7q6urgdDoBtBhTZmVlIScnBxaLBR6Ph2dupe9R6TWSvobl424EQYDb7YbT6eQ3t202GwoLC5Geno6ysjI0NjZCpVIhPT0dBQUFKCgogMFg4OZK7HnoyXNd45VHy8vd5f2+UqMvqZMyQRBEd5JyYTtv3jwoFArs27cPH3/8cZvnoe7evRuff/45H2K+ZMkSHDlypMNx1NXVYfny5YhEIigqKsJ1112H2bNnY9KkSVCpVNi4cSN+9atfdbivVo7L5UJ9fT03v7j77rsTfsCNGDECl112GZ+bu3z5crhcrg4fe9u2bXjvvfcQiUQwcOBAXHXVVQm3PfPMM/Hkk0+iuLgYfr8f7777Lh9XRBAEQXQ/TJhpNBo+r1Wj0XChxEbrsGXAz07GzGypubkZlZWVqK6uRlNTExe3/fr1Q0FBAZxOJ6qrq+F0OhEKhQCglRiTHsvlcnHBp1KpkJaWhgEDBqB///5wOp2oqKhAc3MzN1iyWq0wm818nJC0dBVo7Y4sFbYajSZmHq9Go0F6ejoKCwshCAKOHTsGl8vFl+fn5yM3NxcqlYqLW+n5yDPbUsMqqfGWIAiIRqNobGzkI24MBgPy8/MxZMgQNDY2oqysDM3NzRAEAdnZ2ejXrx/y8vL4NQoGg3FH9hxPBKZCJMpdjOU9z9LnTb5eekOiJ4p3giBOTlIqbC0WC/Ly8qBQKFBdXd2uftEDBw5g9uzZ3Izi7rvvPuF4/vrXv6KyshIqlQqXXXYZnn32WfTr1w8ejwdPPvlkp2cpP/74Y5SUlECpVOL+++/H+PHjW20zcOBAPPXUUzjjjDMQCATw7LPPnnAcoiji2WefRTAYhNVqxdSpU+M6M6enp+Pmm2/G6NGjEQgE8Morr+CBBx6g8T4EQRDdhFz8SEtytVotdDodDAYDH6UDICbDykpopU7EzPG4rq4O5eXlOHbsGBwOB6LRKMxmM+8Pdbvd3CmZicF4PbY6nQ6RSAQNDQ1wOBzwer3QaDTIzs7GkCFDkJGRgaNHj3JxK4oi7901GAzcfVf+2SIVR/LMqd/vR3NzM58razab0a9fPwwZMgQVFRWoqKiAx+OBTqdDZmYm8vLyeN+v1+uN6QOVnpdc3Eqzj2q1Gnq9Hk6nE/X19TwLnZ6ejiFDhqCoqAgHDhxAaWkpXC4XBEFAVlYW8vPzkZ2dzYU1K9uWi9VkpdCpIl6M8Uy95Ot7QuwEQfQ9Uips58+fD51Oh1AohLq6ulSGAqBltt/TTz+NSCSCzMxM3s/6wgsvdEmW8osvvsBLL70Ev98Pu92Ou+66C1lZWXy90WjE448/josuughutxtvv/02Pvroo5gS7I5SWlrKS5lPOeUUXH/99TCZTABaPuCHDBmCX//613xm7+eff44HHniA37knCIIgug9pVlEu8gwGAx+lw+bESsttmRsyE4/McEmlUqGyspJ7PjgcDoTDYd6zajab4fP54HK5uNutvEyXlTfrdDo4nU5UVVWhtrYWXq8XOp0Oubm5GDp0KPR6PRfRbrebjwESBIH37sYTQ3KhJB2d09jYyMfMqNVqZGdnY9iwYSgqKsLhw4dRXl4Oj8fDe2FzcnJgt9sRjUa5MzSrEpOLyngu0yxrCwC1tbWora2F2+2GRqNBQUEBRo8eDavVir179+Lw4cNobm6GRqPhZloZGRm8/Jq5Cycq++3JxBOv8qysNONOEATRXahTefA5c+ZAEATU1NRg6dKlqQyF88Ybb+C6667DpEmTUFlZiUWLFuG5557rkixlJBLBihUrcMkll2Dq1Km4+OKLUVZWhoULFyIjIwO/+MUvcOWVV8Lv9+Ojjz7CY4891uYRRm3h0UcfxXPPPYeioiLcf//9GDNmDBwOB1QqFU499VTMmDEDWq0Wx44dwz/+8Q8a7UMQBJECpL3B0kyi1BAKAC/rdblcCIVCvBRZ2gMJ/Nx/azQa0dzcjIqKCkSjUfh8PhiNRoTDYWi1WpjNZj7iJl7ZLBO3LJMZjUZRW1sLi8UCo9HIl+fl5cHlcmHXrl2oqKhAeno6L+tlpcXS0l858hJXNivX7XajtrYW2dnZyMrKQnZ2NoqKiuD1erFlyxbs27cPAJCZmclNrdxuN0KhEDeZSpZdlIpbtVrNj63X6+FyuXDs2DFkZmZyQ6yBAwfC4/Fg27Zt2LlzJ7xeL9LS0gCAl1+zY7P+YGmpLvu/XBT2ZHEoFbZUckwQRKpJqbDVaDQAAI/Hg6+//jqVoXCam5uxYMECDBgwAE6nEz/99FO7nYfbg8PhwP33349NmzYhPT0dd911F6ZOnQqTyYSRI0dCpVKhpKQEL7/88gmNGIrHp59+ikcffRSvvPIKBg4ciLvuuqvVNl9//TX+8Y9/kAsyQRBECpGLW2b6xcQtM3ZiAjYQCHDnXqC1OGTmU0ajES6XC0ePHkUgEIDNZoNWq0UoFIpxUQ4EAq1EWDgcjpnPysRmeXk5BEGAUqlERkYG7zd1uVwoKSlBZWUlrFYr1Go1z/oyp2cArcStVMyzdUwYOxwOHDt2DOnp6bBarbBarRg8eDB8Ph9++ukn7N69G/3794fFYuH9vRaLBZFIBB6Pp1UVkvxzjl1PlrllYj0SiaCmpgbl5eWwWq3c8Xno0KHw+/3YuXMnduzYwc2j2I0GVqUGIGYsEzt2b/ycTTQLmCAIortJqbB98803MXr0aKxevbrH/DGPRqPYsWMHduzY0W3H/PHHH7F8+XLcdtttyMrKwjnnnAOg5UPO7/fjk08+wTfffNPpxw2FQvjiiy/w2Wef8VnCUsrLy/HPf/4TH374YaeUPxMEQRAdRzrHNhgMwu/3Q6fTQa/XQ6fTcWHLRq/4/X5ekhzP7Ze5K+v1eng8HlRXV8Pv98NgMPBjsPE4zFmbCVGpuy/r5ZWKzUOHDvF9mEwmqNVq2O12ZGdno6KiAvX19TAajVAqla3MlKRZS4Y8U83KqZubm3HkyBFYrVZYLBY+R5cJzO3bt2Pv3r3IycnhvcAsVva5Ji2xBuKXJbPzZyLeaDSisbERhw8f5nN+8/LyYLPZMGTIEASDQezZswc7d+5EVlYWPzbw88gfaeY7UZa2p3w3IgiC6A2kVNj+61//wksvvdTnRVM4HMavfvUrLFmyBM888wzGjRsHAPjwww/x61//Osa4o7OprKzEFVdcwe+USxFFMcbBkSAYPeXLlnQOZFvXxXutt2V/yTIRyd4jHelLT+YOn+xYbXWVl5PsmjDzoXgkeh0ke0wykl3/ZCR7bhLF2JHHpAJpllSa2VQoFPD5fLxPVeqQbDKZEAgE4HQ64fP5eNZW6mbLZs6y/QmCAK/Xi0gkwvcLoJUjstTxlo3OCQQCfB+sJLmmpoYLW1YKrFQqYTKZYLfbEQ6HeX+q1JE42XVgc3qlo47MZjNcLhcOHToEvV4PjUaDnJwcWK1WDBo0CMFgELt378bBgwdhs9liBC3rQZYeWxqDtKdZOjJLrVZDq9XCarWiqakJBw4c4GOP0tPTYTKZ0L9/f4TDYRw8eBBHjx7lzw3w8/uUPZ/x+mzlsRAEQRDHJ6XCln24Ei1fHn744QdMnz6924/NBscTBEEQPQ+5eRLLkoZCIW6cxG5OsHV6vR6BQABer5eXK0v3wz5/2axbZsrk9/t5jy17DMuSyvsomeALBoNcbLNy23A4jJqaGkQiEXi9Xl4KLIoitFotDAYDfyy7oXE8cRtPYLIscVNTE/bv3w+FQoFQKASbzQaDwYCCggIEg0EcOnQI1dXV0Ol0PFvKSrnj9dmy82TCMxwOQ6lUIhAI8OstLUlmzs79+vWD2WyGVqtFVlYWgsEg1Go1amtr0djYyG8QtOV8CYIgiPaRUmFLEARBEERy5GNvpFnbYDAIt9vNs6mCIPAeWkEQEAwGW5UQS4VtJBLh5c2s7Jhtz47BjisXYdJ+X2nvrVqtjhkBxAQ4i43tmzk4s8xvMlgcLGvLssSsFDsajfLpCqFQCPn5+dzAKi0tjZdlOxyOGCNE+dgaaTm09LiiKPLzZE7TgiDAaDRCFEVUV1fzvt2srCzo9XqIogij0Yi0tDSIogin0wmPxxNzMzle2TW7jgRBEET7IGFLEARBED0cJkyZmGTilmVum5ubEY1G+RgfJlg1Gg03P5KKR2mvLRO2DOlcWWnPayKxFYlEeD8uy8iyMUCRSAROpxPBYBAGg4EbRrF9s/7feKW4cuRCWiowDQYDd2UOhUJwu93cuCoajUKv18NqtSISiaC5uRmBQCCmrFravywVtdKYmKj2+XwxWW6DwQBRFFFXVwe/3w+n0wm73Q6tVssNtvR6PS+B9vl8MeN+5MchCIIgOgYJW4IgCILoBciziqxHlBlGuVwuXkbMRKDcPEqKNAssLzOWPr4tRCIR7pzMRgABLf3WLJMZDAah1Wp5dpnFw4T08XpsWSxM3LIsLBOYRqMRANDQ0ACfzwen0wmLxcKz0Gw7JnalmWxWIizN2MYrvWbi1uPxQBRF3tfLMrSsr9npdMJoNPLeWzZbmPUHs3OVOj3LxykRBEEQ7YOELUEQBEH0ApholHpTsMxtNBrlWUjWfyrNRibKusp7Z+XbJRNZ8TKazHCQZYxZjJFIhPfvsn5gee/w8QSdNCYmMKXZZubwDLSMEWSjePR6PZRKJS9hZqN7pFlpBiu/ZvuV9sQCsX3FLpcLkUgEer2eG0pFo1F4vV5UV1fDYDBwt2oAMcdj+03U40sQBEG0HxK2BEEQBNFLYKKOIRVgKpWKC0tmCiUVjsn22VZxKX+cXBCzzKu8R5eJZza7VR5Pe0WdVNxKhTvru1UoFPB4PKirq+PjiJgJFOtxZU7N0hsGkUiElziz+KVlz0CLuNVoNAgEAnwWLjOlYu7Qfr8fTU1N0Gq1fMawNG5p9pwytQRBEJ0DCVuCIOLS2V+yuuJLW0f2mWy0DRtx0t7HJSPZqK6O7DOZk3yy0UIdfVyy0T1arTbu8mTPS7JrnIzOHgXU1kxkex7XXUgFpFR8MYEbDodjemfbmg3syLmxx0jFpXRertQBmMGE7YkIOmlZsjx7y/pumYsxc4cGwPtdtVptjJs0M7EKhUK8J5n1wUYiEWi1Wv4YpVIJrVbLBazX60U4HOYCGvj5dR4IBLhrtPz5oFF6BEEQnQsJW4IgCILoZUiFUTzDIyYuuysbKDd/kvfvMqTCrj3xyfchF8bS8meWbVUqldwdmt3YYaJUKlSl2WbpOKFgMMh/WBm1Xq+HIAgx+xAEAT6fD36/nwts9sPMu6SZZcrQEgRBdA0kbAmCIAiiF3I846fjlSB3R3zSf5Nt0xak4l2anZULRWkmmzlHs5sA7HdBEKDT6SAIQoy4ZQJZmrX1+Xxwu93wer289NhoNEKn0/F9MXHLHI/Z3FsWA3tOyCiKIAii6yBh28PJycnB0qVL4677/vvv8dhjj3VzRARBEERPQW4QxZZJ16eSEz2+XJjLRS3LzEoFLvs3Xik2y+Iyd2ImSllZsvQaMqEbDAbh9XrhdDrR2NjI/zWbzTCZTDGZW0EQ4PV64fP5eIl/omw6QRAE0bmQsO1h3Hrrrfj973/Pf9doNOjXr1/cbadOnYq5c+fGLDt8+DBmzZrVpTESBEEQPYuOGkD1ZORZaPm/8qxtouy0XKxKS441Gg03kWJiV6VScfHLeoTD4TC8Xi+amppQV1eHmpoaOBwOBINB2O126PV6GAwGLnI1Gg28Xi/8fn+MQ7S0F5kgCILoXEjYphCj0QhBELBr1y6kpaUBAP9Abevji4uLY5YNGDAAfr8fAHD77bdj9erVcDgcnRs4QRAE0SM5WQRTPCHbFuTl2dIsqbQ8m/XRSntqWWmyVqvlM4L1ej0vORZFEX6/H42NjaipqUFFRQUqKipQV1cHm80Gi8XCs7/MSEqlUsHn83ETOeqxJQiC6DpI2KYAs9mMYcOG4Y9//CMuvvjiTt23QqGAIAgAgBUrVgAApk2bBofDgV27dnXqsQiCIAiiq4hniiVFPgNW6vwtN66SjvNhglKlUsHr9UKn0/Ef1nur0+lgNBr5+B+9Xg+j0Qi1Wo3s7Gzk5uYiJycHmZmZOHz4MKqrqxEKhWC32/ljmThWKpW891beE03iliAIovMgYduNKBQKzJ07FyNGjMD999/fbcfdsGEDjh07hj/84Q/Ytm0btm/f3m3HJvoWHTWJSTb2oqPmNx0ZD5OsWkKn03XoccnOOxAIdOr+ko0W6ugooGTrEj1vHf2y3t2jgIiei3xGbry5t/KxOdLfWfmvtMeWlSBL58gy52LWb8tKiXU6HQwGAywWC7xeL3c1ttvtMJvNSEtLQ2ZmJrKyspCZmYkDBw6gtLQUDQ0NsNvtMBqNMBgMrfp/g8Fg0p5ooufC5h+fjJysiQ+j0ZjqELoMs9mc6hB6JCRsu5HHH38cf/jDH1LiUpmfn4/ly5fjm2++wfz580/aP2IEQRBE70P6uSh1N5aWFMt7U1lpsXRmrnymr3Sf0WiUux2zGzYKhQJ+vz/GjIr11wqCAKPRCLvdjsbGRrhcLgQCAeTk5MQI3IyMDKSnp8NqteLgwYNwOByIRqMwm83Q6/WtPvOl4pbFQOKWIAjixCFh2008++yzuOOOO1I6egEAJk2ahJUrV+Liiy9GRUVFSmMhCIIgCClSASufd5toHVsfiUTili9LR/kwcctGAsnHBTHRGwgE4PV60djYiNraWtTU1KCurg6NjY1wu90oLCxEbm4u76212WywWq0wmUzYvXs3GhoaIIoirFYrdDpdq3il4vZkM/0iCIJIFSRsu5h58+bhscceQ05ODu99TTXjxo3Dd999h8bGRowePZo+TAmCIIiUEa/kWCpG5aJP+rt0lE+i/TLiCWVpqbB0mTTjG41GUVdXh/r6etTV1cHhcPDsbVFRETIyMtCvXz8YDAbo9XpotVr89NNPqK2thUKhgMVigU6n48JaLrBJ1BIEQXQOJGy7CKVSiYsuughLliyBSqVKdTityMvLQ25uLn766SdMmTIFLpcr1SERBEEQRKuyY2nZsHRsTiJxG08kyreXC2fpcRUKRdyRP8FgELW1tWhsbITD4YDT6YTP58PgwYO5mZTUVXnLli2orq4GAF6WLDexkvbFk8AlCII4MUjYdhEXXnghPvzww1SHkRSFQoGxY8fiP//5D2666SYcO3Ys1SERBEEQfQT5nNpkP1KjMnlWVypsEwlD+XK56ZRSqeR9ukqlkm8vnW+r1+thMpngdrtRWloKt9sNt9vNx/kUFBQgLS0NQ4YM4fvfvHkz6uvroVAo+Ig/g8GAcDgcM4KIIAiCOHFI2HYB1113HV599dVUh9FmZs2aheeeew733HMPjhw5kupwCIIgiJOc482njdcrK3UyjpfdbI9AlGaDmXCWliKzrKpUeLJRQEycNjc3Y9u2bfB6vQgGg4hEIigsLITNZsPgwYMRDocRDAaxdetWNDY2QqlU8lFCbIZuJBJBKBTix6CsLUEQRMchYdsFPPPMM71u/MTll1+OZcuWkbAl2kRbsyJSko30SbYuGR15XEdHymi12oTrko0USDa6J9F4Hr1e36H9JSPZ2B6v15twXbIRF5097icZHX3eOtuwL9UGgCcDiXpqpUhdg6Wfp0xodsZnrLw0mcXBRgUxcSsVuUCLwLVYLBAEAY2Njdi5cycXttFoFEVFRbDb7Rg8eDD8fj+8Xi927NgBh8OB9PR0qNXqVuI22fuTIAiCaBskbDuZ//u//0N6enqqw+gQTz31FH766ScqSSYIgiC6hHj9rIluFsgFJysRZgKzM28yyEuZWQY3nrgVRRF6vR4GgwEajQYNDQ3YvXs3j1elUqFfv36w2+0YOHAgXC4XmpubsX//fjQ3N8NqtUKj0cSIW1aWHG+sEUEQBNE2SNh2Ik899RQWLFjQY9yP28uYMWOwefNmDBw4ED6fL9XhEARBECch8RyIpchNoeTiFkC3iEBRFLmYjSduWc9sZmYmlEoldu3aBY1GA61WC41Gg5ycHGRkZKC4uBgOhwNNTU2orq7m/bps21AoFFOSTFUBBEEQHYOEbScxf/58PPDAA72uBFlObm4ujhw5gszMzFSHQhAEQZykxBu1A/xs6iQ3hJIKWPk8264St1KBKRW4UtMnk8kErVaL9PR0RCIR7NmzB3q9Hnq9Hmq1Gna7HVlZWSguLkZ9fT13U1apVFCpVNBoNNBoNFzcMrdkgiAIov2QsO0ELBYLBg0a1OtFLUMQBIwbNw7btm1LdSgEQRDESUI8t2OpuAV+7tuOJ27l+zqeE/KJIu/zZeN5fD5fjMgGWnrA7XY76uvrceDAAT7eR6lUQhAEZGVloaioCLW1tdi9ezdcLhdMJhMXt2q1mpckk7AlCILoGCeHEksxo0ePxm9/+9tUh9FpmM1mLFmyJNVhEARBECchclGrVCp5BpP9SMUuy+JKM6XdVbIrzxqzvlu/3w+PxwOXywWPx4NQKARBEGA2m3k/7cGDB1FVVQW/3w+DwYDs7GwUFBQgKysLLpcLfr8foijymbnsvAmCIIiOQRnbE8RsNuPee+9NdRidTr9+/TBv3jysWLEi1aEQKSLZl8aOuCInW5fMEbSjbqGhUKjdj0nmvJss/mR99WazOeG6RA7Hfr8/4WMMBkO793c8kl3jZP32HbnGyV5XHV2X7LwTCQXqY0wdUlHLhGy80T5SYRvv/dddmU1pubNc3Eqzz6wE2ev1oqqqCgcPHoTFYoFGo4HJZILVakVOTg5yc3PhcDjgdrv53wcmbilrSxAE0XHo1uAJYjAYcNlll6U6jE4nMzMT55xzTqrDIAiCIE5CmLhlwlaasYxnKAX8LHATCd2uRF72LBW3Xq8XXq+X35AyGo0Ih8M4cuQIysrKUFVVBbfbDbVaDZvNhqysLKSnpyMYDCIQCPDxRex6UNaWIAiiY9BfzxNAoVBg69atqQ6jy7jiiitw5513pjoMgiAI4iRCXoocrwxZLm57QgYzXk9vJBJBIBCA1+uFz+dDMBiESqWCwWBAQ0MDKioqcOzYMTQ2NiIUCkGn08FutyM9PR06nQ5er5fPs45npkUQBEG0HSpFPgEUCgWys7NTHUaXodfrYTKZUh0GQRAEcRIQb3SPVNDKZ8hKH9dTkLswR6NRhMNhBAIBLsrZGB9RFFFTU4PKykqYzWYuWA0GA2w2G0wmE+rq6hAMBqFWq2MEP5UjEwRBtB/K2BJJKS4uRlpaWqrDIAiCIE4ymJBjglBuHNVTs5ZSwalQKBCNRhEKhRAMBuH3+3nvuU6nQ1NTE+rq6lBfXw+n04lQKASNRgOj0Qiz2QyNRoNAIMD73KU9uwRBEET7IGF7AsydO/ek//CZP38+Jk6cmOowCIIgiJMAuUlUPIdkqbDtqZ+xUnEriiIikQgXt8FgEJFIBCqVCsFgEI2NjWhoaIDT6eR9uIIgwGg0QhAERCIRhMPhGHOqnnzuBEEQPRUqRT4BnnjiCahUqlSHQRAEQRA9nkSiViri5P/2ZKSl1WzGbSgUivleoFKp4Ha74XQ64XQ6odFooFAooFarIQgC9Ho93G43wuFwrzp3giCInggJW4Ig2k2iL14dGREEtPSpJSLZSBlmutIeOjKiBmgpK0yE1WpNuC7ZKKBEj0t2HS0WS4eOlewmXLLnxuFwJFyXaBRQsuclmeNrR9d1dExQZz6GaBvSDK08K5kKt+MTRWooFY1GeeaW9eEqlUr4/X643W643W4YDAZotVooFApotVoIggCVSoVwOBzzHmXXprddD4IgiFRCpcjEcaGsNEEQBHGixCs7lmY8o9Eo/5H3sfYGWEkyKy1mJljBYBA+nw8ejwc+n4/fXFOr1dBqtdBoNFwUS8cJSf8lCIIgjg8J2w6SmZnZZwTfBx98gAEDBqQ6DIIgCKKXIx3xI51dC8SK20gkwgVub8lasliZuGWVKGzerc/n4yOBotFoKwdlqbAFSNQSBEG0FypF7iBvvfUWcnNzUx1GtyCfJ0gQBEEQx0NeZix1QVar1dBoNNBoNFAqlVzUsWwnE4e9RdQymBhnopbFHwqFuLBlpcis11aj0UClUsXNVhMEQRBth4QtQRAEQRBdDhNsSqWSl+FqtVoALSKYle+Gw2EubntbxhYAF6hSQqEQAoEA/H4/dDodn9vLroVarYbP50vaS04QBEEkh4QtQRAEQRBdQrxqH5apZOZJSqUSwWCQOwNL+02lJkq9QeCyOOUZ23A4zIWt3++HVqvlPbgsgw20lC0rlcpeca4EQRA9DRK2BEEQBEF0GUycSjOZLFPJspdKpTLuqBwmauVCsafCYpWaYknn3DJhy8YDMfGuUqmgUqkQiURibgaQMzJBEETbIWFLECc53dkf3dGxK8m+uEUikYTr/H5/wnXBYLDdcSTbXzL0en3CdTabLeG6jIyMuMuTjQ9Ktj+DwZBwnUajSbiuo6+RRKOAAoFAwsckG+2UbExQR0cIJTq3jpr/9Qa/gXgxpkocSefUSs2hRFGESqXirsBs5I3X6+WClhlNSU2YegNyIc5+wuEwgsEgF7ZM8AI/m2qxUUFSYUwQBEG0DRK2BEEQBHGSEU8cpVrcMvHKemmBlhsMgiBArVYjFArx/0tHA7HYe0P2UtpnKxW1QIswDwaD/MaPNGsL/GzUmOrniyAIordCLgUdZMuWLR3O7hAEQRBEZyCfDSsvY2WjddiPfH13ZaClMYZCIYRCIV52q9FooNPpoNfrodPpuGuw/HHdGe+JwrK2LDPNBLpU3LK+Ymkmujf1ExMEQfQ0SNh2kPvvvx/19fWpDqNbePfdd9HU1JTqMAiCIIg4SGfDysWrdLSOfG4sozsEo1Rkh8NhhEIhnq1UKpXQarXQ6XQJhW1vE7XsRyrM2Tp2/sFgkAt8lsGWClsSty1Iy9mlPwRBEHKoFJk4LosXL07YS0cQBEGkDmmZLxOAbGQOE0ZqtZo77bJSYFYO3NVGRdL9ScuRmbBlWVu1Wg1BELiwlRspScVtbxF88ow5E7fs+YlGo/w6yOfX9pbS6+5CLmapXJsgiHiQsCUIgiCIXoTccRdoEX4sKwv8PF4mEonw5WwbebZQKhg7U0zJ9ycV4dJyZKmRlCAI0Gq1UKvViEajMX2nSqWy1xhIAbFl1PKsLcvSMnEvF7Zsu76GNFMvFa/xMrXsmiUzpCMIom9BwpYgCIIgegnSL/fyfky1Wg29Xg+NRgNRFOH3++FyuRAIBKDRaKDRaLi4ZRnEQCAQUwbL6ExxK49fnrVlsSuVSuh0Om4gFQwG+fZMDPbGEtR4JbRSh2ipU3RfFLMM6eua3RSQlmWzmxvsBoHUMVv+Gu7L15Eg+jIkbE+AI0eOID8/v1d+0LaVhoYGeL3eVIdBpICOju5JRLLxKsnGtSQj2QgYj8cTd3myUTROpzPhOp/P1/bAJOh0uoTrEo31STbSx263J1yXbOxQR8fbJPuCmOh1kKwnP9EYpuORLFOXbF2i11ay13BHX4/dhdwxmJUWi6IIjUYDs9kMrVaLSCQCk8mE+vp6+Hw+aDQaCIIQkxVVKBQ8sysVFkDniltpZpllXpl5kiiKvP/XaDTCaDRCEAR4vV4+7xZoeZ6ZmOmtpbrSaxFP2PZ14pmhsZsa7PmXilv2upVmvXtbyTpBEJ0HCdsTYMqUKQgEAvxD92TkmWeewYYNG1IdBkEQBCGBCT5mvBQIBOD3+2EymaDVapGWlgZBEBAIBGCxWHDs2DEubtk27PFKpRJ+vx/hcLjLxC2D9dNGIhHuDByJRKBSqaDX6xGJRGCxWGA0GtHY2AgAXIBHo1EucKTlzT1RwMizs1KX5Hi/E7Elx9LXN3vu2WslGo3GOH2z1228XmWCIPoWJ68iIwiCIIiTDKmgYzNgmSh0u91wOp2w2WwQBAHZ2dnQarXIycmBxWJBaWkp3G43z+pKS5IVCgV8Pl+ni1u5w69UtASDQfh8PoRCIQAt1Q1KpRJ2ux02mw01NTW8z1Zajiydg8v22VPFDLuGLCsrrS6gEuTWyF/f0r5xQRD464W9hqSvXwAkbgmij9Nj6q3GjRuHlStXYuXKlSgsLEx1OG0iGo3i17/+darD6DK+/vprrF69OtVhEARBEBKkJZcsA5ueno68vDyoVCpUVVXB7XZDq9UiLy8PI0eOxIQJEzB27FikpaWhubkZPp8ParUaJpMJVqsVZrMZer0earW6lZNxZ7TbSMUbEyyiKMLtdsPr9SIcDkOj0cBqtSIjIwOZmZmw2+28dJ3NuhUEgQtydg1YnD2FeEZHLEPLhLncNIrEbQvSTDZ7fev1epjNZlitVthsNuj1et6jDfz8emKvi570WiAIonvpERnbgoICvPPOOxg4cCAAYMKECZgwYULCHrmexHvvvYdFixalOowuobS0FHv27El1GARBEARixZt09qkgCLBardBoNLDZbDh69CgOHTqErKwsFBYWoqCgAPn5+cjIyIDRaMSPP/6I+vp6qFQqmM1mGI3GmH13duZWLtxY+XQ4HIbH4+FCGwAMBgMyMzPhcrlQV1eHhoYGhEIh6PV6qFSquE7CXeHofKIkErfSMmpWVk2uvj9fL2mZNrsuarUaBoMBKpUKBoMBWq0WTU1N8Hq9UCgU0Gq1PKsvvTFD15Ug+h49QtgKgsBFLQAMGzYMJSUl6N+/f1Kjl55AbW0tzj//fHz22WepDqVT2b59O+bPn5/qMHo1giDE9AYRBEF0lHiuusx8CWgxDktPT4darUZaWhr27NmDHTt2IDMzEwUFBSgoKEBWVhYsFgsEQcC3336L6upqKJVKmM1mmEymmON1priVOwADLWJFp9PB5/PB4XCgqakJfr8f6enpsNvtyM/PR2NjI+rq6lBfXw+j0ciN2KSCkJ1/TxS3UqRjaeTira+Xzkpf29J5y8w1m5mLGQwGKBQK6HQ6qNVq1NfXw+12AwB3/GY3PygLThB9kx4hbEOhEI4dO4b8/Hy+LDs7G3v37sXkyZNRVVWVwuiSI4oi6uvrUVtbi6ysrFSH0ylEIhGUlpaSG/IJkJeXh++//x75+fnYsWMHzj33XNTW1qY6LIIgejlSN+RoNAqv18tFqE6nQ3Z2NvLz85Geno5vvvkG33zzDex2O7KyspCXlwebzQaj0QitVotNmzahuroaALi47arMrVzIsdE+oVAITqcTdXV1aGpqQnZ2Nux2O3JycuB2u7no9Xg8vBRZui/pGKBUiVt56WuisUlycctKk6nX9mekjsihUAh+vx86nQ7hcBhKpRJ6vZ6PgwJarqPH4+GGUmwf8ptABEH0DXqEsD1y5AguvfRSvPrqqxg+fDiAlj9MAwYMwHvvvYd58+Zh//79KY4yMVu3bsUjjzxy0pQku1wuXHbZZakOo9cyYsQIrFy5EgUFBQCAsWPH4s9//jNuueWWFEfWmo72IiV6XLKRMsmOpdFoEq5L5jqebJ+JRgG5XK6Ej0lWIZJshI3f70+4LhmCIMRdbjAYEj4m2Tqz2dyhOJKNy2F9bO19XCKSXf9k45uSkeyLa6JyxGQjfToy4qirkfeTsh7TcDiMpqYmmM1mZGdnc9MoJmL/+9//4osvvoDZbIbZbEZeXh4MBgM3ndq0aRPq6+sBgJclS8+V9b+eqLiVCzk2mshkMqGpqQnV1dWoqalBTk4O7HY77HY7CgsL4XQ64XA4UF5eDoPBAIvFAr1eH9OL6ff7EY1Ge5S4ZecsPXfpdnJx3pdFrdQwiglbVu0UCATgcrmg1Wr5jQ1WDSXN3LOecbm47avXlCD6Kj1C2ALAli1bcMcdd+CFF17AqFGj+PKJEydi0aJFuPPOO7Fv374URpicH3/8EVu3bsWpp56a6lBOCFEU8c9//jPVYfRaRo0ahYULF+KUU05JdSgEQZxkyPtUWdml3+9HTU0NrFYrsrOzUVBQgH79+iEnJwc2mw0fffQR3n33XQiCgOnTpyMvL4+XczJxyypKpOKWibDOErdS86RIJAKtVgtBEGA0GtHQ0ICKigrk5OQgKysLZrMZubm58Pv9cDqd8Hg8cLlcEAQBBoMBBoMh5vhsFq+UVInbeKZR8m2oFLk17PXNbtyo1WqEw2H4fD40Njby16vZbOb9tmazGcFgkItgdoMDIHFLEH2RHiNsAWDjxo247bbbsGrVKvTv358vnzFjBhYvXoxrrrkGFRUVqQswCT/88APmz5+PlStX8qxzb+See+7B888/n+oweiUDBgzAK6+8gjPOOCNmeUlJCV566aUURUUQxMmCPLPHxv1EIhG43W6UlZXBarXysuPi4mJkZmbCZDLhgw8+wJtvvgmtVouZM2ciNzcXp512GneRlZYlszmy0uN2RlkyKxsOhUIIhUI8C8fESUVFBTIzM5GVlQW73Q6r1Yr+/fvD6/XC4/Fg+/btaGxshEajgVarbSVgAoEA78mUrusuYZPIQTpexjZeprYvCzB5dls6pzYUCsHj8cRcO71eDwDQarXQ6/X8xkYoFGr12iRxSxB9hx4lbAHgu+++w7nnnosff/wxxsxi8uTJ+PLLLzF+/Pge2/u5detWzJ49G9999x0yMzNTHU67+c1vfoOXXnqJnAQ7gMViweeff47BgwfHLG9qasIFF1yAkpKSFEVGEMTJhLSkVxRFLm41Gg0aGxuxd+9emM1mpKenIzMzEwMGDIDFYoFOp8M777yDN954g4vbnJwcTJgwgQuBDRs2oLKyEkqlEiaTiYtbJgpORNwyccEMn5i4FQQBWq0WdrsdDQ0NOHz4MDIzM5Geng6LxYKMjAwMGTIEfr8fXq8Xu3btgsPhQEZGBrRaLe8LZiWsgUAAoVCoS0t75eJVLqTl10XqgixdJ/+RbtsXYa8PVobMTKNYabLL5eI3R9gcZiaCtVotNBoNrwaQX2eCIPoGPU7YAsDBgwdRXFyM8vJyflcOAIYMGYLDhw+jf//+He5p62oOHz4Ml8uFjIyMXjVLLRgMoqSkhNx7O4Ber8ehQ4eQkZERs9zr9aK4uBiNjY0piowgiJMN9sVeqVQiHA4jGo1yh2GtVou6ujps27YNRqORz/0cMGAAn1G7cuVKvP7661CpVJg5cyaysrJ4C40oili3bh2OHj2KgoKCGHHL6AxxyzJrwWAQoVAIGo0GRqMR4XAYVVVVOHDgANLT02Gz2VBQUIC8vDyEw2EEAgEEg0Hs3r0bCoUCaWlp/LFM2KpUKi5umfjvCmEj/3yXZmSlP4mEq/RfEl8/w4QtM4tizynzI3C73XzSgF6v5+8DALx8mZV396bvYARBdA49UtgCQF1dHUaMGIFNmzZxEx6gxS15165dmDZtGo4dO5bCCBMzePBg7N27F0OGDEl1KG2iubkZ9913Hz799NNUh9LrKCgowNdff91K1FZUVODMM88kUUsQRKfDTKOUSiWCwSC0Wi20Wi3vPaypqcHmzZuh1+uh1+txyimnoLCwELNmzYJCocDixYvx+uuvQ6FQYPr06Vzcsszj2rVrUVVVhezs7FaGUkDHxC3bN8vGMWEbCAR4SbLFYkEoFMLhw4dhtVphtVphNBqRlZWFfv36cbMgURSxe/duRCIR2O12Xo7KejPl4lbuONxZIlKanZWKKelyqbiVH5vEbHxYr7S0rFilUvEMrdfrRSQSQSAQ4MaD0rFPbGQQXV+C6Hv0WGELAGVlZbj88suxfPlyjBgxgi8fOHAg3n77bdx888090lAqGo3izDPPxPvvv48pU6akOpykOJ1OPP7443j55ZdTHUqvY8SIEVixYgUKCwtjlu/atQs33HBDj73xQhBE70UqpEKhEJRKJdRqNe87tVgsUCqVqKqqwjfffAO1Wg2tVotx48ahoKAA55xzDqLRKJYuXYpXX30Voihi2rRpyMrK4qZ3oihiw4YNqKurA9D5bsnM0TYYDMLv90Oj0fD4WUnygQMHYDKZYDAY+PKioiIuHtVqNfbt24e6ujpeaq3Vavn+VSoVzwizzHYigXsiAkgqvJhoZzDn7WSZ286K42SDlaxLrx173plhGjMgY0KW3fQg0yiC6Lv0aGELAJs3b8aCBQuwaNGiGHF75plnYuHChT3WLdnhcGDu3LlYuHAhLrjgglSHE5dAIIAHH3wQCxcuTHUovQ7mfjxhwoSY5du3b8edd96Jbdu2pSawTiRZGVeiUSkdeczxSDZSJtG4HCDxmKBkI2WcTmfCdWwkSnsfl2yEUCKSjThKti43NzfhOp1Ol3Bdenp6wnXJPA0SnVtHx/b4fL6E6zoyWigZHf3S21O+LDMRFQwGebmmSqXiJcgKhQJHjx7Fpk2beEnnmDFj0K9fP5x33nlQqVRYsWIFli1bhmg0iunTpyM7O5v33DJDqZqaGgCd45Ys7UUFWjJygUCAC3O1Wg29Xg+73Q6Hw4Fdu3bx/uHBgwfzsmpWmqrX63Hw4EE4HA7odDoYDAbebyktTWaZW2n2tr1ZXGnc8vOVClggdsRUPIFF2dvkSPuxpf3S7DqznttgMIhIJMJvKshvHpC4JYi+R48XtkCLW/LNN9+Mt956C0VFRXz5jBkzsHTpUlx55ZU4evRoCiOMT1lZGX79619j3LhxeOqppzB06NBUh8T5n//5H5SXl+ODDz5IdSi9jv79+2Px4sWYOHFizPJDhw7htttuw+bNm1MUGUEQJztycchKMqX9iEajETabDUqlEuXl5Vi3bh1/zLhx47i4VSqVeOONN7Bs2TIALZ+pUkMphUKBjRs3orq6GgqFIm5Z8olkbkVRjBHmarUaBoMBRqMR0WgU9fX1+PHHH/nM3kGDBsFms6GwsBAajYaXL+/fvx81NTXwer3Q6/U8c8seB4BfH+mIHelPopjjmULFQ76e7VN+Q49EbduQm40xYcuys+y5ZDct2HWmEmSC6Nv0CmELAN9//z3OPvtsbN++PeaD9cwzz8S6deswevToHmkodejQIRw6dAg//vgjNm/enDQz0l0w92Myimo/JpMJX375JQYOHBiz3Ol04txzz8Xhw4dTFBlBEH0Febklm/UJ/CzgmLhVKBQoLS3F2rVreRZTKm4B4I033sCKFSugVCoxc+ZMZGdnxxhKrV+/HlVVVVAoFK3ckts7CkgeOxPmTNiqVCro9XpYLBaIoojq6mps3ryZC5xBgwbBbrcjLy8ParUaRqMRFosFBw8eREVFBRwOB0RR5HN6GezcE8UjzfIlys7K59PK98Guv9QFWX4jQvpYEmDxkV4zaYkxe20z2HPCMvHy54euL0H0PXqNsAVaRGL//v1RXl4Og8HAlw8aNAilpaUoLi5OWsqWSlh8FRUV0Gg0MW7P3QEzXHjmmWewcOHCTi/r6wsYDAaUlpa2MoryeDwYMGAAGUURBNGtSAUAE7dS8yJp5ra0tBRr1qzh68aPHx8jbpctW4aVK1dCoVDEuCUzgdDZbslSQRkOh+H3+7lwUSqV0Ol0XJhXVVXhhx9+QCAQgN/vx8CBA5Geno709HQuhK1WK9LT01FRUYHa2lo0NTUhFApBpVLx0lXpseOVIUuPLyfZGB/5cyHPKh4v20u0Rv66kZaOy58HKjkmCILRq4Qt0NLnNnr0aKxbty7GtCcnJwfbt2/HzJkze2RZMtDiPmy1WjFx4kQsWbIEeXl5sNvtXX7cvXv34sCBA7j00ku7/FgnK/369cPGjRtbidry8nJMmTKFRC1BEN2KPBPIRqQwccuWsZ5bURRx5MiRmLLk8ePHo6CgALNmzUI0GsXixYvx2muvcbfkzMzMuG7JOTk5JyRupbEzURIKhWKEOQAuWAGgoaEBW7duhdfrhcvlQnFxMTIzM6HT6ZCbm8tn2qalpaGyshJ1dXVoamqC2+2G3+/nJlLyuKT9m6xPWSqEEwkmqdCSZwelWelEoouEWPthpcnJMucEQfRtep2wBVpmxV555ZVYsmQJRo4cyZcPHjwYb731Fm655ZYeaSjF+P777zFq1CgsWLAAM2fOxJw5c5Ka4HSUb7/9FseOHcP111/fIQMbooWRI0di2bJl6N+/f8zynTt34sYbb0RFRUVqAiMIok8jzVixf0OhEDf8Ysvl4nb9+vV8H2PHjkV+fj4Xt0uXLsWKFSsQjUbjuiVv3LgRtbW1EEXxhNyS5aW/rN9WPi6H9dEqFAo0NjZi+/btcLlccDgcXNwaDAaYzWbk5+fzMub09HQ4HA44nU643W74fD4+B1fqlCyNg4laubCVZ3eZcJX350pNo6TXJN759wW64pzlWduuOg5BEL2TXilsgRZxeOedd7ZyS540aRIWLlyIBQsWYP/+/SmM8PgsWrQIixYtwr333guDwYBBgwZh7ty5J7TPuro6PP/88wCAd955B3v37u2MUPssI0eOxKJFi3DaaafFLN+xYwcWLFiAH3/8MUWRdQ7JvhB0pHQumfNxsv2pVKp2HwtI7r6bqC0hmTtwsuuRzPm4qakp4bpkrsIddQ/uyP6S9fcnu/5msznhurS0tLjLO3rOyV4jyW7OdfYX285+X3Ql8cRtOBxu9RwYDAYubsvLy7F27VouEsaMGYOCggJuKLVixQosXbq0TW7JFoulw27J8cSt9HlmYlGn08FkMkGpVMLhcGDv3r1obGxEfX09ioqK+LxdtVoNs9kMhULBBS4Tth6PBz6fD36/H36/H8FgEMFgMEbgsj5cJmzZ9ZGaTEmXMaStPX1JZKXyXFNx7JycnG4/Znfx5JNPpjqELiHZFIHezqhRo1IdQo+kVz/jGzduxE033YR33nkH/fr148tnzJiB5cuX44orrkBlZWUKI2wbf//73wEAWVlZeO+99/hyjUaDt956K+kXqXfeeQevv/46/93lcmHNmjVdF2wforCwEEuXLsXpp58es7y0tBS33HILtmzZkqLICIIgfkYubgHEiFu23mAw8L7VsrIyrFmzhgu1sWPHdppb8okaSgUCAS4e2ZgenU4HnU6HjIwMNDU1obKyEg6HAzU1NejXrx+ys7Nhs9n4jSvWo6vVamE0GuH1ermwlQtc5qzLxKo0FiZopeOCpH2z0m3jlSSfbMT7PiLPshMEQaSKXi1sAeCHH37AtGnTsHv37hhDpjPOOAObNm3CiBEjek0Zbm1tLd5//33+u0KhwPDhwxNur1AoUF9fn3S+JtExjEYj1q9fjwEDBsQsd7lcmDlzJsrKylITGEEQRBziiVtpWTJDKm4PHz4c87hx48ahsLCwlVuySqXCjBkzuFsyE3Dr169HZWVlXLdkoG09t1ITKXlZslTchsNh7nRst9uh1WrR3NyM3bt3o76+Hrm5ucjMzITdbofBYOCZGoVCwefaajQaCIIAQRC4sPX7/QgEAnHLk+UxxXPaTdY/e7II27YI12TrSfASBNFd9HphC7Rk0IqKinD48GGYTCa+vLi4GOXl5Rg4cCA8Hk8KI+wYoij2+HLqkxGj0Yjy8vJWpZtutxtFRUVkFEUQRI/keD23jESjgJK5JQPgbskTJkzgx2Nuyfn5+XHn3J6ouGUZ0nA4HCNuDQYDVCoV3G43qqqq0NDQgIyMDKSlpcFms8FoNEIQBKhUKn5MlmlVq9V81i2Lif2Ew2E+XkZ+XeVmUfHMoxI5Jp9MyE3L5MI3nsgl52KCILqDk0LYAi29pePHj8eXX36JoqIivjw7Oxtbt27FrFmzyOSHOC5FRUVYu3ZtK1FbVlaG6dOnk6glCKJH0x5xm8wtWWoo9corr3C35GnTpiEzMxOnnHJKjFtyTU1NXEMp4MTELXN6ZlnbUCgEQRCg0WigVqthMpmgVqvhcrlw9OhRNDQ0wGw2w2w2w2AwQKfTQavVQq1Wx/TOsv3JRam0n5Zlb+VlyPF6bqXnc7JlbBnSHmS5s7V0TBK7zpSpJQiiuzlphC0AlJSU4Kqrrmrlljx06FC88cYbuP3228lMiUjIyJEjsXTpUhQXF8cs37FjB26++WaUl5enKDKCIIi20xG35IqKCu6WrFAoMGbMGOTn5+Occ85pl1sygA67JUv/Lxe3UoEZDAa5uFUqldBqtbBYLPD7/byXtqmpCYIgQK/XQxAEaLVaLoaZAGNClglm9sNKkplwlfbZSv+Vj/w5mWHPh1TYSrPhbB1zl443P5iytgRBdDUnlbAFfnZLfvHFF2P6U8866yy88MILvcItmeh+mPux3CiKuR9v3bo1RZERBEG0n+O5JUsNpZi4LSsr427J0WgUY8aM4WXJKpUqqVuyUqnExo0bO9UtWbpNNBpFKBSKEaIsE8tcvQVBgFKp5I7HgUAALpcLKpUKWq2Wb88EMRO4UnMoVoocT7jKM7XxhO3Jmq0Ffhav7OaARqOBSqXi14FdU/acMHHLbkxIb1YQBEF0BSedsAVa3JLnzZuHd999FwUFBXz5jBkzsGLFClx22WWoqqpKYYRET6Jfv35Yvnw57xtjlJWV4aabbuqzI306+8tHspEyycYEJXtcsvgTjZVJNoqmubk54bpkI32Slaj3lHE/8koEKclG+iR7HSQanST1OpCTaAwT0PHrkexx3TkKqKdxPLdkhtRQqrS0NEawSd2SFQoFVq1aldAtGWj5/K2qqorrlgy0T9zKRRDL3krLklkWlmUPmUkUE1TsJxQKwe12Q6VSQa1Wc3Em/duTqMxY3mMbrwT5ZOqplffLSl9HTLgCLTcSdDodLzWPRqP8uWD/Sq9vb78uBEH0fE5KYQsAmzdvxllnnYW9e/fGuCVPnDgRX3/9NYYNG4ZgMJjCCImegF6vx6ZNm2L6soEWo6hp06bhyJEjKYqMIAjixOkMt2S5odTrr78e1y2ZHS+ZW3J7RgHFix34OXvLBK5UREnLX5nYValUPCMbiUQQCoUAgG8v7b1l+08mVuNlaONt19uRO0IDiMnI6vV6GAwGuN1u+Hw+hEIhfsNAfgMhGo3yEmaCIIiu4qQVtgBQXl6OwsJCHD58OCYj0b9/f5SXl2Pw4MFwu90pjJBIJRaLBUeOHEFGRkbM8ubmZvTv35+MogiCOCk4UbdkpVKJcePGxYjbpUuXxrglZ2ZmxowC6gy35GTxs55bVkYsFbby3k7gZ0Mj+VzaUCgUd5xNMgF2sotZ9q9U2LLrxUqOtVotDAYDzGYzHA4HPB4PvF4vVCoV34aVI0vLlQmCILqSk1rYAkB9fT1OPfVUfPHFF+jfvz+Alj/YOTk5+OGHH3DBBReQKVAf5Ztvvmm17PDhwzjnnHNI1BIEcVLREUOpI0eOYP369VzcMLdkZijVHW7Jic5BmklkApeJV6krr1zgSjOP8v1Eo9ETvs4nC+zasGy31FyLXWtBEGAymWCz2VBbW4umpiZeCh6JRGKMpFipMjklEwTRlZz0whYADh48iGuvvRYvv/wyRo0axZcPHz4cr732GrklEwBajKJuueUWlJaWpjoUgiCITqejo4DWr1/PHzt27FgUFBTEuCUvX768lVsyE4wbN25EXV0dgI67JSc6D/kyJqaYgEo2VzVRmXNfzyrKx/hInan9fj98Ph/8fj+fEazX62GxWNDc3MyFrV6vj7lRwG429AX3aIIgUkufELYA8O233+Kuu+6K65a8cOFCzJ8/HwcOHEhhhEQq2blzJxYsWIAtW7akOhSCIIguo6NuyUykiKKY0C05Eom06rntTLfktp6fPLMr3Weya8K2I/HVgjT7zeYJu91u6HQ6aDQa6HQ6LmStViv8fj8cDgefLczKvuVlzQRBEF1FnxG2QItb4w033IAPP/wQeXl5fPn06dPx2muvYc6cOfzDl+g7HDlyBPPmzcNPP/2U6lAIgiC6nLa4JYui2KrnVmqqJO25ZW7Jy5cvh0KhwMyZM2NGAQHJ3ZLbYyjV3vNMlJlty6ihvojUCZplb5mzcSgUgtPp5E71JpOJ/1+n08FsNsPpdMLpdEKr1XLTKGmJN4lbgiC6kj4lbAFg69atOOOMM3Dw4EEIgsCXn3baafj+++8xZMgQckvuQ3g8HkyePBlHjx5NdSgpoTeMAtJoNAnXsbET7SHZaJhAIJBwXbKxPclG2CQzqEs0dizZeXXknIHk5ya90Scn0UgfIPG1TBaj9O9ue44ViUQSrktGR/om+0IfYFvckhUKRVy35ESGUq+//jpeffXVVm7JTCQlc0sG2t9z25HzTfQ78TOsjJiVD7OZtQqFAn6/Hw0NDfy1IggCL/9mhlJer5f/TWSimK43QRDdQZ8TtgBQUVGBwsJCHDhwAFarlS8vLCxEeXk5hg4dmnSeJdG7sFgsOHToUKsvq06nEwMGDCCjKIIg+iQdcUsuKyvDmjVr+Dr5KKAlS5a0cktmM8KZW/KxY8eQl5fXKYZSROfDhC3rWWYmUGw+cDAYRF1dHdxuNwRB4KJXFEWoVCrodDoolUo+komeO4Iguos+KWwBoLa2FhMnTsQnn3yC4uJiAD+7JX/zzTeYPXs2ysrKUhskccIUFxfj008/bTXSBwAmT55MopYgiD7NibolA4hxS45EIli8eHG3uiUTnQ8z45KWJbO5tBqNBtFoFOFwGC6XCwD4uCU2O5iJ4HA4jHA4TAKXIIhuoc8KWwDYv38/brjhBrz00ksxbskjR47EihUrsGDBAuzZsyeFERInwqhRo/DKK69gyJAhqQ6FIAiix9LWzC0zlIpGowndkmfNmgVRFLFs2TIsX74ckUgE06dPR1ZWFk499VSe2du0aRNqa2sBdJ5bMtE5SE23mCMym2Or1WohCAIMBgMXscwx2ePxIBQK8eyuvMVE3m9LEATR2fRpYQu0zDK988478fLLL2PYsGF8+dSpU/HCCy/g9ttvx8GDB1MYIdERhg8fjoULF+KMM85IdSgEQRA9nva4JdtsNgBAWVkZ732O55b86quvYtmyZRBFEdOnT2/llrxp0yZUV1cD6Hq3ZKJ9sD5q5orMMrh+vx9KpRI6nQ5Go5E7IweDQbhcLjQ1NcHr9UIURZ61ValU/DmjkT8EQXQlfV7YAsCmTZtw3XXXYfXq1cjNzeXLp0+fjjfeeAMXXXQRv7NM9Hzy8vLw2muv4ZRTTkl1KARBEL2Gjrgls55bqVtyYWFhjFvysmXLAKDHuCUTbUPeWyuKIoLBINxuN7RaLUwmE3Q6HfR6PaLRKO+tBX4221Or1THjfuj5IwiiKyFh+//58ccfcfrpp6OkpCTGtXPChAnYsmULBg4ciFAolMIIibYgCAK+//57FBQUxCxnDo8EQRBEYk7ELRlAXLfk1157jbslz5w5k5clMzG8bt06VFZWIj8/v9vdkonWSLOqSqUSarUagiBApVIhEonA7XbD6XTy0nStVgu1Ws3Xh0IhBINBhEKhVoKWxv0QBNGVkLCVcPToURQWFmLfvn2w2+18eUFBAcrLyzF8+HA4nc4URkgkw2az4cCBA62MohobGzF69GhUVFT0iTEenUWyLx+J1iXrn+rol5mOjgJK9rhEJBspk+zGVrLHJRrpAwB+vz/u8oaGhoSPOXz4cMJ1yUbpJCNRHACQlpaWcF2isT7JRiolew8mGxOU7LlOdv0Tretor19f+BvSUbfktWvXchEjFbeiKGLp0qXkltwLYMKTOSOzcT9arZaXHWs0GjgcDjQ3N8NqtcJisUCn08FgMCAYDMLr9cLr9SIYDCIcDvNS5L7w3iEIIrWQsJVRW1uLyZMn46OPPsLAgQMBtPyhz83NxaZNm3DJJZegtLQ0xVEScgYOHIjVq1cjMzMzZvnBgwdx4YUXwuFwpCgygiCI3kd73JItFgui0SgqKiq4W7IoitwtedasWYhGo8d1S163bh1qa2vJLTlFyLOqTNgC4OKW/UQiETQ1NcHlcsFms3EzKUEQoNPpIAgC1Go1z9oC9DwRBNH1kLCNw969ezFv3jy8+OKLMW7Jo0ePxvLly8ktuYcxevRovPTSSzHmXwCwfft23H777SgpKYFer09RdARBEL2T9rgl22y2mFFAUrdkJm4TuSWfcsop5JbcQ5CL20gkwqsb1Go1F62RSAQ+nw8ulwterxcmkwlarZb35Gq1Wmg0GgSDQUSjUcrWEgTRLZCwTcDXX3+NO++8E6+88gqGDh3KlzO35Ntuuw0lJSUpjJAAgGHDhmHhwoU488wzY5bv3r0bd955J3744YcURUYQBNH7OVG35Gg0irFjx8a4Ja9cuRJLly5FNBrFjBkzWrklb9y4ETU1NQDILTkVSEUoG/PDxKlGo4FarUY0GkVzczOam5vh8XgQCASgVqt5Ty7ruaWeWoIguhMStknYtGkTrr76anz22WfIzs7my6dPn4633noL5513Hurr61MYYd8mJycHq1atwrhx42KWHzt2DNdeey127NiRmsAIgiBOIjrillxaWoovv/ySP1bulvzmm29i+fLlUCgUmDlzJnJycmLckjds2BDXLZn1f1JZctfCrmckEuFzbEVR5OXGrFzc5XLB4/EgGAxCr9dzJ2UmbpVKJSKRSMzIH4IgiK6ChO1x2LZtG0455RSUlpZCq9Xy5aeccgp++uknFBcXk1tyChAEAVu3bkVeXl7Mcp/PhwkTJvDZiARBEMSJ0xG35NLSUqxZs4bPRE3klqxWqzFjxow2uyUzSNx2Dez5YteRCVs2XYA5JFutVtTV1cHn88Hn88FkMsVkbFnWNhwO03NCEES3QMK2DVRWVqKwsBB79uyJcQjNz89HWVkZRo0ahcbGxhRG2Lew2+3Yv39/K/fjhoYGDBkyhIyiCIIguoATcUtmjB8/PkbcLl68GCtXroQoitwtmZUlA8DatWvJLTkFMHELtAjbUCjEBapGo4EgCAiFQkhLS0NNTQ3cbjd3R2Z9tqxsORgMkisyQRDdAgnbNlJTU4OpU6fi/fffx6BBgwC0/OHPy8vDunXrcPnllycdw0F0DoMGDcIHH3zQyv34wIEDmDNnDonadtLRL3+JRqUk++LSkZEsQMdH+hgMhnY/Jln8XTGuKNFYn2TXw+VyJVxXWVmZcJ1Op0u4Lhk+ny/hOpPJFHd5suuYbBRQMpLNoU52jTvyvJEoSkxH3JKZoRRbN378eOTl5eGcc85BJBLBK6+8wt2Sp06dyg2l2LHILbl7kItPpVLJe6r9fj8f36NQKKDX6yGKIjIyMlBbW4umpiZYLBb+PpWKW5a1lWaBCYIgugIStu1g9+7duPHGG1u5JY8dOxZLly7FnXfeSW7JXcjo0aPx4osvYsSIETHLt2/fjvnz5+PAgQMpiowgCKLv0BluyWPGjGnllrxs2bIYt+RTTz2V3JJTBJtHzMRoMBiEx+OBz+dDKBSCSqWCyWRCRkYGcnJycOzYMTQ0NPD+WmmvLRO25I5MEERXk/gWOBEX5pYsF1HTpk3DwoUL+exbonMZOnQoFi5ciEmTJsUs37NnDxYsWIDvv/8+6eODwSCeeOIJ/vuSJUtQVVXVJbESBEGc7LA+WIbULbm5uRlOpxNerxeiKMJms8FisfCy5LVr12Lbtm1obm7mZcm33norvF4vli5dinXr1qGmpgYZGRmYMGECzjnnHEybNg05OTlwOBxwuVxQqVQwGo2wWq0wm80wGAxQq9WtYiIh1T7Y88qytyqVClqtFgqFAi6XC06nE263G6FQCBqNBlarFdnZ2TAajaitrUVDQwM8Hg/3HlGpVPyH7Z8gCKKroIxtB9i0aROuvPJK/Pe//40piZ02bRreeecdnH322VQS24lkZWXhrbfewtixY2OWV1ZW4uqrr8bOnTuPu49IJIK//OUvvNdrz5499BwRBEGcAG0xlIrnlrxmzZqkbsnLli2DQqHAjBkzyC25m5EKW1EUoVQqeUmyz+dDQ0MDjEYjDAYDLze22WzIysqCx+NBbW0twuEw1Go1b6lg+2DOygRBEF0FCdsOsn37dowdOxZlZWUxbsnjxo3Djh070L9//w73khE/o9VqsW3bNuTm5sYs9/l8OOWUU/isw7bg8/mwYcOGzg6RIAiiz9KWsmS5W/Lhw4f545hbMhO3ALBy5Uq8+uqrUKlUrdySo9Eo1q9fT27JXQi7ztFolItbNuLH6XSipqYGgiDw51WtVsNqtcJut6OmpgYOh4N7HEQiEZ45p5m2BEF0NSRsT4CqqioUFhZi165dMQ69eXl5KC0txdixYykreAKkp6djz549rYyi6uvrMWzYsITGOwRBEET30V63ZAAoKyvDunXruOCRjgISRRFLlixp5ZY8YcIEvq9169aRW3IXIRW2kUiE98nq9XpEo1HU19fzsm+73c57ac1mM9xuN5qbmxEOh6HRaPi+AJC4JQiiyyFhe4LU1NRg5syZ+M9//oPBgwcDaPnjXVBQgDVr1uAXv/gFDh06lOIoex+DBw/Ge++9h6ysrJjl+/fvx6WXXkqiliAIogfRHrdkq9UaYyjFxM64ceO4W3I0GsXixYsTuiUrFApyS+5CRFFEJBJBOByGSqWCUqnk4tbj8aCurg5Ai38FE7xKpRI6nY7PtWVOyCzzSxAE0dWQsO0Edu7ciVtuuQULFy6McUseN24clixZQm7J7WT06NFYtGgRRo4cGbN8+/btuOOOO7Bv374URda36MgXkWRjajo6AibZumRjXqQtAlL0en3Cx0jnVLeHZOeWbFxRopFEyUb6JDuW3+9PuC5Z9Uiya5KMRMcTBKFD+0v2+kn2ekx2TRKtI1Ohzqez3JILCgowa9YsAIhxS542bRqys7O5WzIAbNy4Ma5bMssOkltyx2DCljkjs+upUqmg0+ng9XpRV1eHUCgEs9kMtVrNhaxGo0EwGEQwGOSPJXFLEER3QMK2k9i0aRMWLFiApUuX8swt0GIotWjRItx0000057YNDBkyBIsWLcLkyZNjlu/duxcLFizAd999l6LICIIgiOMRT9wyt2TpeiZuAaC0tJTf1IhGoxg7diwvS1apVFi5ciWWLl2KaDQaYyjF9r9x40but2CxWFplbknctg/p9YlEItzhGAAvS9ZqtfD7/XA4HAgGg7znNhQKQaFQQK1WIxAI0PxagiC6FRK2nchXX32FK664AmvXro3puZ06dSreffddzJgxA42NjSmMsGeTmZmJd955B6NHj45ZXl1djV/+8pfYvXt3iiIjCIIg2kp73JLtdjt3S/7yyy9j3JKZuAWAN998E8uXL4dSqcTMmTORnZ1NbsldBCv1ZplWadVMNBrlpclqtRrBYBBOpxM6nY733UrdkCORCM/8sn0TBEF0FSRsO5mdO3di1KhROHLkSEwp5NixY7Fr1y70798/5u4n0YJWq8XOnTuRnZ0ds9zv92PMmDG8n4cgCILo+bTXLVmpVPJRQKz8VS5uX331VXJL7mak4pZdZ5VKFVOaHAqFEI1GoVareU8tM4xi0DUmCKI7IGHbBdTU1KB///7Yvn17jKNvbm4uDh8+jPHjx6O+vj6FEfYsMjMzsXPnzlZGUbW1tRg5ciRdK4IgiF5Ie9ySrVYrAKC8vJzPGweA8ePHo1+/fjj33HMhiiIWL17cyi351FNP5ftfu3YtuSV3Aixry2BClYlbpVLJ1ymVSoTD4ZjlLFNOEATRnZCw7SKqqqpwzjnn4O2338aQIUMA/OyW/Pnnn+Oqq65CSUlJiqNMPUOGDME777zTKlO7b98+XHHFFSRqCYIgejHtcUu2WCyIRqOoqKjAhg0b+Lpx48YhPz+fuyW/8sorWLlyJYAWH4vMzEzulgy0jAKqq6sjt+QTRPrcMUHLBCszhZJuE4lEEI1GyZiNIIiUQcK2C9mxYwduvfXWVm7Jp5xyCl555RXcddddfdotmbkfy3tqt23bhgULFvTpa0MQBHGy0BG35PLycqxbt65NbsnTp0+PcUsWRRFfffUVN5Qit+QTQ3pNpAI3noBlwpeuJ0EQqYCEbRezadMm3HHHHVi+fDkGDRrEl0+fPh2LFi3CjTfeiNLS0hRGmBoGDx4c1/1437595H7cC+jOUUDBYDDhOmk5XFvXJRu/09FRQMmuR7KRRInG4iQbzZNspI9anfhPerKxSW63O+E6nU6XcF0iEo0xApJfj2TIe/akdGQUULLXHH0Z73w64pZcVlbGy5LjuSW/9tprWLZsGQBgxowZ3FAKaHn/b9q0CdXV1QDILbkzkYvXRNsQBEF0NyRsu4Gvv/4al156KTZu3Bjz5Xjq1Kn44IMPMGXKFDidzhRG2L2kp6fjvffeazWntra2FldccQVlagmCIE5COuKWfPjw4ZgZqInckhUKRUK35MrKSnJL7gLoGhEE0dMgYdtN7N69G8OHD8eRI0disjSjR4/G3r17UVRU1CfckrVaLfbs2dPKKMrv95NRFEEQxElOZ7glM0MpJm5XrFiR1C153bp15JZMEATRByBh243U1taiuLgYP/74Y4xZUk5ODkpKSnDaaaehtrY2hRF2LVlZWdi2bVuMUzTQMqd2zJgxJGoJgiD6AO11S2Y9t6wsWaFQYNy4cSgoKEjolpyRkcHdkgFwcZubm0uGUgRBECcpJGy7mcrKSpx//vl48803MXToUAAtH6CFhYX4+OOPce211+LgwYMpjrLzGTp0KN566y3k5ubGLN+7dy9++ctf0pxagiCIPkR73JKZuJW6JYuiGOOWHIlEsGTJEqxcuRIKhQJTp05t5Za8fv16cksmCII4iSFhmwK2bduG22+/HS+88EKMW/KECRPw8ssvn3RuyaNHj8bChQsxduzYmOXbt2/HggULsHv37hRFRhAEQaSK9rglSzO38dySzz33XCgUCixfvhxLly5FOBxu5ZasUCiwadOmuG7J7PhyQym2nMQtQRBEz4eEbYrYuHEj5s+fj1dffRUDBw7ky6dPn44XX3wRN9xwA8rLy1MYYecwaNAgvPjii5g0aVLM8v379+OOO+4g9+OTjGRf/pK52iZz7E3mvNnRdYlI5iqcyMEYAHdx7azjJXMVTuZgnOw6Jju3ZM9bIBBIuE4uQNpCMlfqZC7XyUgWf0cECbm9di/MYZddd7lbsiiKSd2Sx40bh8LCwlZuyaIoYsaMGcjJyeFlyQqFAhs3buRuyfEyt0zcEgRBEL0LErYp5JtvvsGcOXPw9ddfw2638+VTpkzBxx9/jEmTJqG5uTmFEZ4YdrsdH3zwAUaMGBGzvL6+Hpdeein27duXosgIgiBOXtp6UyeeS3FXIr0pcLwxTKFQCB6Phwtb5pbMxO2hQ4f4/pRKJcaNG4eioiKcf/75UCgUWLVqFVasWBHjlszEbTQaxcaNG1FVVQWFQgGTyQSDwRATn8/nQygUOu6NjI5eu7beIGnPc9ldz+Px4gDaFjfdJCIIorMhYZti9u7di2HDhrVySx45ciT279+PoqKipHM8eyqCIGD//v2tjKJ8Ph+GDRuGhoaGFEVGEARx8nM8YZEKIRTvePJl7HelUolwOBwjboGfe24VCgVKSkq4UzJzSy4sLOTidsWKFVi5ciWUSiWmT5+OrKwsjB8/HpFIBNFoFOvXr8exY8eQn58Po9HIxa1UcIXD4Zhqk/Zcs+NVlMiPlainty0VBD1B1AKJn0/5Mvb6Y/GTyCUIojMgYdsDqK2txaBBg/DDDz/EmCtlZ2fjwIEDmDhxIu8J6g3k5ORg69atyMjIiFleWVmJU045hUQtQRBEJyAt3wWQUCjF6xHtKUIoHuy8lEolIpEIvF5vq8ytxWJBNBrF4cOHsW7dOv4Y+SigxYsX47XXXkMkEsH06dORmZmJcePGIRKJQBRFrF+/HpWVlcjOzobJZIJer4+5Vn6/P0bctkW4JTsvKdJzkgrUZKL3ePvsKcQT3HJTLrYdG8skfwyJXYIg2gsJ2x7C0aNHMXv2bLz++usYNmwYgJY/7kVFRfjoo49w/fXX48CBAymO8vgMGzYMq1atQl5eXszyPXv24Oqrr+5VAp0gCKKnwgSQ9AcAFwjxjJmk9AbRoFAooFKpEI1G4fP5+HImbq1WK6LRKEpLS7FhwwYolUo+Coi5JUejUSxZsgSvv/46IpEIpkyZgszMTIwZMwbhcBiRSARfffUV6urqEIlEYDQaIQgCz+qy68R+l8bWnvNg/8pvRkSjUf4j3Yatiyd6pfTU5zFZJj7ea1b6I++57qnnSBBEz4OEbQ/ixx9/xO23346FCxfGuCWfdtppePHFF3HXXXdh7969KYwwOcz9eNy4cTHLmfvxzp07UxMYQRDESQorw2WCAWgRCpFIhGcl45Ud91SxII1VKoCYuJUuMxqNsNvtUCgUOHz4MD/vaDSKMWPGcHEriiJeffVVrFy5EqFQCFOmTEFGRgZGjx7Nt//uu+9QU1ODUCgEo9EItVrdSuBKhW5HSrmlsTOjNKVSiWg0yrPCTMxLs7bS51F+3J76PDLiZaLZ61V6nuwaSF+3PTUbTRBEz4WEbQ9j06ZNmD9/Pl577TUMGDCAL58xYwZefvllXH/99T3SLXngwIF46aWXcOaZZ8YsP3DgAObPn4/vv/8+RZERBEGcHMgFDftdpVJBrVZDrVZzoRCJRBAOh7lYkJe29mTkfZfs32g0imAwCJ/Px8/XYDAgIyMDarUaZWVl+OKLLxAOhxEIBDB27Fjk5ORg5syZEEURq1atwmuvvYZoNIrJkycjIyMDo0aN4g7IP/zwA44cOYJAIAC9Xg/g5xsHLI72zLiVb8OeB5VKxffNRDsABINBLmzlzyX7Ydv2ludS7nTOroFarYZKpYoRtyqVCqFQCAqFgp+rVBATBEEcDxK2PZBvvvkGF154Ib777jtYrVa+/KyzzsKnn36K008/PenIj+7GZrNh9erVvISa0dDQgDlz5vSKEuq+SmePNenssStAiztqZ9LRkUTJRtFotdqE68xmc9sCk5BsNA/7wh2PZKN5kp13suMlIxKJxF3e0eeMfeGPR0dfq4nW9dYvyvIeTPaaValU0Gq10Gg0MVnAUCiEUCjUqrS2tyAX5OzcQqEQgsEgdDodjEYjcnNzodfrUV1djdWrV8Pr9cLv92Ps2LFIT0/H5MmT4fP58J///AdvvfUWFAoFzjjjDNjtdowYMYK/lpVKJcrKyuDxeCAIQkyJrFKphFqtbiV2E5Go5DgYDEKj0fDnir3upcJXq9UmvFEhL1Huacj7auVlx+FwmJtiMhHPnld2bdn6ZH+Tu5vVq1enOoQuoyOfU72B999/P9UhdBn/+7//m+oQeiQkbHso+/btw+DBg3HkyBHodDq+fPjw4SgpKUFhYWGPcEsWBAEHDhyI6348ZMgQOByOFEVGEARx8iAtYZWKWyZ4tFotVCoVdDodBEHgxktMACYTtz215FOasZWWtDLxw4S9UqmE0WiE2WyGxWJBeXk5PvroI7hcLjQ3N2Ps2LEwm82YMGECnE4nPvroI3zwwQdQKBSYMGECLBYLhg4dikgkAqVSCZ1Oh8OHD6OxsZELLlEUodFoIAgCzzYmK++Wijl5uW0wGITf70cwGIQgCDxzqVar+c0ptVoNvV7P5z6zMmu5uGXH7YnPofQ1y163oijyjLrX64XX64XBYODXVVpS3xPFLUEQPRsStj2Yuro6DBkyBN99912MGVNWVhb27duHyZMno6qqKmXx5eXl4fvvv2/lfnzs2DFMmDCBRC1BEEQnITXUYUKIia5AIAC/388rB7RaLXQ6XVJx25uQClt2HVj2VFqOzdySLRYLSkpKsHbtWjidTjgcDowaNQpGoxGjRo1CfX09NmzYgE8//RSiKGLMmDEwGo0oLi5GJBKBSqWCXq9HeXk5HA4HLxFmwpZlxtlzII2TIe+nlYs6j8cDj8eDQCDARZ1Wq+XPF8vc6nQ6aDQaXp4r7UPt6Rl46euV3QxgNySCwSDcbjeampq46zV7zWo0mlbPeU8+T4Igeg4kbHs4FRUVuPjii7Fy5UoMHz4cQMuHxYABA/Dee+9h3rx52L9/f7fHNXz4cPy/9u71OaryjgP4d8/ZPbt79pLNBXO/SUBIIhkuAoK3oLUdHaftjDNOL1ov4zjQ133TP6B92RcdobVahOK9XtvaShUl3A1FSUBETYBAuCWbTfZ+ObvbF87zcHaziRAhySbfz0xGPUlOnuwGzHd/z/P77dixA3V1dTnXjx8/jp///Oe4ePHitK+JiGg+EL/8i62sTqcT0WgUkUgEqqrCbrfD6XTmVG5FsC2GrayFFJp3ag73Yiuxruvyra+vDz09PQgGg/D7/ViyZAkcDgcWL16MoaEh9Pb2QlVVpNNp3HLLLdB1HXV1dTAMA4qiQNM0nDt3DoFAAIlEIidQi3ArwnWhc6DmJkmiwiu2Iuu6Dk3TMDY2hlQqBVVVZaCLx+OIxWJyt5bVah1XuRXBdrafuRXfv81mg6Zpcou1GOPk8XgwNDSEUCiEbDYrf2ZFGBY/q2KbNhHRZGY82Kqqit/85jczvYxZ78yZMzLYCmvWrMGWLVuwc+fOaV/PAw88gBUrVoy73t/fjwceeAAPPPDAtK9pOiQSCfzhD3+Y6WUQ0Txk7sxrsVhkZVZVVXi9XoRCIYTD4ZymO+L9mqblzIad7dW+QvIreOagmN9QqqysTIbQvr4+hEIhjI6O4uabb4bdbsctt9yCYDCI3t5epNNpRCIRtLS0wOVyobKyEslkMmcETyAQQDwel82NxGNprp7nM4c6EYLF42/eZhwIBJBOp2V1VlVVxONxBINBeW/xvYiALL73/Dm4s0X+1nHxOOi6Lr9PwzDg9Xrl2ehAICDPNosqt/jeZ3uAJ6LZYcaD7XPPPYcnnnhiVp4PKQadnZ3o7Oyc6WVIDz30EB566KGZXsYNk0wmsWDBAvz2t7+d6aUQ0TyR34TIPA7FbrfL8TSlpaUIBAIYHR3F4OAgYrEYvF4v7Ha7/FyxldVc7SsWhbolWywWJBIJuR07Ho/D4/HIc5s1NTVIpVI4e/YsDMNANBpFU1MT3G432traYBgGvvjiC0SjUQSDQSxcuFCOEaqpqZH3jEajCIfDiMfj8kUFXddlZVxUz80sFousOop/F9Ve0TAqlUohFoshkUjI6ruowEejUQwPDyORSMDj8cjzuCLUztZgW6jhl2EYshuy2M7tcrnk4ydC//DwsAy3+du5J2pWR0QkzHiw/clPfsJQS0VD0zT86Ec/YrAlomll3u4qzsyKMTV2ux1erxeqqqKsrAx+vx+XL1/GhQsXMDIyArfbPW4razFvRxb/nl8V1DQNTqcTHo8HHo9HdhB3u93weDzo6+uDpmlQFAV1dXWoqKhAR0eHrOoGg0FZ1fV6vXC73aioqJDndIeGhuS5V4vFglgshtHRUVk5F+FMEOdLxbpcLpesWCqKArvdLrdNx+Nxec7UbrfD4/EgEokgGAxiZGQEY2Nj0HVdVnTNj8Fseh7zq+rixQdxbjkajcozxCUlJbDb7SgpKcnZXj08PIxoNDqu2/zVjFgiovltxoOt+Muc4ZaKQTabnXSkCk3NVCtHUxkrM9VxP1MdiTOV0T1THc0Tj8cnfJ8IQddqshE8E5nscZxq1WWy/0dc77FVs5G5CVEmk0E8Hpedcw3DkNuRS0tLUVJSgpKSEly6dEmGXNHxF8jd0lzMj0+hmbI2m02OAHK73TKEisdvcHAQJSUl0HUd1dXVqK2thcPhgNvtxpEjR/DRRx8hEAhg0aJFKCkpgcfjQUVFBfx+Py5duoRkMomKigrouo5MJoNYLIZIJCIrvqIyKYjz0OJriHs6HA5ks1kZyEWwUxRFBljRCCsYDCIUCiEajSKRSMgKsPiezf+cLQo1zspms9B1HYFAAKFQCDfddBNKSkrkiwVerxexWAypVAqjo6NIJBJT+vuHiOavGQ+2zc3NOHr06DV9zmwf1n291vdd93G73eOaNwFAKBTC4ODg9/76Ql1dHdxu97jrZ8+eRSQSueb7zeTzdzVfe7KPCYfDuP3222/E0oiIvpM4ayma75ibRblcLrm9U9d1uN1u+Hw+eXYx/9xofjAsNoXWL87cjo6OYnh4WG4TFpXuSCSC4eFhlJWVwev1wuPxoLGxESUlJfD5fOju7kZ3dzfC4TCWLFkCn8+HBQsWIBqNYmxsDF9//TUURUFZWRlcLhcymQyi0ag835xIJGRF0jySKZFIYHh4GMFgUAZWu92OdDottzaLKrzYkiw6PXs8HoTDYTmbN5VKjTsjPdueQ/P5WHFOOJ1OIx6P49KlSxgbG0MgEEBlZaXcbSDOhOu6LgO8YRiz7nsjotlrxoNtMpkc1xSJrs6qVauwbds2tLa25lw/fvw4Hn/88evSLbm1tRXbt2/HypUrc64fO3YMjz76KD7//PPv/TWIiGhy+dturVarPDMqtsiKrbAulwsOhwM+n08GXzFaJr+iWMyhIT/YmufFplIp2V1YbH8VHxMOhzE8PCyDbXV1tQy2Pp8Phw4dwhdffAHDMNDe3o7y8nI0NTXJ0Uqjo6MoLS1FeXk53G43MpkMIpEIQqEQIpEI4vF4zjloEapFVXdkZAThcBgej0c2UbJarfIsr+iILCq9oiuy0+ksirFN4vkwN70S3aPFCzIjIyO4ePEiQqGQfBxF+BXbt5PJ5LjvczYXNYho5s14sKWpO3z4MDZu3IjNmzejra1NXl+7di22bNmCTZs24csvv5zy/dvb27F58+Zxofbo0aPYtGkTQy0R0TQo1A1YBFkRbi9cuCBnoJaVlclt7mK7MvDttnLzuB+guIOtMFHlVlT/xBlWEW7j8TiGh4fhcDhkpbumpgYNDQ3w+XwoKSnB3r170dfXB5vNhhUrVqCyshJutxt2ux3/+9//cPHiRXm2Vmx5Fm/iRQRzdTyTycDpdMLhcGB0dBRjY2NIJBJwuVw5Fc1gMCibRGUyGdnN2tzZWowomu1byc0VW3NXaHHW2O/3w+/3Y3BwEG63G7quw2KxyGMTouO0eLGCiOi7MNgWua6uLjz11FN4/fXX0dDQIK93dnbihRdewCOPPIJz585d832bmprw/PPPY82aNTnX+/r68PTTT6O7u/t7r52IiK6O+OVenMMUwVaMgInH4zh37hwSiQTC4bDc6prNZmEYhgy05q7Kc4E5zOZXbkUnYtEVGvj2rHksFoPf75ePgQiNjY2NqKurg9frha7r2LVrF/r6+uR25ObmZpSXl8Pr9eLTTz/FwMAADMNAY2MjXC6XDLr584IByLO04nnMZDIYGxtDKBSC0+mU25EjkYgcb5NIJOB0OuW5enEOd6LmX7PtORW7C8yhVARcl8sln6ORkRFZxRbdkMXOAnNn5Nn2/RHR7MNgOwccOnQI9957Lz777LOcs7Dr1q3Drl270NHRgVgsdtX383g8+O9//4uWlpac62NjY7j//vvR399/3dZORERXRzQNSqfTsmGU2K6qqipisRgGBwcRiURkgyQRisSYH3PgmktBoVDABa50gRZh0DAMuS3YfGZVNJ5auHAhampqoOs6FEXBf/7zH/T29mLBggWoqqrC4sWLUVFRAZ/Ph7179+L48eOIRCJoaGiAruvyRQNx1ldUH82zZ8X2cIfDIRtCaZomz06HQiF5HlXMu52o8ddsbR4lmLfO22w2aJoGm82W0ynZ4/EgnU7LM8rmIE9EdC0YbOeIb775Bs3NzThz5gx0XZfXFy1ahFOnTqG5ufmqwq3T6UR/fz8qKipyrkciETQ3NyMQCFz3tRMR0dUx/7IvwpIIDWIETSAQQDQalTNCFUWRISh//ulcU6hTsmjgJMYkpVIpKIqCSCSCcDgsz8VmMhlYrVYsWbIE1dXVWLt2LQDgzTffxP79+1FRUYGbbroJixYtkt2ndV3H/v37EQ6HUV1dLbtUJ5NJOVtXVCxFOBWPv2iYJNYjZtwmk0m5nVmctRUfKxRDqBXMW+dFsDWfuRWjj0Q1XTwewOz/3ohodmGwnUOGh4fR3t6O3bt3o76+Xl6vrKxET08POjs7J92WXF9fjz179owLtQMDA1i/fj1D7TwzlREqN2LsyvUeBXQjxv1MdSTFRJ9n3jp5Pe4HTD4aabLve7Ln1Dyz82pN9vjPll9iZ8s6JiLCrTm8iXOa4mdHhKr8UDTb5p7eSPlBUFSsRfddcWY1FArh+PHj8lysqqpoa2tDdXU11q1bh3Q6jZdffhkffPABPB4P1q9fj4aGBjlz1ul0Yv/+/ejr60N5eTkcDkdOkBZNkMydqMULDIqiyK3LoropXqQQIVycNc3/8zZbn8NC6xLnbW02m3wTf1+Jn2exA0F07+bcWiK6Vgy2c8ypU6fw8MMPY+vWrTndkltaWvD666/jySefLNhQqq2tDS+++CIaGxtzrvf29uJXv/rVlM7pEhHR9WP+RV90/hUhVTTmAb59EUZ04k0kEhO+ODHXA8NEFU5N03Lmy3o8HkQiEXz99dfyRR5VVdHe3o6amhrcddddMty+/fbbsNlsWLt2LW666SasWLFCBtLu7m5cvHhRNpPK3/4sKrViXeYGUCLYihchxPpEGDdvaTZ/T8XEvC1ZvJmr2CLMinO5DLdEdK0YbOegTz/9FJs2bcKzzz6b0y359ttvx+bNm8d1S25ra8OWLVuwatWqnPv09PRg48aN+Oyzz6Zt7UREVJi5mY6oQJq32pqreiIkAVdCg7iHeP9cV6gyLbZlmx8T0R05FArh9OnTsroqwm1dXR02bNgAi8WCN954A6+88grS6TRuu+02+Hw+tLa2ymrvZ599huHhYbkNXNxHnHE2N+4yn5cVZ4GB3O3UiqLIs7nFWGkvVDVPp9NIJpOyEp3/gk0xh3cimlkMtnPU7t278eSTT+KNN94Y1y1569atePjhhzE4OIjGxkb89a9/xerVq3M+v7+/H0899RQOHz483UsnIqIJ5IdbURE0d0w2BwXxsSLQzYdAa5Zf8TNXu82jaJxOJ8rLyxEMBjEwMJBTPbz11ltRX1+Pe++9FwDwzjvv4JVXXkEikcDy5cvhdruxcOFCRCIRJJNJ9Pb24vLly0in0/KMrHkLuAi5+dvCzbNv89ddrM9boaZe5hcWDMMY9zPLMEtEU8VgO4d9+umn6OzsRG9vb05DqbVr12L37t1Ys2YNdu3ahZtvvjnn84LBIO677z6cOnVqupdMRETfoVC4Ff80hwTzx8/XsFBoHI4IVMCVyraqqtB1HaWlpbBarRgYGEBXV5cMt+3t7aitrcU999wDwzDw7rvv4o033kAsFkN7ezucTicaGhpk0yfDMDA0NASLxSLn15qfG3MTL8G8VblQkC3G59C8ZvPInvyfXVZpieh6YLCd4/r7+9HY2IjTp0/D5XLJ6wsXLsTAwEBO4AWAcDiMpqYmNooiIprF8n/5N1f/CnUGnuxz55NC3aEFRVGg6zp8Ph8sFosMt8C3obO1tRWVlZVYv349EokE3n77bbz77rsIh8NYsmQJHA4HamtrEYvFZFXW7/fLsTbmucOiOZQI2Ob1mf852fdRDL4rsIqAmx94iYimgsF2HhgeHkZHRwc++uijnOZQ+aH29OnTuPvuuxlqiYiKlDncThQQGBwgz62au4WLSqmu6ygpKUE2m8W5c+ewZ88eOZdWjPpZuXIlIpEI3nvvPXzwwQeIRCJYtGgRdF1HfX293Mp84sQJjI6OQlVVuFwuOepGVVU5Rze/MdTVPD9z5Tnkiy5EdD0x2M4TfX19eOSRR/DCCy/kNJQSenp68MQTT2BgYGAGVkfFZipdVmfLKKD8CsnVrmOyrzXZmJ2pnI2b7HMmGzs0mcnWaJ6Nmm8qz+lk678RPwc0Hh/L7ybCf6FRWLquw+v1IpPJYHBwEPv27UMqlUI0GkVjYyO8Xi9uvfVWRCIR7Ny5Ex9//DHi8TgWL14Mr9eL5uZmGWJPnDiBsbExqKoKj8cjR92Ircmiwpu/LqD4n8diXz8RFRcG23kkHA5jZGSk4Pv8fj8ikcg0r4iIiGhmmCuk+eE2m83C6XTKcHv27FmkUinEYjEEg0HU1tbC4/Ggra0NyWQSXV1d6OrqQjqdRltbG8rLy+F2u+FyueBwOHDs2DEEAgFYrVZ4PB643e6cjsAi3Jq3kTMUEhFdGwbbeaK+vh5bt27FbbfdVvD9nZ2d2LZtG37605/iwoUL07w6IiKi6VOoqZE53IpzuGLObSaTwblz52S4Xbp0KWpqauD1etHa2opMJoODBw9i37590DQNLpcLVVVV8Pl88Hg8cDgcchSQqNy63e6chlKFwm3+WomIaGIMtvOAruvo6upCU1NTzvX8ToRr1qzBvn37sHTpUiQSiWleJRER0fTJP4tsPnNrbjBlt9vhcrnktuRUKoV4PI5YLIa6ujqUlpaivb0diqLgwIED2LNnD1wuF0pLS1FTUwOfzweXywVN03Do0CFcunQJqqrKiq4Zwy0R0dQx2M5xbrcbp06dQkVFRc71UCiE9vZ2HDt2DB6PR15vamrCmTNn0NLSgnA4PN3LJSIimjb5gVGMAorH4/L9hmHAbrdD13VkMhlcunRJfpxhGGhsbMSCBQuwfPlyaJqGjz/+GJ988gncbjfKyspQXV0Nr9cLXddhs9mwd+9enD9/HjU1NbJya36RmeGWiGhqGGznsKamJnz44YfjQu2pU6ewYcMGDAwMYOXKldi5c6es5losFlRWVqK7uxs//OEP2UyKiIjmlEJzfs3vy2azSKfTSCQSsnKbTqehaRocDge8Xi/8fj++/PJLAN82ZmtpaUFVVRVcLhecTifef/997Ny5Ey6XC263G9XV1dB1HZqmwWq1Yvfu3bh8+TIAwOPxfGfl1rw2IiIqjMF2jmpvb8fzzz+PhQsX5lzv6enBU089hdOnTwMAvv76a/zsZz/DX/7yF7S3t8uPW7JkCV5++WU8/fTTOHHixHQunYiI6IYwV0HNlVAxnkecec0fB5QfbjOZDPx+P06ePAmr1Qqn0wm32426ujp4vV44nU689957eOedd2C323H33XejuroaK1euhM1mg8Viwd69e8eFW3NwNYdbEWoZbomIJsZgOwe1trZiy5YtWLNmTc713t5ebNy4EYcPH865fvDgQfz617/Gn/70JyxdulReX79+PZ599lls3LgRJ0+enJa1U3Gb6iiXGzECZqLPm2xsz2Rfa6qjgBRFmfB9UzHZYzXZ15rqSKKpPCZTHfczldFIRNcqP8CKwCj+HCuKktPUyTCMnDO3mqZB13VYLBb4/X588cUXsmFUSUkJGhsb4fP54Ha78dZbb+G1116DzWbDPffcg+rqaqxatQqqqkJVVezZsweXLl0CkFu5FX+2CoVbIiIqjMF2jqmrq8O2bduwatWqnOtnzpzB448/jiNHjhT8vK6uLjz22GN45513UFtbK693dnZi+/bt+PGPf4yLFy/e0LUTERHdaCIkmmfJijOzYqazCLfAlYpuMpmUwVKcuVUUBUNDQ+jp6ZEdlEtLS9HU1ASv1wuHw4G33noLL730EqxWKzZs2ICqqiqsWrVK3r+rq0v+/9Xj8cizvNlsFtlsFrFYLGfWNAMuEVFhDLZziNPpxL59+9DQ0JBzPRKJ4M4778TZs2cn/fzDhw9j3bp1OHnyJBwOh7y+evVqHDhwALfccguSyeQNWTsREdGNJgKhqNrabDa5m0Gcq00mkzL0KooiK7Via7IIxmL7sdVqxcWLF3HkyBE4nU54PB6UlJSgqalJNox69dVXsWPHDthsNnR2dqKyshIrVqyQoXn37t04f/48AMDlcslwK97i8TjS6TTn3BIRTYLBdo7wer3o6+sb1yhqbGwMzc3NCAQCV3WfgYEBNDQ04JtvvoHX65XXGxsbcebMGSxevBihUOi6rp2IiGi6iEqoqNra7XZYrVZks1lomoZoNIp4PA5FUaCqKqxWK9LptHxLJpPyc3Vdh8fjgaqqOH/+PA4dOiSrucuXL0djYyPuv/9+KIqCF198ETt27IDFYkFnZycWLFiAFStWIJ1OI5PJ4JNPPsH58+dRVVUFXdfhdDrl+7LZLBKJRE64JSKiXAy2c0BzczN27tw5LtT29fXh/vvvv+pQKwwNDWH16tX497//jebmZgDfvjpcVVWFgwcP4sEHH5TNp4iIiGY7cxgUVVIRbm02GxwOB6xWqxztMzY2hng8DovFAk3TZFVXdExOJpNQFAVWqxW6rsPr9UJRFJw/fx4HDhyApmnQNA3Lly9HfX09fvCDHyCbzeKFF17Ajh07AAB33XUXysvL0dHRgVQqhXQ6Lbsll5eXw+FwwG63I5VKwTAMuebJzvQTEc1nDLZzwO9+9zu0tLTkXDt69Ciefvpp9Pf3T+meJ0+exC9+8Qs899xzOd2SW1tbsX37djzzzDPslkxEREUjP9yaz9TabDY4nU5ZhbXZbBgZGZHzbEUnY0VRYBiG3JIsmkCJxlEWiwWDg4PYu3evrPh2dHSgtrZWhtutW7di27ZtMAwDd9xxB8rKynDrrbcimUwimUziwIED8Pv98Hq9sNvt0DQNdrtdVm9FyCUiolwMtnPQsWPHsGnTJnR3d3+v+xw4cKBgt+Q777wTmzdvxjPPPIOvvvrq+y6X5okb0TF5KqZ6Ls3cvOVa7jnZL6DTuaVwqt2Zp9opeiLcRkkzSTSLMs+qTSaTyGQycmyPmDerKAr8fj9isRiy2Sys1iu/MolmUgBytiX7fD5YLBYMDAzgk08+kT/vy5YtQ11dndyW/Le//Q0vvvgiUqkU1q1bB5/Ph6VLlyISiSCRSODw4cMYGRmRIdtqtcJms+VUbnnGlogoF4PtHPD73/8ea9asQXNzM86ePYtHH30Un3/++XW5d1dXF375y1/in//8J6qrq+X1e+65By+99BIefPBBOYePiIhotjN3Qk4mk4hEIvJcrK7rcluyCMB+vx/RaBSZTCanU7IYAwRc6bTscrlkuD1z5gx27dolP76jowN1dXW47777kM1m8dprr2H79u1IJpNYvXo1PB4PWlpaMDY2hkgkgqNHj2J0dFRWkkUFWFVVGcyJiOgKBts5oKenB3fccQc0TUMqlcLg4OB1vf+RI0ewevVqfPPNN7Db7fL6qlWr0N3djZaWFjnEnoiIaLYR52kFERIVRUEsFkMwGJTnYsWb2+2W51vT6TRisRhUVZWBV3QsFvcWXZRdLhdKS0uhKApOnTolw63FYsGyZctQW1uLDRs2IJVK4bXXXsOrr76KRCKBjo4O2O121NfXw+/3IxgM4sSJEwgGg3A6nTI858/gJSKibzHYzhFiTMCNcu7cOdTX1+Orr76Cz+eT1+vr63H69Omc2bdERESzjdi+a+6IbLVaoSgKwuGwDLui8qooChwOB1wul+xIHI/HcxpJZbNZpFKpcQHTXLk9ffo0du3aJcNwe3s7KisrcddddyGRSOCVV17Bm2++iVAohMWLF8NisaCiogL19fUIBoPo7+9HOByGpmny/gy2RETjMdjSVRsaGsK6devwj3/8AwsXLgQA2VGSiIhoNjMH20wmI7f1ijAbDodlWEylUrDb7fLsrcPhQDKZRDqdztmhZA630WgUwJXQKbolZzIZnD17Frt370Y2m0UymcTSpUtRVlaG1atXIxQK4e9//zv+9a9/IRAIoLa2FoZhwO12o6KiAsFgEBcuXEAikZDbkAWGWyKiKxhs6ZqcOHECjz32GP785z+jvb1dnhMiIiKa7UQzN/PWYavVKo/ZhEIhefbW5XJBVVU5O9ZqtebMtBXEFmdzuBV0XUdJSQmy2awMt8lkErFYDM3NzfB4PFi2bBnGxsbw/vvv48MPP8SyZctQXl6OZDIJTdPg8XgQDocxOjoquzETEdF4DLZ0zfbv349NmzZhxYoVAIA//vGPM7wiIiKiqyMaL5nPq6qqCrvdjmw2i3A4DMMwkEgkoGkaLBaLbBQltivnz5MVYdMwDBluRTXX6XTKyu3AwABSqRTi8ThGR0dRV1cHp9OJxYsXIxAIYN++fTh48CBuvvlmuN1uWaW12+05I3+IiGg8Bluakj179mDPnj0zvQyaI6Y6Cuh6m+rXut4jfaZakZnq+qf69Sb6vBvxnLFKRdeLCKWGYeT8XImjNdlsFtFoFIZhwOFwyDO1okorthpPtA3YXLnND7eiciu6MS9ZsgQLFiyAqqqor6/H0qVL0dvbi+PHj6Oqqgp2ux2JRCKnYizGE3EbMhFRLgZbIiIimldEuBWNn7LZrAywqqoik8kgHo/DMAzYbDYoiiIrveYRP+Je5v+2WCwy3JrP9DocDrjdbmQyGQwODiKZTCIYDKK5uVmG3vLyctTW1qKvrw8DAwMoKSmBqqryXK/YPs05tkRE4zHYEhER0bxhDqSiciuCrZhTK7Ycp1IpOb9WVEhFoDQHy4nCrblhVTqdlvNyS0tLcfnyZaRSKYyNjaGqqgpOpxOGYcDlcqGsrAwXLlzA8PAwHA5HznZocX8GWyKiXAy2RERENG+IcT/mebTiugiwwJUGU+Jcq3nb8tWGW8MwEIvFAECGaE3TYLfb4Xa7EQgEZOXW5/NBVVXZNMrtdmN0dBThcBhWq1Xeg4iICmOwJSIionklP5CKLcYi9ObLD7bfdd9C4TaTyciqrdVqhc1mg6ZpCAaDMtw6nU5YLBYkk0koigJN0xCLxZBOp2U1mduQiYgKY7AlIiKieS+TyeRUc4HCFdnvkh9uAchtxOaqrRg1ZLVaEYlEkEwm4XQ6ZQMr0dzKarUilUrJTs4MtUREhTHYEhEREaHwFuPvcx/gynnYdDqNRCIhw63VapXbnVVVRSKRQCqVkqHXvE3aYrHI4E1ERIUx2BLRrDbdo2+u9/0m+7ypjMuZLY/HZDiah4rZ9fqzIqq/5vuJLc8i3IozvSLgGoaBdDoNVVXHnQFmtZaIaHIMtkREREQ3QKFtyWLMkLnbsvhYUZkV7zPfg4iIJsdgS0RERHQD5YdTsTVZNKXK3+Ug3l+oEzMRERXGYEtEREQ0zcxdmAs1qyr030RENDEGWyIiIqIZwvE9RETXhzLTCyAiIiIiIiL6PhhsiYiIiIiIqKhZstz/QkREREREREWMFVsiIiIiIiIqagy2REREREREVNQYbImIiIiIiKioMdgSERERERFRUWOwJSIiIiIioqLGYEtERERERERFjcGWiIiIiIiIihqDLRERERERERU1BlsiIiIiIiIqagy2REREREREVNQYbImIiIiIiKioMdgSERERERFRUWOwJSIiIiIioqLGYEtERERERERFjcGWiIiIiIiIihqDLRERERERERU1BlsiIiIiIiIqagy2REREREREVNQYbImIiIiIiKioMdgSERERERFRUWOwJSIiIiIioqLGYEtERERERERFjcGWiIiIiIiIihqDLRERERERERU1BlsiIiIiIiIqagy2REREREREVNQYbImIiIiIiKioMdgSERERERFRUWOwJSIiIiIioqLGYEtERERERERFjcGWiIiIiIiIihqDLRERERERERU1BlsiIiIiIiIqagy2REREREREVNQYbImIiIiIiKioMdgSERERERFRUWOwJSIiIiIioqLGYEtERERERERFjcGWiIiIiIiIihqDLRERERERERW1/wN0CciKsAlRCQAAAABJRU5ErkJggg==' width=950.0/>\n",
       "            </div>\n",
       "        "
      ],
      "text/plain": [
       "Canvas(toolbar=Toolbar(toolitems=[('Home', 'Reset original view', 'home', 'home'), ('Back', 'Back to previous …"
      ]
     },
     "metadata": {},
     "output_type": "display_data"
    }
   ],
   "source": [
    "def get_absolute_response(image, filter_size, sigma, f, alpha):\n",
    "    # Use scipy.signal.fftconvolve for better performance.\n",
    "    scipy.signal.fftconvolve(image, image)\n",
    "        # YOUR CODE HERE\n",
    "    rows, cols = image.shape\n",
    "    abs_response = np.zeros((rows, cols))\n",
    "    gabor_filter = build_gabor_filter(filter_size,sigma,f,alpha)\n",
    "    abs_response = np.abs(scipy.signal.convolve2d(image, gabor_filter, mode=\"same\"))\n",
    "    return abs_response, gabor_filter\n",
    "    \n",
    "def bin_values(vals, grid_size):\n",
    "    rows, cols = vals.shape\n",
    "    binned_values = np.zeros((grid_size,grid_size))\n",
    "    for row in range(grid_size):\n",
    "        for col in range(grid_size):\n",
    "            i0 = int(row/grid_size*rows)\n",
    "            i1 = int((row+1)/grid_size*rows)\n",
    "            i2 = int(col/grid_size*cols)\n",
    "            i3 = int((col+1)/grid_size*cols)\n",
    "            value = np.average(vals[i0:i1,i2:i3])\n",
    "            binned_values[row,col] = value\n",
    "    return binned_values\n",
    "    \n",
    "image = helpers.imread_normalized_float_grayscale(os.path.join(local_data_folder, \"grad_test.png\"))\n",
    "\n",
    "response, gabor_filter = get_absolute_response(image, 32, 1.0/3.2, 8, np.radians(45))\n",
    "binned = bin_values(response, 4)\n",
    "    \n",
    "helpers.show_images({\n",
    "    'Input Image': image,\n",
    "    'Your Filter': gabor_filter / gabor_filter.max() * 0.5 + 0.5,\n",
    "    'Your Response': response / response.max(),\n",
    "    'Your Binned': plt.get_cmap('gray')(binned / binned.max())\n",
    "}, nrows=1, ncols=4)"
   ]
  },
  {
   "cell_type": "markdown",
   "metadata": {
    "deletable": false,
    "editable": false,
    "nbgrader": {
     "cell_type": "markdown",
     "checksum": "88ab7beead53180c2189373d2dfa44a8",
     "grade": false,
     "grade_id": "cell-46a068273c0b7547",
     "locked": true,
     "schema_version": 3,
     "solution": false,
     "task": false
    }
   },
   "source": [
    "### Testing your solution of exercise 8\n",
    "You can test your `bin_values(vals, grid_size)` function by creating a small and simple test image. Work out by hand what the binned image should look like and verify that your solution matches what you expect. The code below checks some basic properties such as the size of the returned image."
   ]
  },
  {
   "cell_type": "code",
   "execution_count": 109,
   "metadata": {
    "deletable": false,
    "editable": false,
    "nbgrader": {
     "cell_type": "code",
     "checksum": "21c9682b184fa8c3bd578c212b6a37a8",
     "grade": true,
     "grade_id": "exercise8a",
     "locked": true,
     "points": 2,
     "schema_version": 3,
     "solution": false,
     "task": false
    }
   },
   "outputs": [],
   "source": [
    "image = helpers.imread_normalized_float_grayscale(os.path.join(local_data_folder, \"grad_test.png\"))\n",
    "response, gabor_filter = get_absolute_response(image, 32, 1.0/3.2, 8, np.radians(45))\n",
    "assert(gabor_filter.shape == (32, 32))\n",
    "assert(response.shape == image.shape)\n"
   ]
  },
  {
   "cell_type": "code",
   "execution_count": null,
   "metadata": {
    "deletable": false,
    "editable": false,
    "nbgrader": {
     "cell_type": "code",
     "checksum": "b485c938f6c5816d17ec7dea4ea5a634",
     "grade": true,
     "grade_id": "exercise8b",
     "locked": true,
     "points": 2,
     "schema_version": 3,
     "solution": false,
     "task": false
    }
   },
   "outputs": [],
   "source": []
  },
  {
   "cell_type": "markdown",
   "metadata": {
    "deletable": false,
    "editable": false,
    "nbgrader": {
     "cell_type": "markdown",
     "checksum": "5705a2352cdf1fed1a889ecb8a165b31",
     "grade": false,
     "grade_id": "cell-d6e05bc8fffb4433",
     "locked": true,
     "schema_version": 3,
     "solution": false,
     "task": false
    }
   },
   "source": [
    "## Exercise 9 (5 points)\n",
    "Finally, a *GIST* descriptor is formed by concatenation of flattened histograms $H_k$ for Gabor filters $g_k$ with different scales and orientations. Here is an example of a small filter bank with 3 different sizes $s$,= and 4 orientations $\\alpha$:\n",
    "\n",
    "<img src=\"gabors_4x3.png\" alt=\"Gabor filters\" style=\"width:60%\" />\n",
    "\n",
    "\n",
    "If we further consider a histogram size of $2\\times2$, we obtain a GIST descriptor as a 1D vector with $3\\times4\\times2\\times2 = 48$ values (for this particular choice of parameters). \n",
    "The GIST vector features one entire histogram row after another and this is repeated first for every orientation $\\alpha$ and then for every scale $s$, so that the order is:\n",
    "$$\n",
    "[s_0,\\alpha_0,y_0,x_0], [s_0,\\alpha_0,y_0,x_1],\\cdots[s_0,\\alpha_0,y_1,x_0],\\cdots[s_0,\\alpha_1,y_0,x_0],\\cdots[s_1,\\alpha_0,y_0,x_0],\\cdots[s_S,\\alpha_A,y_Y,x_X].\n",
    "$$\n",
    "\n",
    "The GIST alone only describes the distribution of gradients in the image. To make it more powerfull, we append one more histogram describing the distribution of the colors in the image similarly as shown for the collection-based inpainting in the lecture.\n",
    "This color histogram is built the same way as previously but instead of the filter response it averages the RGB value of the image. When appeneded at the end of the descriptor, it adds another `grid_size` $\\times$ `grid_size` $\\times 3$ values that correspond to a flattened 2D color histogram with an order:\n",
    "\n",
    "$$\n",
    "[y_0,x_0,R],[y_0,x_0,G],[y_0,x_0,B],\\cdots[y_0,x_1,R],[y_0,x_1,G],[y_0,x_1,B],\\cdots[y_1,x_0,R],[y_1,x_0,G],[y_0,x_1,B],\\cdots\n",
    "$$\n",
    "\n",
    "The final descriptor for this assignment is then defined as\n",
    "$\\mathbf{d} = [\\textrm{GIST} \\cdot w_{grad}, H_{RGB}]$\n",
    "where $w_{grad}$ is additional weight scalar that scales the contribution of the gradients.\n",
    "\n",
    "### Task\n",
    "Implement a method that computes a full descriptor of given RGB image including the RGB appendix. \n",
    "Cover all combinations of sizes $s$ and orientations $\\alpha$.\n",
    "\n",
    "### Tips\n",
    "- The histogram method developed in previous excercise can be easily adapted to compute the RGB histogram.\n",
    "- Visualize the individual filters and their responses in a similar grid as shown in the exercise to better understand what each filter scale and orientation does."
   ]
  },
  {
   "cell_type": "code",
   "execution_count": null,
   "metadata": {
    "deletable": false,
    "nbgrader": {
     "cell_type": "code",
     "checksum": "dc90e5e5fb55430daff84e0c2f620e57",
     "grade": false,
     "grade_id": "cell-36f1a57a16bd2ebd",
     "locked": false,
     "schema_version": 3,
     "solution": true,
     "task": false
    }
   },
   "outputs": [],
   "source": [
    "def image_rgb_to_grayscale(image):\n",
    "    return cv2.cvtColor(image, cv2.COLOR_RGB2GRAY)\n",
    "\n",
    "def build_gist_descriptor(image, filte_sizes, alphas, sigma, f, grid_size, grad_weight):\n",
    "    # Use image_rgb_to_grayscale() to convert the RGB image to grayscale.\n",
    "    # YOUR CODE HERE\n",
    "    raise NotImplementedError()\n",
    "    # return descriptor\n",
    "    \n",
    "image = helpers.imread_normalized_float(os.path.join(local_data_folder, \"spatenv/opencountry_land228.jpg\"))\n",
    "\n",
    "    \n",
    "filter_sizes = np.array([9,17,33,65])\n",
    "alphas = np.radians(np.arange(6, dtype=float)/6*180)\n",
    "sigma = 1.0 / 3.2\n",
    "f = 8\n",
    "grid_size = 4\n",
    "grad_weight = 20\n",
    "descriptor = build_gist_descriptor(image, filter_sizes, alphas, sigma, f, grid_size, grad_weight)\n",
    "\n",
    "\n",
    "# Visualize.\n",
    "dsize = grid_size**2\n",
    "s_maxs = np.array([descriptor[i*(dsize*len(alphas)):(i+1)*(dsize*len(alphas))].max() for i in range(len(filter_sizes))])\n",
    "panels = {}\n",
    "for i, (s, a) in enumerate(itertools.product(filter_sizes, alphas)):\n",
    "    d = descriptor[i*dsize:(i+1)*dsize].reshape(grid_size, grid_size)\n",
    "    panels[f's={s} a={np.degrees(a):.0f}'] = plt.get_cmap('viridis')(d / s_maxs[filter_sizes==s])\n",
    "panels['RGB'] = descriptor[-(dsize*3):].reshape(grid_size,grid_size,3)\n",
    "skeys = ['s=9 a=0','s=17 a=60', 's=33 a=90', 's=65 a=120', 'RGB']\n",
    "panels = {f'Your {k}': panels[k] for k in skeys}\n",
    "panels.update({f'Refer. {k}': helpers.imread_normalized_float(os.path.join(local_data_folder, f\"codes/{k.replace('=', '_')}.png\")) for k in skeys})\n",
    "helpers.show_images(panels, nrows=2, ncols=len(skeys), col_height=2.2)"
   ]
  },
  {
   "cell_type": "markdown",
   "metadata": {
    "deletable": false,
    "editable": false,
    "nbgrader": {
     "cell_type": "markdown",
     "checksum": "ce426c9bee74417c92a1396509a6605d",
     "grade": false,
     "grade_id": "cell-3a827c565358ac08",
     "locked": true,
     "schema_version": 3,
     "solution": false,
     "task": false
    }
   },
   "source": [
    "### Testing your solution of exercise 3\n",
    "Compare your solutions to the provided reference."
   ]
  },
  {
   "cell_type": "code",
   "execution_count": null,
   "metadata": {
    "deletable": false,
    "editable": false,
    "nbgrader": {
     "cell_type": "code",
     "checksum": "28cfc46981028a91edf2dcf98d9a7eff",
     "grade": true,
     "grade_id": "exercise9a",
     "locked": true,
     "points": 3,
     "schema_version": 3,
     "solution": false,
     "task": false
    }
   },
   "outputs": [],
   "source": []
  },
  {
   "cell_type": "code",
   "execution_count": null,
   "metadata": {
    "deletable": false,
    "editable": false,
    "nbgrader": {
     "cell_type": "code",
     "checksum": "9f541ad4f47e694592e7c0e9869c4b6b",
     "grade": true,
     "grade_id": "exercise9b",
     "locked": true,
     "points": 2,
     "schema_version": 3,
     "solution": false,
     "task": false
    }
   },
   "outputs": [],
   "source": []
  },
  {
   "cell_type": "markdown",
   "metadata": {
    "deletable": false,
    "editable": false,
    "nbgrader": {
     "cell_type": "markdown",
     "checksum": "20d8752501bb0c03a7351ed407c0e824",
     "grade": false,
     "grade_id": "dgdfgdfgdfg342",
     "locked": true,
     "schema_version": 3,
     "solution": false,
     "task": false
    }
   },
   "source": [
    "## Exercise 10 (4 points)\n",
    "\n",
    "We can now use the resulting descriptor to quickly find a set of $k$ most similar images in potentially large image collection which would take a long time to compare pixel-by-pixel. \n",
    "\n",
    "In this exercise we will find the most similar image by minimizing the L2 distance between the query image descriptor $\\mathbf{d}$ and the collection image descriptors $\\mathbf{d}_i$ such that the index of the most similar image $j$ is\n",
    "$$\n",
    "j = \\arg\\min_{i} ||\\mathbf{d} - \\mathbf{d}_i||^2_2.\n",
    "$$\n",
    "\n",
    "This is useful for exploring large image collections where a search engine can suggest other images similar to the one we are looking at. It can also be used for a coarse categorization of images (coast, mountains, road, city,...) and in the lecture we have seen that a similar image can be used for image inpainting. \n",
    "\n",
    "Note, that for an effective implementation, we must ignore the pixels that are marked as invalid in a provided inpainting mask $M$. That means that every convolution has to carefully avoid sampling the invalid pixels which results in a more complex and slow implementation This is why in this exercise we simulate similar effect by modifying the query image.\n",
    "\n",
    "### Task\n",
    "\n",
    "Implement a method that replaces marked pixels in a given RGB image $\\mathbf{I} \\in \\mathcal{R}^{H \\times W \\times 3}$ with pixels from the most similar image in a provided image collection. \n",
    "The marked pixels are encoded by zeros in the provided mask $M \\in [0,1]^{H \\times W}$.\n",
    "Find the most similar image by minimizing the L2 descriptor norm as shown above.\n",
    "To compute the query image descriptor, use a modified query image generated from the input image by replacing the invalid pixels ($M = 0$) by a uniform gray color ($[0.5, 0.5, 0.5]$).\n",
    "Return the modified query image, the most similar collection image and the inpainted image.\n",
    "\n",
    "\n",
    "### Tips\n",
    "- The descriptors for all images in the dataset are provided and do not need to be recomputed.\n",
    "- Visualize several of the most similar and also several of the least similar images. \n",
    "- Test the query with your own image. Note that the metric is only effective if the collection contains a very close match of the query image. In practice, that means that collections of milions of images are needed. In this example we only use a very small collection of pre-selected image samples.\n",
    "\n",
    "Images courtesy of [8 Scene Categories Dataset](http://people.csail.mit.edu/torralba/code/spatialenvelope/)"
   ]
  },
  {
   "cell_type": "code",
   "execution_count": null,
   "metadata": {
    "deletable": false,
    "nbgrader": {
     "cell_type": "code",
     "checksum": "dfbeaade595266bb6035a03bffc63da2",
     "grade": false,
     "grade_id": "exercise10_code",
     "locked": false,
     "schema_version": 3,
     "solution": true,
     "task": false
    }
   },
   "outputs": [],
   "source": [
    "def inpaint_image(image, mask, dataset_descriptors, dataset_files, \n",
    "                 filter_sizes, alphas, sigma, f, grid_sizes, grad_weight):\n",
    "    # Use helpers.imread_normalized_float(dataset_files[i]) to read an image i\n",
    "    # YOUR CODE HERE\n",
    "    raise NotImplementedError()\n",
    "    #return query_image, nearest_image, inpainted_image \n",
    "\n",
    "filter_sizes = np.array([9,17,33,65])\n",
    "alphas = np.radians(np.arange(6, dtype=float)/6*180)\n",
    "sigma = 1.0 / 3.2\n",
    "f = 8\n",
    "grid_size = 4\n",
    "grad_weight = 20\n",
    "\n",
    "dataset_files = sorted(helpers.list_files_in_folder(os.path.join(local_data_folder, \"spatenv\"), filter=\"*.jpg\"))\n",
    "dataset_descriptors = np.load(os.path.join(local_data_folder, 'spatenv_descs.npy'))\n",
    "image = helpers.imread_normalized_float(os.path.join(local_data_folder, \"opencountry_land493.jpg\"))\n",
    "mask = np.zeros(image.shape[:2])\n",
    "mask[:image.shape[0]//2] = 1\n",
    "\n",
    "query, nearest, inpainted = inpaint_image(image.copy(), mask, dataset_descriptors, dataset_files,\n",
    "                                        filter_sizes, alphas, sigma, f, grid_size, grad_weight)\n",
    "                                        \n",
    "helpers.show_images({\n",
    "    'Your Input': image,\n",
    "    'Your Query': query,\n",
    "    'Your Nearest': nearest,\n",
    "    'Your Result': inpainted\n",
    "}, nrows=1, ncols=4, col_height=3)"
   ]
  },
  {
   "cell_type": "markdown",
   "metadata": {
    "deletable": false,
    "editable": false,
    "nbgrader": {
     "cell_type": "markdown",
     "checksum": "39a52ab562d1b6973bd8a10d8a54671d",
     "grade": false,
     "grade_id": "cell-8075b99c15122bf3",
     "locked": true,
     "schema_version": 3,
     "solution": false,
     "task": false
    }
   },
   "source": [
    "### Testing your solution of exercise 10\n",
    "Have a look at the set of images in the data set (`datasets/week3/collections/spatenv/` folder). Is the image picked by your algorithm close to the query image (compared to the other images in the data set)? Try different query images and check if this is still the case.\n",
    "\n",
    "The code below checks some basic properties such as the size of the returned images."
   ]
  },
  {
   "cell_type": "code",
   "execution_count": null,
   "metadata": {
    "deletable": false,
    "editable": false,
    "nbgrader": {
     "cell_type": "code",
     "checksum": "a730c4f52e9fe347d29fac6ffd54a061",
     "grade": true,
     "grade_id": "exercise10",
     "locked": true,
     "points": 4,
     "schema_version": 3,
     "solution": false,
     "task": false
    }
   },
   "outputs": [],
   "source": [
    "filter_sizes = np.array([9,17,33,65])\n",
    "alphas = np.radians(np.arange(6, dtype=float)/6*180)\n",
    "sigma = 1.0 / 3.2\n",
    "f = 8\n",
    "grid_size = 4\n",
    "grad_weight = 20\n",
    "\n",
    "dataset_files = sorted(helpers.list_files_in_folder(os.path.join(local_data_folder, \"spatenv\"), filter=\"*.jpg\"))\n",
    "dataset_descriptors = np.load(os.path.join(local_data_folder, 'spatenv_descs.npy'))\n",
    "image = helpers.imread_normalized_float(os.path.join(local_data_folder, \"opencountry_land493.jpg\"))\n",
    "mask = np.zeros(image.shape[:2])\n",
    "mask[:image.shape[0]//2] = 1\n",
    "\n",
    "query, nearest, inpainted = inpaint_image(image.copy(), mask, dataset_descriptors, dataset_files,\n",
    "                                        filter_sizes, alphas, sigma, f, grid_size, grad_weight)\n",
    "assert(query.shape == image.shape)\n",
    "assert(nearest.shape == image.shape)\n",
    "assert(inpainted.shape == image.shape)\n"
   ]
  }
 ],
 "metadata": {
  "kernelspec": {
   "display_name": "Python 3 (ipykernel)",
   "language": "python",
   "name": "python3"
  },
  "language_info": {
   "codemirror_mode": {
    "name": "ipython",
    "version": 3
   },
   "file_extension": ".py",
   "mimetype": "text/x-python",
   "name": "python",
   "nbconvert_exporter": "python",
   "pygments_lexer": "ipython3",
   "version": "3.9.7"
  }
 },
 "nbformat": 4,
 "nbformat_minor": 4
}
