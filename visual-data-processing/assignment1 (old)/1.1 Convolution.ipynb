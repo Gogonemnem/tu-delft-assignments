{
 "cells": [
  {
   "cell_type": "code",
   "execution_count": 1,
   "metadata": {
    "deletable": false,
    "editable": false,
    "nbgrader": {
     "cell_type": "code",
     "checksum": "3d242934d6058528647957277cd4a916",
     "grade": false,
     "grade_id": "cell-52e847beec45b2d0",
     "locked": true,
     "schema_version": 3,
     "solution": false
    }
   },
   "outputs": [],
   "source": [
    "%matplotlib widget\n",
    "import matplotlib.pyplot as plt\n",
    "import numpy as np\n",
    "import cv2\n",
    "import scipy.signal\n",
    "import scipy.ndimage\n",
    "import os\n",
    "# helpers.py is one level up in the directory structure so we need to tell Python were to find it\n",
    "import sys\n",
    "sys.path.append(\"../../\")\n",
    "import helpers"
   ]
  },
  {
   "cell_type": "markdown",
   "metadata": {
    "deletable": false,
    "editable": false,
    "nbgrader": {
     "cell_type": "markdown",
     "checksum": "1485b46a8d14c71a78371412467bab46",
     "grade": false,
     "grade_id": "cell-87f3852884588018",
     "locked": true,
     "schema_version": 3,
     "solution": false
    }
   },
   "source": [
    "# Convolution\n",
    "In addition to filters that only consider a single input pixel at a time (such as in the brightness and saturation filters), we can also design filters that take into account a neighbourhood around a pixel. A popular way of formulating and applying these filters is through the use of the convolution operator. The convolution operator applies a weighted sum to the surrounding pixels for each output pixel. The weights of the weighted sum are organized in an array (called kernel). The kernel is centered around the pixel that is currently computed (hence the size of the kernel should always be uneven) - compare the slides on box filtering.\n",
    "\n",
    "## Exercise 6 (2 points)\n",
    "Implement a function that applies a convolution to a 1D array using a given kernel. The output array should be of the same size as the input and values outside the input range should be interpreted as zero."
   ]
  },
  {
   "cell_type": "code",
   "execution_count": 87,
   "metadata": {
    "deletable": false,
    "nbgrader": {
     "cell_type": "code",
     "checksum": "fb9e072fc9112602290b387ed17f2f6f",
     "grade": false,
     "grade_id": "exercise6_code",
     "locked": false,
     "schema_version": 3,
     "solution": true
    }
   },
   "outputs": [
    {
     "name": "stdout",
     "output_type": "stream",
     "text": [
      "Input:              [0.7 0.3 0.4 0.6 0.1]\n",
      "Your solution:      [ 0.275 -0.125 -0.025  0.175 -0.1  ]\n"
     ]
    }
   ],
   "source": [
    "def apply_convolution1D(data, kernel):\n",
    "    near = len(kernel) // 2\n",
    "    convolution = np.zeros(data.shape)\n",
    "\n",
    "    for x in range(data.shape[0]):\n",
    "        if x < near:\n",
    "            first_weight = near - x\n",
    "            first_nbor = 0\n",
    "        else:\n",
    "            first_weight = 0\n",
    "            first_nbor = x - near\n",
    "        \n",
    "        nbors = data[first_nbor:x+1 + near]\n",
    "        weights = kernel[first_weight:first_weight+len(nbors)]\n",
    "        convolution[x] = np.sum(nbors * weights)\n",
    "        \n",
    "    \n",
    "    return convolution\n",
    "\n",
    "\n",
    "data = np.array([0.7, 0.3, 0.4, 0.6, 0.1])\n",
    "kernel = np.array([-1, 2, -1]) / 4\n",
    "print(f\"Input:              {data}\")\n",
    "print(f\"Your solution:      {apply_convolution1D(data, kernel)}\")"
   ]
  },
  {
   "cell_type": "markdown",
   "metadata": {
    "deletable": false,
    "editable": false,
    "nbgrader": {
     "cell_type": "markdown",
     "checksum": "6f36dfad5a9a063b45028264e1322793",
     "grade": false,
     "grade_id": "cell-834dc5c8a21182ee",
     "locked": true,
     "schema_version": 3,
     "solution": false,
     "task": false
    }
   },
   "source": [
    "### Testing your solution of exercise 6\n",
    "Very by hand (pen and paper) that your solution is correct. You are free to try different inputs and kernels as well."
   ]
  },
  {
   "cell_type": "code",
   "execution_count": 85,
   "metadata": {
    "deletable": false,
    "editable": false,
    "nbgrader": {
     "cell_type": "code",
     "checksum": "d19725679fd7dc728aa4192e6ea48e99",
     "grade": true,
     "grade_id": "exercise6",
     "locked": true,
     "points": 2,
     "schema_version": 3,
     "solution": false
    }
   },
   "outputs": [],
   "source": [
    "np.random.seed(42)\n",
    "data = np.random.rand(10)\n",
    "kernel = np.array([-1, 2, -1]) / 4\n",
    "result = apply_convolution1D(data, kernel)\n",
    "assert(type(result) == np.ndarray) # np.array\n",
    "assert(len(result) == 10)\n"
   ]
  },
  {
   "cell_type": "markdown",
   "metadata": {
    "deletable": false,
    "editable": false,
    "nbgrader": {
     "cell_type": "markdown",
     "checksum": "07ed8adf4cd3396590fb53ca002f6367",
     "grade": false,
     "grade_id": "cell-c9145011cd51bce4",
     "locked": true,
     "schema_version": 3,
     "solution": false
    }
   },
   "source": [
    "## Exercise 7 (2 points)\n",
    "Convolutions can also be applied to 2 dimensional data using a 2D kernel. Implement a function that applies the convolution operator in 2D."
   ]
  },
  {
   "cell_type": "code",
   "execution_count": 94,
   "metadata": {
    "deletable": false,
    "nbgrader": {
     "cell_type": "code",
     "checksum": "5a763c29b7da5ff7eb96665d7797fa27",
     "grade": false,
     "grade_id": "exercise7_code",
     "locked": false,
     "schema_version": 3,
     "solution": true
    }
   },
   "outputs": [
    {
     "name": "stdout",
     "output_type": "stream",
     "text": [
      "Input:\n",
      "[[0.4 0.9 0.7 0.6 0.2]\n",
      " [0.2 0.5 0.9 0.6 0.7]\n",
      " [0.  1.  0.8 0.2 0.1]\n",
      " [0.1 0.3 0.5 0.4 0.3]\n",
      " [0.6 0.1 0.3 0.3 0.5]]\n",
      "\n",
      "Your solution:\n",
      "[[1.9 3.4 3.8 2.7 1.7]\n",
      " [1.3 4.  4.4 3.6 2.3]\n",
      " [1.3 3.6 4.2 2.3 1.4]\n",
      " [1.1 2.3 2.8 2.1 1.6]\n",
      " [1.4 1.4 1.5 1.8 1.6]]\n"
     ]
    }
   ],
   "source": [
    "def apply_convolution2D(data, kernel):\n",
    "    near = tuple(dim//2 for dim in kernel.shape)\n",
    "    convolution = np.zeros(data.shape)\n",
    "    \n",
    "    for y in range(data.shape[0]):\n",
    "        if y < near[0]:\n",
    "            first_yweight = near[0] - y\n",
    "            first_ynbor = 0\n",
    "        else:\n",
    "            first_yweight = 0\n",
    "            first_ynbor = y - near[0]\n",
    "\n",
    "        for x in range(data.shape[1]):\n",
    "            if x < near[1]:\n",
    "                first_xweight = near[1] - x\n",
    "                first_xnbor = 0\n",
    "            else:\n",
    "                first_xweight = 0\n",
    "                first_xnbor = x - near[1]\n",
    "\n",
    "            nbors = data[first_ynbor:y+1 + near[0], first_xnbor:x+1 + near[1]]\n",
    "            weights = kernel[first_yweight:first_yweight+nbors.shape[0], first_xweight:first_xweight+nbors.shape[1]]\n",
    "            convolution[y, x] = np.sum(nbors * weights)\n",
    "    \n",
    "    return convolution\n",
    "\n",
    "np.random.seed(42)\n",
    "data = np.array([\n",
    "    [0.4, 0.9, 0.7, 0.6, 0.2],\n",
    "    [0.2, 0.5, 0.9, 0.6, 0.7],\n",
    "    [0.0, 1.0, 0.8, 0.2, 0.1],\n",
    "    [0.1, 0.3, 0.5, 0.4, 0.3],\n",
    "    [0.6, 0.1, 0.3, 0.3, 0.5]\n",
    "])\n",
    "kernel = np.array([\n",
    "    [0, 1, 0],\n",
    "    [1, 2, 1],\n",
    "    [0, 1, 0],\n",
    "])\n",
    "\n",
    "result = apply_convolution2D(data, kernel)\n",
    "print(f\"Input:\\n{data}\")\n",
    "print(f\"\\nYour solution:\\n{result}\")"
   ]
  },
  {
   "cell_type": "markdown",
   "metadata": {
    "deletable": false,
    "editable": false,
    "nbgrader": {
     "cell_type": "markdown",
     "checksum": "84bf6934a0d74d95431c38ac88371bdb",
     "grade": false,
     "grade_id": "cell-46011c9263b64477",
     "locked": true,
     "schema_version": 3,
     "solution": false,
     "task": false
    }
   },
   "source": [
    "### Testing your solution of exercise 7\n",
    "Verify by hand (pen and paper) that your solution is correct. You are free to try different inputs and kernels as well."
   ]
  },
  {
   "cell_type": "code",
   "execution_count": 95,
   "metadata": {
    "deletable": false,
    "editable": false,
    "nbgrader": {
     "cell_type": "code",
     "checksum": "39651ffb11d4b27500f34904fc7afaee",
     "grade": true,
     "grade_id": "exercise7",
     "locked": true,
     "points": 2,
     "schema_version": 3,
     "solution": false
    }
   },
   "outputs": [],
   "source": [
    "# Basic check to verify that the returned type is a numpy array of the correct size.\n",
    "data = np.random.rand(5, 5)\n",
    "kernel = np.random.rand(3, 3)\n",
    "result = apply_convolution2D(data, kernel)\n",
    "assert(type(result) == np.ndarray) # np.array\n",
    "assert(result.shape == (5, 5))\n"
   ]
  },
  {
   "cell_type": "markdown",
   "metadata": {
    "deletable": false,
    "editable": false,
    "nbgrader": {
     "cell_type": "markdown",
     "checksum": "81428a9ae6e49dede6b208f471053c39",
     "grade": false,
     "grade_id": "cell-3267690951b49aa3",
     "locked": true,
     "schema_version": 3,
     "solution": false
    }
   },
   "source": [
    "## Exercise 8: Box blur (1 point)\n",
    "Convolutions can be used to implement various image filters such as blurs. In the lecture, we discussed a box blur, where the output value is the mean of the surrounding pixels (including the center/input pixel). Implement a function that returns a box blur kernel of size $2N+1$ ($N$ to the left and $N$ to the right)."
   ]
  },
  {
   "cell_type": "code",
   "execution_count": null,
   "metadata": {
    "deletable": false,
    "nbgrader": {
     "cell_type": "code",
     "checksum": "907b4c871904c255f08fcb5e18c8d8ea",
     "grade": false,
     "grade_id": "exercise8_code",
     "locked": false,
     "schema_version": 3,
     "solution": true
    }
   },
   "outputs": [],
   "source": [
    "def box_blur_kernel1D(N):\n",
    "    # YOUR CODE HERE\n",
    "    raise NotImplementedError()\n",
    "\n",
    "np.random.seed(42)\n",
    "x = np.linspace(-0.1, 1.1) # Slightly outside the visible range so we don't see the boundary effects\n",
    "y = 0.8 * np.sin(10 * x) + 0.2 * (2 * np.random.rand(x.shape[0]) - 1)\n",
    "\n",
    "plt.figure(figsize=helpers.default_fig_size)\n",
    "plt.grid(True)\n",
    "plt.plot(x, y, '-', linewidth=2)\n",
    "plt.plot(x, np.convolve(y, box_blur_kernel1D(3), mode=\"same\"), '--', linewidth=2)\n",
    "plt.xlim(0, 1)\n",
    "plt.ylim(-1, 1)\n",
    "plt.legend([\"Input data\", \"Box blurred (your solution)\"])\n",
    "plt.title(\"Box blur applied to noisy input data (sin curve)\")\n",
    "plt.show()"
   ]
  },
  {
   "cell_type": "markdown",
   "metadata": {
    "deletable": false,
    "editable": false,
    "nbgrader": {
     "cell_type": "markdown",
     "checksum": "4d40caa690c4bff69c977a9790e7c8f4",
     "grade": false,
     "grade_id": "cell-2c53f8903979b87d",
     "locked": true,
     "schema_version": 3,
     "solution": false,
     "task": false
    }
   },
   "source": [
    "### Testing your solution of exercise 8\n",
    "If you implemented exercise 8 correctly then the orange line should be a smoother version of the blue line."
   ]
  },
  {
   "cell_type": "code",
   "execution_count": null,
   "metadata": {
    "deletable": false,
    "editable": false,
    "nbgrader": {
     "cell_type": "code",
     "checksum": "e9fd53086c7bab1d757bdfd27d1cb64d",
     "grade": true,
     "grade_id": "exercise8",
     "locked": true,
     "points": 1,
     "schema_version": 3,
     "solution": false
    }
   },
   "outputs": [],
   "source": [
    "# Basic check to verify that the returned type is a numpy array of the correct size.\n",
    "kernel = box_blur_kernel1D(2)\n",
    "assert(type(kernel) == np.ndarray) # np.array\n",
    "assert(kernel.shape == (5,))\n"
   ]
  },
  {
   "cell_type": "markdown",
   "metadata": {
    "deletable": false,
    "editable": false,
    "nbgrader": {
     "cell_type": "markdown",
     "checksum": "9c4bdf967a269098656107841364a9dd",
     "grade": false,
     "grade_id": "cell-472e343b36a6ef42",
     "locked": true,
     "schema_version": 3,
     "solution": false,
     "task": false
    }
   },
   "source": [
    "## Exercise 9 (1 point)\n",
    "Implement a function that returns a kernel for a **2D** box blur."
   ]
  },
  {
   "cell_type": "code",
   "execution_count": null,
   "metadata": {
    "deletable": false,
    "nbgrader": {
     "cell_type": "code",
     "checksum": "591dc764fe4e53ec87b9480dfd200a47",
     "grade": false,
     "grade_id": "exercise9_code",
     "locked": false,
     "schema_version": 3,
     "solution": true
    }
   },
   "outputs": [],
   "source": [
    "def box_blur_kernel2D(N):\n",
    "    # Return kernel of size (2N+1)x(2N+1)\n",
    "    # YOUR CODE HERE\n",
    "    raise NotImplementedError()\n",
    "\n",
    "new_york_image = helpers.imread_normalized_float_grayscale(os.path.join(helpers.dataset_folder, \"week1\", \"colors\", \"newyork.jpg\"), 0.25) # Downscale by 4 in each direction = 16 times less pixels.\n",
    "\n",
    "new_york_blurred5 = scipy.signal.convolve2d(new_york_image, box_blur_kernel2D(2))\n",
    "%time new_york_blurred19 = scipy.signal.convolve2d(new_york_image, box_blur_kernel2D(9))\n",
    "\n",
    "helpers.show_images({ \"Input\": new_york_image , \"Slightly blurred (your solution)\": new_york_blurred5, \"Heavily blurred (your solution)\":  new_york_blurred19 }, nrows=1, ncols=3)\n",
    "\n",
    "# Release some memory\n",
    "del new_york_blurred5\n",
    "del new_york_blurred19"
   ]
  },
  {
   "cell_type": "markdown",
   "metadata": {
    "deletable": false,
    "editable": false,
    "nbgrader": {
     "cell_type": "markdown",
     "checksum": "054989c8227e1222de234181b497dfed",
     "grade": false,
     "grade_id": "cell-5d21f3494aa0d080",
     "locked": true,
     "schema_version": 3,
     "solution": false,
     "task": false
    }
   },
   "source": [
    "### Testing your solution of exercise 9\n",
    "If you implemented exercise 9 correctly then the images should show a slightly blurred and a more severly blurred version of the input image. The edges of the image will appear dark because the convolution assumes that regions outside the image are black."
   ]
  },
  {
   "cell_type": "code",
   "execution_count": null,
   "metadata": {
    "deletable": false,
    "editable": false,
    "nbgrader": {
     "cell_type": "code",
     "checksum": "801690cbce772aa0d89d9f1497a59e8d",
     "grade": true,
     "grade_id": "exercise9",
     "locked": true,
     "points": 1,
     "schema_version": 3,
     "solution": false
    }
   },
   "outputs": [],
   "source": [
    "# Basic check to verify that the returned type is a numpy array of the correct size.\n",
    "kernel = box_blur_kernel2D(2)\n",
    "assert(type(kernel) == np.ndarray) # np.array\n",
    "assert(kernel.shape == (5, 5))\n"
   ]
  },
  {
   "cell_type": "markdown",
   "metadata": {
    "deletable": false,
    "editable": false,
    "nbgrader": {
     "cell_type": "markdown",
     "checksum": "8f4f96cbfdce807795fccb995f91d586",
     "grade": false,
     "grade_id": "cell-287f29ec5b3dff80",
     "locked": true,
     "schema_version": 3,
     "solution": false,
     "task": false
    }
   },
   "source": [
    "# Exercise 10 (3 points)\n",
    "If you zoom in on the blurred image you will notice that the box filter creates blocky artifacts. Another popular blur filter, the Gaussian blur, prevents artifacts and results in a smoother image. Implement a function that returns a 2D Gaussian kernel as was described in the lecture. \n",
    "\n",
    "**Note:** Make sure that the resulting kernel is normalized (weights sum up to 1)."
   ]
  },
  {
   "cell_type": "code",
   "execution_count": null,
   "metadata": {
    "deletable": false,
    "nbgrader": {
     "cell_type": "code",
     "checksum": "ac2681a9ea192385f84984d1156eb575",
     "grade": false,
     "grade_id": "cell-b363269093ff1263",
     "locked": false,
     "schema_version": 3,
     "solution": true,
     "task": false
    }
   },
   "outputs": [],
   "source": [
    "def gaussian_blur_kernel2D(standard_deviation, N):\n",
    "    # Return kernel of size (2N+1 x 2N+1)\n",
    "    # YOUR CODE HERE\n",
    "    raise NotImplementedError()\n",
    "\n",
    "std = 3\n",
    "new_york_blurred = scipy.signal.convolve2d(new_york_image, gaussian_blur_kernel2D(std, 1+8*std), mode=\"same\")\n",
    "helpers.show_images({ \"Input\": new_york_image, \"Your solution\": new_york_blurred }, nrows=1, ncols=2)\n",
    "\n",
    "# Release some memory\n",
    "del new_york_blurred"
   ]
  },
  {
   "cell_type": "markdown",
   "metadata": {
    "deletable": false,
    "editable": false,
    "nbgrader": {
     "cell_type": "markdown",
     "checksum": "3e2f1c7e283135041685a2670afb289e",
     "grade": false,
     "grade_id": "cell-df746c736d11abff",
     "locked": true,
     "schema_version": 3,
     "solution": false,
     "task": false
    }
   },
   "source": [
    "# Testing your solution of exercise 10\n",
    "If you implemented exercise 10 correctly then your solution should look blurry but without the horizontal/vertical line artefacts. We provide a couple of basic tests to ensure that some of the basic requirements are met."
   ]
  },
  {
   "cell_type": "code",
   "execution_count": null,
   "metadata": {
    "deletable": false,
    "editable": false,
    "nbgrader": {
     "cell_type": "code",
     "checksum": "2fe6e1b9ad9face808d3657b764d8bf1",
     "grade": true,
     "grade_id": "cell-c08d7e37606055ab",
     "locked": true,
     "points": 3,
     "schema_version": 3,
     "solution": false,
     "task": false
    }
   },
   "outputs": [],
   "source": [
    "# Basic check to verify that the returned type is a numpy array of the correct size.\n",
    "std = 4\n",
    "N = 4*std\n",
    "kernel = gaussian_blur_kernel2D(std, N)\n",
    "assert(type(kernel) == np.ndarray) # np.array\n",
    "assert(kernel.shape == (2*N+1, 2*N+1))\n",
    "assert(np.abs(np.sum(kernel) - 1) < 0.00001) # The kernel should sum up to 1\n"
   ]
  },
  {
   "cell_type": "markdown",
   "metadata": {
    "deletable": false,
    "editable": false,
    "nbgrader": {
     "cell_type": "markdown",
     "checksum": "4b179b3a895cb09a9ca01d0d2382dec6",
     "grade": false,
     "grade_id": "cell-8199df9a16d75f14",
     "locked": true,
     "schema_version": 3,
     "solution": false
    }
   },
   "source": [
    "## Efficient 2D blurs\n",
    "The blur filter that you just implemented will take some time to execute, even on a low resolution image. The amount of operations that the `convolve2D` function has to execute depends on the size of the kernel. However because the kernel is square, each time we double $N$ the size of the kernel quadruples. This problem only gets worse on higher resolution images because a larger kernel is required to get the same visual effect.\n",
    "\n",
    "Let's take a look at what happens when we apply your Gaussian blur to a higher resolution image."
   ]
  },
  {
   "cell_type": "code",
   "execution_count": null,
   "metadata": {
    "deletable": false,
    "editable": false,
    "nbgrader": {
     "cell_type": "code",
     "checksum": "79b15be73232b9a47dcc421d421ce1e3",
     "grade": false,
     "grade_id": "cell-45a991c2ebe546ee",
     "locked": true,
     "schema_version": 3,
     "solution": false
    }
   },
   "outputs": [],
   "source": [
    "new_york_image_halfres = helpers.imread_normalized_float_grayscale(os.path.join(helpers.dataset_folder, \"week1\", \"colors\", \"newyork.jpg\"), 0.5) # Downscale by 2 in each direction = 4 times less pixels.\n",
    "\n",
    "std = 5\n",
    "kernel = gaussian_blur_kernel2D(std, 4*std)\n",
    "print(\"convolve2d\")\n",
    "%time im1 = scipy.signal.convolve2d(new_york_image_halfres, kernel, mode=\"same\")\n",
    "\n",
    "print(\"\\ngaussian_filter\")\n",
    "%time im2 = scipy.ndimage.gaussian_filter(new_york_image_halfres, std, mode=\"constant\", cval=0, truncate=4)\n",
    "\n",
    "helpers.show_images({\"Convolution (your solution of exercise 10)\": im1, \"scipy.ndimage.gaussian_filter\": im2},nrows=1,ncols=2)"
   ]
  },
  {
   "cell_type": "markdown",
   "metadata": {
    "deletable": false,
    "editable": false,
    "nbgrader": {
     "cell_type": "markdown",
     "checksum": "4e4453e0a32ba408fa69a89838329ba4",
     "grade": false,
     "grade_id": "cell-f6cb6a2f61052c9e",
     "locked": true,
     "schema_version": 3,
     "solution": false
    }
   },
   "source": [
    "Your Gaussian blur may take multiple seconds to execute compared to just a fraction of a second for the `ndimage` implementation. But numpy is really fast right, so how is `scipy.ndimage.gaussian_filter` doing this?\n",
    "\n",
    "The trick to making a 2D filter fast is its *separability*. A kernel is separable if we can write it as a convolution of multiple lower resolution (1 dimensional) kernels. The result of convolving with the those smaller kernels in succession is the same as convolving with the original kernel. As the convolution operator for each of the smaller kernels is much cheaper, we obtain a significant speedup. More formally:\n",
    "\n",
    "$$\n",
    "A \\circledast (M_1 \\circledast M_2) = (A \\circledast M_1) \\circledast M_1 \\text{ , where }\\circledast\\text{ is the convolution operator}\n",
    "$$\n",
    "\n",
    "Of course, this only works if $M$ can be written as the multiplication of two (smaller) kernels. Such as:\n",
    "$$\n",
    "\\left(\\begin{matrix}3&6&9\\\\4&8&12\\\\5&10&15\\end{matrix}\\right) =\n",
    "\\left(\\begin{matrix}3\\\\4\\\\5\\end{matrix}\\right) \\circledast\n",
    "\\left(\\begin{matrix}1&2&3\\end{matrix}\\right)\n",
    "$$\n",
    "\n",
    "This is the case for both the box blur and the Gaussian blur kernels. Instead of performing a single convolution with a $NxN$ kernel we can *separate* them into a horizontal ($Nx1$) and a vertical blur ($1xN$) kernel. The 2D box blur for example can be written as:\n",
    "\n",
    "$$\n",
    "\\left(\\begin{matrix}\\frac{1}{9}&\\frac{1}{9}&\\frac{1}{9}\\\\\\frac{1}{9}&\\frac{1}{9}&\\frac{1}{9}\\\\\\frac{1}{9}&\\frac{1}{9}&\\frac{1}{9}\\end{matrix}\\right) =\n",
    "\\left(\\begin{matrix}\\frac{1}{3}\\\\\\frac{1}{3}\\\\\\frac{1}{3}\\end{matrix}\\right) \\circledast\n",
    "\\left(\\begin{matrix}\\frac{1}{3}&\\frac{1}{3}&\\frac{1}{3}\\end{matrix}\\right)\n",
    "$$\n",
    "\n",
    "## Exercise 11 (2 points)\n",
    "Implement a function that applies a 2D **box** blur using two separate kernels (a vertical and a horizontal kernel). The results should match that of the earlier assignments. For this exercise you *are* allowed to use `scipy.signal.convolve2d`.\n",
    "\n",
    "**Note:** When you pass a 1 dimensional kernel to `scipy.signal.convolve2D` it will not know along which axis to apply the kernel. So instead always create a 2 dimensional kernel (e.g. `1 x (2N+1)` and `(2N+1) x 1)`)."
   ]
  },
  {
   "cell_type": "code",
   "execution_count": null,
   "metadata": {
    "deletable": false,
    "nbgrader": {
     "cell_type": "code",
     "checksum": "5c31e950ae35a30a6e2533b71585f522",
     "grade": false,
     "grade_id": "exercise11_code",
     "locked": false,
     "schema_version": 3,
     "solution": true
    }
   },
   "outputs": [],
   "source": [
    "def separable_box_blur2D(gray_image, N):\n",
    "    # Blur by (2N+1 x 2N+1) kernel\n",
    "    # YOUR CODE HERE\n",
    "    raise NotImplementedError()\n",
    "\n",
    "N = 10\n",
    "print(\"Time taken with 2D kernel (your solution from exercise 9)\")\n",
    "%time blurred_image = scipy.signal.convolve2d(new_york_image_halfres, box_blur_kernel2D(N), mode=\"same\")\n",
    "\n",
    "print(\"\\nTime taken with separable kernel (your solution):\")\n",
    "%time blurred_image_separable = separable_box_blur2D(new_york_image_halfres, N)\n",
    "\n",
    "print(f\"\\nDifference compared to your earlier solution: {helpers.SSD_per_pixel(blurred_image, blurred_image_separable)}\")\n",
    "helpers.show_images({ \"Separable convolution box blur (your solution)\": blurred_image_separable, \"2D convolution box blur (from exercise 9)\": blurred_image }, nrows=1, ncols=2)"
   ]
  },
  {
   "cell_type": "markdown",
   "metadata": {
    "deletable": false,
    "editable": false,
    "nbgrader": {
     "cell_type": "markdown",
     "checksum": "bb90aced3118e9143167796ce7164369",
     "grade": false,
     "grade_id": "cell-fcb81d6c409027eb",
     "locked": true,
     "schema_version": 3,
     "solution": false,
     "task": false
    }
   },
   "source": [
    "### Testing your solution of exercise 11\n",
    "If you implemented exercise 11 correctly then your solution should match your result from exercise 9. However it should now take a lot less time to compute the same blurred image."
   ]
  },
  {
   "cell_type": "code",
   "execution_count": null,
   "metadata": {
    "deletable": false,
    "editable": false,
    "nbgrader": {
     "cell_type": "code",
     "checksum": "70b978115b27de4c7df92f6c6e52f11e",
     "grade": true,
     "grade_id": "exercise11",
     "locked": true,
     "points": 2,
     "schema_version": 3,
     "solution": false
    }
   },
   "outputs": [],
   "source": [
    "# Basic checks to test if the output has the correct dimensions\n",
    "random_image = np.random.rand(100, 100)\n",
    "blurred_random_image = separable_box_blur2D(random_image, 2)\n",
    "assert(type(blurred_random_image) == np.ndarray) # np.array\n",
    "assert(blurred_random_image.shape == (100, 100))\n"
   ]
  },
  {
   "cell_type": "markdown",
   "metadata": {
    "deletable": false,
    "editable": false,
    "nbgrader": {
     "cell_type": "markdown",
     "checksum": "df739ecce5d9e67423ea2073092f7dd5",
     "grade": false,
     "grade_id": "cell-aef14eaadb6d1e53",
     "locked": true,
     "schema_version": 3,
     "solution": false
    }
   },
   "source": [
    "## Exercise 12 (3 points)\n",
    "Implement a 2D **Gaussian** blur as a combination of two 1D Gaussian blurs. You can find the formula for the 1D Gaussian blur in the slides. For this exercise you *are* allowed to use `scipy.signal.convolve2d`."
   ]
  },
  {
   "cell_type": "code",
   "execution_count": null,
   "metadata": {
    "deletable": false,
    "nbgrader": {
     "cell_type": "code",
     "checksum": "6bf082de501a5f52d6b17df1535e5ad1",
     "grade": false,
     "grade_id": "exercise12_code",
     "locked": false,
     "schema_version": 3,
     "solution": true
    }
   },
   "outputs": [],
   "source": [
    "def apply_gaussian_blur2D(gray_image, standard_deviation, N):\n",
    "    # YOUR CODE HERE\n",
    "    raise NotImplementedError()\n",
    "\n",
    "std = 5\n",
    "N = 4*std\n",
    "print(\"Time taken with 2D kernel (your solution from exercise 10)\")\n",
    "%time blurred_image = scipy.signal.convolve2d(new_york_image_halfres, gaussian_blur_kernel2D(std, N), mode=\"same\")\n",
    "\n",
    "print(\"\\nTime taken with separable kernel (your solution):\")\n",
    "%time blurred_image_separable = apply_gaussian_blur2D(new_york_image_halfres, std, N)\n",
    "\n",
    "print(f\"\\nDifference compared to your earlier solution: {helpers.SSD_per_pixel(blurred_image, blurred_image_separable)}\")\n",
    "\n",
    "helpers.show_images({ \"Separable convolution (your solution)\": blurred_image_separable, \"2D convolution Gaussian blur (from exercise 10)\": blurred_image }, nrows=1, ncols=2)\n",
    "\n",
    "# Clean up some memory\n",
    "del blurred_image\n",
    "del blurred_image_separable"
   ]
  },
  {
   "cell_type": "markdown",
   "metadata": {
    "deletable": false,
    "editable": false,
    "nbgrader": {
     "cell_type": "markdown",
     "checksum": "43ef4caa056c6b812238db9beaa1b103",
     "grade": false,
     "grade_id": "cell-cd59e36523bbe589",
     "locked": true,
     "schema_version": 3,
     "solution": false,
     "task": false
    }
   },
   "source": [
    "### Testing your solution of exercise 12\n",
    "If you implemented exercise 12 correctly then your solution should match your result from exercise 10. However it should now take a less time to compute the same blurred image. Your code should meet the following performance requirements to receive points for this exercise."
   ]
  },
  {
   "cell_type": "code",
   "execution_count": null,
   "metadata": {
    "deletable": false,
    "editable": false,
    "nbgrader": {
     "cell_type": "code",
     "checksum": "d9ae4945e6d2260b7fb8a499d9593ac1",
     "grade": true,
     "grade_id": "exercise12",
     "locked": true,
     "points": 3,
     "schema_version": 3,
     "solution": false
    }
   },
   "outputs": [],
   "source": [
    "# Basic checks to test if the output has the correct dimensions\n",
    "random_image = np.random.rand(100, 100)\n",
    "blurred_random_image = apply_gaussian_blur2D(random_image, 2, 8)\n",
    "assert(type(blurred_random_image) == np.ndarray) # np.array\n",
    "assert(blurred_random_image.shape == (100, 100))\n",
    "\n",
    "timer1 = helpers.Timer()\n",
    "N = 16\n",
    "with timer1:\n",
    "    apply_gaussian_blur2D(new_york_image_halfres, std, N)\n",
    "timer2 = helpers.Timer()\n",
    "with timer2:\n",
    "    scipy.signal.convolve2d(new_york_image_halfres, np.zeros((2*N+1, 2*N+1)), mode=\"same\")\n",
    "print(f\"Your solution was {timer2.elapsed() / timer1.elapsed()} times faster than 2D convolution (must be at least {N / 4} faster)\")\n",
    "\n",
    "N = 20\n",
    "timer1 = helpers.Timer()\n",
    "with timer1:\n",
    "    apply_gaussian_blur2D(new_york_image_halfres, std, N)\n",
    "timer2 = helpers.Timer()\n",
    "with timer2:\n",
    "    scipy.signal.convolve2d(new_york_image_halfres, np.zeros((2*N+1, 2*N+1)), mode=\"same\")\n",
    "print(f\"Your solution was {timer2.elapsed() / timer1.elapsed()} times faster than 2D convolution (must be at least {N / 4} faster)\")\n"
   ]
  },
  {
   "cell_type": "markdown",
   "metadata": {
    "deletable": false,
    "editable": false,
    "nbgrader": {
     "cell_type": "markdown",
     "checksum": "27ff056754013b2609b9ae78ec001e0f",
     "grade": false,
     "grade_id": "cell-f81219176396782e",
     "locked": true,
     "schema_version": 3,
     "solution": false
    }
   },
   "source": [
    "# Numerical derivatives\n",
    "In high-school you have learned how to analytically compute the derivative of a function $f(x)$. For images we do not know the exact function but we can view the pixels as measurements of an unknown function. We can approximate the derivative of the underlying function by computing the derivatives numerically. The simplest method of numerically approximate derivatives is to use finite differences. \n",
    "\n",
    "## Exercise 13 (1 point)\n",
    "Two common estimates for computing the derivatives are the Newton difference quotient and the symmetric difference quotient:\n",
    "$$f'(x)=\\frac{f(x + \\Delta x) - f(x)}{\\Delta x} \\text{  and  } f'(x)=\\frac{f(x + \\Delta x) - f(x - \\Delta x)}{2h} \\text{ respectively}$$\n",
    "\n",
    "We can implement these two derivative filters as convolution kernels. Implement the two given functions such that they return a convolution **kernel** (`np.array`) that computes the newton or symmetric numerical derivatves respectively.\n",
    "\n",
    "**Note:** We use `np.correlate` instead of `np.convolve`. The difference between these two operations is that `np.convolve` applies the kernel in reverse order. This difference is only relevant to non-symmetric kernels (such as these) where the correlation operator is more intuitive."
   ]
  },
  {
   "cell_type": "code",
   "execution_count": null,
   "metadata": {
    "deletable": false,
    "nbgrader": {
     "cell_type": "code",
     "checksum": "05a0ee7a474d665ada9d5b19327232c0",
     "grade": false,
     "grade_id": "exercise13_code",
     "locked": false,
     "schema_version": 3,
     "solution": true
    }
   },
   "outputs": [],
   "source": [
    "def finite_difference_newton_kernel():\n",
    "    # return np.array(...)\n",
    "    # YOUR CODE HERE\n",
    "    raise NotImplementedError()\n",
    "\n",
    "def finite_difference_symmetric_kernel():\n",
    "    # return np.array(...)\n",
    "    # YOUR CODE HERE\n",
    "    raise NotImplementedError()\n",
    "\n",
    "x = np.linspace(0, 1, num=50) # Slightly outside the visible range so we don't see the boundary effects\n",
    "y = 2.5 * x**2 - 1.2 * x  + np.sin(x * 10)\n",
    "\n",
    "plt.figure(figsize=helpers.default_fig_size)\n",
    "plt.grid(True)\n",
    "plt.plot(x*50, y, '-', linewidth=2)\n",
    "plt.plot(x*50, np.correlate(y, finite_difference_newton_kernel(), mode=\"same\"), '--', linewidth=2)\n",
    "plt.plot(x*50, np.correlate(y, finite_difference_symmetric_kernel(), mode=\"same\"), '--', linewidth=2)\n",
    "plt.legend([\"Input data\", \"Newton (your solution)\", \"Symmetric (your solution)\"])\n",
    "plt.title(\"2-point finite difference estimates\")\n",
    "plt.show()"
   ]
  },
  {
   "cell_type": "markdown",
   "metadata": {
    "deletable": false,
    "editable": false,
    "nbgrader": {
     "cell_type": "markdown",
     "checksum": "7767f27a8f91f3d39505d0fcc924c904",
     "grade": false,
     "grade_id": "cell-040c1cf45ca079db",
     "locked": true,
     "schema_version": 3,
     "solution": false,
     "task": false
    }
   },
   "source": [
    "### Testing your solution of exercise 13\n",
    "If you implemented exercise 13 correctly then the green and yellow lines should approximate the derivative of the blue line. The functions may look weird at the endpoints ($x=0$ and $x=50$) because it is missing neighbour data."
   ]
  },
  {
   "cell_type": "code",
   "execution_count": null,
   "metadata": {
    "deletable": false,
    "editable": false,
    "nbgrader": {
     "cell_type": "code",
     "checksum": "d62dd5ef84fefe38bf921a118b6dea28",
     "grade": true,
     "grade_id": "exercise13",
     "locked": true,
     "points": 1,
     "schema_version": 3,
     "solution": false
    }
   },
   "outputs": [],
   "source": []
  },
  {
   "cell_type": "markdown",
   "metadata": {
    "deletable": false,
    "editable": false,
    "nbgrader": {
     "cell_type": "markdown",
     "checksum": "c1f93474ceab366b186c90e7fea00f30",
     "grade": false,
     "grade_id": "cell-353995868a6e7ad2",
     "locked": true,
     "schema_version": 3,
     "solution": false
    }
   },
   "source": [
    "# Image gradients\n",
    "Similar to the 1D case we can also use numerical differences to compute partial derivatives of a multi dimensional function. The vector containing the partial derivatives is called the gradient vector. In the 2D case (such as images) the gradient is defined as $\\nabla f = \\begin{pmatrix}g_x \\\\ g_y\\end{pmatrix}$.\n",
    "\n",
    "The previous estimates for 1D signals can be extended to 2D. A commonly used filter to compute image derivatives is the Sobel operator:\n",
    "\n",
    "$$\n",
    "\\begin{pmatrix}\n",
    "-1 & 0 & +1 \\\\\n",
    "-2 & 0 & +2 \\\\\n",
    "-1 & 0 & +1 \\\\\n",
    "\\end{pmatrix}\n",
    "\\text{ and }\n",
    "\\begin{pmatrix}\n",
    "-1 & -2 & -1 \\\\\n",
    "0 & 0 & 0 \\\\\n",
    "+1 & +2 & +1 \\\\\n",
    "\\end{pmatrix}\n",
    "$$\n",
    "\n",
    "## Exercise 14 (2 points)\n",
    "The Sobel operator is an edge detection filter: it highlights edges in the image. The operator is defined as the magnitude (length) of the gradient vector. Implement the Sobel operator. For this exercise you *are* allowed to use `scipy.signal.correlate2d`."
   ]
  },
  {
   "cell_type": "code",
   "execution_count": null,
   "metadata": {
    "deletable": false,
    "nbgrader": {
     "cell_type": "code",
     "checksum": "8612f0fd4712e24f1a700940f0a1cd57",
     "grade": false,
     "grade_id": "exercise14_code",
     "locked": false,
     "schema_version": 3,
     "solution": true
    }
   },
   "outputs": [],
   "source": [
    "def sobel_operator(gray_image):\n",
    "    # YOUR CODE HERE\n",
    "    raise NotImplementedError()\n",
    "\n",
    "new_york_sobel = sobel_operator(new_york_image_halfres)\n",
    "\n",
    "helpers.show_images({\n",
    "    \"Input\": new_york_image_halfres,\n",
    "    \"Your solution\": helpers.normalize_image(new_york_sobel)\n",
    "}, nrows=1, ncols=2)"
   ]
  },
  {
   "cell_type": "markdown",
   "metadata": {
    "deletable": false,
    "editable": false,
    "nbgrader": {
     "cell_type": "markdown",
     "checksum": "1db6be5c7cfdd085ef0a8f714c587e54",
     "grade": false,
     "grade_id": "cell-de30782011bd9faa",
     "locked": true,
     "schema_version": 3,
     "solution": false,
     "task": false
    }
   },
   "source": [
    "### Testing your solution of exercise 14\n",
    "If you implemented exercise 14 then your result should be a grayscale image where lines are contours (lines/edges) are highlighted in light and the smooth areas (such as the sky) are dark."
   ]
  },
  {
   "cell_type": "code",
   "execution_count": null,
   "metadata": {
    "deletable": false,
    "editable": false,
    "nbgrader": {
     "cell_type": "code",
     "checksum": "a31e0cd1aba8e2a4ee916f609499ef19",
     "grade": true,
     "grade_id": "exercise14",
     "locked": true,
     "points": 2,
     "schema_version": 3,
     "solution": false
    }
   },
   "outputs": [],
   "source": []
  }
 ],
 "metadata": {
  "kernelspec": {
   "display_name": "Python 3 (ipykernel)",
   "language": "python",
   "name": "python3"
  },
  "language_info": {
   "codemirror_mode": {
    "name": "ipython",
    "version": 3
   },
   "file_extension": ".py",
   "mimetype": "text/x-python",
   "name": "python",
   "nbconvert_exporter": "python",
   "pygments_lexer": "ipython3",
   "version": "3.9.7"
  }
 },
 "nbformat": 4,
 "nbformat_minor": 4
}
