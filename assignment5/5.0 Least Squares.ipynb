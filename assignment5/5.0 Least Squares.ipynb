{
 "cells": [
  {
   "cell_type": "markdown",
   "metadata": {
    "deletable": false,
    "editable": false,
    "nbgrader": {
     "cell_type": "markdown",
     "checksum": "adcff8b22f7272a01da05a2a28b8cd17",
     "grade": false,
     "grade_id": "cell-59937cfcb74544f1",
     "locked": true,
     "schema_version": 3,
     "solution": false,
     "task": false
    }
   },
   "source": [
    "# Assignment 5\n",
    "This assignment consists of 7 exercises divided over three notebooks. Each exercise will come with some tests that are used to verify whether your code is correct. If you pass these tests then you are rewarded *full points*; if your code fails then you will get *no points*. Make sure to **read the rules** before you start the assignment.\n",
    "\n",
    "## Rules\n",
    "For this assignment the following rules apply:\n",
    "\n",
    "**General**\n",
    " * The assignment should be completed with the same **groups of three** as the previous assignment\n",
    " * Any kind of intergroup discussion will be considered fraud and both the parties will be punished.\n",
    " * All code must be written intra group. All external help, with the exception of Python/library documentation and the lecture slides, will be considered fraud.\n",
    " * Do not use libraries that implement the assignment for you.\n",
    "\n",
    "**Grading**\n",
    " * If a test cell runs without error (warnings are allowed) then you receive full points.\n",
    " * If a test cell throws an error for any reason then you receive 0 points.\n",
    "  * If a cell takes more than five minutes to complete then this is considered an error.\n",
    " * If your code fails a test for *any reason* then you receive 0 points for that exercise.\n",
    " * Your grade is computed as $\\frac{\\text{points}}{\\text{max_points}} * 9 + 1$ and will be rounded to the closest 0.5 point.\n",
    " * Submit your code to Brightspace as a zip file containing only the notebook (`*.ipynb`) files.\n",
    " * **Do not rename the notebook files**\n",
    "\n",
    "**Late Submissions**\n",
    " * Late submissions must be submitted *as soon as possible* to the \"Assignment 5 - Late Submissions\" assignment on Brightspace.\n",
    " * The following penalty will be applied: $\\text{adjusted grade} = \\text{grade} - 1 - \\lceil \\frac{\\text{minutes late}}{10} \\rceil$\n",
    "\n",
    "<br />\n",
    " \n",
    "**Before you submit**, make sure that you are not accidentaly using any global variables. Restart the kernel (wiping all global variables) and run the code from top to bottom by clicking \"Kernel\" => \"Restart & Run all\" in the menu bar at the top."
   ]
  },
  {
   "cell_type": "code",
   "execution_count": 1,
   "metadata": {
    "deletable": false,
    "editable": false,
    "nbgrader": {
     "cell_type": "code",
     "checksum": "18bab66dfb182a354e5b3e033c3dbd61",
     "grade": false,
     "grade_id": "cell-6bca985a4e26ab21",
     "locked": true,
     "schema_version": 3,
     "solution": false
    }
   },
   "outputs": [],
   "source": [
    "%matplotlib widget\n",
    "import matplotlib.pyplot as plt\n",
    "import numpy as np\n",
    "import sys\n",
    "sys.path.append(\"../../\")\n",
    "import helpers"
   ]
  },
  {
   "cell_type": "markdown",
   "metadata": {
    "deletable": false,
    "editable": false,
    "nbgrader": {
     "cell_type": "markdown",
     "checksum": "c852267ec03d70ecd8566f637e9556ae",
     "grade": false,
     "grade_id": "cell-476254a909da640a",
     "locked": true,
     "schema_version": 3,
     "solution": false
    }
   },
   "source": [
    "# Least Squares\n",
    "In the previous weeks you have learned to describe and solve problems using linear systems. Most linear systems we encountered so far had exactly one solution, because the number of constrains matched the number of free variables (matrix $A$ was square).\n",
    "\n",
    "We can also find ourselves in a situation however where we want to solve a linear system where there are more constrains than free variables (like in the camera matrix estimation exercise). In these cases finding an exact solution is not possible. Thus we aim to find a solution which minimizes the error of the output solution. \n",
    "\n",
    "## Ordinary least squares\n",
    "Least squares is a standard approach for dealing with overconstrained system. As the name suggests, least squares finds a solution which minimizes the sum of squared differences of the error. In ordinary least squares the function must be linear with respect to its free variables (such that it forms a linear system). If we were to fit a function to a dataset than this does not mean that the function itself has to be linear with respect to it's input. Only that the free variables for which we are trying to solve have to be linear. For example, ordinary least squares may be applied to the following function which is non-linear with respect to x (but linear w.r.t. $\\beta$): $f(x, \\vec{\\beta}) = \\beta_0 + \\beta_1x_1 + \\beta_2{x_2}^2 + \\beta_3{x_3}^3 + ...$ . In this case the goal of least squares is to find the optimal value for $\\vec{\\beta}$ such that $S = \\sum_{i=1}^{n} {\\lVert y_i - f(x_i, \\vec{\\beta}) \\rVert}^2$ is minimized, where $x_i$/$y_i$ are the known data points.\n",
    "\n",
    "The problem can also be written down in matrix form as $A\\vec{x}=\\vec{b}$, where $A$ stores the constraints, $\\vec{b}$ contains our measurements and $\\vec{x}$ is contains the least squares solution. For example, if we were trying to fit data points $\\begin{pmatrix}1\\\\1\\end{pmatrix}$, $\\begin{pmatrix}5\\\\4\\end{pmatrix}$, $\\begin{pmatrix}2\\\\3\\end{pmatrix}$ to the function $f(x) = ax + b$ then the equation would look like:\n",
    "\n",
    "$$\n",
    "\\begin{pmatrix}\n",
    "1 & 1\\\\\n",
    "5 & 1\\\\\n",
    "2 & 1\\\\\n",
    "\\end{pmatrix}\n",
    "\\vec{x} =\n",
    "\\begin{pmatrix}\n",
    "1\\\\\n",
    "4\\\\\n",
    "3\\\\\n",
    "\\end{pmatrix}\n",
    "$$\n",
    "\n",
    "The ordinary least squares solution can be computed as $\\vec{x} = (A^T A)^{-1} A^T \\vec{b}$.\n",
    "\n",
    "### Exercise 1 (1 points)\n",
    "Use least squares to fit a linear function $f(x)=ax+b$ to the given set of 2D points.\n",
    "\n",
    "Use `np.linalg.lstsq` to solve the least squares problem. *You may ignore the `FutureWarning: 'rcond' parameter will change to the default ...` warning.*"
   ]
  },
  {
   "cell_type": "code",
   "execution_count": 2,
   "metadata": {
    "deletable": false,
    "nbgrader": {
     "cell_type": "code",
     "checksum": "93dc5b29db5ca701a1e79463cc5e8f7d",
     "grade": false,
     "grade_id": "exercise1_code",
     "locked": false,
     "schema_version": 3,
     "solution": true
    }
   },
   "outputs": [
    {
     "name": "stdout",
     "output_type": "stream",
     "text": [
      "Least squares SSD: 0.015033453900645513\n"
     ]
    },
    {
     "name": "stderr",
     "output_type": "stream",
     "text": [
      "/tmp/ipykernel_869261/2300749930.py:4: FutureWarning: `rcond` parameter will change to the default of machine precision times ``max(M, N)`` where M and N are the input matrix dimensions.\n",
      "To use the future default and silence this warning we advise to pass `rcond=None`, to keep using the old, explicitly pass `rcond=-1`.\n",
      "  return np.linalg.lstsq(A, b)[0]\n"
     ]
    },
    {
     "data": {
      "application/vnd.jupyter.widget-view+json": {
       "model_id": "b2333fb8f6554f11af6b6bc01d2a7ff6",
       "version_major": 2,
       "version_minor": 0
      },
      "text/html": [
       "\n",
       "            <div style=\"display: inline-block;\">\n",
       "                <div class=\"jupyter-widgets widget-label\" style=\"text-align: center;\">\n",
       "                    Figure\n",
       "                </div>\n",
       "                <img src='data:image/png;base64,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' width=640.0/>\n",
       "            </div>\n",
       "        "
      ],
      "text/plain": [
       "Canvas(toolbar=Toolbar(toolitems=[('Home', 'Reset original view', 'home', 'home'), ('Back', 'Back to previous …"
      ]
     },
     "metadata": {},
     "output_type": "display_data"
    }
   ],
   "source": [
    "def solve_linear_function(points2D):\n",
    "    A = np.c_[points2D[0,:], np.ones(points2D.shape[1])]\n",
    "    b = points2D[1,:]\n",
    "    return np.linalg.lstsq(A, b)[0]\n",
    "\n",
    "def generate_linear_dataset(N):\n",
    "    v = np.random.sample((N))\n",
    "    x = v + (np.random.sample((N)) - 0.5) * 0.05\n",
    "    y = 1/3 * v + (np.random.sample((N)) - 0.5) * 0.1\n",
    "    return np.stack([x, y], axis=0)\n",
    "\n",
    "np.random.seed(51)\n",
    "points2D = generate_linear_dataset(20)\n",
    "a, b = solve_linear_function(points2D)\n",
    "\n",
    "def f(x, a, b):\n",
    "    return a*x + b\n",
    "\n",
    "x = points2D[0,:]\n",
    "y = points2D[1,:]\n",
    "print(f\"Least squares SSD: {helpers.SSD(f(x, a, b), y)}\")\n",
    "\n",
    "fig, ax = plt.subplots()\n",
    "ax.scatter(points2D[0,:], points2D[1,:], color=\"r\")\n",
    "ax.plot([0, 1], [f(0, a, b), f(1, a, b)])\n",
    "plt.show()"
   ]
  },
  {
   "cell_type": "markdown",
   "metadata": {
    "deletable": false,
    "editable": false,
    "nbgrader": {
     "cell_type": "markdown",
     "checksum": "48493fda4c4df51563cae8082ae762a1",
     "grade": false,
     "grade_id": "cell-dbb2ab359d3c4c7b",
     "locked": true,
     "schema_version": 3,
     "solution": false,
     "task": false
    }
   },
   "source": [
    "### Tests of exercise 1\n",
    "Your solution should pick a function (line) that gets close to all points."
   ]
  },
  {
   "cell_type": "code",
   "execution_count": null,
   "metadata": {
    "deletable": false,
    "editable": false,
    "nbgrader": {
     "cell_type": "code",
     "checksum": "f93935731c7edc657a8f28f40b6bce04",
     "grade": true,
     "grade_id": "exercise1",
     "locked": true,
     "points": 1,
     "schema_version": 3,
     "solution": false
    }
   },
   "outputs": [],
   "source": []
  },
  {
   "cell_type": "markdown",
   "metadata": {
    "deletable": false,
    "editable": false,
    "nbgrader": {
     "cell_type": "markdown",
     "checksum": "9dff10ff5495d31929977d6389679f55",
     "grade": false,
     "grade_id": "cell-f185d4bc944f8a6d",
     "locked": true,
     "schema_version": 3,
     "solution": false
    }
   },
   "source": [
    "### Exercise 2 (1 point)\n",
    "Least squares can also be used to find the parameters of a functions that are not linear with respect to $x$ (as long as they are linear to $\\beta$). Use the least squares method that you just implement to match a quadratic polynomial function $f(x) = ax^2 + bx + c$ to a given set of data points.\n",
    "\n",
    "Use `np.linalg.lstsq` to solve the least squares problem. *You may ignore the `FutureWarning: 'rcond' parameter will change to the default ...` warning.*"
   ]
  },
  {
   "cell_type": "code",
   "execution_count": 3,
   "metadata": {
    "deletable": false,
    "nbgrader": {
     "cell_type": "code",
     "checksum": "2a15902e765c551886acc8a804a85970",
     "grade": false,
     "grade_id": "exercise2_code",
     "locked": false,
     "schema_version": 3,
     "solution": true
    }
   },
   "outputs": [
    {
     "name": "stderr",
     "output_type": "stream",
     "text": [
      "/tmp/ipykernel_869261/2827929179.py:4: FutureWarning: `rcond` parameter will change to the default of machine precision times ``max(M, N)`` where M and N are the input matrix dimensions.\n",
      "To use the future default and silence this warning we advise to pass `rcond=None`, to keep using the old, explicitly pass `rcond=-1`.\n",
      "  return np.linalg.lstsq(A, b)[0]\n"
     ]
    },
    {
     "name": "stdout",
     "output_type": "stream",
     "text": [
      "Least squares SSD: 0.024560472734307264\n"
     ]
    },
    {
     "data": {
      "application/vnd.jupyter.widget-view+json": {
       "model_id": "ce1c5756132a4b9ca4f43961d76b04b4",
       "version_major": 2,
       "version_minor": 0
      },
      "text/html": [
       "\n",
       "            <div style=\"display: inline-block;\">\n",
       "                <div class=\"jupyter-widgets widget-label\" style=\"text-align: center;\">\n",
       "                    Figure\n",
       "                </div>\n",
       "                <img src='data:image/png;base64,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' width=640.0/>\n",
       "            </div>\n",
       "        "
      ],
      "text/plain": [
       "Canvas(toolbar=Toolbar(toolitems=[('Home', 'Reset original view', 'home', 'home'), ('Back', 'Back to previous …"
      ]
     },
     "metadata": {},
     "output_type": "display_data"
    }
   ],
   "source": [
    "def solve_quadratic_polynomial(points2D):\n",
    "    A = np.c_[points2D[0,:]**2, points2D[0,:], np.ones(points2D.shape[1])]\n",
    "    b = points2D[1,:]\n",
    "    return np.linalg.lstsq(A, b)[0]\n",
    "\n",
    "def generate_quadratic_dataset(N):\n",
    "    a = 3\n",
    "    b = 0.5\n",
    "    c= 2\n",
    "    \n",
    "    # Generate points along curve\n",
    "    x = np.random.sample((N))\n",
    "    y = a * x ** 2 + b * x + c\n",
    "    \n",
    "    # Add noise\n",
    "    x += 0.2 * (np.random.sample((N)) - 0.5)\n",
    "    y += 0.2 * (np.random.sample((N)) - 0.5)\n",
    "    return np.stack([x, y], axis=0)\n",
    "\n",
    "np.random.seed(42)\n",
    "points2D = generate_quadratic_dataset(20)\n",
    "a, b, c = solve_quadratic_polynomial(points2D)\n",
    "\n",
    "def f(x, a, b, c):\n",
    "    return a*(x**2) + b*x + c\n",
    "\n",
    "plot_x = np.linspace(0, 1)\n",
    "plot_y = a * plot_x**2 + b * plot_x + c\n",
    "\n",
    "x = points2D[0,:]\n",
    "y = points2D[1,:]\n",
    "print(f\"Least squares SSD: {helpers.SSD_per_pixel(f(x, a, b, c), y)}\")\n",
    "\n",
    "fig, ax = plt.subplots()\n",
    "ax.scatter(points2D[0,:], points2D[1,:], color=\"r\")\n",
    "ax.plot(plot_x, plot_y)\n",
    "plt.show()"
   ]
  },
  {
   "cell_type": "markdown",
   "metadata": {
    "deletable": false,
    "editable": false,
    "nbgrader": {
     "cell_type": "markdown",
     "checksum": "e1697f443c21f600b2b2518da913fe01",
     "grade": false,
     "grade_id": "cell-145922b83e48d57f",
     "locked": true,
     "schema_version": 3,
     "solution": false,
     "task": false
    }
   },
   "source": [
    "### Tests of exercise 2\n",
    "Your solution should pick a function (line) that gets close to all points."
   ]
  },
  {
   "cell_type": "code",
   "execution_count": null,
   "metadata": {
    "deletable": false,
    "editable": false,
    "nbgrader": {
     "cell_type": "code",
     "checksum": "b6ed740ce58630b4ac6de55142f0af2c",
     "grade": true,
     "grade_id": "exercise2",
     "locked": true,
     "points": 1,
     "schema_version": 3,
     "solution": false
    }
   },
   "outputs": [],
   "source": []
  }
 ],
 "metadata": {
  "kernelspec": {
   "display_name": "Python 3 (ipykernel)",
   "language": "python",
   "name": "python3"
  },
  "language_info": {
   "codemirror_mode": {
    "name": "ipython",
    "version": 3
   },
   "file_extension": ".py",
   "mimetype": "text/x-python",
   "name": "python",
   "nbconvert_exporter": "python",
   "pygments_lexer": "ipython3",
   "version": "3.9.7"
  }
 },
 "nbformat": 4,
 "nbformat_minor": 4
}
