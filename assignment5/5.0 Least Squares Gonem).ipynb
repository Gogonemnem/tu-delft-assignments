{
 "cells": [
  {
   "cell_type": "markdown",
   "metadata": {
    "deletable": false,
    "editable": false,
    "nbgrader": {
     "cell_type": "markdown",
     "checksum": "adcff8b22f7272a01da05a2a28b8cd17",
     "grade": false,
     "grade_id": "cell-59937cfcb74544f1",
     "locked": true,
     "schema_version": 3,
     "solution": false,
     "task": false
    }
   },
   "source": [
    "# Assignment 5\n",
    "This assignment consists of 7 exercises divided over three notebooks. Each exercise will come with some tests that are used to verify whether your code is correct. If you pass these tests then you are rewarded *full points*; if your code fails then you will get *no points*. Make sure to **read the rules** before you start the assignment.\n",
    "\n",
    "## Rules\n",
    "For this assignment the following rules apply:\n",
    "\n",
    "**General**\n",
    " * The assignment should be completed with the same **groups of three** as the previous assignment\n",
    " * Any kind of intergroup discussion will be considered fraud and both the parties will be punished.\n",
    " * All code must be written intra group. All external help, with the exception of Python/library documentation and the lecture slides, will be considered fraud.\n",
    " * Do not use libraries that implement the assignment for you.\n",
    "\n",
    "**Grading**\n",
    " * If a test cell runs without error (warnings are allowed) then you receive full points.\n",
    " * If a test cell throws an error for any reason then you receive 0 points.\n",
    "  * If a cell takes more than five minutes to complete then this is considered an error.\n",
    " * If your code fails a test for *any reason* then you receive 0 points for that exercise.\n",
    " * Your grade is computed as $\\frac{\\text{points}}{\\text{max_points}} * 9 + 1$ and will be rounded to the closest 0.5 point.\n",
    " * Submit your code to Brightspace as a zip file containing only the notebook (`*.ipynb`) files.\n",
    " * **Do not rename the notebook files**\n",
    "\n",
    "**Late Submissions**\n",
    " * Late submissions must be submitted *as soon as possible* to the \"Assignment 5 - Late Submissions\" assignment on Brightspace.\n",
    " * The following penalty will be applied: $\\text{adjusted grade} = \\text{grade} - 1 - \\lceil \\frac{\\text{minutes late}}{10} \\rceil$\n",
    "\n",
    "<br />\n",
    " \n",
    "**Before you submit**, make sure that you are not accidentaly using any global variables. Restart the kernel (wiping all global variables) and run the code from top to bottom by clicking \"Kernel\" => \"Restart & Run all\" in the menu bar at the top."
   ]
  },
  {
   "cell_type": "code",
   "execution_count": null,
   "metadata": {
    "deletable": false,
    "editable": false,
    "nbgrader": {
     "cell_type": "code",
     "checksum": "18bab66dfb182a354e5b3e033c3dbd61",
     "grade": false,
     "grade_id": "cell-6bca985a4e26ab21",
     "locked": true,
     "schema_version": 3,
     "solution": false
    }
   },
   "outputs": [],
   "source": [
    "%matplotlib widget\n",
    "import matplotlib.pyplot as plt\n",
    "import numpy as np\n",
    "import sys\n",
    "sys.path.append(\"../../\")\n",
    "import helpers"
   ]
  },
  {
   "cell_type": "markdown",
   "metadata": {
    "deletable": false,
    "editable": false,
    "nbgrader": {
     "cell_type": "markdown",
     "checksum": "c852267ec03d70ecd8566f637e9556ae",
     "grade": false,
     "grade_id": "cell-476254a909da640a",
     "locked": true,
     "schema_version": 3,
     "solution": false
    }
   },
   "source": [
    "# Least Squares\n",
    "In the previous weeks you have learned to describe and solve problems using linear systems. Most linear systems we encountered so far had exactly one solution, because the number of constrains matched the number of free variables (matrix $A$ was square).\n",
    "\n",
    "We can also find ourselves in a situation however where we want to solve a linear system where there are more constrains than free variables (like in the camera matrix estimation exercise). In these cases finding an exact solution is not possible. Thus we aim to find a solution which minimizes the error of the output solution. \n",
    "\n",
    "## Ordinary least squares\n",
    "Least squares is a standard approach for dealing with overconstrained system. As the name suggests, least squares finds a solution which minimizes the sum of squared differences of the error. In ordinary least squares the function must be linear with respect to its free variables (such that it forms a linear system). If we were to fit a function to a dataset than this does not mean that the function itself has to be linear with respect to it's input. Only that the free variables for which we are trying to solve have to be linear. For example, ordinary least squares may be applied to the following function which is non-linear with respect to x (but linear w.r.t. $\\beta$): $f(x, \\vec{\\beta}) = \\beta_0 + \\beta_1x_1 + \\beta_2{x_2}^2 + \\beta_3{x_3}^3 + ...$ . In this case the goal of least squares is to find the optimal value for $\\vec{\\beta}$ such that $S = \\sum_{i=1}^{n} {\\lVert y_i - f(x_i, \\vec{\\beta}) \\rVert}^2$ is minimized, where $x_i$/$y_i$ are the known data points.\n",
    "\n",
    "The problem can also be written down in matrix form as $A\\vec{x}=\\vec{b}$, where $A$ stores the constraints, $\\vec{b}$ contains our measurements and $\\vec{x}$ is contains the least squares solution. For example, if we were trying to fit data points $\\begin{pmatrix}1\\\\1\\end{pmatrix}$, $\\begin{pmatrix}5\\\\4\\end{pmatrix}$, $\\begin{pmatrix}2\\\\3\\end{pmatrix}$ to the function $f(x) = ax + b$ then the equation would look like:\n",
    "\n",
    "$$\n",
    "\\begin{pmatrix}\n",
    "1 & 1\\\\\n",
    "5 & 1\\\\\n",
    "2 & 1\\\\\n",
    "\\end{pmatrix}\n",
    "\\vec{x} =\n",
    "\\begin{pmatrix}\n",
    "1\\\\\n",
    "4\\\\\n",
    "3\\\\\n",
    "\\end{pmatrix}\n",
    "$$\n",
    "\n",
    "The ordinary least squares solution can be computed as $\\vec{x} = (A^T A)^{-1} A^T \\vec{b}$.\n",
    "\n",
    "### Exercise 1 (1 points)\n",
    "Use least squares to fit a linear function $f(x)=ax+b$ to the given set of 2D points.\n",
    "\n",
    "Use `np.linalg.lstsq` to solve the least squares problem. *You may ignore the `FutureWarning: 'rcond' parameter will change to the default ...` warning.*"
   ]
  },
  {
   "cell_type": "code",
   "execution_count": null,
   "metadata": {
    "deletable": false,
    "nbgrader": {
     "cell_type": "code",
     "checksum": "93dc5b29db5ca701a1e79463cc5e8f7d",
     "grade": false,
     "grade_id": "exercise1_code",
     "locked": false,
     "schema_version": 3,
     "solution": true
    }
   },
   "outputs": [],
   "source": [
    "def solve_linear_function(points2D):\n",
    "    # YOUR CODE HERE\n",
    "    raise NotImplementedError()\n",
    "    return np.linalg.lstsq(A, b)[0]\n",
    "\n",
    "def generate_linear_dataset(N):\n",
    "    v = np.random.sample((N))\n",
    "    x = v + (np.random.sample((N)) - 0.5) * 0.05\n",
    "    y = 1/3 * v + (np.random.sample((N)) - 0.5) * 0.1\n",
    "    return np.stack([x, y], axis=0)\n",
    "\n",
    "np.random.seed(51)\n",
    "points2D = generate_linear_dataset(20)\n",
    "a, b = solve_linear_function(points2D)\n",
    "\n",
    "def f(x, a, b):\n",
    "    return a*x + b\n",
    "\n",
    "x = points2D[0,:]\n",
    "y = points2D[1,:]\n",
    "print(f\"Least squares SSD: {helpers.SSD(f(x, a, b), y)}\")\n",
    "\n",
    "fig, ax = plt.subplots()\n",
    "ax.scatter(points2D[0,:], points2D[1,:], color=\"r\")\n",
    "ax.plot([0, 1], [f(0, a, b), f(1, a, b)])\n",
    "plt.show()"
   ]
  },
  {
   "cell_type": "markdown",
   "metadata": {
    "deletable": false,
    "editable": false,
    "nbgrader": {
     "cell_type": "markdown",
     "checksum": "48493fda4c4df51563cae8082ae762a1",
     "grade": false,
     "grade_id": "cell-dbb2ab359d3c4c7b",
     "locked": true,
     "schema_version": 3,
     "solution": false,
     "task": false
    }
   },
   "source": [
    "### Tests of exercise 1\n",
    "Your solution should pick a function (line) that gets close to all points."
   ]
  },
  {
   "cell_type": "code",
   "execution_count": null,
   "metadata": {
    "deletable": false,
    "editable": false,
    "nbgrader": {
     "cell_type": "code",
     "checksum": "f93935731c7edc657a8f28f40b6bce04",
     "grade": true,
     "grade_id": "exercise1",
     "locked": true,
     "points": 1,
     "schema_version": 3,
     "solution": false
    }
   },
   "outputs": [],
   "source": []
  },
  {
   "cell_type": "markdown",
   "metadata": {
    "deletable": false,
    "editable": false,
    "nbgrader": {
     "cell_type": "markdown",
     "checksum": "9dff10ff5495d31929977d6389679f55",
     "grade": false,
     "grade_id": "cell-f185d4bc944f8a6d",
     "locked": true,
     "schema_version": 3,
     "solution": false
    }
   },
   "source": [
    "### Exercise 2 (1 point)\n",
    "Least squares can also be used to find the parameters of a functions that are not linear with respect to $x$ (as long as they are linear to $\\beta$). Use the least squares method that you just implement to match a quadratic polynomial function $f(x) = ax^2 + bx + c$ to a given set of data points.\n",
    "\n",
    "Use `np.linalg.lstsq` to solve the least squares problem. *You may ignore the `FutureWarning: 'rcond' parameter will change to the default ...` warning.*"
   ]
  },
  {
   "cell_type": "code",
   "execution_count": null,
   "metadata": {
    "deletable": false,
    "nbgrader": {
     "cell_type": "code",
     "checksum": "2a15902e765c551886acc8a804a85970",
     "grade": false,
     "grade_id": "exercise2_code",
     "locked": false,
     "schema_version": 3,
     "solution": true
    }
   },
   "outputs": [],
   "source": [
    "def solve_quadratic_polynomial(points2D):\n",
    "    # YOUR CODE HERE\n",
    "    raise NotImplementedError()\n",
    "    return np.linalg.lstsq(A, b)[0]\n",
    "\n",
    "def generate_quadratic_dataset(N):\n",
    "    a = 3\n",
    "    b = 0.5\n",
    "    c= 2\n",
    "    \n",
    "    # Generate points along curve\n",
    "    x = np.random.sample((N))\n",
    "    y = a * x ** 2 + b * x + c\n",
    "    \n",
    "    # Add noise\n",
    "    x += 0.2 * (np.random.sample((N)) - 0.5)\n",
    "    y += 0.2 * (np.random.sample((N)) - 0.5)\n",
    "    return np.stack([x, y], axis=0)\n",
    "\n",
    "np.random.seed(42)\n",
    "points2D = generate_quadratic_dataset(20)\n",
    "a, b, c = solve_quadratic_polynomial(points2D)\n",
    "\n",
    "def f(x, a, b, c):\n",
    "    return a*(x**2) + b*x + c\n",
    "\n",
    "plot_x = np.linspace(0, 1)\n",
    "plot_y = a * plot_x**2 + b * plot_x + c\n",
    "\n",
    "x = points2D[0,:]\n",
    "y = points2D[1,:]\n",
    "print(f\"Least squares SSD: {helpers.SSD_per_pixel(f(x, a, b, c), y)}\")\n",
    "\n",
    "fig, ax = plt.subplots()\n",
    "ax.scatter(points2D[0,:], points2D[1,:], color=\"r\")\n",
    "ax.plot(plot_x, plot_y)\n",
    "plt.show()"
   ]
  },
  {
   "cell_type": "markdown",
   "metadata": {
    "deletable": false,
    "editable": false,
    "nbgrader": {
     "cell_type": "markdown",
     "checksum": "e1697f443c21f600b2b2518da913fe01",
     "grade": false,
     "grade_id": "cell-145922b83e48d57f",
     "locked": true,
     "schema_version": 3,
     "solution": false,
     "task": false
    }
   },
   "source": [
    "### Tests of exercise 2\n",
    "Your solution should pick a function (line) that gets close to all points."
   ]
  },
  {
   "cell_type": "code",
   "execution_count": null,
   "metadata": {
    "deletable": false,
    "editable": false,
    "nbgrader": {
     "cell_type": "code",
     "checksum": "b6ed740ce58630b4ac6de55142f0af2c",
     "grade": true,
     "grade_id": "exercise2",
     "locked": true,
     "points": 1,
     "schema_version": 3,
     "solution": false
    }
   },
   "outputs": [],
   "source": []
  }
 ],
 "metadata": {
  "kernelspec": {
   "display_name": "Python 3 (ipykernel)",
   "language": "python",
   "name": "python3"
  },
  "language_info": {
   "codemirror_mode": {
    "name": "ipython",
    "version": 3
   },
   "file_extension": ".py",
   "mimetype": "text/x-python",
   "name": "python",
   "nbconvert_exporter": "python",
   "pygments_lexer": "ipython3",
   "version": "3.9.7"
  }
 },
 "nbformat": 4,
 "nbformat_minor": 4
}
