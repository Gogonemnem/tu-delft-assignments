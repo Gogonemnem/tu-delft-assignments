{
 "cells": [
  {
   "cell_type": "code",
   "execution_count": null,
   "metadata": {
    "deletable": false,
    "editable": false,
    "nbgrader": {
     "cell_type": "code",
     "checksum": "ee84f579c60eaab01dfe768141970d4f",
     "grade": false,
     "grade_id": "cell-dec54717f888db51",
     "locked": true,
     "schema_version": 3,
     "solution": false
    }
   },
   "outputs": [],
   "source": [
    "%matplotlib widget\n",
    "import matplotlib.pyplot as plt\n",
    "import numpy as np\n",
    "import cv2\n",
    "import scipy.signal\n",
    "import scipy.ndimage\n",
    "import scipy.sparse\n",
    "import os\n",
    "# helpers.py is one level up in the directory structure so we need to tell Python were to find it\n",
    "import sys\n",
    "sys.path.append(\"../../\")\n",
    "import helpers"
   ]
  },
  {
   "cell_type": "markdown",
   "metadata": {
    "deletable": false,
    "editable": false,
    "nbgrader": {
     "cell_type": "markdown",
     "checksum": "b1c79eaef5a7872b1978c1c53265f84c",
     "grade": false,
     "grade_id": "cell-ac26bd2aec388619",
     "locked": true,
     "schema_version": 3,
     "solution": false
    }
   },
   "source": [
    "# Gradient Based Image Blending\n",
    "In this notebook you will implement gradient based image blending, which was originaly was described in the paper [Poisson Image Editing]( https://www.cs.virginia.edu/~connelly/class/2014/comp_photo/proj2/poisson.pdf). The goal of gradient based image blending is to copy a region of one image (source image) into another image (target image) without creating visible seams at the edge of the region.\n",
    "\n",
    "**NOTE** In this exercise, we implement a version of the gradient based image blending scheme that is a bit simpler than what was discussed in the lecture. The difference is that we do not need to distinguish between inner and boundary gradients but only need one gradient matrix for the region to be filled.\n",
    "\n",
    "As was covered in the lecture, the idea behind gradient based image blending is to find new pixel values such that the gradients of the source image are retained while making sure that there is no visible seam at the boundary of the avected region. We will now define this more formally. Let $I$ denote the set of pixels of the region to be filled, $B$ the set of boundary pixels and $g_i$ and $\\tilde{g_i}$ denote the output and source gradients within the region to be filled respectively.\n",
    "\n",
    "$$\n",
    "\\begin{align}\n",
    "& \\underset{U}{\\text{minimize}}\n",
    "& & f(U) = \\sum\\limits_{i \\in I} {\\lvert g_i - \\tilde{g_i} \\rvert}^2 + \\alpha \\sum\\limits_{i \\in B} {\\lvert U - \\tilde{U_t} \\rvert}^2\n",
    "\\end{align}\n",
    "$$\n",
    "\n",
    "We can rewrite $f(U)$ using only matrix operations. Let $S$ be the selector matrix which selects all pixels on the boundary, $U$ the vector containing the output pixel values (in the region to be filled), $\\tilde{U_s}$ the source pixel values (in the region to be filled) and $\\tilde{U_t}$ the target pixel values (in the region to be filled). Let $G$ be the gradient matrix for the region to be filled. With the the gradient defined as  $g=GU$ we can derive the following quadratic polynomial:\n",
    "\n",
    "$$\n",
    "f(U) = {\\lvert GU - G\\tilde{U_s} \\rvert}^2 + \\alpha {\\lvert SU - S\\tilde{U_t} \\rvert}^2 \\\\\n",
    "f(U) = (U^TG^T - \\tilde{U_s}^TG^T) (GU-G\\tilde{U_s}) + \\alpha (U^TS^T - \\tilde{U_t}^TS^T)(SU - S\\tilde{U_t}) \\\\\n",
    "f(U) = U^T(G^TG)U - 2U^T(G^TG\\tilde{U_s}) + \\tilde{U_s}^TG^TG\\tilde{U_s} + \\alpha (U^TS^TSU - 2U^TS^TS\\tilde{U_t} + \\tilde{U_t}S^TS\\tilde{U_t}) \\\\\n",
    "f(U) = U^T(G^TG + \\alpha S^TS)U - 2U^T(G^TG\\tilde{U_s} + \\alpha S^TS\\tilde{U_t}) + \\tilde{U_s}^TG^TG\\tilde{U_s} + \\alpha \\tilde{U_t}S^TS\\tilde{U_t} \\\\\n",
    "$$\n",
    "\n",
    "We want to minimize the objective function and we know that at the minimum the derivative $f'(U)=0$. Using this knoweldge we can transform the problem into a linear system:\n",
    "\n",
    "$$\n",
    "f'(U) = 2(G^TG + \\alpha S^TS)U - 2(G^TG\\tilde{U_s} + \\alpha S^TS\\tilde{U_t}) = 0 \\\\\n",
    "(G^TG + \\alpha S^TS)U = G^TG\\tilde{U_s} + \\alpha S^TS\\tilde{U_t} \\\\\n",
    "%(L + \\alpha S^TS)U = L\\tilde{U_s} + \\alpha S^TS\\tilde{U_t}\n",
    "$$"
   ]
  },
  {
   "cell_type": "markdown",
   "metadata": {
    "deletable": false,
    "editable": false,
    "nbgrader": {
     "cell_type": "markdown",
     "checksum": "973595f937725e4551a18417eadd5e42",
     "grade": false,
     "grade_id": "cell-4dc2e4da5951a0d7",
     "locked": true,
     "schema_version": 3,
     "solution": false,
     "task": false
    }
   },
   "source": [
    "### Initialization\n",
    "The following code loads the images that we will use for the image blending exercises."
   ]
  },
  {
   "cell_type": "code",
   "execution_count": null,
   "metadata": {
    "deletable": false,
    "editable": false,
    "nbgrader": {
     "cell_type": "code",
     "checksum": "04192e93494a1431b806ea496d1467ea",
     "grade": false,
     "grade_id": "cell-12a6a337e89190a1",
     "locked": true,
     "schema_version": 3,
     "solution": false
    }
   },
   "outputs": [],
   "source": [
    "swan_image_color = helpers.imread_normalized_float(os.path.join(helpers.dataset_folder, \"week2\", \"poisson\", \"swan_on_beach\", \"swan.jpg\"), 0.5)\n",
    "beach_image_color = helpers.imread_normalized_float(os.path.join(helpers.dataset_folder, \"week2\", \"poisson\", \"swan_on_beach\", \"beach.jpg\"), 0.5)\n",
    "swan_beach_mask = helpers.imread_normalized_float_grayscale(os.path.join(helpers.dataset_folder, \"week2\", \"poisson\", \"swan_on_beach\", \"mask.jpg\"), 0.5)\n",
    "swan_beach_mask = (swan_beach_mask > 0.5).astype(np.bool)\n",
    "\n",
    "helpers.show_images({ \"Source\": swan_image_color, \"Target\": beach_image_color,  \"Mask\": swan_beach_mask}, nrows=1, ncols=3)"
   ]
  },
  {
   "cell_type": "markdown",
   "metadata": {
    "deletable": false,
    "editable": false,
    "nbgrader": {
     "cell_type": "markdown",
     "checksum": "65bea2fe95a46a0d813069cd60aa11f8",
     "grade": false,
     "grade_id": "cell-465714ce1c1dd148",
     "locked": true,
     "schema_version": 3,
     "solution": false
    }
   },
   "source": [
    "## Exercise 3 (2 points)\n",
    "Implement a function that returns the gradient matrix G. This matrix when multiplied by the (single color channel) image vector should result in a vector with all the gradients, both horizontal & vertical, between neighbouring pixels which are both **inside the mask** (pixels at which `mask[y,x] != 0`). We define the gradient between a pixel $U_i$ and neighbouring pixel $U_j$ as $\\frac{1}{2} (U_j - U_i)$. Use `scipy.sparse.lil_matrix((num_rows, num_columns))` to construct a sparse matrix and convert it to `scipy.sparse.csr_matrix` before returning it. **Please refer to the image sharpening notebook on the order in which the gradients should appear**."
   ]
  },
  {
   "cell_type": "code",
   "execution_count": null,
   "metadata": {
    "deletable": false,
    "nbgrader": {
     "cell_type": "code",
     "checksum": "00703771f342d15e4169eb23f1381eb7",
     "grade": false,
     "grade_id": "exercise3_code",
     "locked": false,
     "schema_version": 3,
     "solution": true
    }
   },
   "outputs": [],
   "source": [
    "def construct_G(mask):\n",
    "    # YOUR CODE HERE\n",
    "    raise NotImplementedError()\n",
    "    # Convert scipy.sparse.lil_matrix to scipy.sparse.csr_matrix for efficient processing\n",
    "    return scipy.sparse.csr_matrix(G)"
   ]
  },
  {
   "cell_type": "markdown",
   "metadata": {
    "deletable": false,
    "editable": false,
    "nbgrader": {
     "cell_type": "markdown",
     "checksum": "59d7f677854a7c6bdea8d44c3fa7b56e",
     "grade": false,
     "grade_id": "cell-b0590ccbd2369a4e",
     "locked": true,
     "schema_version": 3,
     "solution": false,
     "task": false
    }
   },
   "source": [
    "### Testing your solution of exercise 3\n",
    "This code visualizes the gradients generated by your $G$ matrix. With `construct_G` implemented it should show the gradient magnitudes of the bird image. The cell below also has some very basic tests to make sure that the gradients "
   ]
  },
  {
   "cell_type": "code",
   "execution_count": null,
   "metadata": {},
   "outputs": [],
   "source": [
    "def construct_U(image, mask):\n",
    "    indices = np.nonzero(mask)\n",
    "    return image[indices].flatten()\n",
    "\n",
    "# Convert a gradient vector for a given mask into an image visualizing the gradient magnitude\n",
    "def gradient_to_image(g, mask):\n",
    "    out_image = np.zeros(mask.shape)\n",
    "    \n",
    "    # gx**2 at each pixel\n",
    "    i = 0\n",
    "    for (y, x) in zip(*np.nonzero(mask)):\n",
    "        if mask[y, x+1]:\n",
    "            out_image[y, x] += g[i]**2\n",
    "            i += 1\n",
    "            \n",
    "    # gy**2 at each pixel\n",
    "    for (y, x) in zip(*np.nonzero(mask)):\n",
    "        if mask[y+1, x]:\n",
    "            out_image[y, x] += g[i]**2\n",
    "            i += 1\n",
    "    \n",
    "    return np.sqrt(out_image)\n",
    "\n",
    "green_channel = swan_image_color[:,:,1]\n",
    "G = construct_G(swan_beach_mask)\n",
    "u = construct_U(green_channel, swan_beach_mask)\n",
    "g = G * u\n",
    "\n",
    "gradient_image = gradient_to_image(g, swan_beach_mask)\n",
    "\n",
    "# Increase contrast to make it easier to spot the gradients\n",
    "gradient_image = np.clip(5 * gradient_image, 0, 1)\n",
    "\n",
    "helpers.show_image(gradient_image, \"Gradient magnitude (your solution)\")"
   ]
  },
  {
   "cell_type": "code",
   "execution_count": null,
   "metadata": {
    "deletable": false,
    "editable": false,
    "nbgrader": {
     "cell_type": "code",
     "checksum": "f11264e3d7aabe7494f42154e5272404",
     "grade": true,
     "grade_id": "exercise3",
     "locked": true,
     "points": 2,
     "schema_version": 3,
     "solution": false
    }
   },
   "outputs": [],
   "source": [
    "# Test on a simple 2x2 mask\n",
    "dummy_mask = np.zeros((4,4))\n",
    "for y in range(1, 3):\n",
    "    for x in range(1, 3):\n",
    "        dummy_mask[y, x] = 1\n",
    "G = construct_G(dummy_mask)\n",
    "assert(type(G) == scipy.sparse.csr_matrix)\n",
    "G = G.toarray()\n",
    "assert((G[0,:] == [-0.5, 0.5, 0, 0]).all())# gx between (1,1) and (2,1)\n",
    "assert((G[2,:] == [-0.5, 0, 0.5, 0]).all())# gy between (1,1) and (1,2)"
   ]
  },
  {
   "cell_type": "markdown",
   "metadata": {
    "deletable": false,
    "editable": false,
    "nbgrader": {
     "cell_type": "markdown",
     "checksum": "e92398d9c98b116a0ae115a07895c9a7",
     "grade": false,
     "grade_id": "cell-67abb89dc08ee874",
     "locked": true,
     "schema_version": 3,
     "solution": false
    }
   },
   "source": [
    "## Exercise 4 (2 points)\n",
    "Now implement a function that returns the selector matrix $S$. The selector matrix selects only those pixels from the mask that lie on the boundary. Hence, the number of rows should match the number of boundary pixels and the number of columns should match the number of pixels inside the mask. A pixel is inside the mask if `mask[x,y] != 0`. Each row should have exactly one entry (set to $1.0$) which corresponds to the next boundary pixel.\n",
    "\n",
    "A pixel (inside the mask) is on the boundary if any of it's 4-connected (left, top, right, bottom) neighbours is outside the mask. Again, make sure to construct $S$ as a `scipy.sparse.lil_matrix` matrix and convert it to a `scipy.sparse.csr_matrix` before returning.\n",
    "\n",
    "\n",
    "**WARNING**: the grading script requires the entries of $S$ to be ordered in a specific way. Make sure that the boundary pixels are selected from left to right, and top to bottom."
   ]
  },
  {
   "cell_type": "code",
   "execution_count": null,
   "metadata": {
    "deletable": false,
    "nbgrader": {
     "cell_type": "code",
     "checksum": "331553ce639a37c1e0872f88672a3b0f",
     "grade": false,
     "grade_id": "exercise4_code",
     "locked": false,
     "schema_version": 3,
     "solution": true
    }
   },
   "outputs": [],
   "source": [
    "def construct_S(mask):\n",
    "    # YOUR CODE HERE\n",
    "    raise NotImplementedError()\n",
    "    return scipy.sparse.csr_matrix(S)"
   ]
  },
  {
   "cell_type": "markdown",
   "metadata": {
    "deletable": false,
    "editable": false,
    "nbgrader": {
     "cell_type": "markdown",
     "checksum": "3b20405f58dbea84165ff47323aef768",
     "grade": false,
     "grade_id": "cell-d3c6199508afe914",
     "locked": true,
     "schema_version": 3,
     "solution": false,
     "task": false
    }
   },
   "source": [
    "### Testing your solution of exercise 4\n",
    "The matrix S should select the boundary pixels from the vector of masked pixels. We provide a basic test to check if the matrix you returned has the correct size."
   ]
  },
  {
   "cell_type": "code",
   "execution_count": null,
   "metadata": {
    "deletable": false,
    "editable": false,
    "nbgrader": {
     "cell_type": "code",
     "checksum": "c7c9ea6aa4d0a25bef12f6d67da281b9",
     "grade": true,
     "grade_id": "exercise4",
     "locked": true,
     "points": 2,
     "schema_version": 3,
     "solution": false
    }
   },
   "outputs": [],
   "source": [
    "# Check if matrix has the correct size\n",
    "S = construct_S(swan_beach_mask)\n",
    "assert(type(S) == scipy.sparse.csr_matrix)\n",
    "assert(S.shape == (316, 3118))\n",
    "\n",
    "mask = np.array([\n",
    "    [0, 0, 1, 0], # [-, -, 0, -]\n",
    "    [0, 1, 1, 1], # [-, 1, 2, 3]\n",
    "    [0, 1, 1, 0], # [-, 4, 5, -]\n",
    "    [0, 0, 0, 0] #  [-, -, -, -]\n",
    "])\n",
    "S = construct_S(mask)\n",
    "assert(S[0, 0] == 1.0)\n",
    "assert(S[1, 1] == 1.0)\n",
    "assert(S[2, 3] == 1.0)\n",
    "assert(S[3, 4] == 1.0)\n",
    "assert(S[4, 5] == 1.0)\n"
   ]
  },
  {
   "cell_type": "markdown",
   "metadata": {
    "deletable": false,
    "editable": false,
    "nbgrader": {
     "cell_type": "markdown",
     "checksum": "40f593868d3311d2795198f835cf59e8",
     "grade": false,
     "grade_id": "cell-c003bde958468a56",
     "locked": true,
     "schema_version": 3,
     "solution": false
    }
   },
   "source": [
    "## Exercise 5 (2 points)\n",
    "We now have all the matrices required to formulate the linear system. To operate on color images, seamless cloning can be applied to each color channel individually. Implement a function that performs a seamless clone on a single color channel by solving the linear system described above (using `scipy.sparse.linalg.solve`). The inputs of this function are a single color channel of the source, target and mask images (all with the same shape), the gradient matrix $G$, the selector matrix $S$ and $\\alpha$ to indicate the strength of the soft constraint. The function should return the final result of that color channel (as a 2D numpy array)."
   ]
  },
  {
   "cell_type": "code",
   "execution_count": null,
   "metadata": {
    "deletable": false,
    "nbgrader": {
     "cell_type": "code",
     "checksum": "bc186d2153d44ed682e423d22ee73866",
     "grade": false,
     "grade_id": "exercise5_code",
     "locked": false,
     "schema_version": 3,
     "solution": true
    }
   },
   "outputs": [],
   "source": [
    "def seamless_clone_channel(source, target, mask, G, S, alpha):\n",
    "    # YOUR CODE HERE\n",
    "    raise NotImplementedError()\n",
    "\n",
    "def seamless_clone(source_image, target_image, mask, G, S, alpha):\n",
    "    red_channel = seamless_clone_channel(source_image[:,:,0], target_image[:,:,0], mask, G, S, alpha)\n",
    "    green_channel = seamless_clone_channel(source_image[:,:,1], target_image[:,:,1], mask, G, S, alpha)\n",
    "    blue_channel = seamless_clone_channel(source_image[:,:,2], target_image[:,:,2], mask, G, S, alpha)\n",
    "    return np.stack([red_channel, green_channel, blue_channel], axis=2)\n",
    "\n",
    "G = scipy.sparse.load_npz(os.path.join(helpers.dataset_folder, \"week2\", \"poisson\", \"swan_on_beach\", \"swan_beach_reference_G.npz\"))\n",
    "S = scipy.sparse.load_npz(os.path.join(helpers.dataset_folder, \"week2\", \"poisson\", \"swan_on_beach\", \"swan_beach_reference_S.npz\"))\n",
    "\n",
    "result_image = seamless_clone(swan_image_color, beach_image_color, swan_beach_mask, G, S, 0.5)\n",
    "result_image = np.clip(result_image, 0, 1)\n",
    "\n",
    "helpers.show_image(result_image, \"Seamlessly cloned image (your solution)\")"
   ]
  },
  {
   "cell_type": "markdown",
   "metadata": {
    "deletable": false,
    "editable": false,
    "nbgrader": {
     "cell_type": "markdown",
     "checksum": "ea57a1f16c5912c09b2a685f7bf561e7",
     "grade": false,
     "grade_id": "cell-08a4fd7d7f92ed06",
     "locked": true,
     "schema_version": 3,
     "solution": false,
     "task": false
    }
   },
   "source": [
    "### Testing your solution of exercise 5\n",
    "After implementing exercise 5 the image above should show the girl on the beach with the bird filled in. The bird will appear yellow-ish to match the tone of the environment."
   ]
  },
  {
   "cell_type": "code",
   "execution_count": null,
   "metadata": {
    "deletable": false,
    "editable": false,
    "nbgrader": {
     "cell_type": "code",
     "checksum": "ca0dcf3407481ba12e6e460379fcb9e7",
     "grade": true,
     "grade_id": "exercise",
     "locked": true,
     "points": 2,
     "schema_version": 3,
     "solution": false
    }
   },
   "outputs": [],
   "source": []
  },
  {
   "cell_type": "markdown",
   "metadata": {
    "deletable": false,
    "editable": false,
    "nbgrader": {
     "cell_type": "markdown",
     "checksum": "3108f4c432a6c97c81e0e7ef0b260b6a",
     "grade": false,
     "grade_id": "cell-646c0805cfeb8a1b",
     "locked": true,
     "schema_version": 3,
     "solution": false
    }
   },
   "source": [
    "# Mixed Gradients (NOT GRADED)\n",
    "**The exercises below do not count for points and are completely optional. Only do these exercises if you have finished the graded ones.**\n",
    "\n",
    "The result of our seamless cloning looks convincing when the masked region of the target image does not contain a lot of detail, like in the example images that we used above. However, when we apply our technique to a highly textured target image then the resulting image will look blurry. This happens because we completely ignore the targets gradients, replacing them by the source gradient. If the source gradients are low (it has a smooth background) than the linear system will smoothly interpolate between the boundaries, resulting in a blurry mess."
   ]
  },
  {
   "cell_type": "code",
   "execution_count": null,
   "metadata": {
    "deletable": false,
    "editable": false,
    "nbgrader": {
     "cell_type": "code",
     "checksum": "941253078a7ced3506dad225d55cf596",
     "grade": false,
     "grade_id": "cell-42d96904a26dd410",
     "locked": true,
     "schema_version": 3,
     "solution": false
    }
   },
   "outputs": [],
   "source": [
    "drawing_image_color = helpers.imread_normalized_float(os.path.join(helpers.dataset_folder, \"week2\", \"poisson\", \"drawing_on_sign\", \"drawing.jpg\"), 0.5)\n",
    "sign_image_color = helpers.imread_normalized_float(os.path.join(helpers.dataset_folder, \"week2\", \"poisson\", \"drawing_on_sign\", \"sign.png\"), 0.5)\n",
    "drawing_sign_mask = helpers.imread_normalized_float_grayscale(os.path.join(helpers.dataset_folder, \"week2\", \"poisson\", \"drawing_on_sign\", \"mask.jpg\"), 0.5)\n",
    "drawing_sign_mask = (drawing_sign_mask > 0.5).astype(bool)\n",
    "\n",
    "G = construct_G(drawing_sign_mask)\n",
    "S = construct_S(drawing_sign_mask)\n",
    "result_color = seamless_clone(drawing_image_color, sign_image_color, drawing_sign_mask, G, S, 0.5)\n",
    "result_color = np.clip(result_color, 0, 1)\n",
    "helpers.show_image(result_color, title=\"Result\")"
   ]
  },
  {
   "cell_type": "markdown",
   "metadata": {
    "deletable": false,
    "editable": false,
    "nbgrader": {
     "cell_type": "markdown",
     "checksum": "92ba1bb36b779d1b5bbf5c9983b91a8b",
     "grade": false,
     "grade_id": "cell-3ef3180927e312a5",
     "locked": true,
     "schema_version": 3,
     "solution": false
    }
   },
   "source": [
    "If the source image has a flat background like in this example than we can improve the result by mixing the gradients of the source and target image. We modify the equation such that at each pixel the gradient (between the pixel and its left/bot neighbours) should match that of either the source or the target, whichever has the highest magnitude.\n",
    "\n",
    "$$\n",
    "f(U) = {\\lvert GU - \\tilde{V} \\rvert}^2 + \\alpha {\\lvert SU - S\\tilde{U_t} \\rvert}^2 \\\\\n",
    "f(U) = (U^TG^T - \\tilde{V}^T) (GU-\\tilde{V}) + \\alpha (U^TS^T - \\tilde{U_t}^TS^T)(SU - S\\tilde{U_t}) \\\\\n",
    "f(U) = U^T(G^TG)U - 2U^T(G^T\\tilde{V}) + \\tilde{V}^T\\tilde{V} + \\alpha (U^TS^TSU - 2U^TS^TS\\tilde{U_t} + \\tilde{U_t}S^TS\\tilde{U_t}) \\\\\n",
    "f(U) = U^T(G^TG + \\alpha S^TS)U - 2U^T(G^T\\tilde{V} + \\alpha S^TS\\tilde{U_t}) + \\tilde{V}^T\\tilde{V} + \\alpha \\tilde{U_t}S^TS\\tilde{U_t} \\\\\n",
    "$$\n",
    "\n",
    "Here $\\tilde{V}$ is the gradient vector containing $max(\\tilde{g_{source}}, \\tilde{g_{target}})$. We want to minimize the objective function so we need to find where the derivative is zero:\n",
    "\n",
    "$$\n",
    "f'(U) = 2(G^TG + \\alpha S^TS)U - 2(G^T\\tilde{V} + \\alpha S^TS\\tilde{U_t}) = 0 \\\\\n",
    "(G^TG + \\alpha S^TS)U = G^T\\tilde{V} + \\alpha S^TS\\tilde{U_t} \\\\\n",
    "%(L + \\alpha S^TS)U = G^T\\tilde{V} + \\alpha S^TS\\tilde{U_t}\n",
    "$$\n",
    "\n",
    "## Exercise 6 (OPTIONAL)\n",
    "Implement a function that computes the vector $V$ which contains the desired output gradients. For each pixel in the masked region compute the partial derivatives ($g_x$ and $g_y$) between it and its right/bottom neighbours for both the source and the target image. Store the partial derivatives from either the source or the target image based on whichever has the highest gradient magnitude ($\\lvert{g}\\rvert=\\sqrt{g_x^2+g_y^2}$). Do not store a partial derivative if the associated neighbour is not in the mask. You are free to ignore the edge case of the masked region containing pixels on the boundary of the image."
   ]
  },
  {
   "cell_type": "code",
   "execution_count": null,
   "metadata": {
    "deletable": false,
    "nbgrader": {
     "cell_type": "code",
     "checksum": "e47c0cfa081a53b01484f0320a303761",
     "grade": false,
     "grade_id": "exercise6_code",
     "locked": false,
     "schema_version": 3,
     "solution": true,
     "task": false
    }
   },
   "outputs": [],
   "source": [
    "def construct_V(source, target, mask):\n",
    "    # YOUR CODE HERE\n",
    "    raise NotImplementedError()"
   ]
  },
  {
   "cell_type": "markdown",
   "metadata": {
    "deletable": false,
    "editable": false,
    "nbgrader": {
     "cell_type": "markdown",
     "checksum": "d0ae57d451236097fddde4acf5410fa5",
     "grade": false,
     "grade_id": "cell-cda485bb2baf4b89",
     "locked": true,
     "schema_version": 3,
     "solution": false,
     "task": false
    }
   },
   "source": [
    "### Testing your solution of exercise 6\n",
    "This first code cell shows a visaulization of the gradient magnitude, comparing it to the reference. The second cell contains the actual tests."
   ]
  },
  {
   "cell_type": "code",
   "execution_count": null,
   "metadata": {
    "deletable": false,
    "editable": false,
    "nbgrader": {
     "cell_type": "code",
     "checksum": "b7e099e1a8e19ddff88a869aea376d5a",
     "grade": false,
     "grade_id": "cell-d332d93b5491cc0e",
     "locked": true,
     "schema_version": 3,
     "solution": false,
     "task": false
    }
   },
   "outputs": [],
   "source": [
    "source_g = drawing_image_color[:,:,1]\n",
    "target_g = sign_image_color[:,:,1]\n",
    "\n",
    "V = construct_V(source_g, target_g, drawing_sign_mask)\n",
    "\n",
    "gradient_image = gradient_to_image(V, drawing_sign_mask)\n",
    "\n",
    "# Increase contrast\n",
    "gradient_image = np.clip(5 * gradient_image, 0, 1) \n",
    "gradient_image_reference = np.clip(5 * gradient_image_reference, 0, 1)\n",
    "\n",
    "helpers.show_images({ \"Gradient magnitude (your solution)\": gradient_image, \"Gradient magnitude (reference)\": gradient_image_reference }, nrows=1, ncols=2)"
   ]
  },
  {
   "cell_type": "code",
   "execution_count": null,
   "metadata": {
    "deletable": false,
    "editable": false,
    "nbgrader": {
     "cell_type": "code",
     "checksum": "83bb9492c543bf5ab7fa75924833a97e",
     "grade": true,
     "grade_id": "exercise6",
     "locked": true,
     "points": 0,
     "schema_version": 3,
     "solution": false,
     "task": false
    }
   },
   "outputs": [],
   "source": [
    "drawing_image_color = helpers.imread_normalized_float(os.path.join(helpers.dataset_folder, \"week2\", \"poisson\", \"drawing_on_sign\", \"drawing.jpg\"), 0.5)\n",
    "sign_image_color = helpers.imread_normalized_float(os.path.join(helpers.dataset_folder, \"week2\", \"poisson\", \"drawing_on_sign\", \"sign.png\"), 0.5)\n",
    "drawing_sign_mask = helpers.imread_normalized_float_grayscale(os.path.join(helpers.dataset_folder, \"week2\", \"poisson\", \"drawing_on_sign\", \"mask.jpg\"), 0.5)\n",
    "\n",
    "# === COLOR CHANNEL 0 (RED) ===\n",
    "source_r = drawing_image_color[:,:,0]\n",
    "target_r = sign_image_color[:,:,0]\n",
    "V = construct_V(source_r, target_r, drawing_sign_mask)\n",
    "gradient_image = gradient_to_image(V, drawing_sign_mask)\n",
    "gradient_image_reference = np.load(os.path.join(helpers.dataset_folder, \"week2\", \"poisson\", \"drawing_on_sign\", \"mixed_gradient_image0.npy\"))\n",
    "gradient_image = np.clip(gradient_image, 0, 1) \n",
    "gradient_image_reference = np.clip(gradient_image_reference, 0, 1)\n",
    "first_correct = helpers.SSD_per_pixel(gradient_image, gradient_image_reference) < 0.0001\n",
    "\n",
    "# === COLOR CHANNEL 1 (GREEN) ===\n",
    "source_g = drawing_image_color[:,:,1]\n",
    "target_g = sign_image_color[:,:,1]\n",
    "V = construct_V(source_g, target_g, drawing_sign_mask)\n",
    "gradient_image = gradient_to_image(V, drawing_sign_mask)\n",
    "gradient_image_reference = np.load(os.path.join(helpers.dataset_folder, \"week2\", \"poisson\", \"drawing_on_sign\", \"mixed_gradient_image1.npy\"))\n",
    "gradient_image = np.clip(gradient_image, 0, 1) \n",
    "gradient_image_reference = np.clip(gradient_image_reference, 0, 1)\n",
    "second_correct = helpers.SSD_per_pixel(gradient_image, gradient_image_reference) < 0.0001\n",
    "\n",
    "if first_correct and second_correct:\n",
    "    print(\"Correct\")\n",
    "else:\n",
    "    print(\"Incorrect\")"
   ]
  },
  {
   "cell_type": "markdown",
   "metadata": {
    "deletable": false,
    "editable": false,
    "nbgrader": {
     "cell_type": "markdown",
     "checksum": "c22303d236e2effc715436f42281ec86",
     "grade": false,
     "grade_id": "cell-289928114a96867e",
     "locked": true,
     "schema_version": 3,
     "solution": false
    }
   },
   "source": [
    "## Exercise 7 (OPTIONAL)\n",
    "Implement seamless cloning with mixed gradients using the formula given above. Like with the basic seamless cloning the process is applied to each color channel individually. Use `scipy.sparse.linalg.spsolve` to solve the linear system."
   ]
  },
  {
   "cell_type": "code",
   "execution_count": null,
   "metadata": {
    "deletable": false,
    "nbgrader": {
     "cell_type": "code",
     "checksum": "1156ff636dec9628925f38199fe8b28e",
     "grade": false,
     "grade_id": "exercise7_code",
     "locked": false,
     "schema_version": 3,
     "solution": true,
     "task": false
    }
   },
   "outputs": [],
   "source": [
    "def seamless_clone_mixed_gradient_color(source, target, mask, alpha):\n",
    "    # YOUR CODE HERE\n",
    "    raise NotImplementedError()\n",
    "\n",
    "def seamless_clone_mixed_gradient(source_image, target_image, mask, alpha):\n",
    "    mask = mask > 0.5\n",
    "    red_channel = seamless_clone_mixed_gradient_color(source_image[:,:,0], target_image[:,:,0], mask, alpha)\n",
    "    green_channel = seamless_clone_mixed_gradient_color(source_image[:,:,1], target_image[:,:,1], mask, alpha)\n",
    "    blue_channel = seamless_clone_mixed_gradient_color(source_image[:,:,2], target_image[:,:,2], mask, alpha)\n",
    "    return np.stack([red_channel, green_channel, blue_channel], axis=2)\n",
    "\n",
    "result = seamless_clone_mixed_gradient(drawing_image_color, sign_image_color, drawing_sign_mask, 1)\n",
    "result_reference = np.load(os.path.join(helpers.dataset_folder, \"week2\", \"poisson\", \"drawing_on_sign\", \"mixed_reference.npy\"))\n",
    "result = np.clip(result, 0, 1)\n",
    "result_reference = np.clip(result_reference, 0, 1)\n",
    "helpers.show_images({\"Your solution\": result, \"Reference\": result_reference }, nrows=1, ncols=2)"
   ]
  },
  {
   "cell_type": "markdown",
   "metadata": {
    "deletable": false,
    "editable": false,
    "nbgrader": {
     "cell_type": "markdown",
     "checksum": "8f2a8b57323ad8c68277e92a89103f9f",
     "grade": false,
     "grade_id": "cell-fc83f77a7b13ab0d",
     "locked": true,
     "schema_version": 3,
     "solution": false,
     "task": false
    }
   },
   "source": [
    "### Testing your solution of exercise 7\n",
    "If you implemented exercise 7 correctly then your sharpening filter should match the reference."
   ]
  },
  {
   "cell_type": "code",
   "execution_count": null,
   "metadata": {
    "deletable": false,
    "editable": false,
    "nbgrader": {
     "cell_type": "code",
     "checksum": "0c3b546b27b49ee335089c15460ee389",
     "grade": true,
     "grade_id": "exercise7",
     "locked": true,
     "points": 0,
     "schema_version": 3,
     "solution": false,
     "task": false
    }
   },
   "outputs": [],
   "source": [
    "# === DRAWING ON SIGN ===\n",
    "result = seamless_clone_mixed_gradient(drawing_image_color, sign_image_color, drawing_sign_mask, 1)\n",
    "reference = np.load(os.path.join(helpers.dataset_folder, \"week2\", \"poisson\", \"drawing_on_sign\", \"mixed_reference.npy\"))\n",
    "assert(helpers.SSD_per_pixel(result, reference) < 0.0001)"
   ]
  }
 ],
 "metadata": {
  "kernelspec": {
   "display_name": "Python 3 (ipykernel)",
   "language": "python",
   "name": "python3"
  },
  "language_info": {
   "codemirror_mode": {
    "name": "ipython",
    "version": 3
   },
   "file_extension": ".py",
   "mimetype": "text/x-python",
   "name": "python",
   "nbconvert_exporter": "python",
   "pygments_lexer": "ipython3",
   "version": "3.9.7"
  }
 },
 "nbformat": 4,
 "nbformat_minor": 4
}
